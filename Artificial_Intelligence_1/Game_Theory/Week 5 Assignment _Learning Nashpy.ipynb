{
 "cells": [
  {
   "cell_type": "code",
   "execution_count": 1,
   "id": "b7961907",
   "metadata": {},
   "outputs": [],
   "source": [
    "import nashpy as nash\n",
    "import numpy as np\n",
    "import random\n",
    "from texttable import Texttable\n"
   ]
  },
  {
   "cell_type": "code",
   "execution_count": 2,
   "id": "3a09cd72",
   "metadata": {},
   "outputs": [],
   "source": [
    "def printPayoffMatrix(game):\n",
    "    row_matrix = game.payoff_matrices[0]\n",
    "    column_matrix = game.payoff_matrices[1]\n",
    "    \n",
    "    table = Texttable()\n",
    "    col_str = ['', 'C-X', 'C-Y']\n",
    "    table.add_row(col_str)\n",
    "    \n",
    "    row_strs = ['R-P', 'R-Q']\n",
    "    for row in range(row_matrix.shape[0]):\n",
    "        row_str = [row_strs[row]]\n",
    "        for column in range(row_matrix.shape[1]):\n",
    "            row_str.append(str(row_matrix[row, column]) + ',' + str(column_matrix[row, column]))\n",
    "        table.add_row(row_str)\n",
    "    print(table.draw())\n",
    "        "
   ]
  },
  {
   "cell_type": "code",
   "execution_count": 3,
   "id": "086734c8",
   "metadata": {},
   "outputs": [],
   "source": [
    "#Game 1\n",
    "R =np.array([[1,2], [2,0]])\n",
    "C =np.array([[0,1], [0,-1]])"
   ]
  },
  {
   "cell_type": "code",
   "execution_count": 9,
   "id": "2e5f1f96",
   "metadata": {},
   "outputs": [
    {
     "data": {
      "text/plain": [
       "Bi matrix game with payoff matrices:\n",
       "\n",
       "Row player:\n",
       "[[1 2]\n",
       " [2 0]]\n",
       "\n",
       "Column player:\n",
       "[[ 0  1]\n",
       " [ 0 -1]]"
      ]
     },
     "execution_count": 9,
     "metadata": {},
     "output_type": "execute_result"
    }
   ],
   "source": [
    "game1 = nash.Game(R, C)\n",
    "game1\n",
    "#printPayoffMatrix(game1)"
   ]
  },
  {
   "cell_type": "code",
   "execution_count": 5,
   "id": "7b937064",
   "metadata": {},
   "outputs": [
    {
     "name": "stdout",
     "output_type": "stream",
     "text": [
      "+-----+-----+------+\n",
      "|     | C-X | C-Y  |\n",
      "+-----+-----+------+\n",
      "| R-P | 1,0 | 2,1  |\n",
      "+-----+-----+------+\n",
      "| R-Q | 2,0 | 0,-1 |\n",
      "+-----+-----+------+\n"
     ]
    }
   ],
   "source": [
    "printPayoffMatrix(game1)"
   ]
  },
  {
   "cell_type": "code",
   "execution_count": 6,
   "id": "7c64787a",
   "metadata": {},
   "outputs": [
    {
     "data": {
      "text/plain": [
       "array([2, 1])"
      ]
     },
     "execution_count": 6,
     "metadata": {},
     "output_type": "execute_result"
    }
   ],
   "source": [
    "#Calculate outcome of a play where both players play pure strategies\n",
    "sigma_r = ([1,0])\n",
    "sigma_c = ([0,1])\n",
    "game1[sigma_r, sigma_c]"
   ]
  },
  {
   "cell_type": "code",
   "execution_count": 7,
   "id": "eca636f0",
   "metadata": {},
   "outputs": [
    {
     "data": {
      "text/plain": [
       "array([1, 0])"
      ]
     },
     "execution_count": 7,
     "metadata": {},
     "output_type": "execute_result"
    }
   ],
   "source": [
    "#Another strategy profile\n",
    "sigma_r = np.array([1,0])\n",
    "sigma_c = np.array([1,0])\n",
    "game1[sigma_r, sigma_c]\n"
   ]
  },
  {
   "cell_type": "code",
   "execution_count": 8,
   "id": "385e90be",
   "metadata": {},
   "outputs": [
    {
     "data": {
      "text/plain": [
       "array([ 0, -1])"
      ]
     },
     "execution_count": 8,
     "metadata": {},
     "output_type": "execute_result"
    }
   ],
   "source": [
    "#Another strategy profile 2 \n",
    "sigma_r = np.array([0,1])\n",
    "sigma_c = np.array([0,1])\n",
    "game1[sigma_r, sigma_c]"
   ]
  },
  {
   "cell_type": "code",
   "execution_count": null,
   "id": "d16c040d",
   "metadata": {},
   "outputs": [],
   "source": [
    "# A Strategy progile with the row player plaing a mixed strategy, \n",
    "sigma_r = np.array([0.5,0.5])\n",
    "sigma_c = np.array([0,1])\n",
    "game1[sigma_r, sigma_c ]"
   ]
  },
  {
   "cell_type": "code",
   "execution_count": 10,
   "id": "684a8c88",
   "metadata": {},
   "outputs": [],
   "source": [
    "#Game 1\n",
    "R =np.array([[1,2], [2,0]])\n",
    "C =np.array([[0,1], [0,-1]])"
   ]
  },
  {
   "cell_type": "code",
   "execution_count": 11,
   "id": "320fcff6",
   "metadata": {},
   "outputs": [
    {
     "name": "stdout",
     "output_type": "stream",
     "text": [
      "+-----+-----+------+\n",
      "|     | C-X | C-Y  |\n",
      "+-----+-----+------+\n",
      "| R-P | 1,0 | 2,1  |\n",
      "+-----+-----+------+\n",
      "| R-Q | 2,0 | 0,-1 |\n",
      "+-----+-----+------+\n"
     ]
    }
   ],
   "source": [
    "game1 = nash.Game(R, C)\n",
    "game1\n",
    "printPayoffMatrix(game1)"
   ]
  },
  {
   "cell_type": "code",
   "execution_count": 12,
   "id": "7db75bf4",
   "metadata": {},
   "outputs": [
    {
     "name": "stdout",
     "output_type": "stream",
     "text": [
      "(array([1., 0.]), array([0., 1.]))\n",
      "[1. 0.]\n",
      "[0. 1.]\n",
      "(array([0., 1.]), array([1., 0.]))\n",
      "[0. 1.]\n",
      "[1. 0.]\n",
      "(array([0.5, 0.5]), array([0.66666667, 0.33333333]))\n",
      "[0.5 0.5]\n",
      "[0.66666667 0.33333333]\n"
     ]
    }
   ],
   "source": [
    "col_equilibria_strategies =[]\n",
    "equilibria = game1.support_enumeration()\n",
    "for eq in equilibria:\n",
    "    print(eq)\n",
    "    print(eq[0])\n",
    "    axo=eq[0]\n",
    "    dedo= eq[1]\n",
    "    print(dedo)\n",
    "    col_equilibria_strategies.append(eq)\n",
    "\n",
    "number_strats = len(col_equilibria_strategies)\n",
    "weights_for_strats = 1/number_strats\n",
    "col_equil_weights = []\n",
    "for z in range(len(col_equilibria_strategies)):\n",
    "    col_equil_weights.append(weights_for_strats)"
   ]
  },
  {
   "cell_type": "code",
   "execution_count": 14,
   "id": "a240ee0a",
   "metadata": {},
   "outputs": [
    {
     "name": "stdout",
     "output_type": "stream",
     "text": [
      "[0.3333333333333333, 0.3333333333333333, 0.3333333333333333]\n",
      "0.3333333333333333\n",
      "(array([0., 1.]), array([1., 0.]))\n",
      "[1 0]\n",
      "SIGMA_R:  [1 0]\n",
      "SIGMA_C:  [[0. 1.]\n",
      " [1. 0.]]\n",
      "(array([1., 0.]), array([0., 1.]))\n",
      "[1 0]\n",
      "SIGMA_R:  [1 0]\n",
      "SIGMA_C:  [[1. 0.]\n",
      " [0. 1.]]\n",
      "(array([1., 0.]), array([0., 1.]))\n",
      "[1 0]\n",
      "SIGMA_R:  [1 0]\n",
      "SIGMA_C:  [[1. 0.]\n",
      " [0. 1.]]\n",
      "(array([0.5, 0.5]), array([0.66666667, 0.33333333]))\n",
      "[1 0]\n",
      "SIGMA_R:  [1 0]\n",
      "SIGMA_C:  [[0.5        0.5       ]\n",
      " [0.66666667 0.33333333]]\n",
      "(array([0., 1.]), array([1., 0.]))\n",
      "[1 0]\n",
      "SIGMA_R:  [1 0]\n",
      "SIGMA_C:  [[0. 1.]\n",
      " [1. 0.]]\n",
      "(array([1., 0.]), array([0., 1.]))\n",
      "[1 0]\n",
      "SIGMA_R:  [1 0]\n",
      "SIGMA_C:  [[1. 0.]\n",
      " [0. 1.]]\n",
      "(array([0.5, 0.5]), array([0.66666667, 0.33333333]))\n",
      "[1 0]\n",
      "SIGMA_R:  [1 0]\n",
      "SIGMA_C:  [[0.5        0.5       ]\n",
      " [0.66666667 0.33333333]]\n",
      "(array([1., 0.]), array([0., 1.]))\n",
      "[1 0]\n",
      "SIGMA_R:  [1 0]\n",
      "SIGMA_C:  [[1. 0.]\n",
      " [0. 1.]]\n",
      "(array([0.5, 0.5]), array([0.66666667, 0.33333333]))\n",
      "[1 0]\n",
      "SIGMA_R:  [1 0]\n",
      "SIGMA_C:  [[0.5        0.5       ]\n",
      " [0.66666667 0.33333333]]\n",
      "(array([0.5, 0.5]), array([0.66666667, 0.33333333]))\n",
      "[1 0]\n",
      "SIGMA_R:  [1 0]\n",
      "SIGMA_C:  [[0.5        0.5       ]\n",
      " [0.66666667 0.33333333]]\n",
      "average outcome r = 1.5 , avg_ouctome_c 0.5\n"
     ]
    }
   ],
   "source": [
    "outcomes_r = []\n",
    "outcomes_c = []\n",
    "\n",
    "    \n",
    "print(col_equil_weights)\n",
    "print(weights_for_strats)\n",
    "r_action = np.array([1,0])\n",
    "rounds = 10\n",
    "for i in range(rounds):\n",
    "    c_action = random.choices(col_equilibria_strategies, k=1, weights = col_equil_weights) [0]\n",
    "    print(c_action)\n",
    "    print(r_action)\n",
    "    sigma_r = np.array(r_action)\n",
    "    sigma_c = np.array(c_action)\n",
    "    print(\"SIGMA_R: \", sigma_r)\n",
    "    print(\"SIGMA_C: \", sigma_c)\n",
    "    util = game1[sigma_r, sigma_c]\n",
    "    outcomes_r.append(util[0])\n",
    "    outcomes_c.append(util[1])\n",
    "ave_outcome_r = np.mean(outcomes_r)\n",
    "ave_outcome_c = np.mean(outcomes_c)\n",
    "print('average outcome r =', ave_outcome_r, ', avg_ouctome_c', ave_outcome_c)\n",
    "    \n",
    "    \n",
    "    \n",
    "    \n",
    "    \n",
    "    "
   ]
  },
  {
   "cell_type": "code",
   "execution_count": null,
   "id": "1ca79174",
   "metadata": {},
   "outputs": [],
   "source": []
  },
  {
   "cell_type": "code",
   "execution_count": null,
   "id": "739d088a",
   "metadata": {},
   "outputs": [],
   "source": []
  }
 ],
 "metadata": {
  "kernelspec": {
   "display_name": "Python 3",
   "language": "python",
   "name": "python3"
  },
  "language_info": {
   "codemirror_mode": {
    "name": "ipython",
    "version": 3
   },
   "file_extension": ".py",
   "mimetype": "text/x-python",
   "name": "python",
   "nbconvert_exporter": "python",
   "pygments_lexer": "ipython3",
   "version": "3.8.8"
  }
 },
 "nbformat": 4,
 "nbformat_minor": 5
}
