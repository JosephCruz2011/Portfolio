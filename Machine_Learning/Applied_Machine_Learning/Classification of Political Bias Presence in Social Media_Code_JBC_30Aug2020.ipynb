{
 "cells": [
  {
   "cell_type": "markdown",
   "metadata": {},
   "source": [
    "# Final Project Machine Learning \n",
    "## Classification of Political Bias Presence in Social Media\n",
    "- Joe Cruz \n",
    "- 28Aug2020\n",
    "\n",
    " "
   ]
  },
  {
   "cell_type": "markdown",
   "metadata": {},
   "source": [
    "This script is designed to generate learning models for the dataset found in the Political-media-DFE.csv. The purpose of these learning models are to perform classification of text data from social media (Twitter and Facebook) and determine whether or not they have a poltiical bias (either neutral or partisan). The learning models used in this script are as follows: Multinomial Naive Bayes, LinearSVC, and Logistic Regression."
   ]
  },
  {
   "cell_type": "markdown",
   "metadata": {},
   "source": [
    "The name of the dataset used is called Classification of Pol Social, where the file name of the dataset is called\n",
    "Political-media-DFE.csv. The dataset can be found at https://data.world/crowdflower/classification-of-pol-social"
   ]
  },
  {
   "cell_type": "markdown",
   "metadata": {},
   "source": [
    "\n",
    "\n",
    "## Required Imports"
   ]
  },
  {
   "cell_type": "code",
   "execution_count": 1,
   "metadata": {},
   "outputs": [],
   "source": [
    "# Importing the required libraries\n",
    "import pandas as pd\n",
    "import numpy as np\n",
    "from textblob import TextBlob\n",
    "from sklearn.feature_extraction.text import CountVectorizer, TfidfVectorizer\n",
    "from sklearn.metrics import classification_report, f1_score, accuracy_score, confusion_matrix\n",
    "import re\n",
    "import matplotlib.pyplot as plt\n",
    "from collections import Counter\n",
    "from sklearn.linear_model import LogisticRegression\n",
    "from sklearn.model_selection import train_test_split\n",
    "from sklearn.pipeline import Pipeline\n",
    "import pickle\n"
   ]
  },
  {
   "cell_type": "markdown",
   "metadata": {},
   "source": [
    "\n",
    "\n",
    "## Cleaning the dataset"
   ]
  },
  {
   "cell_type": "code",
   "execution_count": 2,
   "metadata": {},
   "outputs": [],
   "source": [
    "#defining the preprocessor function for cleaning up the text from the data sheet\n",
    "def preprocessor(text):\n",
    "    text = re.sub('<[^>]*>', '', text)\n",
    "    emoticons = re.findall('(?::|;|=)(?:-)?(?:\\)|\\(|D|P)', text)\n",
    "    text = re.sub('[\\W]+', ' ', text.lower()) +\\\n",
    "        ' '.join(emoticons).replace('-', '')\n",
    "    return text"
   ]
  },
  {
   "cell_type": "code",
   "execution_count": 3,
   "metadata": {},
   "outputs": [],
   "source": [
    "#create instance of object to hold data, pulls data from the 'bias' and 'text' columns in the data sheet\n",
    "posts = pd.read_csv('Political-media-DFE.csv',encoding='latin1')[['bias','text']]"
   ]
  },
  {
   "cell_type": "code",
   "execution_count": 4,
   "metadata": {},
   "outputs": [
    {
     "name": "stdout",
     "output_type": "stream",
     "text": [
      "          bias                                               text  \\\n",
      "0     partisan  RT @nowthisnews: Rep. Trey Radel (R- #FL) slam...   \n",
      "1     partisan  VIDEO - #Obamacare:  Full of Higher Costs and ...   \n",
      "2      neutral  Please join me today in remembering our fallen...   \n",
      "3      neutral  RT @SenatorLeahy: 1st step toward Senate debat...   \n",
      "4     partisan  .@amazon delivery #drones show need to update ...   \n",
      "...        ...                                                ...   \n",
      "4995  partisan  I applaud Governor PerryÛªs recent decision t...   \n",
      "4996  partisan  Today, I voted in favor of H.R. 5016 - Financi...   \n",
      "4997   neutral  (Taken from posted WOKV interview)   Congressm...   \n",
      "4998   neutral  Join me next week for a town hall in Ocala! I'...   \n",
      "4999   neutral  Foreign Affairs Committee Hearing on Syria. I ...   \n",
      "\n",
      "                                           cleaned_text  \n",
      "0     rt nowthisnews rep trey radel r fl slams obama...  \n",
      "1     video obamacare full of higher costs and broke...  \n",
      "2     please join me today in remembering our fallen...  \n",
      "3     rt senatorleahy 1st step toward senate debate ...  \n",
      "4      amazon delivery drones show need to update la...  \n",
      "...                                                 ...  \n",
      "4995  i applaud governor perry ûªs recent decision t...  \n",
      "4996  today i voted in favor of h r 5016 financial s...  \n",
      "4997   taken from posted wokv interview congressman ...  \n",
      "4998  join me next week for a town hall in ocala i l...  \n",
      "4999  foreign affairs committee hearing on syria i r...  \n",
      "\n",
      "[5000 rows x 3 columns]\n"
     ]
    }
   ],
   "source": [
    "#names columns 'bias' and 'text'\n",
    "posts.columns = ['bias','text']\n",
    "posts = posts.reset_index(drop=True)\n",
    "\n",
    "# Clean tweet text of HTML, etc.\n",
    "posts['cleaned_text'] = posts.text.map(preprocessor)\n",
    "\n",
    "# object is printed to view current status of the object, as we currently have 3 columns: 'bias', 'text', and 'cleaned_text'.\n",
    "print(posts)"
   ]
  },
  {
   "cell_type": "code",
   "execution_count": 5,
   "metadata": {},
   "outputs": [],
   "source": [
    "#Creating another object for creating the class analysis\n",
    "dataset= posts"
   ]
  },
  {
   "cell_type": "code",
   "execution_count": 6,
   "metadata": {},
   "outputs": [
    {
     "data": {
      "text/plain": [
       "bias            0\n",
       "text            0\n",
       "cleaned_text    0\n",
       "dtype: int64"
      ]
     },
     "execution_count": 6,
     "metadata": {},
     "output_type": "execute_result"
    }
   ],
   "source": [
    "# Checking whether there are any null data points in the data set that is being imported to the data object. Luckily there \n",
    "#are no null values\n",
    "dataset.isnull().sum()"
   ]
  },
  {
   "cell_type": "code",
   "execution_count": 7,
   "metadata": {},
   "outputs": [
    {
     "name": "stdout",
     "output_type": "stream",
     "text": [
      "neutral     3689\n",
      "partisan    1311\n",
      "Name: bias, dtype: int64\n"
     ]
    },
    {
     "data": {
      "text/plain": [
       "Text(0.5, 1.0, 'Class Analysis: \\nSample Data Distribution')"
      ]
     },
     "execution_count": 7,
     "metadata": {},
     "output_type": "execute_result"
    },
    {
     "data": {
      "image/png": "[encoded data removed]",
      "text/plain": [
       "<Figure size 432x288 with 1 Axes>"
      ]
     },
     "metadata": {
      "needs_background": "light"
     },
     "output_type": "display_data"
    }
   ],
   "source": [
    "#Generating a bar graph to symbolize the class analysis (number of data points in the dataset associated with each class)\n",
    "#Since this is a binary classification, the two classes are neutral or partisan.\n",
    "dataset.columns\n",
    "print(dataset['bias'].value_counts())\n",
    "figure=dataset['bias'].value_counts().plot(kind='bar', rot=0)\n",
    "figure.set_title('Class Analysis: \\nSample Data Distribution')"
   ]
  },
  {
   "cell_type": "code",
   "execution_count": 8,
   "metadata": {},
   "outputs": [
    {
     "name": "stdout",
     "output_type": "stream",
     "text": [
      "          bias                                       cleaned_text\n",
      "0     partisan  rt nowthisnews rep trey radel r fl slams obama...\n",
      "1     partisan  video obamacare full of higher costs and broke...\n",
      "2      neutral  please join me today in remembering our fallen...\n",
      "3      neutral  rt senatorleahy 1st step toward senate debate ...\n",
      "4     partisan   amazon delivery drones show need to update la...\n",
      "...        ...                                                ...\n",
      "4995  partisan  i applaud governor perry ûªs recent decision t...\n",
      "4996  partisan  today i voted in favor of h r 5016 financial s...\n",
      "4997   neutral   taken from posted wokv interview congressman ...\n",
      "4998   neutral  join me next week for a town hall in ocala i l...\n",
      "4999   neutral  foreign affairs committee hearing on syria i r...\n",
      "\n",
      "[5000 rows x 2 columns]\n"
     ]
    }
   ],
   "source": [
    "# removes the original text column from the object. Since we now have a cleaned text, it is best to remove the column and ensure\n",
    "#our object only holds the values of data we need to use.\n",
    "posts.drop(columns = ['text'],axis =1, inplace=True)\n",
    "\n",
    "# object is printed to view current status of the object, as we currently have 2 columns: 'bias'  and 'cleaned_text'.\n",
    "print(posts)"
   ]
  },
  {
   "cell_type": "code",
   "execution_count": 9,
   "metadata": {},
   "outputs": [
    {
     "name": "stdout",
     "output_type": "stream",
     "text": [
      "          bias                                       cleaned_text\n",
      "3294   neutral  it was great seeing you ryan davenport thank y...\n",
      "7      neutral  show your arizona pride choose your favorite s...\n",
      "3666   neutral  kode ksn reported on my local business tour in...\n",
      "771    neutral  getting my bubba watson on this am wafflehouse...\n",
      "352    neutral  rt md_dlds at the jobs forum featuring the us ...\n",
      "...        ...                                                ...\n",
      "1810   neutral  with john warner timkaine for shipyard keel la...\n",
      "2741  partisan  ben commonsense laws concerning things as powe...\n",
      "1416   neutral  no child should be held back due to zip codes ...\n",
      "4756   neutral  with steel salvaged from the twin towers forge...\n",
      "4471  partisan  if my constituents must suffer through the per...\n",
      "\n",
      "[5000 rows x 2 columns]\n"
     ]
    }
   ],
   "source": [
    "# Reindex randomly\n",
    "posts = posts.reindex(index=np.random.permutation(posts.index))\n",
    "\n",
    "# object is printed to view current status of the object.\n",
    "# The indexes are now random instead of sequential.\n",
    "print(posts)"
   ]
  },
  {
   "cell_type": "code",
   "execution_count": 10,
   "metadata": {},
   "outputs": [],
   "source": [
    "#imports the stopwords from ntlk.corpus and the alphabet \n",
    "#These 5 lines are for creating the stop word list that we need to create the lemmas for analysis\n",
    "#these remove common words that may not be necessary for our classification (ie a, the, etc)\n",
    "from nltk.corpus import stopwords\n",
    "from string import ascii_lowercase as alphabet\n",
    "\n",
    "import nltk\n",
    "\n",
    "stop = stopwords.words('english')\n",
    "stop.extend([str(letter) for letter in alphabet])\n",
    "\n",
    "# This function is to split each indexed cleaned_text into a bag of words.\n",
    "def split_into_lemmas(post):\n",
    "    post = str(post).lower()\n",
    "    words = TextBlob(post).words\n",
    "    # for each word, take its \"base form\" = lemma z\n",
    "    return [word.lemma for word in words if word not in stop]\n"
   ]
  },
  {
   "cell_type": "code",
   "execution_count": 11,
   "metadata": {},
   "outputs": [
    {
     "name": "stdout",
     "output_type": "stream",
     "text": [
      "3294    [great, seeing, ryan, davenport, thank, droppi...\n",
      "7       [show, arizona, pride, choose, favorite, az, p...\n",
      "3666    [kode, ksn, reported, local, business, tour, s...\n",
      "771     [getting, bubba, watson, wafflehouse, cheese, ...\n",
      "352     [rt, md_dlds, job, forum, featuring, u, dept, ...\n",
      "                              ...                        \n",
      "1810    [john, warner, timkaine, shipyard, keel, layin...\n",
      "2741    [ben, commonsense, law, concerning, thing, pow...\n",
      "1416    [child, held, back, due, zip, code, proud, sup...\n",
      "4756    [steel, salvaged, twin, tower, forged, bow, us...\n",
      "4471    [constituent, must, suffer, peril, unintended,...\n",
      "Name: cleaned_text, Length: 5000, dtype: object\n",
      "\n",
      "\n",
      "          bias                                       cleaned_text\n",
      "3294   neutral  it was great seeing you ryan davenport thank y...\n",
      "7      neutral  show your arizona pride choose your favorite s...\n",
      "3666   neutral  kode ksn reported on my local business tour in...\n",
      "771    neutral  getting my bubba watson on this am wafflehouse...\n",
      "352    neutral  rt md_dlds at the jobs forum featuring the us ...\n",
      "...        ...                                                ...\n",
      "1810   neutral  with john warner timkaine for shipyard keel la...\n",
      "2741  partisan  ben commonsense laws concerning things as powe...\n",
      "1416   neutral  no child should be held back due to zip codes ...\n",
      "4756   neutral  with steel salvaged from the twin towers forge...\n",
      "4471  partisan  if my constituents must suffer through the per...\n",
      "\n",
      "[5000 rows x 2 columns]\n"
     ]
    }
   ],
   "source": [
    "#This is an example of the text after each text data is split into the bag of words.\n",
    "posts.cleaned_text.apply(split_into_lemmas)\n",
    "\n",
    "print(posts.cleaned_text.apply(split_into_lemmas))\n",
    "\n",
    "#Notice that when the posts object is called this is not seen, this is because the way it was performed does not change the \n",
    "#columns into a bag of words.\n",
    "print('\\n')\n",
    "print(posts)"
   ]
  },
  {
   "cell_type": "code",
   "execution_count": 12,
   "metadata": {},
   "outputs": [],
   "source": [
    "#This bow_transformer is to vectorize the text data so that it can be analyzed. Otherwise, the model would not be able to\n",
    "#understand the inputs.\n",
    "bow_transformer = CountVectorizer(analyzer=split_into_lemmas).fit(posts.cleaned_text)\n"
   ]
  },
  {
   "cell_type": "code",
   "execution_count": 13,
   "metadata": {},
   "outputs": [
    {
     "name": "stdout",
     "output_type": "stream",
     "text": [
      "  (0, 4538)\t1\n",
      "  (0, 5194)\t1\n",
      "  (0, 6899)\t1\n",
      "  (0, 10795)\t1\n",
      "  (0, 13073)\t1\n",
      "  (0, 13361)\t1\n",
      "  (0, 14700)\t1\n",
      "  (1, 1143)\t1\n",
      "  (1, 2049)\t1\n",
      "  (1, 2280)\t1\n",
      "  (1, 3541)\t1\n",
      "  (1, 3727)\t1\n",
      "  (1, 4249)\t1\n",
      "  (1, 5945)\t1\n",
      "  (1, 6050)\t1\n",
      "  (1, 7594)\t1\n",
      "  (1, 11387)\t1\n",
      "  (1, 11408)\t1\n",
      "  (1, 11760)\t1\n",
      "  (1, 12769)\t1\n",
      "  (1, 13642)\t1\n",
      "  (1, 14014)\t1\n",
      "  (1, 16223)\t1\n",
      "  (2, 3070)\t1\n",
      "  (2, 8242)\t1\n",
      "  :\t:\n",
      "  (4999, 7252)\t1\n",
      "  (4999, 7502)\t1\n",
      "  (4999, 8017)\t1\n",
      "  (4999, 8823)\t1\n",
      "  (4999, 8904)\t1\n",
      "  (4999, 9548)\t1\n",
      "  (4999, 10049)\t1\n",
      "  (4999, 10196)\t1\n",
      "  (4999, 10715)\t1\n",
      "  (4999, 11150)\t1\n",
      "  (4999, 11305)\t1\n",
      "  (4999, 11782)\t1\n",
      "  (4999, 11978)\t1\n",
      "  (4999, 12192)\t1\n",
      "  (4999, 12508)\t1\n",
      "  (4999, 12663)\t1\n",
      "  (4999, 12986)\t1\n",
      "  (4999, 13626)\t1\n",
      "  (4999, 14081)\t1\n",
      "  (4999, 14303)\t1\n",
      "  (4999, 14323)\t1\n",
      "  (4999, 14413)\t1\n",
      "  (4999, 14541)\t1\n",
      "  (4999, 14589)\t1\n",
      "  (4999, 15370)\t1\n",
      "\n",
      "sparse matrix shape: (5000, 16835)\n",
      "number of non-zeros: 95808\n",
      "sparsity: 0.11%\n"
     ]
    }
   ],
   "source": [
    "# Transform the posts in dataset to bag-of-words that are vectorized. This vectorization can be seen in the below print \n",
    "#statement.\n",
    "posts_bow = bow_transformer.transform(posts['cleaned_text'])\n",
    "print(posts_bow) \n",
    "print('\\nsparse matrix shape:', posts_bow.shape)\n",
    "print('number of non-zeros:', posts_bow.nnz)\n",
    "print('sparsity: %.2f%%' % (100.0 * posts_bow.nnz / (posts_bow.shape[0] * posts_bow.shape[1])))"
   ]
  },
  {
   "cell_type": "code",
   "execution_count": 14,
   "metadata": {},
   "outputs": [
    {
     "name": "stdout",
     "output_type": "stream",
     "text": [
      "Posts training shape:  (4000, 16835)\n",
      "Posts testing shape:   (1000, 16835)\n"
     ]
    }
   ],
   "source": [
    "# Split resulting posts_bow vector into traning and testing sets\n",
    "# For the purpose of accuracy, we will be utilizing 80% of the samples (5000 total samples, thus 4000) for training the model\n",
    "# Thus the other 20% (1000) of samples will be used for the model testing.\n",
    "posts_bow_train = posts_bow[:4000]\n",
    "posts_bow_test = posts_bow[4000:]\n",
    "posts_class_train = posts['bias'][:4000]\n",
    "posts_class_test = posts['bias'][4000:]\n",
    "\n",
    "#Below the the training and testing shapes are printed out. Notice that the training has 4000 samples with 16835 features\n",
    "#and the testing has 1000 samples with 16835 features.\n",
    "print(\"Posts training shape: \", posts_bow_train.shape)\n",
    "print(\"Posts testing shape:  \", posts_bow_test.shape)"
   ]
  },
  {
   "cell_type": "markdown",
   "metadata": {},
   "source": [
    "\n",
    "## Multinomial Naive Bayes Learning Model"
   ]
  },
  {
   "cell_type": "code",
   "execution_count": 15,
   "metadata": {},
   "outputs": [
    {
     "name": "stdout",
     "output_type": "stream",
     "text": [
      "Training data assessment\n",
      "\n",
      "Accuracy:  0.91475\n",
      "Confusion Matrix:\n",
      " [[2810  154]\n",
      " [ 187  849]]\n",
      "(row=expected, col=predicted)\n",
      "\n",
      "Multinomial Naive Bayes Results: \n",
      "\n",
      "              precision    recall  f1-score   support\n",
      "\n",
      "     neutral       0.94      0.95      0.94      2964\n",
      "    partisan       0.85      0.82      0.83      1036\n",
      "\n",
      "    accuracy                           0.91      4000\n",
      "   macro avg       0.89      0.88      0.89      4000\n",
      "weighted avg       0.91      0.91      0.91      4000\n",
      "\n",
      "\n",
      "\n",
      "\n",
      "Testing data assessment\n",
      "\n",
      "Accuracy:  0.762\n",
      "Confusion Matrix:\n",
      " [[592 133]\n",
      " [105 170]]\n",
      "(row=expected, col=predicted)\n",
      "\n",
      "Multinomial Naive Bayes Results: \n",
      "\n",
      "              precision    recall  f1-score   support\n",
      "\n",
      "     neutral       0.85      0.82      0.83       725\n",
      "    partisan       0.56      0.62      0.59       275\n",
      "\n",
      "    accuracy                           0.76      1000\n",
      "   macro avg       0.71      0.72      0.71      1000\n",
      "weighted avg       0.77      0.76      0.77      1000\n",
      "\n",
      "Obamacare spawning a new concept: \"medical homelessness.\"\n",
      "MNB Prediction:  [[0.13292597 0.86707403]] \n",
      "\n",
      "Please join me today in remembering our fallen heroes and honoring the men and women currently in military service for their sacrifices.\n",
      "MNB Prediction:  [[9.9998057e-01 1.9430000e-05]] \n",
      "\n",
      "who is going to see Antman today?\n",
      "MNB Prediction:  [[0.89648861 0.10351139]] \n",
      "\n",
      "vote republican\n",
      "MNB Prediction:  [[0.367427 0.632573]] \n",
      "\n",
      "vote for obama\n",
      "MNB Prediction:  [[0.34822884 0.65177116]] \n",
      "\n"
     ]
    }
   ],
   "source": [
    "from sklearn.naive_bayes import MultinomialNB\n",
    "\n",
    "#defining the model and training the model with the training data. Here we are using the Multinomial Naive Bayes model.\n",
    "post_class_clf  = MultinomialNB().fit(posts_bow_train, posts_class_train)\n",
    "\n",
    "#The model performs predictions based of the training data to establish how well the model is trained.\n",
    "#This is used to elucidate the results of the testing data and see if overfitting is a problem. \n",
    "predictions_training = post_class_clf.predict(posts_bow_train)\n",
    "\n",
    "print('Training data assessment\\n')\n",
    "\n",
    "print ('Accuracy: ', accuracy_score(posts_class_train, predictions_training))\n",
    "print('Confusion Matrix:\\n', confusion_matrix(posts_class_train, predictions_training))\n",
    "print('(row=expected, col=predicted)')\n",
    "print(\"\\nMultinomial Naive Bayes Results: \\n\")\n",
    "\n",
    "print(classification_report(posts_class_train, predictions_training))\n",
    "\n",
    "\n",
    "#The model performs predictions based of the testing data\n",
    "predictions = post_class_clf.predict(posts_bow_test)\n",
    "\n",
    "\n",
    "#These are the metrics for the predictions given by the model. The accuracy and confusion matrix are presented\n",
    "#as well as the classification report for the model (consists of precision, recall, f1-score and support for\n",
    "#each of the classifications, since binary classification only two classifications can be made)\n",
    "\n",
    "print('\\n\\n\\nTesting data assessment\\n')\n",
    "print ('Accuracy: ', accuracy_score(posts_class_test, predictions))\n",
    "print('Confusion Matrix:\\n', confusion_matrix(posts_class_test, predictions))\n",
    "print('(row=expected, col=predicted)')\n",
    "print(\"\\nMultinomial Naive Bayes Results: \\n\")\n",
    "\n",
    "print(classification_report(posts_class_test, predictions))\n",
    "\n",
    "\n",
    "#defines function to allow the model to take in an input as a string and classify it as either neutral or partisan. \n",
    "def predict_post_MNB(new_post): \n",
    "    new_sample = bow_transformer.transform([new_post])\n",
    "    print(new_post)\n",
    "    print(\"MNB Prediction: \", np.around(post_class_clf.predict_proba(new_sample), decimals=8),\"\\n\")\n",
    "\n",
    "    \n",
    "    \n",
    "#Below is some sample posts that are used to test the model's ablilty to classify input data. The first value given is the \n",
    "#probability that the post is likely neutral and the second value is the proability that the post is partisan. \n",
    "#These two text inputs are from the sample data and act as a control for the model. The first is for  \n",
    "predict_post_MNB('Obamacare spawning a new concept: \"medical homelessness.\"')\n",
    "predict_post_MNB('Please join me today in remembering our fallen heroes and honoring the men and women currently in military service for their sacrifices.')\n",
    "\n",
    "#These text inputs are randomly generated to see how the model does on newly input data that it has not seen.\n",
    "#As you can see, the model is able to classify the texts pretty well.\n",
    "predict_post_MNB('who is going to see Antman today?')\n",
    "predict_post_MNB('vote republican')\n",
    "predict_post_MNB('vote for obama')"
   ]
  },
  {
   "cell_type": "markdown",
   "metadata": {},
   "source": [
    "\n",
    "\n",
    "## Model for Cosine Similarity SVM"
   ]
  },
  {
   "cell_type": "code",
   "execution_count": 25,
   "metadata": {},
   "outputs": [
    {
     "name": "stdout",
     "output_type": "stream",
     "text": [
      "Training data assessment\n",
      "\n",
      "Accuracy:  0.869\n",
      "Confusion Matrix:\n",
      " [[2905   59]\n",
      " [ 465  571]]\n",
      "(row=expected, col=predicted)\n",
      "\n",
      "SVM Results: \n",
      "\n",
      "              precision    recall  f1-score   support\n",
      "\n",
      "     neutral       0.86      0.98      0.92      2964\n",
      "    partisan       0.91      0.55      0.69      1036\n",
      "\n",
      "    accuracy                           0.87      4000\n",
      "   macro avg       0.88      0.77      0.80      4000\n",
      "weighted avg       0.87      0.87      0.86      4000\n",
      "\n",
      "\n",
      "\n",
      "\n",
      "Testing data assessment\n",
      "\n",
      "Accuracy:  0.766\n",
      "Confusion Matrix:\n",
      " [[679  46]\n",
      " [188  87]]\n",
      "(row=expected, col=predicted)\n",
      "\n",
      "SVM Results: \n",
      "\n",
      "              precision    recall  f1-score   support\n",
      "\n",
      "     neutral       0.78      0.94      0.85       725\n",
      "    partisan       0.65      0.32      0.43       275\n",
      "\n",
      "    accuracy                           0.77      1000\n",
      "   macro avg       0.72      0.63      0.64      1000\n",
      "weighted avg       0.75      0.77      0.74      1000\n",
      "\n",
      "Obamacare spawning a new concept: \"medical homelessness.\"\n",
      "SVM Prediction:  partisan \n",
      "\n",
      "Please join me today in remembering our fallen heroes and honoring the men and women currently in military service for their sacrifices.\n",
      "SVM Prediction:  neutral \n",
      "\n",
      "who is going to see Antman today?\n",
      "SVM Prediction:  neutral \n",
      "\n",
      "vote republican\n",
      "SVM Prediction:  partisan \n",
      "\n",
      "vote for obama\n",
      "SVM Prediction:  partisan \n",
      "\n"
     ]
    }
   ],
   "source": [
    "from sklearn.svm import SVC\n",
    "from sklearn.metrics.pairwise import cosine_similarity\n",
    "\n",
    "#defining the model and training the model with the training data. Here we are using the Linear SVC model with cosine_similarity\n",
    "post_class_svc = SVC(kernel=cosine_similarity, C=0.98).fit(posts_bow_train, posts_class_train)\n",
    "\n",
    "#The model performs predictions based of the training data to establish how well the model is trained.\n",
    "#This is used to elucidate the results of the testing data and see if overfitting is a problem. \n",
    "predictions_training = post_class_svc.predict(posts_bow_train)\n",
    "\n",
    "print('Training data assessment\\n')\n",
    "\n",
    "print ('Accuracy: ', accuracy_score(posts_class_train, predictions_training))\n",
    "print('Confusion Matrix:\\n', confusion_matrix(posts_class_train, predictions_training))\n",
    "print('(row=expected, col=predicted)')\n",
    "print(\"\\nSVM Results: \\n\")\n",
    "\n",
    "print(classification_report(posts_class_train, predictions_training))\n",
    "\n",
    "#The model performs predictions based of the testing data\n",
    "predictions = post_class_svc.predict(posts_bow_test)\n",
    "#These are the metrics for the predictions given by the model. The accuracy and confusion matrix are presented\n",
    "#as well as the classification report for the model (consists of precision, recall, f1-score and support for\n",
    "#each of the classifications, since binary classification only two classifications can be made)\n",
    "\n",
    "print('\\n\\n\\nTesting data assessment\\n')\n",
    "\n",
    "print ('Accuracy: ', accuracy_score(posts_class_test, predictions))\n",
    "print('Confusion Matrix:\\n', confusion_matrix(posts_class_test, predictions))\n",
    "print('(row=expected, col=predicted)')\n",
    "print(\"\\nSVM Results: \\n\")\n",
    "\n",
    "\n",
    "print(classification_report(posts_class_test, predictions))\n",
    "\n",
    "\n",
    "#defines function to allow the model to take in an input as a string and classify it as either neutral or partisan. \n",
    "def predict_post_SVC(new_post): \n",
    "    new_sample = bow_transformer.transform([new_post])\n",
    "    print(new_post)\n",
    "    print(\"SVM Prediction: \", post_class_svc.predict(new_sample)[0], \"\\n\")\n",
    "\n",
    "    \n",
    "#Below is some sample posts that are used to test the model's ablilty to classify input data. The first value given is the probability\n",
    "#that the post is likely neutral and the second value is the proability that the post is partisan. \n",
    "#These two text inputs are from the sample data and act as a control for the model. \n",
    "predict_post_SVC('Obamacare spawning a new concept: \"medical homelessness.\"')\n",
    "predict_post_SVC('Please join me today in remembering our fallen heroes and honoring the men and women currently in military service for their sacrifices.')\n",
    "\n",
    "#These text inputs are randomly generated to see how the model does on newly input data that it has not seen.\n",
    "#As you can see, the model is able to classify the texts pretty well.\n",
    "predict_post_SVC('who is going to see Antman today?')\n",
    "predict_post_SVC('vote republican')\n",
    "predict_post_SVC('vote for obama')"
   ]
  },
  {
   "cell_type": "code",
   "execution_count": null,
   "metadata": {},
   "outputs": [],
   "source": []
  }
 ],
 "metadata": {
  "kernelspec": {
   "display_name": "Python 3",
   "language": "python",
   "name": "python3"
  },
  "language_info": {
   "codemirror_mode": {
    "name": "ipython",
    "version": 3
   },
   "file_extension": ".py",
   "mimetype": "text/x-python",
   "name": "python",
   "nbconvert_exporter": "python",
   "pygments_lexer": "ipython3",
   "version": "3.7.7"
  }
 },
 "nbformat": 4,
 "nbformat_minor": 4
}
