{
 "cells": [
  {
   "cell_type": "markdown",
   "metadata": {},
   "source": [
    "# NLTK Examples\n",
    "\n",
    "## Grammar"
   ]
  },
  {
   "cell_type": "code",
   "execution_count": 1,
   "metadata": {},
   "outputs": [
    {
     "name": "stdout",
     "output_type": "stream",
     "text": [
      "(S (NP Mary) (VP (V saw) (NP Bob)))\n"
     ]
    }
   ],
   "source": [
    "import nltk\n",
    "\n",
    "grammar1 = nltk.CFG.fromstring(\"\"\"\n",
    "  S -> NP VP\n",
    "  VP -> V NP | V NP PP\n",
    "  PP -> P NP\n",
    "  V -> \"saw\" | \"ate\" | \"walked\"\n",
    "  NP -> \"John\" | \"Mary\" | \"Bob\" | Det N | Det N PP\n",
    "  Det -> \"a\" | \"an\" | \"the\" | \"my\"\n",
    "  N -> \"man\" | \"dog\" | \"cat\" | \"telescope\" | \"park\"\n",
    "  P -> \"in\" | \"on\" | \"by\" | \"with\"\n",
    "  \"\"\")\n",
    "\n",
    "sent = \"Mary saw Bob\".split()\n",
    "rd_parser = nltk.RecursiveDescentParser(grammar1)\n",
    "for tree in rd_parser.parse(sent):\n",
    "    print(tree)\n",
    "    tree.draw()\n",
    "    "
   ]
  },
  {
   "cell_type": "markdown",
   "metadata": {},
   "source": [
    "### Writing your own grammar\n",
    "\n",
    "[mygrammar.cfg](mygrammar.cfg)"
   ]
  },
  {
   "cell_type": "code",
   "execution_count": 2,
   "metadata": {},
   "outputs": [
    {
     "name": "stdout",
     "output_type": "stream",
     "text": [
      "Grammar with 27 productions (start state = S)\n",
      "    S -> NP VP\n",
      "    VP -> V NP\n",
      "    VP -> V NP PP\n",
      "    PP -> P NP\n",
      "    V -> 'saw'\n",
      "    V -> 'ate'\n",
      "    V -> 'walked'\n",
      "    NP -> 'John'\n",
      "    NP -> 'Mary'\n",
      "    NP -> 'Bob'\n",
      "    NP -> Det N\n",
      "    NP -> Det N PP\n",
      "    Det -> 'a'\n",
      "    Det -> 'an'\n",
      "    Det -> 'the'\n",
      "    Det -> 'my'\n",
      "    N -> 'man'\n",
      "    N -> 'porcupine'\n",
      "    N -> 'elephant'\n",
      "    N -> 'telescope'\n",
      "    N -> 'park'\n",
      "    N -> 'salad'\n",
      "    N -> 'taco'\n",
      "    P -> 'in'\n",
      "    P -> 'on'\n",
      "    P -> 'by'\n",
      "    P -> 'with'\n",
      "(S (NP (Det a) (N porcupine)) (VP (V ate) (NP (Det a) (N taco))))\n"
     ]
    }
   ],
   "source": [
    "grammar2 = nltk.data.load(\"file:mygrammar.cfg\")\n",
    "print(grammar2)\n",
    "sent = \"a porcupine ate a taco\".split()\n",
    "rd_parser = nltk.RecursiveDescentParser(grammar2)\n",
    "for tree in rd_parser.parse(sent):\n",
    "    print(tree)"
   ]
  },
  {
   "cell_type": "markdown",
   "metadata": {},
   "source": [
    "## Parsing\n"
   ]
  },
  {
   "cell_type": "markdown",
   "metadata": {},
   "source": [
    "### Top Down"
   ]
  },
  {
   "cell_type": "code",
   "execution_count": 3,
   "metadata": {},
   "outputs": [
    {
     "name": "stdout",
     "output_type": "stream",
     "text": [
      "(S\n",
      "  (NP Mary)\n",
      "  (VP\n",
      "    (V saw)\n",
      "    (NP (Det a) (N dog) (PP (P with) (NP (Det a) (N telescope))))))\n",
      "(S\n",
      "  (NP Mary)\n",
      "  (VP\n",
      "    (V saw)\n",
      "    (NP (Det a) (N dog))\n",
      "    (PP (P with) (NP (Det a) (N telescope)))))\n"
     ]
    }
   ],
   "source": [
    "rd_parser = nltk.RecursiveDescentParser(grammar1)\n",
    "sent = 'Mary saw a dog with a telescope'.split()\n",
    "for tree in rd_parser.parse(sent):\n",
    "    print(tree)"
   ]
  },
  {
   "cell_type": "markdown",
   "metadata": {},
   "source": [
    "### Bottom Up"
   ]
  },
  {
   "cell_type": "code",
   "execution_count": 4,
   "metadata": {},
   "outputs": [
    {
     "name": "stdout",
     "output_type": "stream",
     "text": [
      "Parsing 'Mary saw a dog with a telescope'\n",
      "    [ * Mary saw a dog with a telescope]\n",
      "    [ 'Mary' * saw a dog with a telescope]\n",
      "    [ NP 'saw' * a dog with a telescope]\n",
      "    [ NP V 'a' * dog with a telescope]\n",
      "    [ NP V Det 'dog' * with a telescope]\n",
      "    [ S 'with' * a telescope]\n",
      "    [ S P 'a' * telescope]\n",
      "    [ S P Det 'telescope' * ]\n"
     ]
    }
   ],
   "source": [
    "sr_parser = nltk.ShiftReduceParser(grammar1, trace=1)\n",
    "sent = 'Mary saw a dog with a telescope'.split()\n",
    "for tree in sr_parser.parse(sent):\n",
    "    print(tree)"
   ]
  },
  {
   "cell_type": "markdown",
   "metadata": {},
   "source": [
    "### Chart Parser"
   ]
  },
  {
   "cell_type": "code",
   "execution_count": 5,
   "metadata": {},
   "outputs": [
    {
     "name": "stdout",
     "output_type": "stream",
     "text": [
      "(S\n",
      "  (NP Mary)\n",
      "  (VP\n",
      "    (V saw)\n",
      "    (NP (Det a) (N dog))\n",
      "    (PP (P with) (NP (Det a) (N telescope)))))\n",
      "(S\n",
      "  (NP Mary)\n",
      "  (VP\n",
      "    (V saw)\n",
      "    (NP (Det a) (N dog) (PP (P with) (NP (Det a) (N telescope))))))\n"
     ]
    }
   ],
   "source": [
    "chart_parser = nltk.ChartParser(grammar1)\n",
    "sent = 'Mary saw a dog with a telescope'.split()\n",
    "for tree in chart_parser.parse(sent):\n",
    "    print(tree)"
   ]
  },
  {
   "cell_type": "markdown",
   "metadata": {},
   "source": [
    "## Sentence Generation"
   ]
  },
  {
   "cell_type": "code",
   "execution_count": 6,
   "metadata": {},
   "outputs": [
    {
     "name": "stdout",
     "output_type": "stream",
     "text": [
      "John saw John\n",
      "John saw a man\n",
      "John saw a porcupine telescope salad\n",
      "John saw a taco\n",
      "John saw the man\n",
      "John saw the porcupine telescope salad\n",
      "John saw the taco\n",
      "John saw a man with John\n",
      "John saw a man with a man\n",
      "John saw a man with a porcupine telescope salad\n",
      "John saw John\n",
      "John ate John\n",
      "John walked John\n",
      "a man saw John\n",
      "a man ate John\n",
      "a man walked John\n",
      "a porcupine telescope salad saw John\n",
      "a porcupine telescope salad ate John\n",
      "a porcupine telescope salad walked John\n",
      "a taco saw John\n",
      "a taco ate John\n",
      "a taco walked John\n",
      "the man saw John\n",
      "the man ate John\n",
      "the man walked John\n",
      "the porcupine telescope salad saw John\n",
      "the porcupine telescope salad ate John\n",
      "the porcupine telescope salad walked John\n",
      "the taco saw John\n",
      "the taco ate John\n",
      "the taco walked John\n",
      "John saw John\n",
      "John ate John\n",
      "John walked John\n",
      "a man saw John\n",
      "a man ate John\n",
      "a man walked John\n",
      "a porcupine telescope salad saw John\n",
      "a porcupine telescope salad ate John\n",
      "a porcupine telescope salad walked John\n",
      "a taco saw John\n"
     ]
    }
   ],
   "source": [
    "import nltk\n",
    "from nltk.parse.generate import generate\n",
    "\n",
    "grammar3 = nltk.data.load(\"file:gengrammar.cfg\")\n",
    "\n",
    "for sentence in generate(grammar3, n=10):\n",
    "    print(' '.join(sentence))\n",
    "\n",
    "for sentence in generate(grammar3, depth=4):\n",
    "    print(' '.join(sentence))\n",
    "\n",
    "for sentence in generate(grammar3, depth= 4, n=10):\n",
    "    print(' '.join(sentence))"
   ]
  },
  {
   "cell_type": "markdown",
   "metadata": {},
   "source": [
    "## Treebanks"
   ]
  },
  {
   "cell_type": "code",
   "execution_count": 7,
   "metadata": {},
   "outputs": [
    {
     "name": "stdout",
     "output_type": "stream",
     "text": [
      "(S\n",
      "  (NP-SBJ (PRP He))\n",
      "  (VP\n",
      "    (VBZ succeeds)\n",
      "    (NP\n",
      "      (NP (NNP Terrence) (NNP D.) (NNP Daniels))\n",
      "      (, ,)\n",
      "      (NP\n",
      "        (ADVP (RB formerly))\n",
      "        (DT a)\n",
      "        (NNP W.R.)\n",
      "        (NNP Grace)\n",
      "        (NN vice)\n",
      "        (NN chairman))\n",
      "      (, ,)\n",
      "      (SBAR\n",
      "        (WHNP-11 (WP who))\n",
      "        (S (NP-SBJ (-NONE- *T*-11)) (VP (VBD resigned))))))\n",
      "  (. .))\n"
     ]
    }
   ],
   "source": [
    "from nltk.corpus import treebank\n",
    "t = treebank.parsed_sents('wsj_0005.mrg')[1]\n",
    "print(t)"
   ]
  },
  {
   "cell_type": "code",
   "execution_count": 8,
   "metadata": {},
   "outputs": [
    {
     "name": "stdout",
     "output_type": "stream",
     "text": [
      "(NP (CD 61) (NNS years))\n",
      "(NP (CD 55) (NNS years))\n",
      "(NP (CD 1956))\n",
      "(NP (DT the) (JJ early) (CD 1950s))\n",
      "(NP (CD 1956))\n",
      "(NP (CD 1953))\n",
      "(NP (CD 1955))\n",
      "(NP (CD 33) (NNS men))\n",
      "(NP (CD 28))\n",
      "(NP (CD Four))\n",
      "(NP (DT the) (CD five) (VBG surviving) (NNS workers))\n",
      "(NP (CD three))\n",
      "(NP (CD 18) (NNS deaths))\n",
      "(NP (CD one))\n",
      "(NP (CD 1997))\n",
      "(NP (DT the) (CD 1950s))\n",
      "(NP (CD 35) (NNS years))\n",
      "(NP (DT the) (CD 400) (JJ taxable) (NNS funds))\n",
      "(NP (CD 8.45) (NN %))\n",
      "(NP (CD 8.47) (NN %))\n",
      "(NP (CD 41) (NNS days))\n",
      "(NP (CD 33) (NNS days))\n",
      "(NP (CD 8.04) (NN %))\n",
      "(NP (CD 7.90) (NN %))\n",
      "(NP (DT the) (CD 400) (JJ taxable) (NNS funds))\n",
      "(NP (CD 9.37) (NN %))\n",
      "(NP (CD 9.45) (NN %))\n",
      "(NP (DT the) (CD 400) (NNS funds))\n",
      "(NP (CD 8.14) (NN %))\n",
      "(NP (DT an) (JJ average) (CD 8.19) (NN %))\n",
      "(NP (CD 8.22) (NN %))\n",
      "(NP (DT an) (JJ average) (CD 8.53) (NN %))\n",
      "(NP (CD 8.56) (NN %))\n",
      "(NP (CD three))\n",
      "(NP\n",
      "  (NP (NNP Grace) (NNP Energy) (POS 's))\n",
      "  (CD seven)\n",
      "  (NN board)\n",
      "  (NNS seats))\n",
      "(NP ($ $) (CD 27) (-NONE- *U*))\n",
      "(NP (CD 2,700) (NNS people))\n",
      "(NP (NNP Nov.) (CD 9))\n",
      "(NP (CD 43) (NNS years))\n",
      "(NP (CD 20) (NNS years))\n",
      "(NP (CD 125) (JJ corporate) (NN decision) (NNS makers))\n",
      "(NP (CD four) (NNS drivers))\n",
      "(NP\n",
      "  (RB even)\n",
      "  (DT the)\n",
      "  (JJ official)\n",
      "  (NNP Indianapolis)\n",
      "  (CD 500)\n",
      "  (NN announcer))\n",
      "(NP (CD two))\n",
      "(NP (CD nine))\n",
      "(NP (CD one))\n",
      "(NP (CD 20) (NN %))\n",
      "(NP (CD 1986))\n",
      "(NP (CD 19) (NN %))\n",
      "(NP (CD 1990))\n",
      "(NP (CD three) (NNS years))\n"
     ]
    }
   ],
   "source": [
    "def filter(tree):\n",
    "    child_nodes = [child.label() for child in tree\n",
    "                   if isinstance(child, nltk.Tree)]\n",
    "    return  (tree.label() == 'NP') and ('CD' in child_nodes)\n",
    "\n",
    "\n",
    "parsed_sents = treebank.parsed_sents()[:100]\n",
    "\n",
    "for tree in parsed_sents:\n",
    "    for subtree in tree.subtrees(filter):\n",
    "        print(subtree)"
   ]
  },
  {
   "cell_type": "markdown",
   "metadata": {},
   "source": [
    "### Production Rules"
   ]
  },
  {
   "cell_type": "code",
   "execution_count": 9,
   "metadata": {},
   "outputs": [
    {
     "name": "stdout",
     "output_type": "stream",
     "text": [
      "S -> NP-SBJ VP .\n",
      "NP-SBJ -> NP , ADJP ,\n",
      "NP -> NNP NNP\n",
      "NNP -> 'Pierre'\n",
      "NNP -> 'Vinken'\n",
      ", -> ','\n",
      "ADJP -> NP JJ\n",
      "NP -> CD NNS\n",
      "CD -> '61'\n",
      "NNS -> 'years'\n",
      "JJ -> 'old'\n",
      ", -> ','\n",
      "VP -> MD VP\n",
      "MD -> 'will'\n",
      "VP -> VB NP PP-CLR NP-TMP\n",
      "VB -> 'join'\n",
      "NP -> DT NN\n",
      "DT -> 'the'\n",
      "NN -> 'board'\n",
      "PP-CLR -> IN NP\n",
      "IN -> 'as'\n",
      "NP -> DT JJ NN\n",
      "DT -> 'a'\n",
      "JJ -> 'nonexecutive'\n",
      "NN -> 'director'\n",
      "NP-TMP -> NNP CD\n",
      "NNP -> 'Nov.'\n",
      "CD -> '29'\n",
      ". -> '.'\n",
      "S -> NP-SBJ VP .\n",
      "NP-SBJ -> NNP NNP\n",
      "NNP -> 'Mr.'\n",
      "NNP -> 'Vinken'\n",
      "VP -> VBZ NP-PRD\n",
      "VBZ -> 'is'\n",
      "NP-PRD -> NP PP\n",
      "NP -> NN\n",
      "NN -> 'chairman'\n",
      "PP -> IN NP\n",
      "IN -> 'of'\n",
      "NP -> NP , NP\n",
      "NP -> NNP NNP\n",
      "NNP -> 'Elsevier'\n",
      "NNP -> 'N.V.'\n",
      ", -> ','\n",
      "NP -> DT NNP VBG NN\n",
      "DT -> 'the'\n",
      "NNP -> 'Dutch'\n",
      "VBG -> 'publishing'\n",
      "NN -> 'group'\n",
      ". -> '.'\n",
      "S -> NP-SBJ-1 VP .\n",
      "NP-SBJ-1 -> NP , UCP ,\n",
      "NP -> NNP NNP\n",
      "NNP -> 'Rudolph'\n",
      "NNP -> 'Agnew'\n",
      ", -> ','\n",
      "UCP -> ADJP CC NP\n",
      "ADJP -> NP JJ\n",
      "NP -> CD NNS\n",
      "CD -> '55'\n",
      "NNS -> 'years'\n",
      "JJ -> 'old'\n",
      "CC -> 'and'\n",
      "NP -> NP PP\n",
      "NP -> JJ NN\n",
      "JJ -> 'former'\n",
      "NN -> 'chairman'\n",
      "PP -> IN NP\n",
      "IN -> 'of'\n",
      "NP -> NNP NNP NNP NNP\n",
      "NNP -> 'Consolidated'\n",
      "NNP -> 'Gold'\n",
      "NNP -> 'Fields'\n",
      "NNP -> 'PLC'\n",
      ", -> ','\n",
      "VP -> VBD VP\n",
      "VBD -> 'was'\n",
      "VP -> VBN S\n",
      "VBN -> 'named'\n",
      "S -> NP-SBJ NP-PRD\n",
      "NP-SBJ -> -NONE-\n",
      "-NONE- -> '*-1'\n",
      "NP-PRD -> NP PP\n",
      "NP -> DT JJ NN\n",
      "DT -> 'a'\n",
      "JJ -> 'nonexecutive'\n",
      "NN -> 'director'\n",
      "PP -> IN NP\n",
      "IN -> 'of'\n",
      "NP -> DT JJ JJ NN\n",
      "DT -> 'this'\n",
      "JJ -> 'British'\n",
      "JJ -> 'industrial'\n",
      "NN -> 'conglomerate'\n",
      ". -> '.'\n",
      "S -> S-TPC-1 , NP-SBJ VP .\n",
      "S-TPC-1 -> NP-SBJ VP\n",
      "NP-SBJ -> NP RRC\n",
      "NP -> NP PP\n",
      "NP -> DT NN\n",
      "DT -> 'A'\n",
      "NN -> 'form'\n",
      "PP -> IN NP\n",
      "IN -> 'of'\n",
      "NP -> NN\n",
      "NN -> 'asbestos'\n",
      "RRC -> ADVP-TMP VP\n",
      "ADVP-TMP -> RB\n",
      "RB -> 'once'\n",
      "VP -> VBN NP S-CLR\n",
      "VBN -> 'used'\n",
      "NP -> -NONE-\n",
      "-NONE- -> '*'\n",
      "S-CLR -> NP-SBJ VP\n",
      "NP-SBJ -> -NONE-\n",
      "-NONE- -> '*'\n",
      "VP -> TO VP\n",
      "TO -> 'to'\n",
      "VP -> VB NP\n",
      "VB -> 'make'\n",
      "NP -> NNP NN NNS\n",
      "NNP -> 'Kent'\n",
      "NN -> 'cigarette'\n",
      "NNS -> 'filters'\n",
      "VP -> VBZ VP\n",
      "VBZ -> 'has'\n",
      "VP -> VBN NP\n",
      "VBN -> 'caused'\n",
      "NP -> NP PP PP-LOC\n",
      "NP -> DT JJ NN\n",
      "DT -> 'a'\n",
      "JJ -> 'high'\n",
      "NN -> 'percentage'\n",
      "PP -> IN NP\n",
      "IN -> 'of'\n",
      "NP -> NN NNS\n",
      "NN -> 'cancer'\n",
      "NNS -> 'deaths'\n",
      "PP-LOC -> IN NP\n",
      "IN -> 'among'\n",
      "NP -> NP PP\n",
      "NP -> DT NN\n",
      "DT -> 'a'\n",
      "NN -> 'group'\n",
      "PP -> IN NP\n",
      "IN -> 'of'\n",
      "NP -> NP RRC\n",
      "NP -> NNS\n",
      "NNS -> 'workers'\n",
      "RRC -> VP\n",
      "VP -> VBN NP PP-CLR ADVP-TMP\n",
      "VBN -> 'exposed'\n",
      "NP -> -NONE-\n",
      "-NONE- -> '*'\n",
      "PP-CLR -> TO NP\n",
      "TO -> 'to'\n",
      "NP -> PRP\n",
      "PRP -> 'it'\n",
      "ADVP-TMP -> NP IN\n",
      "NP -> QP NNS\n",
      "QP -> RBR IN CD\n",
      "RBR -> 'more'\n",
      "IN -> 'than'\n",
      "CD -> '30'\n",
      "NNS -> 'years'\n",
      "IN -> 'ago'\n",
      ", -> ','\n",
      "NP-SBJ -> NNS\n",
      "NNS -> 'researchers'\n",
      "VP -> VBD SBAR\n",
      "VBD -> 'reported'\n",
      "SBAR -> -NONE- S\n",
      "-NONE- -> '0'\n",
      "S -> -NONE-\n",
      "-NONE- -> '*T*-1'\n",
      ". -> '.'\n",
      "S -> S-TPC-2 , NP-SBJ VP .\n",
      "S-TPC-2 -> NP-SBJ VP\n",
      "NP-SBJ -> NP , NP ,\n",
      "NP -> DT NN NN\n",
      "DT -> 'The'\n",
      "NN -> 'asbestos'\n",
      "NN -> 'fiber'\n",
      ", -> ','\n",
      "NP -> NN\n",
      "NN -> 'crocidolite'\n",
      ", -> ','\n",
      "VP -> VBZ ADJP-PRD SBAR-TMP , PP\n",
      "VBZ -> 'is'\n",
      "ADJP-PRD -> RB JJ\n",
      "RB -> 'unusually'\n",
      "JJ -> 'resilient'\n",
      "SBAR-TMP -> IN S\n",
      "IN -> 'once'\n",
      "S -> NP-SBJ VP\n",
      "NP-SBJ -> PRP\n",
      "PRP -> 'it'\n",
      "VP -> VBZ NP\n",
      "VBZ -> 'enters'\n",
      "NP -> DT NNS\n",
      "DT -> 'the'\n",
      "NNS -> 'lungs'\n",
      ", -> ','\n",
      "PP -> IN S-NOM\n",
      "IN -> 'with'\n",
      "S-NOM -> NP-SBJ VP\n",
      "NP-SBJ -> NP PP\n",
      "NP -> RB JJ NNS\n",
      "RB -> 'even'\n",
      "JJ -> 'brief'\n",
      "NNS -> 'exposures'\n",
      "PP -> TO NP\n",
      "TO -> 'to'\n",
      "NP -> PRP\n",
      "PRP -> 'it'\n",
      "VP -> VBG NP\n",
      "VBG -> 'causing'\n",
      "NP -> NP SBAR\n",
      "NP -> NNS\n",
      "NNS -> 'symptoms'\n",
      "SBAR -> WHNP-1 S\n",
      "WHNP-1 -> WDT\n",
      "WDT -> 'that'\n",
      "S -> NP-SBJ VP\n",
      "NP-SBJ -> -NONE-\n",
      "-NONE- -> '*T*-1'\n",
      "VP -> VBP PRT ADVP-TMP\n",
      "VBP -> 'show'\n",
      "PRT -> RP\n",
      "RP -> 'up'\n",
      "ADVP-TMP -> NP JJ\n",
      "NP -> NNS\n",
      "NNS -> 'decades'\n",
      "JJ -> 'later'\n",
      ", -> ','\n",
      "NP-SBJ -> NNS\n",
      "NNS -> 'researchers'\n",
      "VP -> VBD SBAR\n",
      "VBD -> 'said'\n",
      "SBAR -> -NONE- S\n",
      "-NONE- -> '0'\n",
      "S -> -NONE-\n",
      "-NONE- -> '*T*-2'\n",
      ". -> '.'\n"
     ]
    }
   ],
   "source": [
    "production_set = []\n",
    "for sent in parsed_sents[:5]:\n",
    "    for production in sent.productions():\n",
    "        print(production)"
   ]
  },
  {
   "cell_type": "markdown",
   "metadata": {},
   "source": [
    "## Probabilistic Parsing"
   ]
  },
  {
   "cell_type": "code",
   "execution_count": 10,
   "metadata": {},
   "outputs": [
    {
     "name": "stdout",
     "output_type": "stream",
     "text": [
      "Grammar with 25 productions (start state = S)\n",
      "    S -> NP VP [1.0]\n",
      "    VP -> V NP [0.6]\n",
      "    VP -> V NP PP [0.4]\n",
      "    PP -> P NP [1.0]\n",
      "    V -> 'saw' [0.4]\n",
      "    V -> 'ate' [0.3]\n",
      "    V -> 'walked' [0.3]\n",
      "    NP -> Det N [0.4]\n",
      "    NP -> Det N PP [0.3]\n",
      "    NP -> 'John' [0.1]\n",
      "    NP -> 'Mary' [0.1]\n",
      "    NP -> 'Bob' [0.1]\n",
      "    Det -> 'a' [0.3]\n",
      "    Det -> 'an' [0.2]\n",
      "    Det -> 'the' [0.4]\n",
      "    Det -> 'my' [0.1]\n",
      "    N -> 'telescope' [0.1]\n",
      "    N -> 'man' [0.3]\n",
      "    N -> 'dog' [0.2]\n",
      "    N -> 'cat' [0.2]\n",
      "    N -> 'park' [0.2]\n",
      "    P -> 'in' [0.3]\n",
      "    P -> 'on' [0.3]\n",
      "    P -> 'by' [0.2]\n",
      "    P -> 'with' [0.2]\n"
     ]
    }
   ],
   "source": [
    "grammar = nltk.PCFG.fromstring(\"\"\"\n",
    "    S    -> NP VP              [1.0]\n",
    "    VP   -> V NP               [0.6]\n",
    "    VP   -> V NP PP            [0.4]\n",
    "    PP   -> P NP               [1.0]\n",
    "    V    -> 'saw'              [0.4]\n",
    "    V    -> 'ate'              [0.3]\n",
    "    V    -> 'walked'           [0.3]\n",
    "    NP   -> Det N              [0.4]\n",
    "    NP   -> Det N PP           [0.3]\n",
    "    NP   -> 'John'             [0.1]\n",
    "    NP   -> 'Mary'             [0.1]\n",
    "    NP   -> 'Bob'              [0.1]\n",
    "    Det  -> 'a'                [0.3]\n",
    "    Det  -> 'an'               [0.2]\n",
    "    Det  -> 'the'              [0.4]\n",
    "    Det  -> 'my'               [0.1]\n",
    "    N    -> 'telescope'        [0.1]\n",
    "    N    -> 'man'              [0.3]\n",
    "    N    -> 'dog'              [0.2]\n",
    "    N    -> 'cat'              [0.2]\n",
    "    N    -> 'park'             [0.2]\n",
    "    P    -> 'in'               [0.3]  \n",
    "    P    -> 'on'               [0.3]  \n",
    "    P    -> 'by'               [0.2]  \n",
    "    P    -> 'with'             [0.2]  \n",
    "    \"\"\")\n",
    "\n",
    "print(grammar)"
   ]
  },
  {
   "cell_type": "markdown",
   "metadata": {},
   "source": [
    "### Viterbi Parser"
   ]
  },
  {
   "cell_type": "code",
   "execution_count": 11,
   "metadata": {},
   "outputs": [
    {
     "name": "stdout",
     "output_type": "stream",
     "text": [
      "(S\n",
      "  (NP Mary)\n",
      "  (VP\n",
      "    (V saw)\n",
      "    (NP\n",
      "      (Det a)\n",
      "      (N dog)\n",
      "      (PP (P with) (NP (Det a) (N telescope)))))) (p=1.0368e-06)\n"
     ]
    }
   ],
   "source": [
    "viterbi_parser = nltk.ViterbiParser(grammar)\n",
    "sentence = \"Mary saw a dog with a telescope\"\n",
    "words = nltk.word_tokenize(sentence)\n",
    "for tree in viterbi_parser.parse(words):\n",
    "    print(tree)"
   ]
  }
 ],
 "metadata": {
  "kernelspec": {
   "display_name": "Python 3 (ipykernel)",
   "language": "python",
   "name": "python3"
  },
  "language_info": {
   "codemirror_mode": {
    "name": "ipython",
    "version": 3
   },
   "file_extension": ".py",
   "mimetype": "text/x-python",
   "name": "python",
   "nbconvert_exporter": "python",
   "pygments_lexer": "ipython3",
   "version": "3.9.6"
  }
 },
 "nbformat": 4,
 "nbformat_minor": 4
}
