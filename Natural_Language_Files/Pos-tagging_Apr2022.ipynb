{
 "cells": [
  {
   "cell_type": "markdown",
   "metadata": {},
   "source": [
    "# Part of Speech Tagging\n",
    "\n",
    "is the process of marking up a word in a corpus with its corresponding part of speech, based on both its definition and its context.  It is also called grammatical tagging or word-category disambiguation. \n",
    "\n",
    "Part of speech tagging is used in various NLP taskes including:\n",
    "- word sense disambiguation\n",
    "- information retrieval\n",
    "- text to speech\n",
    "- machine translation"
   ]
  },
  {
   "cell_type": "markdown",
   "metadata": {},
   "source": [
    "## Exploring Part of Speech Tagging with NLTK"
   ]
  },
  {
   "cell_type": "code",
   "execution_count": 1,
   "metadata": {},
   "outputs": [
    {
     "data": {
      "text/plain": [
       "[('It', 'PRP'), ('is', 'VBZ'), ('a', 'DT'), ('nice', 'JJ'), ('night', 'NN')]"
      ]
     },
     "execution_count": 1,
     "metadata": {},
     "output_type": "execute_result"
    }
   ],
   "source": [
    "import nltk\n",
    "from nltk.tokenize import word_tokenize\n",
    "\n",
    "text = word_tokenize(\"It is a nice  night\")\n",
    "nltk.pos_tag(text)"
   ]
  },
  {
   "cell_type": "markdown",
   "metadata": {},
   "source": [
    "Several of the corpora included with NLTK have been tagged for their part-of-speech.   These corpora are potentially useful for training classifiers."
   ]
  },
  {
   "cell_type": "code",
   "execution_count": 34,
   "metadata": {},
   "outputs": [
    {
     "data": {
      "text/plain": [
       "[('The', 'AT'), ('Fulton', 'NP-TL'), ...]"
      ]
     },
     "execution_count": 34,
     "metadata": {},
     "output_type": "execute_result"
    }
   ],
   "source": [
    "from nltk.corpus import brown\n",
    "brown.tagged_words()"
   ]
  },
  {
   "cell_type": "code",
   "execution_count": 35,
   "metadata": {},
   "outputs": [
    {
     "data": {
      "text/plain": [
       "[('The', 'DET'), ('Fulton', 'NOUN'), ...]"
      ]
     },
     "execution_count": 35,
     "metadata": {},
     "output_type": "execute_result"
    }
   ],
   "source": [
    "brown.tagged_words(tagset='universal')"
   ]
  },
  {
   "cell_type": "markdown",
   "metadata": {},
   "source": [
    "### Tag Sets\n",
    "Two tag sets that are frequently used are [Penn Treebank](https://www.ling.upenn.edu/courses/Fall_2003/ling001/penn_treebank_pos.html) and [Universal](https://universaldependencies.org/u/pos/)."
   ]
  },
  {
   "cell_type": "markdown",
   "metadata": {},
   "source": [
    "### Automatic Tagging with NLTK\n",
    "There are several taggers available in NLTK.  We'll look at the default tagger, regex tagger, unigram tagger and ngram taggers. "
   ]
  },
  {
   "cell_type": "code",
   "execution_count": 36,
   "metadata": {},
   "outputs": [
    {
     "data": {
      "text/plain": [
       "'NN'"
      ]
     },
     "execution_count": 36,
     "metadata": {},
     "output_type": "execute_result"
    }
   ],
   "source": [
    "#find the most frequent POS\n",
    "tags = [tag for (word, tag) in brown.tagged_words(categories='news')]\n",
    "nltk.FreqDist(tags).max()"
   ]
  },
  {
   "cell_type": "code",
   "execution_count": 37,
   "metadata": {},
   "outputs": [
    {
     "data": {
      "text/plain": [
       "[('This', 'NN'),\n",
       " ('can', 'NN'),\n",
       " ('be', 'NN'),\n",
       " ('used', 'NN'),\n",
       " ('to', 'NN'),\n",
       " ('establish', 'NN'),\n",
       " ('a', 'NN'),\n",
       " ('baseline', 'NN')]"
      ]
     },
     "execution_count": 37,
     "metadata": {},
     "output_type": "execute_result"
    }
   ],
   "source": [
    "#tag text with default tag\n",
    "raw = \"This can be used to establish a baseline\"\n",
    "tokens = nltk.word_tokenize(raw)\n",
    "default_tagger = nltk.DefaultTagger('NN')\n",
    "default_tagger.tag(tokens)"
   ]
  },
  {
   "cell_type": "code",
   "execution_count": 38,
   "metadata": {},
   "outputs": [
    {
     "data": {
      "text/plain": [
       "0.13089484257215028"
      ]
     },
     "execution_count": 38,
     "metadata": {},
     "output_type": "execute_result"
    }
   ],
   "source": [
    "#evaluate default tagger\n",
    "brown_tagged_sents = brown.tagged_sents(categories='news')\n",
    "default_tagger.evaluate(brown_tagged_sents)"
   ]
  },
  {
   "cell_type": "markdown",
   "metadata": {},
   "source": [
    "The **regular expression tagger** assigns tags to tokens by matching regular expression patterns."
   ]
  },
  {
   "cell_type": "code",
   "execution_count": 39,
   "metadata": {},
   "outputs": [
    {
     "data": {
      "text/plain": [
       "[('This', 'NNS'),\n",
       " ('can', 'NN'),\n",
       " ('be', 'NN'),\n",
       " ('used', 'VBD'),\n",
       " ('to', 'NN'),\n",
       " ('establish', 'NN'),\n",
       " ('a', 'NN'),\n",
       " ('baseline', 'NN')]"
      ]
     },
     "execution_count": 39,
     "metadata": {},
     "output_type": "execute_result"
    }
   ],
   "source": [
    "patterns = [\n",
    "     (r'.*ing$', 'VBG'),                # gerunds\n",
    "     (r'.*ed$', 'VBD'),                 # simple past\n",
    "     (r'.*es$', 'VBZ'),                 # 3rd singular present\n",
    "     (r'.*ould$', 'MD'),                # modals\n",
    "     (r'.*\\'s$', 'NN$'),                # possessive nouns\n",
    "     (r'.*s$', 'NNS'),                  # plural nouns\n",
    "     (r'^-?[0-9]+(\\.[0-9]+)?$', 'CD'),  # cardinal numbers\n",
    "     (r'.*', 'NN')                      # nouns (default\n",
    "]\n",
    "regexp_tagger = nltk.RegexpTagger(patterns)\n",
    "regexp_tagger.tag(tokens)"
   ]
  },
  {
   "cell_type": "code",
   "execution_count": 40,
   "metadata": {},
   "outputs": [
    {
     "data": {
      "text/plain": [
       "0.20186168625812995"
      ]
     },
     "execution_count": 40,
     "metadata": {},
     "output_type": "execute_result"
    }
   ],
   "source": [
    "regexp_tagger.evaluate(brown_tagged_sents)"
   ]
  },
  {
   "cell_type": "markdown",
   "metadata": {},
   "source": [
    "**Unigram taggers** assign the tag that is most likely for a particular token. A Unigram tagger is trained by specifying tagged sentence data as a parameter when the tagger is initiaized. The training process involves inspecting the tag of each word and storing the most likely tag for any word in a dictionary, stored inside the tagger."
   ]
  },
  {
   "cell_type": "code",
   "execution_count": 41,
   "metadata": {},
   "outputs": [
    {
     "data": {
      "text/plain": [
       "[('Dick', 'NP'),\n",
       " ('McAuliffe', 'NP'),\n",
       " ('cracked', 'VBD'),\n",
       " ('the', 'AT'),\n",
       " ('first', 'OD'),\n",
       " ('of', 'IN'),\n",
       " ('his', 'PP$'),\n",
       " ('two', 'CD'),\n",
       " ('doubles', 'NNS'),\n",
       " ('against', 'IN'),\n",
       " ('Lefty', 'NN-TL'),\n",
       " ('Don', 'NP'),\n",
       " ('Rudolph', 'NP'),\n",
       " ('to', 'TO'),\n",
       " ('open', 'JJ'),\n",
       " ('the', 'AT'),\n",
       " (\"Bear's\", 'NN$-TL'),\n",
       " ('attack', 'NN'),\n",
       " ('.', '.')]"
      ]
     },
     "execution_count": 41,
     "metadata": {},
     "output_type": "execute_result"
    }
   ],
   "source": [
    "brown_tagged_sents = brown.tagged_sents(categories='news')\n",
    "brown_sents = brown.sents(categories='news')\n",
    "unigram_tagger = nltk.UnigramTagger(brown_tagged_sents)\n",
    "unigram_tagger.tag(brown_sents[1230])"
   ]
  },
  {
   "cell_type": "code",
   "execution_count": 42,
   "metadata": {},
   "outputs": [
    {
     "data": {
      "text/plain": [
       "0.8121200039868434"
      ]
     },
     "execution_count": 42,
     "metadata": {},
     "output_type": "execute_result"
    }
   ],
   "source": [
    "#training and testing a tagger\n",
    "size = int(len(brown_tagged_sents) * 0.9) #90/10\n",
    "train_sents = brown_tagged_sents[:size]\n",
    "test_sents = brown_tagged_sents[size:]\n",
    "unigram_tagger = nltk.UnigramTagger(train_sents)\n",
    "unigram_tagger.evaluate(test_sents)"
   ]
  },
  {
   "cell_type": "markdown",
   "metadata": {},
   "source": [
    "**N-gram taggers** take context into account.  "
   ]
  },
  {
   "cell_type": "code",
   "execution_count": 43,
   "metadata": {},
   "outputs": [
    {
     "data": {
      "text/plain": [
       "0.10206319146815508"
      ]
     },
     "execution_count": 43,
     "metadata": {},
     "output_type": "execute_result"
    }
   ],
   "source": [
    "bigram_tagger = nltk.BigramTagger(train_sents)\n",
    "bigram_tagger.evaluate(test_sents)"
   ]
  },
  {
   "cell_type": "markdown",
   "metadata": {},
   "source": [
    "You would think that bi-gram taggers would perform better but in this case they perform worse.  Why?"
   ]
  },
  {
   "cell_type": "code",
   "execution_count": 44,
   "metadata": {},
   "outputs": [
    {
     "data": {
      "text/plain": [
       "0.8452108043456593"
      ]
     },
     "execution_count": 44,
     "metadata": {},
     "output_type": "execute_result"
    }
   ],
   "source": [
    "t0 = nltk.DefaultTagger('NN')\n",
    "t1 = nltk.UnigramTagger(train_sents, backoff=t0)\n",
    "t2 = nltk.BigramTagger(train_sents, backoff=t1)\n",
    "t3 = nltk.TrigramTagger(train_sents, backoff=t2)\n",
    "t2.evaluate(test_sents)"
   ]
  },
  {
   "cell_type": "markdown",
   "metadata": {},
   "source": [
    "### Lemmatization with POS tags"
   ]
  },
  {
   "cell_type": "code",
   "execution_count": 45,
   "metadata": {},
   "outputs": [
    {
     "data": {
      "text/plain": [
       "['if',\n",
       " 'you',\n",
       " 'have',\n",
       " 'not',\n",
       " 'been',\n",
       " 'out',\n",
       " 'clearing',\n",
       " 'already',\n",
       " 'then',\n",
       " 'you',\n",
       " 'are',\n",
       " 'not',\n",
       " 'going',\n",
       " 'anywhere']"
      ]
     },
     "execution_count": 45,
     "metadata": {},
     "output_type": "execute_result"
    }
   ],
   "source": [
    "sentence = ['if', 'you', 'have', 'not', 'been', 'out', 'clearing', 'already', 'then', 'you', 'are', 'not', 'going', 'anywhere']\n",
    "wnl = nltk.WordNetLemmatizer()\n",
    "lemmatized = [wnl.lemmatize(t) for t in sentence]\n",
    "lemmatized"
   ]
  },
  {
   "cell_type": "code",
   "execution_count": 46,
   "metadata": {},
   "outputs": [
    {
     "data": {
      "text/plain": [
       "[('if', 'IN'),\n",
       " ('you', 'PRP'),\n",
       " ('have', 'VBP'),\n",
       " ('not', 'RB'),\n",
       " ('been', 'VBN'),\n",
       " ('out', 'RP'),\n",
       " ('clearing', 'VBG'),\n",
       " ('already', 'RB'),\n",
       " ('then', 'RB'),\n",
       " ('you', 'PRP'),\n",
       " ('are', 'VBP'),\n",
       " ('not', 'RB'),\n",
       " ('going', 'VBG'),\n",
       " ('anywhere', 'RB')]"
      ]
     },
     "execution_count": 46,
     "metadata": {},
     "output_type": "execute_result"
    }
   ],
   "source": [
    "tagged_sentence = nltk.pos_tag(sentence)\n",
    "tagged_sentence"
   ]
  },
  {
   "cell_type": "code",
   "execution_count": 47,
   "metadata": {},
   "outputs": [
    {
     "data": {
      "text/plain": [
       "[('if', 'n'),\n",
       " ('you', 'n'),\n",
       " ('have', 'v'),\n",
       " ('not', 'r'),\n",
       " ('been', 'v'),\n",
       " ('out', 'r'),\n",
       " ('clearing', 'v'),\n",
       " ('already', 'r'),\n",
       " ('then', 'r'),\n",
       " ('you', 'n'),\n",
       " ('are', 'v'),\n",
       " ('not', 'r'),\n",
       " ('going', 'v'),\n",
       " ('anywhere', 'r')]"
      ]
     },
     "execution_count": 47,
     "metadata": {},
     "output_type": "execute_result"
    }
   ],
   "source": [
    "from nltk.corpus import wordnet\n",
    "\n",
    "#Map POS tag to first character lemmatize() accepts\n",
    "def get_wordnet_pos(tag):\n",
    "    if tag.startswith('J'):\n",
    "        return wordnet.ADJ\n",
    "    elif tag.startswith('V'):\n",
    "        return wordnet.VERB\n",
    "    elif tag.startswith('N'):\n",
    "        return wordnet.NOUN\n",
    "    elif tag.startswith('R'):\n",
    "        return wordnet.ADV\n",
    "    else:\n",
    "        return wordnet.NOUN\n",
    "\n",
    "word_net_pos = [(word, get_wordnet_pos(pos_tag)) for(word, pos_tag) in tagged_sentence]\n",
    "word_net_pos"
   ]
  },
  {
   "cell_type": "code",
   "execution_count": 48,
   "metadata": {},
   "outputs": [
    {
     "data": {
      "text/plain": [
       "['if',\n",
       " 'you',\n",
       " 'have',\n",
       " 'not',\n",
       " 'be',\n",
       " 'out',\n",
       " 'clear',\n",
       " 'already',\n",
       " 'then',\n",
       " 'you',\n",
       " 'be',\n",
       " 'not',\n",
       " 'go',\n",
       " 'anywhere']"
      ]
     },
     "execution_count": 48,
     "metadata": {},
     "output_type": "execute_result"
    }
   ],
   "source": [
    "lemmatized = [wnl.lemmatize(word, tag) for word, tag in word_net_pos]\n",
    "lemmatized"
   ]
  },
  {
   "cell_type": "markdown",
   "metadata": {},
   "source": [
    "## Using Part of Speech Tagging\n",
    "\n",
    "We can also part of speech tagging to help us better understand our data. In this demonstration our data is Fake News Corpus from Kaggle.  Download the data from https://www.kaggle.com/clmentbisaillon/fake-and-real-news-dataset and place in the data directory."
   ]
  },
  {
   "cell_type": "markdown",
   "metadata": {},
   "source": [
    "### Preprocessing\n",
    "\n",
    "See the code in week 1 for detailed explanation."
   ]
  },
  {
   "cell_type": "code",
   "execution_count": 3,
   "metadata": {},
   "outputs": [
    {
     "data": {
      "text/html": [
       "<div>\n",
       "<style scoped>\n",
       "    .dataframe tbody tr th:only-of-type {\n",
       "        vertical-align: middle;\n",
       "    }\n",
       "\n",
       "    .dataframe tbody tr th {\n",
       "        vertical-align: top;\n",
       "    }\n",
       "\n",
       "    .dataframe thead th {\n",
       "        text-align: right;\n",
       "    }\n",
       "</style>\n",
       "<table border=\"1\" class=\"dataframe\">\n",
       "  <thead>\n",
       "    <tr style=\"text-align: right;\">\n",
       "      <th></th>\n",
       "      <th>label</th>\n",
       "      <th>title</th>\n",
       "      <th>text</th>\n",
       "      <th>subject</th>\n",
       "      <th>date</th>\n",
       "    </tr>\n",
       "  </thead>\n",
       "  <tbody>\n",
       "    <tr>\n",
       "      <th>0</th>\n",
       "      <td>true</td>\n",
       "      <td>As U.S. budget fight looms, Republicans flip t...</td>\n",
       "      <td>WASHINGTON (Reuters) - The head of a conservat...</td>\n",
       "      <td>politicsNews</td>\n",
       "      <td>December 31, 2017</td>\n",
       "    </tr>\n",
       "    <tr>\n",
       "      <th>1</th>\n",
       "      <td>true</td>\n",
       "      <td>U.S. military to accept transgender recruits o...</td>\n",
       "      <td>WASHINGTON (Reuters) - Transgender people will...</td>\n",
       "      <td>politicsNews</td>\n",
       "      <td>December 29, 2017</td>\n",
       "    </tr>\n",
       "    <tr>\n",
       "      <th>2</th>\n",
       "      <td>true</td>\n",
       "      <td>Senior U.S. Republican senator: 'Let Mr. Muell...</td>\n",
       "      <td>WASHINGTON (Reuters) - The special counsel inv...</td>\n",
       "      <td>politicsNews</td>\n",
       "      <td>December 31, 2017</td>\n",
       "    </tr>\n",
       "    <tr>\n",
       "      <th>3</th>\n",
       "      <td>true</td>\n",
       "      <td>FBI Russia probe helped by Australian diplomat...</td>\n",
       "      <td>WASHINGTON (Reuters) - Trump campaign adviser ...</td>\n",
       "      <td>politicsNews</td>\n",
       "      <td>December 30, 2017</td>\n",
       "    </tr>\n",
       "    <tr>\n",
       "      <th>4</th>\n",
       "      <td>true</td>\n",
       "      <td>Trump wants Postal Service to charge 'much mor...</td>\n",
       "      <td>SEATTLE/WASHINGTON (Reuters) - President Donal...</td>\n",
       "      <td>politicsNews</td>\n",
       "      <td>December 29, 2017</td>\n",
       "    </tr>\n",
       "  </tbody>\n",
       "</table>\n",
       "</div>"
      ],
      "text/plain": [
       "  label                                              title  \\\n",
       "0  true  As U.S. budget fight looms, Republicans flip t...   \n",
       "1  true  U.S. military to accept transgender recruits o...   \n",
       "2  true  Senior U.S. Republican senator: 'Let Mr. Muell...   \n",
       "3  true  FBI Russia probe helped by Australian diplomat...   \n",
       "4  true  Trump wants Postal Service to charge 'much mor...   \n",
       "\n",
       "                                                text       subject  \\\n",
       "0  WASHINGTON (Reuters) - The head of a conservat...  politicsNews   \n",
       "1  WASHINGTON (Reuters) - Transgender people will...  politicsNews   \n",
       "2  WASHINGTON (Reuters) - The special counsel inv...  politicsNews   \n",
       "3  WASHINGTON (Reuters) - Trump campaign adviser ...  politicsNews   \n",
       "4  SEATTLE/WASHINGTON (Reuters) - President Donal...  politicsNews   \n",
       "\n",
       "                 date  \n",
       "0  December 31, 2017   \n",
       "1  December 29, 2017   \n",
       "2  December 31, 2017   \n",
       "3  December 30, 2017   \n",
       "4  December 29, 2017   "
      ]
     },
     "execution_count": 3,
     "metadata": {},
     "output_type": "execute_result"
    }
   ],
   "source": [
    "import pandas as pd\n",
    "news_fake = pd. read_csv('data/Fake.csv')\n",
    "news_fake.insert(0, 'label', 'fake')\n",
    "news_true = pd.read_csv('data/True.csv')\n",
    "news_true.insert(0, 'label', 'true')\n",
    "news = pd.concat([news_true, news_fake], ignore_index=True)\n",
    "news.head()"
   ]
  },
  {
   "cell_type": "code",
   "execution_count": 4,
   "metadata": {},
   "outputs": [
    {
     "data": {
      "text/plain": [
       "<matplotlib.axes._subplots.AxesSubplot at 0x7f82491d6bd0>"
      ]
     },
     "execution_count": 4,
     "metadata": {},
     "output_type": "execute_result"
    },
    {
     "data": {
      "image/png": "[encoded data removed]",
      "text/plain": [
       "<Figure size 720x504 with 1 Axes>"
      ]
     },
     "metadata": {
      "needs_background": "light"
     },
     "output_type": "display_data"
    }
   ],
   "source": [
    "# Visualization of subjects\n",
    "import matplotlib.pyplot as plt\n",
    "\n",
    "color_list = list('rgbkymc')  #red, green, blue, black, etc.\n",
    "plt.figure(figsize=(10,7))\n",
    "plt.xlabel(\"Subjects\")\n",
    "plt.ylabel(\"Counts\")\n",
    "\n",
    "news.subject.value_counts().plot(kind='bar', color=color_list )"
   ]
  },
  {
   "cell_type": "code",
   "execution_count": 5,
   "metadata": {},
   "outputs": [
    {
     "data": {
      "text/plain": [
       "<matplotlib.axes._subplots.AxesSubplot at 0x7f8249625f90>"
      ]
     },
     "execution_count": 5,
     "metadata": {},
     "output_type": "execute_result"
    },
    {
     "data": {
      "image/png": "[encoded data removed]",
      "text/plain": [
       "<Figure size 720x360 with 1 Axes>"
      ]
     },
     "metadata": {
      "needs_background": "light"
     },
     "output_type": "display_data"
    }
   ],
   "source": [
    "# visualization of classification\n",
    "import matplotlib.pyplot as plt\n",
    "\n",
    "plt.figure(figsize=(10,5))\n",
    "plt.xlabel(\"Label\")\n",
    "plt.ylabel(\"Counts\")\n",
    "\n",
    "news.label.value_counts().plot(kind='bar' )"
   ]
  },
  {
   "cell_type": "markdown",
   "metadata": {},
   "source": [
    "### For POS tagging we will only consider the title"
   ]
  },
  {
   "cell_type": "code",
   "execution_count": 7,
   "metadata": {},
   "outputs": [
    {
     "data": {
      "text/html": [
       "<div>\n",
       "<style scoped>\n",
       "    .dataframe tbody tr th:only-of-type {\n",
       "        vertical-align: middle;\n",
       "    }\n",
       "\n",
       "    .dataframe tbody tr th {\n",
       "        vertical-align: top;\n",
       "    }\n",
       "\n",
       "    .dataframe thead th {\n",
       "        text-align: right;\n",
       "    }\n",
       "</style>\n",
       "<table border=\"1\" class=\"dataframe\">\n",
       "  <thead>\n",
       "    <tr style=\"text-align: right;\">\n",
       "      <th></th>\n",
       "      <th>title</th>\n",
       "    </tr>\n",
       "  </thead>\n",
       "  <tbody>\n",
       "    <tr>\n",
       "      <th>10128</th>\n",
       "      <td>Supreme Court sympathetic to property owner in...</td>\n",
       "    </tr>\n",
       "    <tr>\n",
       "      <th>43165</th>\n",
       "      <td>LAWS ARE FOR THE COMMON MAN…NOT FOR BARRY SOET...</td>\n",
       "    </tr>\n",
       "    <tr>\n",
       "      <th>14627</th>\n",
       "      <td>Turkey 'appalled' by U.S. stance on IS withdra...</td>\n",
       "    </tr>\n",
       "    <tr>\n",
       "      <th>17654</th>\n",
       "      <td>Germany extends passport controls on Austrian ...</td>\n",
       "    </tr>\n",
       "    <tr>\n",
       "      <th>28412</th>\n",
       "      <td>Ted Cruz: I’m ‘Honored’ By Support Of This De...</td>\n",
       "    </tr>\n",
       "    <tr>\n",
       "      <th>24070</th>\n",
       "      <td>California May Stop Paying Taxes To Federal G...</td>\n",
       "    </tr>\n",
       "    <tr>\n",
       "      <th>2130</th>\n",
       "      <td>Trump mulling lifting status of Cyber Command:...</td>\n",
       "    </tr>\n",
       "    <tr>\n",
       "      <th>15083</th>\n",
       "      <td>Suspects held in Franco-Swiss swoop face terro...</td>\n",
       "    </tr>\n",
       "    <tr>\n",
       "      <th>38593</th>\n",
       "      <td>OBAMA’S AMERICA: INCOMING U.S. CITIZENS NO LON...</td>\n",
       "    </tr>\n",
       "    <tr>\n",
       "      <th>25009</th>\n",
       "      <td>Obama Eyeing Digital Media Career Post-Presid...</td>\n",
       "    </tr>\n",
       "  </tbody>\n",
       "</table>\n",
       "</div>"
      ],
      "text/plain": [
       "                                                   title\n",
       "10128  Supreme Court sympathetic to property owner in...\n",
       "43165  LAWS ARE FOR THE COMMON MAN…NOT FOR BARRY SOET...\n",
       "14627  Turkey 'appalled' by U.S. stance on IS withdra...\n",
       "17654  Germany extends passport controls on Austrian ...\n",
       "28412   Ted Cruz: I’m ‘Honored’ By Support Of This De...\n",
       "24070   California May Stop Paying Taxes To Federal G...\n",
       "2130   Trump mulling lifting status of Cyber Command:...\n",
       "15083  Suspects held in Franco-Swiss swoop face terro...\n",
       "38593  OBAMA’S AMERICA: INCOMING U.S. CITIZENS NO LON...\n",
       "25009   Obama Eyeing Digital Media Career Post-Presid..."
      ]
     },
     "execution_count": 7,
     "metadata": {},
     "output_type": "execute_result"
    }
   ],
   "source": [
    "title_df = news['title']\n",
    "title_df = title_df.to_frame()\n",
    "title_df.sample(10, random_state = 5)"
   ]
  },
  {
   "cell_type": "code",
   "execution_count": 8,
   "metadata": {},
   "outputs": [
    {
     "data": {
      "text/plain": [
       "<matplotlib.axes._subplots.AxesSubplot at 0x7f825971c310>"
      ]
     },
     "execution_count": 8,
     "metadata": {},
     "output_type": "execute_result"
    },
    {
     "data": {
      "image/png": "[encoded data removed]",
      "text/plain": [
       "<Figure size 504x504 with 1 Axes>"
      ]
     },
     "metadata": {
      "needs_background": "light"
     },
     "output_type": "display_data"
    }
   ],
   "source": [
    "# visualizing title length\n",
    "plt.figure(figsize=(7,7))\n",
    "plt.xlabel(\"title length\")\n",
    "plt.ylabel(\"No. of articles\")\n",
    "\n",
    "title_df['title'].str.len().hist()"
   ]
  },
  {
   "cell_type": "markdown",
   "metadata": {},
   "source": [
    "### Preprocessing the Data\n",
    "\n",
    "Remove contractions, normalize case, remove special characters"
   ]
  },
  {
   "cell_type": "code",
   "execution_count": 10,
   "metadata": {},
   "outputs": [
    {
     "data": {
      "text/html": [
       "<div>\n",
       "<style scoped>\n",
       "    .dataframe tbody tr th:only-of-type {\n",
       "        vertical-align: middle;\n",
       "    }\n",
       "\n",
       "    .dataframe tbody tr th {\n",
       "        vertical-align: top;\n",
       "    }\n",
       "\n",
       "    .dataframe thead th {\n",
       "        text-align: right;\n",
       "    }\n",
       "</style>\n",
       "<table border=\"1\" class=\"dataframe\">\n",
       "  <thead>\n",
       "    <tr style=\"text-align: right;\">\n",
       "      <th></th>\n",
       "      <th>title</th>\n",
       "    </tr>\n",
       "  </thead>\n",
       "  <tbody>\n",
       "    <tr>\n",
       "      <th>10128</th>\n",
       "      <td>supreme court sympathetic to property owner in...</td>\n",
       "    </tr>\n",
       "    <tr>\n",
       "      <th>43165</th>\n",
       "      <td>laws are for the common mannot for barry soeto...</td>\n",
       "    </tr>\n",
       "    <tr>\n",
       "      <th>14627</th>\n",
       "      <td>turkey 'appalled' by yous stance on is withdra...</td>\n",
       "    </tr>\n",
       "    <tr>\n",
       "      <th>17654</th>\n",
       "      <td>germany extends passport controls on austrian ...</td>\n",
       "    </tr>\n",
       "    <tr>\n",
       "      <th>28412</th>\n",
       "      <td>ted cruz i am honored by support of this demon...</td>\n",
       "    </tr>\n",
       "    <tr>\n",
       "      <th>24070</th>\n",
       "      <td>california may stop paying taxes to federal go...</td>\n",
       "    </tr>\n",
       "    <tr>\n",
       "      <th>2130</th>\n",
       "      <td>trump mulling lifting status of cyber command ...</td>\n",
       "    </tr>\n",
       "    <tr>\n",
       "      <th>15083</th>\n",
       "      <td>suspects held in francoswiss swoop face terror...</td>\n",
       "    </tr>\n",
       "    <tr>\n",
       "      <th>38593</th>\n",
       "      <td>obamas america incoming yous citizens no longe...</td>\n",
       "    </tr>\n",
       "    <tr>\n",
       "      <th>25009</th>\n",
       "      <td>obama eyeing digital media career postpresidency</td>\n",
       "    </tr>\n",
       "  </tbody>\n",
       "</table>\n",
       "</div>"
      ],
      "text/plain": [
       "                                                   title\n",
       "10128  supreme court sympathetic to property owner in...\n",
       "43165  laws are for the common mannot for barry soeto...\n",
       "14627  turkey 'appalled' by yous stance on is withdra...\n",
       "17654  germany extends passport controls on austrian ...\n",
       "28412  ted cruz i am honored by support of this demon...\n",
       "24070  california may stop paying taxes to federal go...\n",
       "2130   trump mulling lifting status of cyber command ...\n",
       "15083  suspects held in francoswiss swoop face terror...\n",
       "38593  obamas america incoming yous citizens no longe...\n",
       "25009   obama eyeing digital media career postpresidency"
      ]
     },
     "execution_count": 10,
     "metadata": {},
     "output_type": "execute_result"
    }
   ],
   "source": [
    "import contractions\n",
    "import re\n",
    "\n",
    "title_df['title'] = title_df['title'].apply(lambda title: [contractions.fix(word) for word in title.split()]) #fix contractions\n",
    "title_df['title'] = [' '.join(map(str, l)) for l in title_df['title']] # joining back into a string\n",
    "title_df['title'] = title_df['title'].str.lower() #convert to lowercse\n",
    "title_df['title'] = title_df['title'].apply(lambda x: re.sub(r'[^\\w\\d\\s\\']+', '', x)) #remove special characters\n",
    "title_df.sample(10, random_state = 5)"
   ]
  },
  {
   "cell_type": "markdown",
   "metadata": {},
   "source": [
    "Regex explanation:\n",
    "\n",
    "1. [^] matches everything but everything inside the blockquotes\n",
    "2. \\w matches any word character (equal to [a-zA-Z0-9_])\n",
    "3. \\d matches a digit (equal to [0-9])\n",
    "4. \\s matches any whitespace character (equal to [\\r\\n\\t\\f\\v ])\n",
    "5. \\' matches the character ' literally (case sensitive)\n",
    "6. '+' matches between one and unlimited times, as many times as possible, giving back as needed"
   ]
  },
  {
   "cell_type": "code",
   "execution_count": 11,
   "metadata": {},
   "outputs": [
    {
     "data": {
      "text/html": [
       "<div>\n",
       "<style scoped>\n",
       "    .dataframe tbody tr th:only-of-type {\n",
       "        vertical-align: middle;\n",
       "    }\n",
       "\n",
       "    .dataframe tbody tr th {\n",
       "        vertical-align: top;\n",
       "    }\n",
       "\n",
       "    .dataframe thead th {\n",
       "        text-align: right;\n",
       "    }\n",
       "</style>\n",
       "<table border=\"1\" class=\"dataframe\">\n",
       "  <thead>\n",
       "    <tr style=\"text-align: right;\">\n",
       "      <th></th>\n",
       "      <th>title</th>\n",
       "      <th>tokenized_title</th>\n",
       "    </tr>\n",
       "  </thead>\n",
       "  <tbody>\n",
       "    <tr>\n",
       "      <th>10128</th>\n",
       "      <td>supreme court sympathetic to property owner in...</td>\n",
       "      <td>[supreme, court, sympathetic, to, property, ow...</td>\n",
       "    </tr>\n",
       "    <tr>\n",
       "      <th>43165</th>\n",
       "      <td>laws are for the common mannot for barry soeto...</td>\n",
       "      <td>[laws, are, for, the, common, mannot, for, bar...</td>\n",
       "    </tr>\n",
       "    <tr>\n",
       "      <th>14627</th>\n",
       "      <td>turkey 'appalled' by yous stance on is withdra...</td>\n",
       "      <td>[turkey, 'appalled, ', by, yous, stance, on, i...</td>\n",
       "    </tr>\n",
       "    <tr>\n",
       "      <th>17654</th>\n",
       "      <td>germany extends passport controls on austrian ...</td>\n",
       "      <td>[germany, extends, passport, controls, on, aus...</td>\n",
       "    </tr>\n",
       "    <tr>\n",
       "      <th>28412</th>\n",
       "      <td>ted cruz i am honored by support of this demon...</td>\n",
       "      <td>[ted, cruz, i, am, honored, by, support, of, t...</td>\n",
       "    </tr>\n",
       "    <tr>\n",
       "      <th>24070</th>\n",
       "      <td>california may stop paying taxes to federal go...</td>\n",
       "      <td>[california, may, stop, paying, taxes, to, fed...</td>\n",
       "    </tr>\n",
       "    <tr>\n",
       "      <th>2130</th>\n",
       "      <td>trump mulling lifting status of cyber command ...</td>\n",
       "      <td>[trump, mulling, lifting, status, of, cyber, c...</td>\n",
       "    </tr>\n",
       "    <tr>\n",
       "      <th>15083</th>\n",
       "      <td>suspects held in francoswiss swoop face terror...</td>\n",
       "      <td>[suspects, held, in, francoswiss, swoop, face,...</td>\n",
       "    </tr>\n",
       "    <tr>\n",
       "      <th>38593</th>\n",
       "      <td>obamas america incoming yous citizens no longe...</td>\n",
       "      <td>[obamas, america, incoming, yous, citizens, no...</td>\n",
       "    </tr>\n",
       "    <tr>\n",
       "      <th>25009</th>\n",
       "      <td>obama eyeing digital media career postpresidency</td>\n",
       "      <td>[obama, eyeing, digital, media, career, postpr...</td>\n",
       "    </tr>\n",
       "  </tbody>\n",
       "</table>\n",
       "</div>"
      ],
      "text/plain": [
       "                                                   title  \\\n",
       "10128  supreme court sympathetic to property owner in...   \n",
       "43165  laws are for the common mannot for barry soeto...   \n",
       "14627  turkey 'appalled' by yous stance on is withdra...   \n",
       "17654  germany extends passport controls on austrian ...   \n",
       "28412  ted cruz i am honored by support of this demon...   \n",
       "24070  california may stop paying taxes to federal go...   \n",
       "2130   trump mulling lifting status of cyber command ...   \n",
       "15083  suspects held in francoswiss swoop face terror...   \n",
       "38593  obamas america incoming yous citizens no longe...   \n",
       "25009   obama eyeing digital media career postpresidency   \n",
       "\n",
       "                                         tokenized_title  \n",
       "10128  [supreme, court, sympathetic, to, property, ow...  \n",
       "43165  [laws, are, for, the, common, mannot, for, bar...  \n",
       "14627  [turkey, 'appalled, ', by, yous, stance, on, i...  \n",
       "17654  [germany, extends, passport, controls, on, aus...  \n",
       "28412  [ted, cruz, i, am, honored, by, support, of, t...  \n",
       "24070  [california, may, stop, paying, taxes, to, fed...  \n",
       "2130   [trump, mulling, lifting, status, of, cyber, c...  \n",
       "15083  [suspects, held, in, francoswiss, swoop, face,...  \n",
       "38593  [obamas, america, incoming, yous, citizens, no...  \n",
       "25009  [obama, eyeing, digital, media, career, postpr...  "
      ]
     },
     "execution_count": 11,
     "metadata": {},
     "output_type": "execute_result"
    }
   ],
   "source": [
    "from nltk.tokenize import word_tokenize\n",
    "title_df['tokenized_title'] = title_df['title'].apply(word_tokenize)\n",
    "title_df.sample(10, random_state = 5)"
   ]
  },
  {
   "cell_type": "markdown",
   "metadata": {},
   "source": [
    "### Tagging using NLTK\n",
    "\n",
    "The [nltk.tag.AveragedPerceptronTagger](https://www.nltk.org/_modules/nltk/tag/perceptron.html) is the default tagger for NLTK. The model was trained on on Sections 00-18 of the Wall Street Journal."
   ]
  },
  {
   "cell_type": "code",
   "execution_count": 12,
   "metadata": {},
   "outputs": [],
   "source": [
    "import nltk"
   ]
  },
  {
   "cell_type": "code",
   "execution_count": 37,
   "metadata": {},
   "outputs": [
    {
     "name": "stdout",
     "output_type": "stream",
     "text": [
      "[('supreme', 'JJ'), ('court', 'NN'), ('sympathetic', 'JJ'), ('to', 'TO'), ('property', 'NN'), ('owner', 'NN'), ('in', 'IN'), ('wetlands', 'NNS'), ('dispute', 'VBP')]\n",
      "[('laws', 'NNS'), ('are', 'VBP'), ('for', 'IN'), ('the', 'DT'), ('common', 'JJ'), ('mannot', 'NN'), ('for', 'IN'), ('barry', 'NN'), ('soetoro', 'JJ'), ('obama', 'NN'), ('gives', 'VBZ'), ('work', 'NN'), ('permits', 'NNS'), ('to', 'TO'), ('2000', 'CD'), ('after', 'IN'), ('judge', 'NN'), ('ordered', 'VBD'), ('him', 'PRP'), ('to', 'TO'), ('stop', 'VB')]\n",
      "[('turkey', 'NN'), (\"'appalled\", 'VBD'), (\"'\", 'POS'), ('by', 'IN'), ('yous', 'JJ'), ('stance', 'NN'), ('on', 'IN'), ('is', 'VBZ'), ('withdrawal', 'VBN'), ('from', 'IN'), ('raqqa', 'NN'), ('ministry', 'NN')]\n",
      "[('germany', 'JJ'), ('extends', 'VBZ'), ('passport', 'NN'), ('controls', 'NNS'), ('on', 'IN'), ('austrian', 'JJ'), ('border', 'NN'), ('flights', 'NNS'), ('from', 'IN'), ('greece', 'NN')]\n",
      "[('ted', 'VBN'), ('cruz', 'NN'), ('i', 'NN'), ('am', 'VBP'), ('honored', 'VBN'), ('by', 'IN'), ('support', 'NN'), ('of', 'IN'), ('this', 'DT'), ('demonobsessed', 'JJ'), ('exorcist', 'NN'), ('preacher', 'NN'), ('video', 'NN')]\n",
      "[('california', 'NN'), ('may', 'MD'), ('stop', 'VB'), ('paying', 'VBG'), ('taxes', 'NNS'), ('to', 'TO'), ('federal', 'JJ'), ('government', 'NN'), ('after', 'IN'), ('trump', 'NN'), ('threatens', 'NNS'), ('to', 'TO'), ('defund', 'VB'), ('the', 'DT'), ('state', 'NN'), ('details', 'NNS')]\n",
      "[('trump', 'NN'), ('mulling', 'VBG'), ('lifting', 'VBG'), ('status', 'NN'), ('of', 'IN'), ('cyber', 'NN'), ('command', 'NN'), ('sources', 'NNS')]\n",
      "[('suspects', 'NNS'), ('held', 'VBN'), ('in', 'IN'), ('francoswiss', 'JJ'), ('swoop', 'NN'), ('face', 'NN'), ('terrorism', 'NN'), ('charges', 'NNS')]\n",
      "[('obamas', 'NN'), ('america', 'NN'), ('incoming', 'VBG'), ('yous', 'JJ'), ('citizens', 'NNS'), ('no', 'RB'), ('longer', 'RB'), ('required', 'VBN'), ('to', 'TO'), ('pledge', 'VB'), ('they', 'PRP'), ('will', 'MD'), ('bear', 'VB'), ('arms', 'NNS'), ('on', 'IN'), ('behalf', 'NN'), ('of', 'IN'), ('the', 'DT'), ('united', 'JJ'), ('states', 'NNS')]\n",
      "[('obama', 'NN'), ('eyeing', 'VBG'), ('digital', 'JJ'), ('media', 'NNS'), ('career', 'NN'), ('postpresidency', 'NN')]\n"
     ]
    }
   ],
   "source": [
    "# to simplify use 10 titles based on the same seed value at 5\n",
    "tagged_titles = []\n",
    "tagged = []\n",
    "\n",
    "for title in title_df['tokenized_title'].sample(10, random_state = 5):\n",
    "    tagged_title = nltk.pos_tag(title)\n",
    "    print(tagged_title)\n",
    "    tagged_titles.append(tagged_title)"
   ]
  },
  {
   "cell_type": "code",
   "execution_count": 36,
   "metadata": {},
   "outputs": [
    {
     "name": "stdout",
     "output_type": "stream",
     "text": [
      "123\n",
      "JJ 13\n",
      "NN 38\n",
      "TO 6\n",
      "IN 16\n",
      "NNS 15\n",
      "VBP 3\n",
      "DT 4\n",
      "VBZ 3\n",
      "CD 1\n",
      "VBD 2\n",
      "PRP 2\n",
      "VB 5\n",
      "POS 1\n",
      "VBN 5\n",
      "MD 2\n",
      "VBG 5\n",
      "RB 2\n"
     ]
    }
   ],
   "source": [
    "from collections import Counter\n",
    "combined_lists = [word_tag for title in tagged_titles for word_tag in title]\n",
    "counts = Counter(tag for word, tag in combined_lists)\n",
    "for tag in counts:\n",
    "    print(tag, counts[tag] )"
   ]
  },
  {
   "cell_type": "code",
   "execution_count": 23,
   "metadata": {},
   "outputs": [
    {
     "name": "stdout",
     "output_type": "stream",
     "text": [
      "Requirement already up-to-date: yellowbrick in /Users/cindy/opt/anaconda3/lib/python3.7/site-packages (1.3.post1)\n",
      "Requirement already satisfied, skipping upgrade: scikit-learn>=0.20 in /Users/cindy/opt/anaconda3/lib/python3.7/site-packages (from yellowbrick) (0.22.1)\n",
      "Requirement already satisfied, skipping upgrade: scipy>=1.0.0 in /Users/cindy/opt/anaconda3/lib/python3.7/site-packages (from yellowbrick) (1.4.1)\n",
      "Requirement already satisfied, skipping upgrade: cycler>=0.10.0 in /Users/cindy/opt/anaconda3/lib/python3.7/site-packages (from yellowbrick) (0.10.0)\n",
      "Requirement already satisfied, skipping upgrade: numpy<1.20,>=1.16.0 in /Users/cindy/opt/anaconda3/lib/python3.7/site-packages (from yellowbrick) (1.18.1)\n",
      "Requirement already satisfied, skipping upgrade: matplotlib!=3.0.0,>=2.0.2 in /Users/cindy/opt/anaconda3/lib/python3.7/site-packages (from yellowbrick) (3.1.3)\n",
      "Requirement already satisfied, skipping upgrade: joblib>=0.11 in /Users/cindy/opt/anaconda3/lib/python3.7/site-packages (from scikit-learn>=0.20->yellowbrick) (0.14.1)\n",
      "Requirement already satisfied, skipping upgrade: six in /Users/cindy/opt/anaconda3/lib/python3.7/site-packages (from cycler>=0.10.0->yellowbrick) (1.14.0)\n",
      "Requirement already satisfied, skipping upgrade: pyparsing!=2.0.4,!=2.1.2,!=2.1.6,>=2.0.1 in /Users/cindy/opt/anaconda3/lib/python3.7/site-packages (from matplotlib!=3.0.0,>=2.0.2->yellowbrick) (2.4.6)\n",
      "Requirement already satisfied, skipping upgrade: kiwisolver>=1.0.1 in /Users/cindy/opt/anaconda3/lib/python3.7/site-packages (from matplotlib!=3.0.0,>=2.0.2->yellowbrick) (1.1.0)\n",
      "Requirement already satisfied, skipping upgrade: python-dateutil>=2.1 in /Users/cindy/opt/anaconda3/lib/python3.7/site-packages (from matplotlib!=3.0.0,>=2.0.2->yellowbrick) (2.8.1)\n",
      "Requirement already satisfied, skipping upgrade: setuptools in /Users/cindy/opt/anaconda3/lib/python3.7/site-packages (from kiwisolver>=1.0.1->matplotlib!=3.0.0,>=2.0.2->yellowbrick) (46.0.0.post20200309)\n",
      "\u001b[33mWARNING: You are using pip version 20.1.1; however, version 21.0.1 is available.\n",
      "You should consider upgrading via the '/Users/cindy/opt/anaconda3/bin/python3 -m pip install --upgrade pip' command.\u001b[0m\n"
     ]
    }
   ],
   "source": [
    "# Yellow Brick is a POS visualizer -https://www.scikit-yb.org/en/latest/api/text/postag.html\n",
    "\n",
    "!pip install -U yellowbrick"
   ]
  },
  {
   "cell_type": "code",
   "execution_count": 24,
   "metadata": {},
   "outputs": [
    {
     "data": {
      "image/png": "[encoded data removed]",
      "text/plain": [
       "<Figure size 1080x1080 with 1 Axes>"
      ]
     },
     "metadata": {},
     "output_type": "display_data"
    },
    {
     "data": {
      "text/plain": [
       "<matplotlib.axes._subplots.AxesSubplot at 0x7f81faea1550>"
      ]
     },
     "execution_count": 24,
     "metadata": {},
     "output_type": "execute_result"
    }
   ],
   "source": [
    "from yellowbrick.text import PosTagVisualizer\n",
    "\n",
    "tagged.append(tagged_titles) # one item list - this format is needed for visualizer \n",
    "plt.figure(figsize=(15,15))\n",
    "viz = PosTagVisualizer()\n",
    "viz.fit(tagged)\n",
    "viz.show()"
   ]
  },
  {
   "cell_type": "markdown",
   "metadata": {},
   "source": [
    "### Tagging using spaCy\n",
    "\n",
    "spaCy uses a processing pipline. The tokenizer runs before the components and the processer includes a tagger. You can add custom components using `Language.add_pipe`. More information on the spaCy pipeline is available [here](https://spacy.io/api).\n",
    "![](https://spacy.io/pipeline-fde48da9b43661abcdf62ab70a546d71.svg)"
   ]
  },
  {
   "cell_type": "code",
   "execution_count": 38,
   "metadata": {},
   "outputs": [
    {
     "name": "stdout",
     "output_type": "stream",
     "text": [
      "supreme PROPN NNP\n",
      "court PROPN NNP\n",
      "sympathetic PROPN NNP\n",
      "to ADP IN\n",
      "property NOUN NN\n",
      "owner NOUN NN\n",
      "in ADP IN\n",
      "wetlands PROPN NNP\n",
      "dispute VERB VBP\n"
     ]
    }
   ],
   "source": [
    "import spacy\n",
    "\n",
    "nlp = spacy.load(\"en_core_web_sm\")\n",
    "title = nlp(title_df[\"title\"].values[10128])\n",
    "\n",
    "for token in title:\n",
    "    print(token, token.pos_, token.tag_)"
   ]
  },
  {
   "cell_type": "code",
   "execution_count": 39,
   "metadata": {},
   "outputs": [
    {
     "name": "stdout",
     "output_type": "stream",
     "text": [
      "[(supreme, 'NNP'), (court, 'NNP'), (sympathetic, 'NNP'), (to, 'IN'), (property, 'NN'), (owner, 'NN'), (in, 'IN'), (wetlands, 'NNP'), (dispute, 'VBP')]\n",
      "[(laws, 'NNS'), (are, 'VBP'), (for, 'IN'), (the, 'DT'), (common, 'JJ'), (mannot, 'NN'), (for, 'IN'), (barry, 'NNP'), (soetoro, 'VBZ'), (obama, 'NNP'), (gives, 'VBZ'), (work, 'NN'), (permits, 'NNS'), (to, 'IN'), (2000, 'CD'), (after, 'IN'), (judge, 'NNP'), (ordered, 'VBD'), (him, 'PRP'), (to, 'TO'), (stop, 'VB')]\n",
      "[(turkey, 'NNP'), (', '``'), (appalled, 'VBD'), (', \"''\"), (by, 'IN'), (yous, 'JJ'), (stance, 'NN'), (on, 'IN'), (is, 'VBZ'), (withdrawal, 'NN'), (from, 'IN'), (raqqa, 'NNP'), (ministry, 'NNP')]\n",
      "[(germany, 'NNP'), (extends, 'VBZ'), (passport, 'NNP'), (controls, 'NNS'), (on, 'IN'), (austrian, 'JJ'), (border, 'NN'), (flights, 'NNS'), (from, 'IN'), (greece, 'NNP')]\n",
      "[(ted, 'NNP'), (cruz, 'NNP'), (i, 'PRP'), (am, 'VBP'), (honored, 'VBN'), (by, 'IN'), (support, 'NN'), (of, 'IN'), (this, 'DT'), (demonobsessed, 'VBN'), (exorcist, 'NNP'), (preacher, 'NN'), (video, 'NN')]\n",
      "[(california, 'NNP'), (may, 'MD'), (stop, 'VB'), (paying, 'VBG'), (taxes, 'NNS'), (to, 'IN'), (federal, 'JJ'), (government, 'NN'), (after, 'IN'), (trump, 'NN'), (threatens, 'VBZ'), (to, 'TO'), (defund, 'VB'), (the, 'DT'), (state, 'NN'), (details, 'NNS')]\n",
      "[(trump, 'NN'), (mulling, 'NN'), (lifting, 'VBG'), (status, 'NN'), (of, 'IN'), (cyber, 'NNP'), (command, 'NN'), (sources, 'NNS')]\n",
      "[(suspects, 'NNS'), (held, 'VBN'), (in, 'IN'), (francoswiss, 'JJ'), (swoop, 'NNP'), (face, 'NN'), (terrorism, 'NN'), (charges, 'NNS')]\n",
      "[(obamas, 'NNP'), (america, 'NNP'), (incoming, 'VBG'), (yous, 'JJ'), (citizens, 'NNS'), (no, 'RB'), (longer, 'RBR'), (required, 'VBN'), (to, 'TO'), (pledge, 'VB'), (they, 'PRP'), (will, 'MD'), (bear, 'VB'), (arms, 'NNS'), (on, 'IN'), (behalf, 'NN'), (of, 'IN'), (the, 'DT'), (united, 'NNP'), (states, 'NNP')]\n",
      "[(obama, 'NNP'), (eyeing, 'VBG'), (digital, 'JJ'), (media, 'NNS'), (career, 'NN'), (postpresidency, 'NN')]\n"
     ]
    }
   ],
   "source": [
    "tagged_titles_spacy = []\n",
    "tagged_spacy = []\n",
    "\n",
    "for title in title_df['title'].sample(10, random_state = 5):\n",
    "    processed_title = nlp(title)\n",
    "    tagged_title = [(token, token.tag_) for token in processed_title]\n",
    "    print(tagged_title)\n",
    "    tagged_titles_spacy.append(tagged_title)"
   ]
  },
  {
   "cell_type": "code",
   "execution_count": 41,
   "metadata": {},
   "outputs": [
    {
     "name": "stdout",
     "output_type": "stream",
     "text": [
      "NNP 24\n",
      "IN 19\n",
      "NN 22\n",
      "VBP 3\n",
      "NNS 12\n",
      "DT 4\n",
      "JJ 7\n",
      "VBZ 5\n",
      "CD 1\n",
      "VBD 2\n",
      "PRP 3\n",
      "TO 3\n",
      "VB 5\n",
      "`` 1\n",
      "'' 1\n",
      "VBN 4\n",
      "MD 2\n",
      "VBG 4\n",
      "RB 1\n",
      "RBR 1\n"
     ]
    }
   ],
   "source": [
    "combined_lists = [word_tag for title in tagged_titles_spacy for word_tag in title]\n",
    "counts = Counter(tag for word,tag in combined_lists)\n",
    "for tag in counts:\n",
    "    print(tag, counts[tag] )"
   ]
  },
  {
   "cell_type": "code",
   "execution_count": 35,
   "metadata": {},
   "outputs": [
    {
     "data": {
      "image/png": "[encoded data removed]",
      "text/plain": [
       "<Figure size 1080x1080 with 1 Axes>"
      ]
     },
     "metadata": {},
     "output_type": "display_data"
    },
    {
     "data": {
      "text/plain": [
       "<matplotlib.axes._subplots.AxesSubplot at 0x7f81f9763ed0>"
      ]
     },
     "execution_count": 35,
     "metadata": {},
     "output_type": "execute_result"
    }
   ],
   "source": [
    "tagged_spacy.append(tagged_titles_spacy)\n",
    "plt.figure(figsize=(15,15))\n",
    "viz = PosTagVisualizer()\n",
    "viz.fit(tagged_spacy)\n",
    "viz.show()"
   ]
  }
 ],
 "metadata": {
  "kernelspec": {
   "display_name": "Python 3",
   "language": "python",
   "name": "python3"
  },
  "language_info": {
   "codemirror_mode": {
    "name": "ipython",
    "version": 3
   },
   "file_extension": ".py",
   "mimetype": "text/x-python",
   "name": "python",
   "nbconvert_exporter": "python",
   "pygments_lexer": "ipython3",
   "version": "3.7.6"
  }
 },
 "nbformat": 4,
 "nbformat_minor": 4
}
