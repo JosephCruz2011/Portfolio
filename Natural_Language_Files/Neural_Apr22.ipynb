{
 "cells": [
  {
   "cell_type": "markdown",
   "metadata": {},
   "source": [
    "# Neural Classification"
   ]
  },
  {
   "cell_type": "markdown",
   "metadata": {},
   "source": [
    "### Fake News Corpus\n",
    "\n",
    "For this example the data is from https://www.kaggle.com/clmentbisaillon/fake-and-real-news-dataset."
   ]
  },
  {
   "cell_type": "code",
   "execution_count": 1,
   "metadata": {},
   "outputs": [
    {
     "data": {
      "text/html": [
       "<div>\n",
       "<style scoped>\n",
       "    .dataframe tbody tr th:only-of-type {\n",
       "        vertical-align: middle;\n",
       "    }\n",
       "\n",
       "    .dataframe tbody tr th {\n",
       "        vertical-align: top;\n",
       "    }\n",
       "\n",
       "    .dataframe thead th {\n",
       "        text-align: right;\n",
       "    }\n",
       "</style>\n",
       "<table border=\"1\" class=\"dataframe\">\n",
       "  <thead>\n",
       "    <tr style=\"text-align: right;\">\n",
       "      <th></th>\n",
       "      <th>label</th>\n",
       "      <th>title</th>\n",
       "      <th>text</th>\n",
       "      <th>subject</th>\n",
       "      <th>date</th>\n",
       "    </tr>\n",
       "  </thead>\n",
       "  <tbody>\n",
       "    <tr>\n",
       "      <th>0</th>\n",
       "      <td>1</td>\n",
       "      <td>As U.S. budget fight looms, Republicans flip t...</td>\n",
       "      <td>WASHINGTON (Reuters) - The head of a conservat...</td>\n",
       "      <td>politicsNews</td>\n",
       "      <td>December 31, 2017</td>\n",
       "    </tr>\n",
       "    <tr>\n",
       "      <th>1</th>\n",
       "      <td>1</td>\n",
       "      <td>U.S. military to accept transgender recruits o...</td>\n",
       "      <td>WASHINGTON (Reuters) - Transgender people will...</td>\n",
       "      <td>politicsNews</td>\n",
       "      <td>December 29, 2017</td>\n",
       "    </tr>\n",
       "    <tr>\n",
       "      <th>2</th>\n",
       "      <td>1</td>\n",
       "      <td>Senior U.S. Republican senator: 'Let Mr. Muell...</td>\n",
       "      <td>WASHINGTON (Reuters) - The special counsel inv...</td>\n",
       "      <td>politicsNews</td>\n",
       "      <td>December 31, 2017</td>\n",
       "    </tr>\n",
       "    <tr>\n",
       "      <th>3</th>\n",
       "      <td>1</td>\n",
       "      <td>FBI Russia probe helped by Australian diplomat...</td>\n",
       "      <td>WASHINGTON (Reuters) - Trump campaign adviser ...</td>\n",
       "      <td>politicsNews</td>\n",
       "      <td>December 30, 2017</td>\n",
       "    </tr>\n",
       "    <tr>\n",
       "      <th>4</th>\n",
       "      <td>1</td>\n",
       "      <td>Trump wants Postal Service to charge 'much mor...</td>\n",
       "      <td>SEATTLE/WASHINGTON (Reuters) - President Donal...</td>\n",
       "      <td>politicsNews</td>\n",
       "      <td>December 29, 2017</td>\n",
       "    </tr>\n",
       "  </tbody>\n",
       "</table>\n",
       "</div>"
      ],
      "text/plain": [
       "   label                                              title  \\\n",
       "0      1  As U.S. budget fight looms, Republicans flip t...   \n",
       "1      1  U.S. military to accept transgender recruits o...   \n",
       "2      1  Senior U.S. Republican senator: 'Let Mr. Muell...   \n",
       "3      1  FBI Russia probe helped by Australian diplomat...   \n",
       "4      1  Trump wants Postal Service to charge 'much mor...   \n",
       "\n",
       "                                                text       subject  \\\n",
       "0  WASHINGTON (Reuters) - The head of a conservat...  politicsNews   \n",
       "1  WASHINGTON (Reuters) - Transgender people will...  politicsNews   \n",
       "2  WASHINGTON (Reuters) - The special counsel inv...  politicsNews   \n",
       "3  WASHINGTON (Reuters) - Trump campaign adviser ...  politicsNews   \n",
       "4  SEATTLE/WASHINGTON (Reuters) - President Donal...  politicsNews   \n",
       "\n",
       "                 date  \n",
       "0  December 31, 2017   \n",
       "1  December 29, 2017   \n",
       "2  December 31, 2017   \n",
       "3  December 30, 2017   \n",
       "4  December 29, 2017   "
      ]
     },
     "execution_count": 1,
     "metadata": {},
     "output_type": "execute_result"
    }
   ],
   "source": [
    "import pandas as pd\n",
    "\n",
    "news_fake = pd. read_csv('/Users/cindy/Corpora/Fake.csv') #my path\n",
    "news_fake.insert(0, 'label', 0)\n",
    "news_true = pd.read_csv('/Users/cindy/Corpora//True.csv') #my path\n",
    "news_true.insert(0, 'label', 1)\n",
    "news_df = pd.concat([news_true, news_fake], ignore_index=True)\n",
    "news_df.head()"
   ]
  },
  {
   "cell_type": "markdown",
   "metadata": {},
   "source": [
    "## Import Tensorflow"
   ]
  },
  {
   "cell_type": "code",
   "execution_count": 2,
   "metadata": {},
   "outputs": [
    {
     "name": "stdout",
     "output_type": "stream",
     "text": [
      "Version:  2.4.1\n",
      "Eager mode:  True\n",
      "Hub version:  0.12.0\n"
     ]
    }
   ],
   "source": [
    "import numpy as np\n",
    "\n",
    "import tensorflow as tf\n",
    "import tensorflow_hub as hub\n",
    "\n",
    "import matplotlib.pyplot as plt\n",
    "\n",
    "print(\"Version: \", tf.__version__)\n",
    "print(\"Eager mode: \", tf.executing_eagerly())\n",
    "print(\"Hub version: \", hub.__version__)"
   ]
  },
  {
   "cell_type": "markdown",
   "metadata": {},
   "source": [
    "## Split into to testing and training set\n",
    "\n",
    "We're using sci kit learns's [test_train_split](https://scikit-learn.org/stable/modules/generated/sklearn.model_selection.train_test_split.html) function."
   ]
  },
  {
   "cell_type": "code",
   "execution_count": 3,
   "metadata": {},
   "outputs": [],
   "source": [
    "from sklearn.model_selection import train_test_split\n",
    "\n",
    "train_examples, test_examples, train_labels, test_labels = train_test_split(news_df['text'], news_df['label'], test_size = 0.2, random_state=0)"
   ]
  },
  {
   "cell_type": "code",
   "execution_count": 4,
   "metadata": {},
   "outputs": [
    {
     "name": "stdout",
     "output_type": "stream",
     "text": [
      "Training entries: 35918, test entries: 8980\n"
     ]
    }
   ],
   "source": [
    "print(\"Training entries: {}, test entries: {}\".format(len(train_examples), len(test_examples)))"
   ]
  },
  {
   "cell_type": "code",
   "execution_count": 5,
   "metadata": {},
   "outputs": [
    {
     "data": {
      "text/plain": [
       "38388    Thank God America has people like Ted Cruz in ...\n",
       "23136    Donald Trump is not fit to be president. Most ...\n",
       "24221    With Donald Trump writing Executive Orders tha...\n",
       "8837     WASHINGTON (Reuters) - Democrat Bernie Sanders...\n",
       "15902    WASHINGTON (Reuters) - A rare high-level defec...\n",
       "41472    When multi-millionaire San Francisco 49ers qua...\n",
       "649      WASHINGTON (Reuters) - U.S. Attorney General J...\n",
       "31830    President Trump s deputy assistant Sebastian G...\n",
       "10996    WASHINGTON (Reuters) - A political fight over ...\n",
       "13761    SOFIA (Reuters) - The Bulgarian Orthodox Churc...\n",
       "Name: text, dtype: object"
      ]
     },
     "execution_count": 5,
     "metadata": {},
     "output_type": "execute_result"
    }
   ],
   "source": [
    "train_examples[:10]"
   ]
  },
  {
   "cell_type": "code",
   "execution_count": 6,
   "metadata": {},
   "outputs": [
    {
     "data": {
      "text/plain": [
       "38388    0\n",
       "23136    0\n",
       "24221    0\n",
       "8837     1\n",
       "15902    1\n",
       "41472    0\n",
       "649      1\n",
       "31830    0\n",
       "10996    1\n",
       "13761    1\n",
       "Name: label, dtype: int64"
      ]
     },
     "execution_count": 6,
     "metadata": {},
     "output_type": "execute_result"
    }
   ],
   "source": [
    "train_labels[:10]"
   ]
  },
  {
   "cell_type": "markdown",
   "metadata": {},
   "source": [
    "## Create the embedding vector\n",
    "\n",
    "This example uses a pre-trained text embedding as the first layer, which will has two advantages:\n",
    "- we don't have to worry about text preprocessing,\n",
    "- we can benefit from transfer learning.\n",
    "\n",
    "For this example we will use a model from [TensorFlow Hub](https://www.tensorflow.org/hub) called `google/nnlm-en-dim128-with-normalization/2`.  This is a larger model with additional text normalization to remove punctuation and an embedding dimension of 128."
   ]
  },
  {
   "cell_type": "code",
   "execution_count": 7,
   "metadata": {},
   "outputs": [
    {
     "data": {
      "text/plain": [
       "<tf.Tensor: shape=(3, 128), dtype=float32, numpy=\n",
       "array([[ 2.22976112e+00,  3.28908265e-02,  1.40641928e-01,\n",
       "         6.44701198e-02,  5.91396280e-02, -1.00054406e-01,\n",
       "         2.91841805e-01, -5.20529449e-01, -4.86851484e-01,\n",
       "        -1.16212003e-01,  4.71871138e-01, -2.44435564e-01,\n",
       "        -4.77778018e-01, -4.93724465e-01, -2.86798239e-01,\n",
       "         1.46333113e-01, -4.99941498e-01, -4.89518493e-02,\n",
       "        -2.52657712e-01,  1.49594021e+00,  8.28611702e-02,\n",
       "         9.33884308e-02, -4.53871280e-01, -3.39736998e-01,\n",
       "         2.62019157e-01, -7.54148588e-02,  3.68622482e-01,\n",
       "         3.43239605e-01,  6.98358193e-02,  2.31160909e-01,\n",
       "        -1.33078456e-01,  1.36219516e-01,  3.73210222e-01,\n",
       "        -9.24271420e-02,  2.66868711e-01, -2.12127455e-02,\n",
       "        -3.42397779e-01, -1.37694359e-01, -3.22433710e-02,\n",
       "         3.77818793e-01,  2.19719857e-01, -5.66109233e-02,\n",
       "        -3.37439090e-01, -2.56070346e-01,  4.45034839e-02,\n",
       "         2.48606458e-01, -2.28736237e-01, -3.99297625e-02,\n",
       "         2.90820837e-01, -3.05852354e-01,  1.44700721e-01,\n",
       "         1.63977563e-01,  5.92708647e-01,  1.32663593e-01,\n",
       "        -2.14397013e-01,  2.05554709e-01, -6.72105998e-02,\n",
       "         2.59560198e-01,  4.90740836e-02,  1.56842694e-01,\n",
       "        -6.88503146e-01,  1.93391040e-01, -2.92627335e-01,\n",
       "        -1.04954056e-01, -4.48253751e-02,  4.55513954e-01,\n",
       "         9.56197008e-02, -1.99531466e-01,  4.18441534e-01,\n",
       "        -2.67754853e-01, -4.97906119e-01, -9.16533843e-02,\n",
       "         3.66684854e-01,  1.99858025e-01,  2.33444408e-01,\n",
       "         4.13480073e-01,  4.48980719e-01, -2.48562381e-01,\n",
       "        -1.50030926e-01,  1.67639911e-01,  1.03640296e-01,\n",
       "        -1.80058554e-02, -3.65241468e-01, -2.07282931e-01,\n",
       "         1.95846930e-02, -1.51386797e-01, -5.32212257e-01,\n",
       "         5.01064658e-01,  1.47366548e+00,  5.95280051e-01,\n",
       "        -3.74684930e-01,  4.04955119e-01,  8.62449482e-02,\n",
       "        -6.70990422e-02,  3.83699745e-01,  5.93321383e-01,\n",
       "         1.64304033e-01, -2.68395334e-01, -9.48874772e-01,\n",
       "         1.13518285e-02, -3.63183804e-02,  3.04080725e-01,\n",
       "         4.19407606e-01,  5.67340136e-01,  1.12984307e-01,\n",
       "         1.12102002e-01, -1.30136654e-01,  3.57610196e-01,\n",
       "        -2.90584892e-01,  3.57919969e-02, -6.95341766e-01,\n",
       "        -4.87372689e-02, -2.78148323e-01, -3.20191264e-01,\n",
       "         3.35460417e-02, -1.63730696e-01,  2.62230664e-01,\n",
       "         2.57020462e-02,  1.49899468e-01,  5.54799497e-01,\n",
       "         4.48950706e-03, -5.75538099e-01,  1.25962898e-01,\n",
       "         4.90845829e-01, -2.36724988e-01, -6.33334041e-01,\n",
       "        -8.55714679e-02,  1.71892688e-01],\n",
       "       [ 2.93887520e+00,  4.33058947e-01,  1.89991727e-01,\n",
       "         1.58716366e-01, -4.17369269e-02, -2.71635354e-01,\n",
       "         1.39492393e-01, -5.98881304e-01, -4.33107495e-01,\n",
       "        -1.81448027e-01,  2.47137785e-01, -4.90290254e-01,\n",
       "        -3.34069282e-01, -3.74099314e-01, -6.13107324e-01,\n",
       "         7.92252570e-02, -4.15431619e-01, -1.37058288e-01,\n",
       "        -1.72564864e-01,  2.12202358e+00,  1.14131801e-01,\n",
       "         5.69801629e-01, -4.43264514e-01, -9.98047963e-02,\n",
       "         1.49338037e-01, -2.91839898e-01,  2.24505812e-01,\n",
       "        -2.18090236e-01,  8.43603835e-02, -9.16236266e-02,\n",
       "         2.35822260e-01, -4.09204274e-01,  3.03454399e-01,\n",
       "        -2.74080276e-01,  3.36750627e-01, -8.11518207e-02,\n",
       "        -3.93106490e-01, -3.89029920e-01,  1.18599720e-01,\n",
       "         5.43829143e-01, -1.73973978e-01, -2.96756506e-01,\n",
       "        -3.23445439e-01, -4.95844595e-02,  2.19989404e-01,\n",
       "         2.63709754e-01,  2.25643627e-02, -2.94596791e-01,\n",
       "        -1.84084177e-01, -1.88598689e-02,  2.62258798e-01,\n",
       "         3.78546506e-01,  6.10646844e-01,  2.31578667e-02,\n",
       "        -1.28037184e-01, -1.79875493e-01,  4.20790724e-02,\n",
       "        -1.08789414e-01,  2.40556479e-01, -2.76604313e-02,\n",
       "        -5.66920936e-01,  5.36661923e-01, -1.24489464e-01,\n",
       "        -1.51244566e-01, -5.54206148e-02,  2.67130911e-01,\n",
       "         3.73506844e-01, -5.57449222e-01,  4.45243031e-01,\n",
       "        -2.79507101e-01, -2.13484317e-01,  3.55636984e-01,\n",
       "         4.17854071e-01,  2.38639072e-01, -3.98974329e-01,\n",
       "         3.27486277e-01,  8.93906504e-02, -2.72273868e-01,\n",
       "        -1.25843138e-01, -1.19610168e-01,  6.63338482e-01,\n",
       "        -5.01132965e-01, -4.22519177e-01, -1.36018634e-01,\n",
       "         1.27634123e-01, -4.87392515e-01, -6.71078861e-01,\n",
       "         2.54777879e-01,  1.78747177e+00,  8.67825568e-01,\n",
       "        -3.86534423e-01,  3.13177556e-01,  1.27591997e-01,\n",
       "        -3.88726927e-02,  1.24643072e-01,  3.85956675e-01,\n",
       "         4.37668204e-01, -4.39921543e-02, -7.01038241e-01,\n",
       "        -2.04761013e-01,  3.68189603e-01,  1.90168038e-01,\n",
       "         5.43155968e-01,  3.44856411e-01,  2.31030807e-01,\n",
       "        -3.89913976e-01,  1.23755321e-01, -3.04188356e-02,\n",
       "        -5.63255131e-01,  2.60103941e-01, -8.54000926e-01,\n",
       "        -4.88311797e-01, -2.82990724e-01, -3.24780881e-01,\n",
       "         1.60360068e-01, -2.70188481e-01,  3.20914298e-01,\n",
       "         2.07614422e-01,  1.57661781e-01,  2.66385913e-01,\n",
       "         2.79889047e-01, -2.34839737e-01,  4.01017606e-01,\n",
       "         2.71353722e-01, -2.92077571e-01, -4.88185793e-01,\n",
       "        -1.25347793e-01,  3.27324495e-02],\n",
       "       [ 1.89863384e+00,  5.75311184e-02,  1.99858576e-01,\n",
       "         3.32258642e-01,  2.76769370e-01, -2.94407438e-02,\n",
       "         3.57299775e-01, -3.63405108e-01, -1.78015798e-01,\n",
       "         1.03009501e-02,  1.53152645e-01, -1.49057254e-01,\n",
       "        -5.04901588e-01, -3.51207018e-01, -3.61122012e-01,\n",
       "         1.18467048e-01, -6.67153180e-01, -2.65442759e-01,\n",
       "        -2.93938480e-02,  1.07191062e+00, -2.19616428e-01,\n",
       "         4.41993296e-01, -3.44897419e-01, -2.27046430e-01,\n",
       "        -2.02209353e-01, -6.80798113e-01,  2.29628146e-01,\n",
       "         1.37897030e-01, -4.96375747e-03, -3.08672320e-02,\n",
       "         4.20292541e-02,  5.42169996e-02,  1.90778002e-01,\n",
       "         5.05984649e-02,  3.93723667e-01, -3.39006156e-01,\n",
       "        -3.92974675e-01, -2.07738310e-01,  5.82364872e-02,\n",
       "         3.22393209e-01, -9.96223986e-02, -1.58728167e-01,\n",
       "        -3.39617766e-02, -8.02620500e-02,  1.99466392e-01,\n",
       "         3.26593816e-01, -2.71323435e-02, -5.53526953e-02,\n",
       "        -1.36673276e-03, -2.64232084e-02,  2.62777150e-01,\n",
       "        -6.79559857e-02,  3.03292930e-01,  1.69399515e-01,\n",
       "         1.89779326e-02, -1.13111638e-01, -4.82549220e-01,\n",
       "         2.01139543e-02, -3.75559255e-02, -1.74108908e-01,\n",
       "        -2.67088979e-01,  1.48579299e-01,  1.21910527e-01,\n",
       "        -2.28022173e-01,  1.54906362e-01,  1.86653674e-01,\n",
       "         1.39878124e-01, -3.95439625e-01,  2.84576118e-01,\n",
       "        -1.98485911e-01, -1.16473421e-01,  1.95745528e-02,\n",
       "         1.53980747e-01,  1.90830022e-01, -4.90924753e-02,\n",
       "         1.51853990e-02,  7.24232122e-02, -1.13618322e-01,\n",
       "        -2.55263150e-01,  1.44212082e-01,  2.15150237e-01,\n",
       "        -3.44381005e-01, -4.75434393e-01, -9.23719630e-02,\n",
       "         1.78397894e-01, -4.73029584e-01, -6.67888045e-01,\n",
       "         1.74373284e-01,  1.42231357e+00,  5.03084958e-01,\n",
       "        -2.51234859e-01,  3.49399716e-01,  1.02816233e-02,\n",
       "         1.13410316e-01,  2.73488194e-01,  5.36420703e-01,\n",
       "         2.48372808e-01, -1.83732241e-01, -2.54788548e-01,\n",
       "        -2.00261995e-01,  1.82206526e-01, -3.02719343e-02,\n",
       "         3.36395770e-01,  2.57765234e-01,  1.96705803e-01,\n",
       "        -6.55564591e-02,  9.29264128e-02,  2.70121247e-01,\n",
       "        -2.38524228e-01,  2.62512714e-01, -6.51301503e-01,\n",
       "        -2.18077719e-01, -2.45607942e-01, -2.08313778e-01,\n",
       "         6.33850470e-02, -3.53588685e-02,  5.73964454e-02,\n",
       "        -2.82704264e-01,  2.11008251e-01,  5.49046874e-01,\n",
       "         1.68563202e-01, -2.15613946e-01,  2.16152743e-01,\n",
       "         4.56879586e-01, -1.81821048e-01, -1.08900726e-01,\n",
       "        -2.99644191e-02,  1.27249897e-01]], dtype=float32)>"
      ]
     },
     "execution_count": 7,
     "metadata": {},
     "output_type": "execute_result"
    }
   ],
   "source": [
    "model = \"https://tfhub.dev/google/nnlm-en-dim128-with-normalization/2\"\n",
    "hub_layer = hub.KerasLayer(model, input_shape=[], dtype=tf.string, trainable=True)\n",
    "hub_layer(train_examples[:3])"
   ]
  },
  {
   "cell_type": "markdown",
   "metadata": {},
   "source": [
    "## Build the model"
   ]
  },
  {
   "cell_type": "code",
   "execution_count": 8,
   "metadata": {},
   "outputs": [
    {
     "name": "stdout",
     "output_type": "stream",
     "text": [
      "Model: \"sequential\"\n",
      "_________________________________________________________________\n",
      "Layer (type)                 Output Shape              Param #   \n",
      "=================================================================\n",
      "keras_layer (KerasLayer)     (None, 128)               124642688 \n",
      "_________________________________________________________________\n",
      "dense (Dense)                (None, 16)                2064      \n",
      "_________________________________________________________________\n",
      "dense_1 (Dense)              (None, 1)                 17        \n",
      "=================================================================\n",
      "Total params: 124,644,769\n",
      "Trainable params: 124,644,769\n",
      "Non-trainable params: 0\n",
      "_________________________________________________________________\n"
     ]
    }
   ],
   "source": [
    "model = tf.keras.Sequential()\n",
    "model.add(hub_layer)\n",
    "model.add(tf.keras.layers.Dense(16, activation='relu'))\n",
    "model.add(tf.keras.layers.Dense(1))\n",
    "\n",
    "model.summary()"
   ]
  },
  {
   "cell_type": "code",
   "execution_count": 17,
   "metadata": {},
   "outputs": [
    {
     "data": {
      "image/png": "[encoded data removed]",
      "text/plain": [
       "<IPython.core.display.Image object>"
      ]
     },
     "execution_count": 17,
     "metadata": {},
     "output_type": "execute_result"
    }
   ],
   "source": [
    "from tensorflow import keras\n",
    "from keras.utils.vis_utils import plot_model\n",
    "\n",
    "keras.utils.plot_model(model, to_file='model.png', show_layer_names=True)"
   ]
  },
  {
   "cell_type": "markdown",
   "metadata": {},
   "source": [
    "### Loss Function and Optimizer"
   ]
  },
  {
   "cell_type": "code",
   "execution_count": 10,
   "metadata": {},
   "outputs": [],
   "source": [
    "model.compile(optimizer='adam',\n",
    "              loss=tf.losses.BinaryCrossentropy(from_logits=True),\n",
    "              metrics=[tf.metrics.BinaryAccuracy(threshold=0.0, name='accuracy')])"
   ]
  },
  {
   "cell_type": "markdown",
   "metadata": {},
   "source": [
    "### Validation Set"
   ]
  },
  {
   "cell_type": "code",
   "execution_count": 11,
   "metadata": {},
   "outputs": [],
   "source": [
    "x_val = train_examples[:31500]\n",
    "partial_x_train = train_examples[31500:]\n",
    "\n",
    "y_val = train_labels[:31500]\n",
    "partial_y_train = train_labels[31500:]"
   ]
  },
  {
   "cell_type": "markdown",
   "metadata": {},
   "source": [
    "## Train the Model"
   ]
  },
  {
   "cell_type": "code",
   "execution_count": 12,
   "metadata": {},
   "outputs": [
    {
     "name": "stdout",
     "output_type": "stream",
     "text": [
      "Epoch 1/40\n",
      "9/9 [==============================] - 11s 1s/step - loss: 0.6702 - accuracy: 0.5345 - val_loss: 0.5418 - val_accuracy: 0.7012\n",
      "Epoch 2/40\n",
      "9/9 [==============================] - 10s 1s/step - loss: 0.5036 - accuracy: 0.8048 - val_loss: 0.4160 - val_accuracy: 0.9142\n",
      "Epoch 3/40\n",
      "9/9 [==============================] - 10s 1s/step - loss: 0.3733 - accuracy: 0.9354 - val_loss: 0.3134 - val_accuracy: 0.9403\n",
      "Epoch 4/40\n",
      "9/9 [==============================] - 10s 1s/step - loss: 0.2682 - accuracy: 0.9590 - val_loss: 0.2388 - val_accuracy: 0.9509\n",
      "Epoch 5/40\n",
      "9/9 [==============================] - 10s 1s/step - loss: 0.1887 - accuracy: 0.9734 - val_loss: 0.1864 - val_accuracy: 0.9607\n",
      "Epoch 6/40\n",
      "9/9 [==============================] - 10s 1s/step - loss: 0.1349 - accuracy: 0.9822 - val_loss: 0.1522 - val_accuracy: 0.9665\n",
      "Epoch 7/40\n",
      "9/9 [==============================] - 10s 1s/step - loss: 0.0958 - accuracy: 0.9908 - val_loss: 0.1275 - val_accuracy: 0.9712\n",
      "Epoch 8/40\n",
      "9/9 [==============================] - 10s 1s/step - loss: 0.0707 - accuracy: 0.9930 - val_loss: 0.1115 - val_accuracy: 0.9739\n",
      "Epoch 9/40\n",
      "9/9 [==============================] - 10s 1s/step - loss: 0.0555 - accuracy: 0.9955 - val_loss: 0.0991 - val_accuracy: 0.9754\n",
      "Epoch 10/40\n",
      "9/9 [==============================] - 10s 1s/step - loss: 0.0395 - accuracy: 0.9982 - val_loss: 0.0906 - val_accuracy: 0.9768\n",
      "Epoch 11/40\n",
      "9/9 [==============================] - 10s 1s/step - loss: 0.0311 - accuracy: 0.9987 - val_loss: 0.0845 - val_accuracy: 0.9775\n",
      "Epoch 12/40\n",
      "9/9 [==============================] - 10s 1s/step - loss: 0.0240 - accuracy: 0.9998 - val_loss: 0.0797 - val_accuracy: 0.9780\n",
      "Epoch 13/40\n",
      "9/9 [==============================] - 10s 1s/step - loss: 0.0208 - accuracy: 0.9991 - val_loss: 0.0761 - val_accuracy: 0.9783\n",
      "Epoch 14/40\n",
      "9/9 [==============================] - 10s 1s/step - loss: 0.0157 - accuracy: 0.9999 - val_loss: 0.0735 - val_accuracy: 0.9784\n",
      "Epoch 15/40\n",
      "9/9 [==============================] - 10s 1s/step - loss: 0.0129 - accuracy: 0.9999 - val_loss: 0.0718 - val_accuracy: 0.9784\n",
      "Epoch 16/40\n",
      "9/9 [==============================] - 10s 1s/step - loss: 0.0114 - accuracy: 0.9998 - val_loss: 0.0698 - val_accuracy: 0.9788\n",
      "Epoch 17/40\n",
      "9/9 [==============================] - 10s 1s/step - loss: 0.0096 - accuracy: 0.9998 - val_loss: 0.0684 - val_accuracy: 0.9790\n",
      "Epoch 18/40\n",
      "9/9 [==============================] - 10s 1s/step - loss: 0.0081 - accuracy: 0.9997 - val_loss: 0.0671 - val_accuracy: 0.9794\n",
      "Epoch 19/40\n",
      "9/9 [==============================] - 10s 1s/step - loss: 0.0067 - accuracy: 1.0000 - val_loss: 0.0658 - val_accuracy: 0.9791\n",
      "Epoch 20/40\n",
      "9/9 [==============================] - 11s 1s/step - loss: 0.0057 - accuracy: 1.0000 - val_loss: 0.0650 - val_accuracy: 0.9791\n",
      "Epoch 21/40\n",
      "9/9 [==============================] - 11s 1s/step - loss: 0.0046 - accuracy: 1.0000 - val_loss: 0.0645 - val_accuracy: 0.9791\n",
      "Epoch 22/40\n",
      "9/9 [==============================] - 11s 1s/step - loss: 0.0039 - accuracy: 1.0000 - val_loss: 0.0642 - val_accuracy: 0.9793\n",
      "Epoch 23/40\n",
      "9/9 [==============================] - 11s 1s/step - loss: 0.0035 - accuracy: 1.0000 - val_loss: 0.0640 - val_accuracy: 0.9794\n",
      "Epoch 24/40\n",
      "9/9 [==============================] - 11s 1s/step - loss: 0.0030 - accuracy: 1.0000 - val_loss: 0.0638 - val_accuracy: 0.9794\n",
      "Epoch 25/40\n",
      "9/9 [==============================] - 11s 1s/step - loss: 0.0028 - accuracy: 1.0000 - val_loss: 0.0636 - val_accuracy: 0.9795\n",
      "Epoch 26/40\n",
      "9/9 [==============================] - 11s 1s/step - loss: 0.0026 - accuracy: 1.0000 - val_loss: 0.0636 - val_accuracy: 0.9795\n",
      "Epoch 27/40\n",
      "9/9 [==============================] - 11s 1s/step - loss: 0.0023 - accuracy: 1.0000 - val_loss: 0.0635 - val_accuracy: 0.9796\n",
      "Epoch 28/40\n",
      "9/9 [==============================] - 11s 1s/step - loss: 0.0020 - accuracy: 1.0000 - val_loss: 0.0635 - val_accuracy: 0.9797\n",
      "Epoch 29/40\n",
      "9/9 [==============================] - 11s 1s/step - loss: 0.0019 - accuracy: 1.0000 - val_loss: 0.0635 - val_accuracy: 0.9797\n",
      "Epoch 30/40\n",
      "9/9 [==============================] - 11s 1s/step - loss: 0.0018 - accuracy: 1.0000 - val_loss: 0.0635 - val_accuracy: 0.9796\n",
      "Epoch 31/40\n",
      "9/9 [==============================] - 11s 1s/step - loss: 0.0016 - accuracy: 1.0000 - val_loss: 0.0635 - val_accuracy: 0.9798\n",
      "Epoch 32/40\n",
      "9/9 [==============================] - 10s 1s/step - loss: 0.0014 - accuracy: 1.0000 - val_loss: 0.0635 - val_accuracy: 0.9798\n",
      "Epoch 33/40\n",
      "9/9 [==============================] - 11s 1s/step - loss: 0.0013 - accuracy: 1.0000 - val_loss: 0.0635 - val_accuracy: 0.9798\n",
      "Epoch 34/40\n",
      "9/9 [==============================] - 11s 1s/step - loss: 0.0012 - accuracy: 1.0000 - val_loss: 0.0636 - val_accuracy: 0.9798\n",
      "Epoch 35/40\n",
      "9/9 [==============================] - 11s 1s/step - loss: 0.0012 - accuracy: 1.0000 - val_loss: 0.0636 - val_accuracy: 0.9797\n",
      "Epoch 36/40\n",
      "9/9 [==============================] - 11s 1s/step - loss: 0.0011 - accuracy: 1.0000 - val_loss: 0.0637 - val_accuracy: 0.9797\n",
      "Epoch 37/40\n",
      "9/9 [==============================] - 11s 1s/step - loss: 0.0010 - accuracy: 1.0000 - val_loss: 0.0637 - val_accuracy: 0.9797\n",
      "Epoch 38/40\n",
      "9/9 [==============================] - 11s 1s/step - loss: 9.6664e-04 - accuracy: 1.0000 - val_loss: 0.0638 - val_accuracy: 0.9798\n",
      "Epoch 39/40\n",
      "9/9 [==============================] - 11s 1s/step - loss: 9.2564e-04 - accuracy: 1.0000 - val_loss: 0.0638 - val_accuracy: 0.9797\n",
      "Epoch 40/40\n",
      "9/9 [==============================] - 11s 1s/step - loss: 8.4386e-04 - accuracy: 1.0000 - val_loss: 0.0639 - val_accuracy: 0.9797\n"
     ]
    }
   ],
   "source": [
    "history = model.fit(partial_x_train,\n",
    "                    partial_y_train,\n",
    "                    epochs=40,\n",
    "                    batch_size=512,\n",
    "                    validation_data=(x_val, y_val),\n",
    "                    verbose=1)"
   ]
  },
  {
   "cell_type": "markdown",
   "metadata": {},
   "source": [
    "## Evaluate the model"
   ]
  },
  {
   "cell_type": "code",
   "execution_count": 13,
   "metadata": {},
   "outputs": [
    {
     "name": "stdout",
     "output_type": "stream",
     "text": [
      "281/281 [==============================] - 2s 5ms/step - loss: 0.0622 - accuracy: 0.9806\n"
     ]
    },
    {
     "data": {
      "text/plain": [
       "[0.06216132268309593, 0.9806236028671265]"
      ]
     },
     "execution_count": 13,
     "metadata": {},
     "output_type": "execute_result"
    }
   ],
   "source": [
    "results = model.evaluate(test_examples, test_labels)\n",
    "results"
   ]
  },
  {
   "cell_type": "markdown",
   "metadata": {},
   "source": [
    "### Create a graph of accuracy and loss over time"
   ]
  },
  {
   "cell_type": "code",
   "execution_count": 14,
   "metadata": {},
   "outputs": [
    {
     "data": {
      "text/plain": [
       "dict_keys(['loss', 'accuracy', 'val_loss', 'val_accuracy'])"
      ]
     },
     "execution_count": 14,
     "metadata": {},
     "output_type": "execute_result"
    }
   ],
   "source": [
    "history_dict = history.history\n",
    "history_dict.keys()"
   ]
  },
  {
   "cell_type": "code",
   "execution_count": 15,
   "metadata": {},
   "outputs": [
    {
     "data": {
      "image/png": "[encoded data removed]",
      "text/plain": [
       "<Figure size 432x288 with 1 Axes>"
      ]
     },
     "metadata": {
      "needs_background": "light"
     },
     "output_type": "display_data"
    }
   ],
   "source": [
    "acc = history_dict['accuracy']\n",
    "val_acc = history_dict['val_accuracy']\n",
    "loss = history_dict['loss']\n",
    "val_loss = history_dict['val_loss']\n",
    "\n",
    "epochs = range(1, len(acc) + 1)\n",
    "\n",
    "# \"bo\" is for \"blue dot\"\n",
    "plt.plot(epochs, loss, 'bo', label='Training loss')\n",
    "# b is for \"solid blue line\"\n",
    "plt.plot(epochs, val_loss, 'b', label='Validation loss')\n",
    "plt.title('Training and validation loss')\n",
    "plt.xlabel('Epochs')\n",
    "plt.ylabel('Loss')\n",
    "plt.legend()\n",
    "\n",
    "plt.show()"
   ]
  },
  {
   "cell_type": "code",
   "execution_count": 16,
   "metadata": {},
   "outputs": [
    {
     "data": {
      "image/png": "[encoded data removed]",
      "text/plain": [
       "<Figure size 432x288 with 1 Axes>"
      ]
     },
     "metadata": {
      "needs_background": "light"
     },
     "output_type": "display_data"
    }
   ],
   "source": [
    "plt.clf()   # clear figure\n",
    "\n",
    "plt.plot(epochs, acc, 'bo', label='Training acc')\n",
    "plt.plot(epochs, val_acc, 'b', label='Validation acc')\n",
    "plt.title('Training and validation accuracy')\n",
    "plt.xlabel('Epochs')\n",
    "plt.ylabel('Accuracy')\n",
    "plt.legend()\n",
    "\n",
    "plt.show()"
   ]
  },
  {
   "cell_type": "markdown",
   "metadata": {},
   "source": [
    "Ref: https://www.tensorflow.org/hub/tutorials/tf2_text_classification"
   ]
  }
 ],
 "metadata": {
  "kernelspec": {
   "display_name": "myenv",
   "language": "python",
   "name": "myenv"
  },
  "language_info": {
   "codemirror_mode": {
    "name": "ipython",
    "version": 3
   },
   "file_extension": ".py",
   "mimetype": "text/x-python",
   "name": "python",
   "nbconvert_exporter": "python",
   "pygments_lexer": "ipython3",
   "version": "3.8.8"
  }
 },
 "nbformat": 4,
 "nbformat_minor": 4
}
