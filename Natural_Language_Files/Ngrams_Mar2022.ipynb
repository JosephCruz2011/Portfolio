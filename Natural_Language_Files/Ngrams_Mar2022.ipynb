{
 "cells": [
  {
   "cell_type": "markdown",
   "metadata": {},
   "source": [
    "# N-Grams\n",
    "\n",
    "An n-Gram is a sequence of *n* words. N-gram models provide information about text by finding probabilistic distributions over word sequences.  It can help identify themeses quickly.  Some NLP applications that use N-Grams are:\n",
    "* speech recognition\n",
    "* machine translation\n",
    "* predictive text input"
   ]
  },
  {
   "cell_type": "markdown",
   "metadata": {},
   "source": [
    "## Unigram model\n",
    "A unigram model is a model that uses a one word sequence.  Also, called **bag-of-word** model.  The example below uses a [Python Counter object](https://docs.python.org/3/library/collections.html#collections.Counter)."
   ]
  },
  {
   "cell_type": "code",
   "execution_count": 1,
   "metadata": {},
   "outputs": [
    {
     "name": "stdout",
     "output_type": "stream",
     "text": [
      "number of tokens 1161192\n"
     ]
    }
   ],
   "source": [
    "from nltk.corpus import brown\n",
    "from collections import Counter\n",
    "\n",
    "print(\"number of tokens {}\".format(len(brown.words())))"
   ]
  },
  {
   "cell_type": "code",
   "execution_count": 2,
   "metadata": {},
   "outputs": [
    {
     "name": "stdout",
     "output_type": "stream",
     "text": [
      "Counter Object\n",
      "size: 56057\n",
      "tokens: 1161192\n"
     ]
    }
   ],
   "source": [
    "counts = Counter(brown.words())\n",
    "print(\"Counter Object\")\n",
    "print(\"size: {}\".format(len(counts)))\n",
    "total_count = sum(counts.values())\n",
    "print(\"tokens: {}\".format(total_count))"
   ]
  },
  {
   "cell_type": "code",
   "execution_count": 3,
   "metadata": {},
   "outputs": [
    {
     "name": "stdout",
     "output_type": "stream",
     "text": [
      "The word 'the' appears 62713 times\n",
      "The word 'The' appears 7258 times\n",
      "\n",
      "the 62713\n",
      ", 58334\n",
      ". 49346\n",
      "of 36080\n",
      "and 27915\n",
      "to 25732\n",
      "a 21881\n",
      "in 19536\n",
      "that 10237\n",
      "is 10011\n",
      "was 9777\n",
      "for 8841\n",
      "`` 8837\n",
      "'' 8789\n",
      "The 7258\n",
      "with 7012\n",
      "it 6723\n",
      "as 6706\n",
      "he 6566\n",
      "his 6466\n",
      "\n",
      "0.05400743374050114\n"
     ]
    }
   ],
   "source": [
    "print(\"The word 'the' appears {} times\".format(counts['the'])) #the number of times 'the' appears\n",
    "print(\"The word 'The' appears {} times\".format(counts['The'])) #the number of times 'the' appears\n",
    "print()\n",
    "\n",
    "#20 most common words\n",
    "most_common = counts.most_common(n=20)\n",
    "for word, value in most_common:\n",
    "    print(word, value)\n",
    "print()\n",
    "\n",
    "# frequencies\n",
    "for word in counts:\n",
    "    counts[word] /= float(total_count)\n",
    "\n",
    "print(counts['the']) #frequency of the word 'the'\n"
   ]
  },
  {
   "cell_type": "markdown",
   "metadata": {},
   "source": [
    "We can generate a simple random sentence from the 1000 most common words."
   ]
  },
  {
   "cell_type": "code",
   "execution_count": 4,
   "metadata": {},
   "outputs": [
    {
     "name": "stdout",
     "output_type": "stream",
     "text": [
      "students shot section results slowly going respect all still New what months Yet state wanted spirit two don't foreign\n"
     ]
    }
   ],
   "source": [
    "import random\n",
    "\n",
    "vocab = counts.most_common(n=1000)\n",
    "sent_len = random.randint(10, 20) # a sentence is generally between 10 and 20 words\n",
    "text = []\n",
    "\n",
    "for pos in range(sent_len):\n",
    "    nextword, count = random.choice(vocab)\n",
    "    text.append(nextword)\n",
    "\n",
    "sentence = ' '.join(text)\n",
    "print(sentence)"
   ]
  },
  {
   "cell_type": "markdown",
   "metadata": {},
   "source": [
    "Scikit-learn’s [CountVectorizer](https://scikit-learn.org/stable/modules/generated/sklearn.feature_extraction.text.CountVectorizer.html) converst a list of words to a vector of word/token counts. Converts tokens to lowercase by default. Begin by creating a corpus containing a single document."
   ]
  },
  {
   "cell_type": "code",
   "execution_count": 5,
   "metadata": {},
   "outputs": [],
   "source": [
    "from sklearn.feature_extraction.text import CountVectorizer\n",
    "\n",
    "f = open(\"data/news.txt\", \"r\")\n",
    "news_text = f.read()\n",
    "corpus = [news_text,] #corpus with a single document"
   ]
  },
  {
   "cell_type": "markdown",
   "metadata": {},
   "source": [
    "Instantiate vectorizer.  Function `fit` learns the vocabulary. The `vocabulary_` attribute contains each word and its index."
   ]
  },
  {
   "cell_type": "code",
   "execution_count": 6,
   "metadata": {},
   "outputs": [
    {
     "name": "stdout",
     "output_type": "stream",
     "text": [
      "{'after': 18, 'days': 112, 'of': 271, 'living': 224, 'in': 196, 'the': 380, 'dark': 111, 'crude': 102, 'conditions': 94, 'millions': 249, 'texans': 376, 'had': 174, 'their': 381, 'power': 303, 'restored': 328, 'on': 275, 'thursday': 391, 'bringing': 68, 'some': 352, 'relief': 315, 'amid': 28, 'arctic': 39, 'blast': 64, 'that': 379, 'brought': 69, 'state': 360, 'water': 421, 'and': 30, 'infrastructure': 199, 'to': 393, 'its': 203, 'knees': 209, 'early': 129, 'morning': 253, 'nearly': 258, 'half': 175, 'million': 248, 'residents': 324, 'were': 427, 'without': 440, 'electricity': 134, 'but': 70, 'by': 71, 'midday': 243, 'just': 206, 'under': 408, '350': 7, '000': 0, 'remained': 317, 'according': 14, 'poweroutage': 304, 'us': 411, 'which': 433, 'tracks': 399, 'outages': 285, 'across': 15, 'country': 98, 'electric': 133, 'reliability': 314, 'council': 97, 'texas': 377, 'manages': 233, 'most': 254, 'grid': 173, 'said': 334, 'it': 202, 'made': 231, 'significant': 347, 'progress': 309, 'overnight': 288, 'restoring': 329, 'customer': 103, 'although': 27, 'still': 363, 'remain': 316, 'throughout': 390, 'however': 191, 'ercot': 139, 'noted': 268, 'despite': 119, 'lights': 219, 'back': 53, 'energy': 136, 'emergency': 135, 'as': 46, 'operator': 279, 'transmission': 401, 'owners': 289, 'work': 443, 'restore': 327, 'remaining': 318, 'customers': 104, 'are': 40, 'we': 422, 're': 311, 'point': 299, 'load': 225, 'restoration': 326, 'where': 432, 'allowing': 23, 'bring': 67, 'any': 33, 'they': 386, 'can': 73, 'related': 313, 'this': 387, 'shed': 343, 'event': 143, 'senior': 340, 'director': 123, 'system': 371, 'operations': 278, 'dan': 109, 'woodfin': 442, 'will': 437, 'keep': 207, 'working': 444, 'around': 45, 'clock': 88, 'until': 409, 'every': 145, 'single': 348, 'has': 176, 'areas': 42, 'distribution': 124, 'systems': 372, 'damaged': 108, 'ice': 194, 'storms': 365, 'may': 238, 'be': 56, 'experiencing': 150, 'loss': 228, 'additionally': 16, 'large': 215, 'industrial': 198, 'facilities': 152, 'voluntarily': 416, 'went': 426, 'offline': 274, 'help': 181, 'alleviate': 22, 'pressure': 308, 'overloaded': 287, 'also': 26, 'houston': 190, 'more': 252, 'than': 378, '99': 9, 'centerpoint': 80, 'have': 177, 'regained': 312, 'company': 91, 'is': 201, 'urging': 410, 'cautious': 79, 'continue': 96, 'repairing': 319, 'equipment': 138, 'severe': 342, 'weather': 423, 'ask': 47, 'you': 449, 'conserving': 95, 'lower': 230, 'your': 450, 'thermostat': 384, 'avoid': 52, 'using': 412, 'appliances': 37, 'tweeted': 404, 'local': 226, 'time': 392, 'approximately': 38, '20': 3, 'arlington': 44, 'fort': 160, 'worth': 445, 'tyler': 405, 'been': 58, 'ordered': 281, 'boil': 65, 'drinking': 125, 'knocked': 211, 'treatment': 402, 'plants': 298, 'statewide': 361, 'fallen': 154, 'because': 57, 'frozen': 162, 'lines': 222, 'toby': 394, 'baker': 54, 'executive': 146, 'commission': 90, 'environmental': 137, 'quality': 310, 'speaking': 357, 'npr': 270, 'edition': 130, 'mayor': 239, 'mansfield': 234, 'michael': 242, 'evans': 140, 'described': 118, 'crisis': 101, 'life': 218, 'or': 280, 'death': 113, 'caught': 77, 'middle': 244, 'something': 353, 'here': 183, 'there': 383, 'individuals': 197, 'who': 435, 'not': 267, 'for': 159, 'about': 11, 'now': 269, 'zero': 451, 'degrees': 117, 'suburb': 368, 'dallas': 107, 'area': 41, 'he': 179, 'neighbors': 260, 'churches': 84, 'pitched': 297, 'people': 294, 'whose': 436, 'homes': 186, 'no': 264, 'concern': 93, 'over': 286, 'ongoing': 277, 'covid': 100, '19': 2, 'pandemic': 290, 'was': 420, 'talking': 373, 'with': 439, 'family': 155, 'yesterday': 447, 'knew': 210, 'these': 385, 'temperature': 374, 'home': 185, '32': 6, 'so': 351, 'what': 430, 'did': 121, 'all': 21, 'masks': 237, 'gloves': 166, 'one': 276, 'side': 346, 'house': 189, 'while': 434, 'other': 283, 'gov': 169, 'greg': 172, 'abbott': 10, 'wednesday': 424, 'austin': 51, 'called': 72, 'top': 396, 'executives': 147, 'at': 49, 'resign': 325, 'source': 354, 'access': 12, 'compromised': 92, 'ultra': 406, 'cold': 89, 'failures': 153, 'nationwide': 257, '30': 5, 'deaths': 114, 'blamed': 63, 'week': 425, 'died': 122, 'trying': 403, 'stay': 362, 'warm': 417, 'succumbed': 369, 'carbon': 75, 'monoxide': 251, 'poisoning': 300, 'from': 161, 'car': 74, 'exhaust': 148, 'garage': 164, 'another': 31, 'grandmother': 171, 'three': 388, 'her': 182, 'grandchildren': 170, 'fire': 156, 'cause': 78, 'yet': 448, 'determined': 120, 'chronicle': 83, 'reports': 321, 'fireplace': 157, 'out': 284, 'national': 256, 'service': 341, 'winter': 438, 'storm': 364, 'warnings': 419, 'effect': 132, 'san': 335, 'antonio': 32, 'west': 428, 'mexico': 241, 'border': 66, 'starting': 359, 'an': 29, 'unbroken': 407, 'band': 55, 'extended': 151, 'hundreds': 192, 'miles': 247, 'through': 389, 'northern': 266, 'louisiana': 229, 'central': 81, 'arkansas': 43, 'parts': 291, 'mississippi': 250, 'tennessee': 375, 'kentucky': 208, 'north': 265, 'carolina': 76, 'virginia': 415, 'western': 429, 'maryland': 236, 'pennsylvania': 293, 'new': 261, 'jersey': 204, 'heavy': 180, 'snow': 350, 'expected': 149, 'appalachians': 36, 'southern': 355, 'meanwhile': 240, 'oregon': 282, 'advisories': 17, 'cover': 99, 'much': 255, '100': 1, 'began': 60, 'associated': 48, 'press': 307, 'portland': 302, 'supermarket': 370, 'tossed': 397, 'perishable': 295, 'food': 158, 'into': 200, 'dumpsters': 127, 'leading': 216, 'clash': 85, 'between': 62, 'scavengers': 338, 'police': 301, 'dangerous': 110, 've': 414, 'ever': 144, 'seen': 339, 'history': 184, 'pge': 296, 'dale': 106, 'goodman': 168, 'utility': 413, 'general': 165, 'declined': 116, 'predict': 305, 'when': 431, 'would': 446, 'ap': 35, 'john': 205, 'bel': 61, 'edwards': 131, 'requested': 322, 'presidential': 306, 'declaration': 115, 'evening': 142, 'shreveport': 345, 'la': 213, 'officials': 273, 'warning': 418, 'might': 245, 'saturday': 336, 'before': 59, 'cut': 105, 'off': 272, 'due': 126, 'fully': 163, 'lake': 214, 'charles': 82, 'southwest': 356, 'nic': 263, 'hunter': 193, 'scarce': 337, 'hospitals': 188, 'need': 259, 'transfer': 400, 'patients': 292, 'afternoon': 19, '22': 4, 'road': 330, 'accidents': 13, 'along': 24, 'mile': 246, 'stretch': 367, '40': 8, 'runs': 333, 'little': 223, 'rock': 332, 'lexington': 217, 'ky': 212, 'reported': 320, 'sleet': 349, 'many': 235, 'streets': 366, 'cleared': 86, 'earlier': 128, 'attention': 50, 'likely': 221, 'shift': 344, 'again': 20, 'major': 232, 'roads': 331, 'look': 227, 'like': 220, 'haven': 178, 'even': 141, 'touched': 398, 'resident': 323, 'stacy': 358, 'hoskins': 187, 'told': 395, 'wkyt': 441, 'news': 262, 'if': 195, 'clearing': 87, 'already': 25, 'then': 382, 'going': 167, 'anywhere': 34}\n"
     ]
    }
   ],
   "source": [
    "vectorizer = CountVectorizer()\n",
    "vec=vectorizer.fit(corpus)\n",
    "print(vec.vocabulary_)"
   ]
  },
  {
   "cell_type": "markdown",
   "metadata": {},
   "source": [
    "Function `transform` creates a word document matrix."
   ]
  },
  {
   "cell_type": "code",
   "execution_count": 9,
   "metadata": {},
   "outputs": [
    {
     "name": "stdout",
     "output_type": "stream",
     "text": [
      "(1, 452)\n",
      "[[ 3  1  1  1  1  2  1  1  1  1  1  1  1  1  2  1  1  1  4  1  1  2  1  1\n",
      "   1  1  2  2  1  1 17  1  1  1  1  1  1  1  1  1  4  1  1  2  1  1  4  1\n",
      "   1  2  1  1  1  3  1  1  5  3 10  1  1  1  1  1  1  1  1  1  2  2  2  3\n",
      "   1  1  1  1  1  1  1  1  2  1  1  1  1  1  1  1  1  1  1  1  1  1  3  1\n",
      "   2  1  1  1  1  1  1  2  4  1  1  1  2  1  1  1  2  1  1  1  1  2  1  2\n",
      "   1  1  2  3  1  1  1  1  1  1  1  1  1  2  7  2  3  1  2  3  3  1  1  1\n",
      "   1  2  1  1  1  2  1  1  1  1  1  2  2  1  1  2  2  3  1  1  1  1  1  1\n",
      "   1  2  1  1  1  4  9  1  5  9  2  3  1  2  1  1  1  1  2  1  1  3  5  1\n",
      "   1  1  2  1 27  2  1  1  1  2  3  1  1  1  2  2  1  1  1  1  1  1  1  1\n",
      "   1  1  1  1  1  1  1  1  1  3  2  1  1  3  1  1  1  1  2  1  2  1  2  2\n",
      "   1  1  1  1  1  2  1  1  2  1  1  1  4  3  2  1  2  1  1  1  1  1  1  1\n",
      "   1  1  2  2  1  1  1 30  1  1  2 12  2  1  2  2  3  1  1  2  3  6  2  1\n",
      "   1  2  1  1  1  2  3  1  1  1  1  1  1  2  2 14  1  1  1  1  2  1  1  2\n",
      "   1  2  1  1  3  2  1  1  1  2  1  1  5  1  1  1  3  1  1  2  1  1 13  1\n",
      "   1  1  1  1  1  3  1  1  1  1  4  1  1  1  2  1  4  1  1  1  1  2  1  1\n",
      "   9  1  1  5  1  2  1  1  2  1  1  1  1  1  2  1  1  6  3 13 52  8  1  3\n",
      "   1  2  8  3  1  2  1  4  1 25  1  1  1  1  1  1  1  2  1  1  1  1  1  1\n",
      "   1  1  1  1  2  1  1  2  1  2  1  2  5  5  7  6  4  3  2  5  2  1  1  1\n",
      "   4  3  1  2  1  1  3  2  6  1  2  1  1  2  1  1  2  3  1  1]]\n"
     ]
    }
   ],
   "source": [
    "matrix = vec.transform(corpus)\n",
    "print(matrix.shape)\n",
    "counts = matrix.toarray() \n",
    "print(counts)"
   ]
  },
  {
   "cell_type": "markdown",
   "metadata": {},
   "source": [
    "Identify the most frequent words."
   ]
  },
  {
   "cell_type": "code",
   "execution_count": 10,
   "metadata": {},
   "outputs": [
    {
     "name": "stdout",
     "output_type": "stream",
     "text": [
      "[('the', 52), ('of', 30), ('in', 27), ('to', 25), ('and', 17), ('power', 14), ('that', 13), ('said', 13), ('on', 12), ('been', 10)]\n"
     ]
    }
   ],
   "source": [
    "words_freq = [(word, counts[0, idx]) for word, idx in vec.vocabulary_.items()]\n",
    "words_freq =sorted(words_freq, key = lambda freq: freq[1], reverse=True) #sort by word count\n",
    "print(words_freq[:10])"
   ]
  },
  {
   "cell_type": "markdown",
   "metadata": {},
   "source": [
    "## Bigram Model\n",
    "\n",
    "Bigrams are two word sequences. When using the NLTK bigrams library, the `pad` arguments allow us to capture bigrams at the beginning and end of a sentence."
   ]
  },
  {
   "cell_type": "code",
   "execution_count": 17,
   "metadata": {},
   "outputs": [
    {
     "data": {
      "text/plain": [
       "[(None, 'After'),\n",
       " ('After', 'days'),\n",
       " ('days', 'of'),\n",
       " ('of', 'living'),\n",
       " ('living', 'in'),\n",
       " ('in', 'the'),\n",
       " ('the', 'dark'),\n",
       " ('dark', 'in'),\n",
       " ('in', 'crude'),\n",
       " ('crude', 'conditions'),\n",
       " ('conditions', ','),\n",
       " (',', 'millions'),\n",
       " ('millions', 'of'),\n",
       " ('of', 'Texans'),\n",
       " ('Texans', 'had'),\n",
       " ('had', 'their'),\n",
       " ('their', 'power'),\n",
       " ('power', 'restored'),\n",
       " ('restored', 'on'),\n",
       " ('on', 'Thursday'),\n",
       " ('Thursday', ','),\n",
       " (',', 'bringing'),\n",
       " ('bringing', 'some'),\n",
       " ('some', 'relief'),\n",
       " ('relief', 'amid'),\n",
       " ('amid', 'the'),\n",
       " ('the', 'arctic'),\n",
       " ('arctic', 'blast'),\n",
       " ('blast', 'that'),\n",
       " ('that', 'brought'),\n",
       " ('brought', 'the'),\n",
       " ('the', 'state'),\n",
       " ('state', \"'s\"),\n",
       " (\"'s\", 'water'),\n",
       " ('water', 'and'),\n",
       " ('and', 'power'),\n",
       " ('power', 'infrastructure'),\n",
       " ('infrastructure', 'to'),\n",
       " ('to', 'its'),\n",
       " ('its', 'knees'),\n",
       " ('knees', '.'),\n",
       " ('.', None)]"
      ]
     },
     "execution_count": 17,
     "metadata": {},
     "output_type": "execute_result"
    }
   ],
   "source": [
    "from nltk import bigrams\n",
    "from nltk import sent_tokenize\n",
    "from nltk import word_tokenize\n",
    "\n",
    "sentences = sent_tokenize(news_text)\n",
    "tokenized_sentences = [word_tokenize(sentence) for sentence in sentences]\n",
    "list(bigrams(tokenized_sentences[0], pad_left=True, pad_right=True))"
   ]
  },
  {
   "cell_type": "markdown",
   "metadata": {},
   "source": [
    "The code below accumulates bigram counts.  The counts are stored in a *default dictionary* which provides a default value for a key that does nto exist.  You can read more about default dictionaries in section 3.4 of [Chapter 5 in the NLTK book](http://www.nltk.org/book/ch05.html)."
   ]
  },
  {
   "cell_type": "code",
   "execution_count": 18,
   "metadata": {},
   "outputs": [
    {
     "name": "stdout",
     "output_type": "stream",
     "text": [
      "8\n",
      "0\n",
      "3\n"
     ]
    }
   ],
   "source": [
    "from collections import defaultdict\n",
    "counts_dict = defaultdict(int)\n",
    "for sentence in tokenized_sentences:\n",
    "    for bigram in bigrams(sentence, pad_right=True, pad_left=True):\n",
    "        counts_dict[bigram] += 1\n",
    "print (counts_dict[(\"the\",\"state\")] )\n",
    "print (counts_dict[(\"the\", \"xyz\")])\n",
    "print(counts_dict[(None, \"The\")])"
   ]
  },
  {
   "cell_type": "markdown",
   "metadata": {},
   "source": [
    "Sort by frequency to find the most common bigrams."
   ]
  },
  {
   "cell_type": "code",
   "execution_count": 19,
   "metadata": {},
   "outputs": [
    {
     "name": "stdout",
     "output_type": "stream",
     "text": [
      "[(('.', None), 35), ((None, '``'), 10), (('of', 'the'), 9), (('in', 'the'), 8), (('the', 'state'), 8), ((',', \"''\"), 8), (('said', '.'), 6), ((None, 'In'), 5), ((',', 'the'), 5), (('.', \"''\"), 4)]\n"
     ]
    }
   ],
   "source": [
    "bigrams_list = [(bigram, counts_dict[bigram]) for bigram in counts_dict.keys()]\n",
    "bigrams_sorted =sorted(bigrams_list, key = lambda freq: freq[1], reverse=True) #sort by bigram count\n",
    "top_10_bigrams= bigrams_sorted[:10]\n",
    "print(top_10_bigrams)"
   ]
  },
  {
   "cell_type": "markdown",
   "metadata": {},
   "source": [
    "### Visualize"
   ]
  },
  {
   "cell_type": "code",
   "execution_count": 22,
   "metadata": {},
   "outputs": [
    {
     "name": "stdout",
     "output_type": "stream",
     "text": [
      "['. None', 'None ``', 'of the', 'in the', 'the state', \", ''\", 'said .', 'None In', ', the', \". ''\"] [35, 10, 9, 8, 8, 8, 6, 5, 5, 4]\n"
     ]
    },
    {
     "data": {
      "text/plain": [
       "<matplotlib.axes._subplots.AxesSubplot at 0x7fcd2956a850>"
      ]
     },
     "execution_count": 22,
     "metadata": {},
     "output_type": "execute_result"
    },
    {
     "data": {
      "image/png": "[encoded data removed]",
      "text/plain": [
       "<Figure size 720x720 with 1 Axes>"
      ]
     },
     "metadata": {
      "needs_background": "light"
     },
     "output_type": "display_data"
    }
   ],
   "source": [
    "import matplotlib.pyplot as plt\n",
    "import seaborn as sns\n",
    "\n",
    "two_lists = list(zip(*top_10_bigrams)) #* is the unpacking operator\n",
    "x = [\" \".join([str(i or 'None') for i in bigram_tuple]) for  bigram_tuple in two_lists[0]] # create two word strings and replace None with 'None'\n",
    "y = list(two_lists[1])\n",
    "print(x,y)\n",
    "\n",
    "plt.figure(figsize=(10,10))\n",
    "plt.xlabel(\"Bi-gram Frequency\")\n",
    "plt.ylabel(\"Top 20 bi-grams\")\n",
    "sns.barplot(x=y,y=x)"
   ]
  },
  {
   "cell_type": "markdown",
   "metadata": {},
   "source": [
    "### Analyze\n",
    "\n",
    "To anaylze bigrams that start with the same word, create a dictionary of dictionaries."
   ]
  },
  {
   "cell_type": "code",
   "execution_count": 24,
   "metadata": {},
   "outputs": [
    {
     "name": "stdout",
     "output_type": "stream",
     "text": [
      "8\n",
      "0\n",
      "3\n",
      "492\n"
     ]
    }
   ],
   "source": [
    "from collections import defaultdict\n",
    "counts = defaultdict(lambda: defaultdict(int))\n",
    "for sentence in tokenized_sentences:\n",
    "    for w1, w2 in bigrams(sentence, pad_right=True, pad_left=True):\n",
    "        counts[w1][w2] += 1\n",
    "print (counts[\"the\"][\"state\"]) \n",
    "print (counts[\"the\"][\"xyz\"])\n",
    "print(counts[None][\"The\"]) \n",
    "print(len(counts))"
   ]
  },
  {
   "cell_type": "markdown",
   "metadata": {},
   "source": [
    "Print all bi-grams where 'the' is the first word."
   ]
  },
  {
   "cell_type": "code",
   "execution_count": 25,
   "metadata": {},
   "outputs": [
    {
     "name": "stdout",
     "output_type": "stream",
     "text": [
      "the dark : 1\n",
      "the arctic : 1\n",
      "the state : 8\n",
      "the morning : 1\n",
      "the country : 1\n",
      "the lights : 1\n",
      "the grid : 1\n",
      "the remaining : 1\n",
      "the point : 1\n",
      "the load : 1\n",
      "the clock : 1\n",
      "the overloaded : 1\n",
      "the company : 1\n",
      "the outages : 2\n",
      "the Texas : 1\n",
      "the mayor : 1\n",
      "the crisis : 1\n",
      "the middle : 1\n",
      "the Dallas-Fort : 1\n",
      "the ongoing : 1\n",
      "the temperature : 1\n",
      "the people : 1\n",
      "the individuals : 1\n",
      "the house : 2\n",
      "the other : 2\n",
      "the ultra-cold : 1\n",
      "the equipment : 1\n",
      "the weather : 1\n",
      "the cause : 1\n",
      "the fire : 1\n",
      "the Houston : 1\n",
      "the U.S.-Mexico : 1\n",
      "the Appalachians : 1\n",
      "the National : 1\n",
      "the most : 1\n",
      "the history : 1\n",
      "the AP : 1\n",
      "the winter : 1\n",
      "the xyz : 0\n"
     ]
    }
   ],
   "source": [
    "for w2 in counts[\"the\"]:\n",
    "    print(\"the\", w2, \":\", counts[\"the\"][w2])"
   ]
  },
  {
   "cell_type": "code",
   "execution_count": 26,
   "metadata": {},
   "outputs": [
    {
     "name": "stdout",
     "output_type": "stream",
     "text": [
      "defaultdict(<class 'int'>, {'dark': 1, 'arctic': 1, 'state': 8, 'morning': 1, 'country': 1, 'lights': 1, 'grid': 1, 'remaining': 1, 'point': 1, 'load': 1, 'clock': 1, 'overloaded': 1, 'company': 1, 'outages': 2, 'Texas': 1, 'mayor': 1, 'crisis': 1, 'middle': 1, 'Dallas-Fort': 1, 'ongoing': 1, 'temperature': 1, 'people': 1, 'individuals': 1, 'house': 2, 'other': 2, 'ultra-cold': 1, 'equipment': 1, 'weather': 1, 'cause': 1, 'fire': 1, 'Houston': 1, 'U.S.-Mexico': 1, 'Appalachians': 1, 'National': 1, 'most': 1, 'history': 1, 'AP': 1, 'winter': 1, 'xyz': 0})\n"
     ]
    }
   ],
   "source": [
    "print(counts['the'])"
   ]
  },
  {
   "cell_type": "markdown",
   "metadata": {},
   "source": [
    "This code computes the probability of each bigram."
   ]
  },
  {
   "cell_type": "code",
   "execution_count": 27,
   "metadata": {},
   "outputs": [
    {
     "name": "stdout",
     "output_type": "stream",
     "text": [
      "0.16666666666666666\n",
      "0.0\n",
      "0.075\n"
     ]
    }
   ],
   "source": [
    "for w1 in counts:\n",
    "    total_count = float(sum(counts[w1].values()))\n",
    "    for w2 in counts[w1]:\n",
    "        counts[w1][w2] /= total_count\n",
    "\n",
    "print(counts[\"the\"][\"state\"])\n",
    "print (counts[\"the\"][\"xyz\"])\n",
    "print(counts[None][\"The\"])"
   ]
  },
  {
   "cell_type": "markdown",
   "metadata": {},
   "source": [
    "We can also use `CountVectorizer` for analyze bigrams. Use parameter `ngram_range`.  "
   ]
  },
  {
   "cell_type": "code",
   "execution_count": 31,
   "metadata": {},
   "outputs": [
    {
     "name": "stdout",
     "output_type": "stream",
     "text": [
      "{'after days': 22, 'days of': 170, 'of living': 423, 'living in': 355, 'in the': 319, 'the dark': 656, 'dark in': 168, 'in crude': 308, 'crude conditions': 155, 'conditions millions': 144, 'millions of': 390, 'of texans': 432, 'texans had': 623, 'had their': 261, 'their power': 693, 'power restored': 502, 'restored on': 540, 'on thursday': 445, 'thursday bringing': 715, 'bringing some': 114, 'some relief': 582, 'relief amid': 519, 'amid the': 38, 'the arctic': 648, 'arctic blast': 63, 'blast that': 110, 'that brought': 634, 'brought the': 116, 'the state': 681, 'state water': 600, 'water and': 776, 'and power': 47, 'power infrastructure': 501, 'infrastructure to': 325, 'to its': 728, 'its knees': 332, 'knees early': 340, 'early in': 189, 'the morning': 670, 'morning nearly': 397, 'nearly half': 403, 'half million': 264, 'million residents': 389, 'residents were': 535, 'were without': 805, 'without electricity': 828, 'electricity but': 195, 'but by': 117, 'by midday': 120, 'midday just': 383, 'just under': 336, 'under 350': 754, '350 000': 10, '000 remained': 2, 'remained without': 524, 'without power': 829, 'power according': 494, 'according poweroutage': 17, 'poweroutage us': 505, 'us which': 757, 'which tracks': 817, 'tracks outages': 745, 'outages across': 465, 'across the': 19, 'the country': 653, 'country the': 151, 'the electric': 657, 'electric reliability': 194, 'reliability council': 518, 'council of': 150, 'of texas': 433, 'texas which': 629, 'which manages': 815, 'manages most': 369, 'most of': 399, 'of the': 434, 'state power': 599, 'power grid': 499, 'grid said': 257, 'said thursday': 558, 'thursday morning': 717, 'morning it': 396, 'it had': 329, 'had made': 260, 'made significant': 367, 'significant progress': 575, 'progress overnight': 511, 'overnight restoring': 473, 'restoring customer': 542, 'customer power': 157, 'power although': 495, 'although some': 36, 'some outages': 581, 'outages still': 470, 'still remain': 605, 'remain throughout': 521, 'throughout the': 714, 'state however': 595, 'however ercot': 299, 'ercot noted': 211, 'noted that': 415, 'that despite': 635, 'despite bringing': 177, 'bringing the': 115, 'the lights': 665, 'lights back': 350, 'back on': 86, 'on energy': 442, 'energy emergency': 205, 'emergency conditions': 202, 'conditions remain': 145, 'remain as': 520, 'as the': 76, 'the grid': 660, 'grid operator': 256, 'operator and': 454, 'and transmission': 54, 'transmission owners': 747, 'owners work': 475, 'work to': 833, 'to restore': 734, 'restore the': 538, 'the remaining': 679, 'remaining customers': 525, 'customers that': 159, 'that are': 633, 'are without': 67, 'power we': 504, 'we re': 784, 're to': 514, 'to the': 737, 'the point': 678, 'point in': 488, 'the load': 666, 'load restoration': 356, 'restoration where': 537, 'where we': 813, 'we are': 780, 'are allowing': 64, 'allowing transmission': 31, 'owners to': 474, 'to bring': 722, 'bring back': 113, 'back any': 85, 'any load': 58, 'load they': 358, 'they can': 703, 'can related': 123, 'related to': 517, 'to this': 738, 'this load': 709, 'load shed': 357, 'shed event': 570, 'event said': 217, 'said ercot': 550, 'ercot senior': 212, 'senior director': 565, 'director of': 183, 'of system': 431, 'system operations': 617, 'operations dan': 453, 'dan woodfin': 166, 'woodfin we': 832, 'we will': 786, 'will keep': 822, 'keep working': 338, 'working around': 834, 'around the': 73, 'the clock': 651, 'clock until': 138, 'until every': 755, 'every single': 219, 'single customer': 576, 'customer has': 156, 'has their': 268, 'power back': 496, 'on woodfin': 448, 'woodfin said': 831, 'said areas': 548, 'areas where': 69, 'where distribution': 811, 'distribution systems': 184, 'systems were': 618, 'were damaged': 801, 'damaged by': 165, 'by ice': 119, 'ice storms': 303, 'storms may': 610, 'may still': 377, 'still be': 603, 'be experiencing': 92, 'experiencing loss': 226, 'loss of': 362, 'of power': 429, 'according to': 18, 'to ercot': 725, 'ercot additionally': 210, 'additionally large': 20, 'large industrial': 346, 'industrial facilities': 324, 'facilities that': 228, 'that voluntarily': 642, 'voluntarily went': 764, 'went offline': 799, 'offline to': 440, 'to help': 727, 'help alleviate': 281, 'alleviate pressure': 30, 'pressure on': 510, 'on the': 444, 'the overloaded': 676, 'overloaded power': 472, 'grid may': 255, 'may also': 376, 'also remain': 35, 'remain without': 522, 'power in': 500, 'in houston': 311, 'houston more': 296, 'more than': 394, 'than 99': 632, '99 of': 12, 'of centerpoint': 419, 'centerpoint energy': 130, 'energy customers': 204, 'customers have': 158, 'have regained': 275, 'regained power': 515, 'power but': 497, 'but the': 118, 'the company': 652, 'company is': 141, 'is still': 328, 'still urging': 606, 'urging residents': 756, 'residents to': 534, 'to be': 720, 'be cautious': 89, 'cautious as': 129, 'as we': 77, 'we continue': 782, 'continue repairing': 149, 'repairing equipment': 526, 'equipment damaged': 208, 'by severe': 121, 'severe weather': 569, 'weather we': 791, 'we ask': 781, 'ask that': 78, 'that you': 645, 'you continue': 840, 'continue conserving': 148, 'conserving electricity': 147, 'electricity lower': 197, 'lower your': 366, 'your thermostat': 843, 'thermostat avoid': 698, 'avoid using': 84, 'using appliances': 758, 'appliances centerpoint': 61, 'energy tweeted': 206, 'tweeted as': 750, 'as of': 75, 'of local': 424, 'local time': 360, 'time approximately': 719, 'approximately 20': 62, '20 000': 5, '000 outages': 1, 'outages remained': 469, 'remained some': 523, 'some million': 580, 'residents of': 531, 'of houston': 422, 'houston arlington': 294, 'arlington fort': 72, 'fort worth': 239, 'worth and': 835, 'and tyler': 55, 'tyler have': 751, 'have been': 270, 'been ordered': 100, 'ordered to': 459, 'to boil': 721, 'boil their': 111, 'their drinking': 687, 'drinking water': 185, 'water after': 775, 'after the': 24, 'the outages': 675, 'outages knocked': 468, 'knocked treatment': 342, 'treatment plants': 748, 'plants offline': 487, 'offline statewide': 439, 'statewide water': 601, 'water pressure': 777, 'pressure has': 509, 'has fallen': 267, 'fallen because': 230, 'because of': 94, 'of frozen': 420, 'frozen lines': 243, 'lines toby': 353, 'toby baker': 740, 'baker executive': 87, 'executive director': 221, 'the texas': 683, 'texas commission': 624, 'commission on': 140, 'on environmental': 443, 'environmental quality': 207, 'quality said': 512, 'said speaking': 557, 'speaking to': 588, 'to npr': 731, 'npr morning': 417, 'morning edition': 395, 'edition on': 190, 'thursday the': 718, 'the mayor': 667, 'mayor of': 379, 'of mansfield': 425, 'mansfield texas': 371, 'texas michael': 628, 'michael evans': 382, 'evans described': 213, 'described the': 176, 'the crisis': 654, 'crisis in': 154, 'state as': 593, 'as life': 74, 'life or': 349, 'or death': 457, 'death we': 171, 'we have': 783, 'been caught': 97, 'caught in': 127, 'the middle': 669, 'middle of': 384, 'of something': 430, 'something here': 584, 'here where': 284, 'where there': 812, 'there have': 696, 'been individuals': 99, 'individuals who': 323, 'who have': 820, 'have not': 272, 'not had': 414, 'had electricity': 259, 'electricity or': 198, 'or power': 458, 'power for': 498, 'for about': 237, 'about days': 14, 'days now': 169, 'now and': 416, 'and it': 44, 'it zero': 331, 'zero degrees': 844, 'degrees evans': 175, 'evans said': 214, 'said of': 555, 'mansfield suburb': 370, 'suburb in': 614, 'the dallas': 655, 'dallas fort': 164, 'worth area': 836, 'area he': 68, 'he said': 279, 'said neighbors': 554, 'neighbors and': 405, 'and churches': 41, 'churches have': 134, 'have pitched': 273, 'pitched in': 486, 'in to': 321, 'help people': 282, 'people whose': 483, 'whose homes': 821, 'homes have': 287, 'have no': 271, 'no electricity': 409, 'electricity despite': 196, 'despite concern': 178, 'concern over': 143, 'over the': 471, 'the ongoing': 673, 'ongoing covid': 451, 'covid 19': 153, '19 pandemic': 4, 'pandemic was': 476, 'was talking': 773, 'talking with': 619, 'with family': 826, 'family yesterday': 232, 'yesterday and': 838, 'and they': 52, 'they just': 707, 'just knew': 335, 'knew these': 341, 'these people': 700, 'people the': 482, 'the temperature': 682, 'temperature in': 620, 'in their': 320, 'their home': 690, 'home was': 286, 'was 32': 770, '32 degrees': 9, 'said so': 556, 'so what': 579, 'what they': 809, 'they did': 704, 'did was': 180, 'was they': 774, 'they brought': 702, 'the people': 677, 'people in': 481, 'in and': 305, 'they all': 701, 'all had': 29, 'their masks': 692, 'masks and': 375, 'and gloves': 42, 'gloves on': 247, 'on and': 441, 'and the': 51, 'the individuals': 664, 'individuals in': 322, 'in one': 315, 'one side': 450, 'side of': 573, 'the house': 662, 'house while': 293, 'while they': 818, 'they were': 708, 'were on': 802, 'the other': 674, 'other side': 461, 'house texas': 292, 'texas gov': 626, 'gov greg': 250, 'greg abbott': 254, 'abbott speaking': 13, 'speaking wednesday': 589, 'wednesday in': 794, 'in austin': 307, 'austin called': 83, 'called on': 122, 'on top': 446, 'top executives': 742, 'executives at': 222, 'at the': 81, 'state grid': 594, 'operator to': 455, 'to resign': 733, 'resign over': 536, 'outages every': 467, 'every source': 220, 'source of': 585, 'power the': 503, 'state of': 597, 'texas has': 627, 'has access': 265, 'access to': 15, 'to has': 726, 'has been': 266, 'been compromised': 98, 'compromised because': 142, 'the ultra': 684, 'ultra cold': 752, 'cold temperature': 139, 'temperature or': 621, 'or because': 456, 'the equipment': 658, 'equipment failures': 209, 'failures he': 229, 'said nationwide': 553, 'nationwide more': 402, 'than 30': 631, '30 deaths': 7, 'deaths have': 172, 'been blamed': 96, 'blamed on': 109, 'the weather': 685, 'weather this': 790, 'this week': 710, 'week some': 798, 'some who': 583, 'who died': 819, 'died trying': 182, 'trying to': 749, 'to stay': 736, 'stay warm': 602, 'warm in': 766, 'their homes': 691, 'homes one': 288, 'one family': 449, 'family in': 231, 'houston succumbed': 298, 'succumbed to': 615, 'to carbon': 723, 'carbon monoxide': 125, 'monoxide poisoning': 392, 'poisoning from': 489, 'from car': 240, 'car exhaust': 124, 'exhaust in': 223, 'their garage': 689, 'garage in': 245, 'in another': 306, 'another houston': 56, 'houston suburb': 297, 'suburb grandmother': 613, 'grandmother and': 253, 'and three': 53, 'three of': 711, 'of her': 421, 'her grandchildren': 283, 'grandchildren died': 252, 'died in': 181, 'in house': 310, 'house fire': 291, 'fire although': 233, 'although the': 37, 'the cause': 650, 'cause of': 128, 'the fire': 659, 'fire has': 234, 'has yet': 269, 'yet to': 839, 'be determined': 91, 'determined the': 179, 'the houston': 663, 'houston chronicle': 295, 'chronicle reports': 133, 'reports that': 528, 'that they': 641, 'they had': 705, 'had been': 258, 'been using': 103, 'using fireplace': 759, 'fireplace to': 235, 'to keep': 729, 'keep warm': 337, 'warm after': 765, 'after their': 25, 'their electricity': 688, 'electricity went': 201, 'went out': 800, 'out the': 464, 'the national': 672, 'national weather': 401, 'weather service': 789, 'service had': 567, 'had winter': 262, 'winter storm': 823, 'storm warnings': 608, 'warnings in': 769, 'in effect': 309, 'effect in': 192, 'in texas': 318, 'texas from': 625, 'from san': 242, 'san antonio': 560, 'antonio west': 57, 'west to': 806, 'the mexico': 668, 'mexico border': 381, 'border starting': 112, 'starting on': 591, 'state an': 592, 'an unbroken': 39, 'unbroken band': 753, 'band of': 88, 'of warnings': 436, 'warnings also': 768, 'also extended': 34, 'extended for': 227, 'for hundreds': 238, 'hundreds of': 300, 'of miles': 426, 'miles through': 388, 'through northern': 713, 'northern louisiana': 411, 'louisiana central': 363, 'central arkansas': 131, 'arkansas parts': 70, 'parts of': 477, 'of mississippi': 427, 'mississippi tennessee': 391, 'tennessee kentucky': 622, 'kentucky north': 339, 'north carolina': 410, 'carolina virginia': 126, 'virginia west': 762, 'west virginia': 807, 'virginia western': 763, 'western maryland': 808, 'maryland pennsylvania': 374, 'pennsylvania and': 479, 'and new': 45, 'new jersey': 406, 'jersey heavy': 333, 'heavy snow': 280, 'snow and': 578, 'and ice': 43, 'ice are': 302, 'are expected': 65, 'expected thursday': 225, 'thursday in': 716, 'the appalachians': 647, 'appalachians northern': 60, 'northern maryland': 412, 'maryland and': 373, 'and southern': 49, 'southern pennsylvania': 586, 'pennsylvania the': 480, 'service said': 568, 'said meanwhile': 552, 'meanwhile in': 380, 'in oregon': 316, 'oregon where': 460, 'where winter': 814, 'winter weather': 825, 'weather advisories': 787, 'advisories still': 21, 'still cover': 604, 'cover much': 152, 'much of': 400, 'state more': 596, 'than 100': 630, '100 000': 3, '000 customers': 0, 'customers were': 160, 'were still': 803, 'still without': 607, 'electricity week': 200, 'week after': 796, 'after outages': 23, 'outages began': 466, 'began the': 106, 'the associated': 649, 'associated press': 79, 'press reports': 508, 'that portland': 639, 'portland supermarket': 493, 'supermarket that': 616, 'that had': 636, 'been without': 104, 'electricity tossed': 199, 'tossed perishable': 743, 'perishable food': 484, 'food into': 236, 'into dumpsters': 326, 'dumpsters leading': 187, 'leading to': 347, 'to clash': 724, 'clash between': 135, 'between scavengers': 108, 'scavengers and': 563, 'and police': 46, 'police these': 491, 'these are': 699, 'are the': 66, 'the most': 671, 'most dangerous': 398, 'dangerous conditions': 167, 'conditions we': 146, 'we ve': 785, 've ever': 761, 'ever seen': 218, 'seen in': 564, 'the history': 661, 'history of': 285, 'of pge': 428, 'pge said': 485, 'said dale': 549, 'dale goodman': 163, 'goodman director': 249, 'of utility': 435, 'utility operations': 760, 'operations at': 452, 'at portland': 80, 'portland general': 492, 'general electric': 246, 'electric he': 193, 'he declined': 278, 'declined to': 174, 'to predict': 732, 'predict when': 506, 'when all': 810, 'all customers': 28, 'customers would': 161, 'would have': 837, 'have power': 274, 'restored the': 541, 'the ap': 646, 'ap said': 59, 'said louisiana': 551, 'louisiana gov': 364, 'gov john': 251, 'john bel': 334, 'bel edwards': 107, 'edwards requested': 191, 'requested presidential': 529, 'presidential emergency': 507, 'emergency declaration': 203, 'declaration on': 173, 'on wednesday': 447, 'wednesday evening': 793, 'evening in': 216, 'in shreveport': 317, 'shreveport la': 572, 'la local': 344, 'local officials': 359, 'officials were': 438, 'were warning': 804, 'warning residents': 767, 'residents that': 533, 'that it': 638, 'it might': 330, 'might be': 385, 'be saturday': 93, 'saturday before': 561, 'before water': 105, 'water service': 778, 'service cut': 566, 'cut off': 162, 'off due': 437, 'due to': 186, 'the winter': 686, 'winter storms': 824, 'storms is': 609, 'is fully': 327, 'fully restored': 244, 'restored in': 539, 'in lake': 312, 'lake charles': 345, 'charles in': 132, 'in louisiana': 314, 'louisiana southwest': 365, 'southwest mayor': 587, 'mayor nic': 378, 'nic hunter': 408, 'hunter said': 301, 'said wednesday': 559, 'wednesday that': 795, 'that water': 643, 'water was': 779, 'was scarce': 772, 'scarce and': 562, 'and that': 50, 'that hospitals': 637, 'hospitals there': 290, 'there might': 697, 'might need': 386, 'need to': 404, 'to transfer': 739, 'transfer patients': 746, 'patients out': 478, 'out arkansas': 462, 'arkansas state': 71, 'state police': 598, 'police said': 490, 'wednesday afternoon': 792, 'afternoon that': 26, 'that there': 640, 'there had': 695, 'been 22': 95, '22 weather': 6, 'weather related': 788, 'related road': 516, 'road accidents': 543, 'accidents along': 16, 'along 30': 32, '30 mile': 8, 'mile stretch': 387, 'stretch of': 612, 'of 40': 418, '40 which': 11, 'which runs': 816, 'runs through': 547, 'through little': 712, 'little rock': 354, 'rock in': 546, 'in lexington': 313, 'lexington ky': 348, 'ky residents': 343, 'residents reported': 532, 'reported that': 527, 'that with': 644, 'with more': 827, 'more snow': 393, 'and sleet': 48, 'sleet expected': 577, 'expected many': 224, 'many side': 372, 'side streets': 574, 'streets had': 611, 'had yet': 263, 'be cleared': 90, 'cleared from': 136, 'from earlier': 241, 'earlier this': 188, 'week and': 797, 'and attention': 40, 'attention was': 82, 'was likely': 771, 'likely to': 352, 'to shift': 735, 'shift again': 571, 'again to': 27, 'to major': 730, 'major roads': 368, 'roads the': 545, 'the roads': 680, 'roads look': 544, 'look like': 361, 'like they': 351, 'they haven': 706, 'haven even': 277, 'even been': 215, 'been touched': 102, 'touched resident': 744, 'resident stacy': 530, 'stacy hoskins': 590, 'hoskins told': 289, 'told wkyt': 741, 'wkyt news': 830, 'news if': 407, 'if you': 304, 'you haven': 841, 'haven been': 276, 'been out': 101, 'out clearing': 463, 'clearing already': 137, 'already then': 33, 'then you': 694, 'you re': 842, 're not': 513, 'not going': 413, 'going anywhere': 248}\n"
     ]
    }
   ],
   "source": [
    "vectorizer2 = CountVectorizer(ngram_range=(2, 2)) #min, max range\n",
    "vec2=vectorizer2.fit(corpus)\n",
    "print(vec2.vocabulary_)"
   ]
  },
  {
   "cell_type": "code",
   "execution_count": 32,
   "metadata": {},
   "outputs": [
    {
     "name": "stdout",
     "output_type": "stream",
     "text": [
      "(1, 845)\n",
      "[[1 1 1 1 1 1 1 1 1 1 1 1 1 1 1 1 1 1 1 1 1 1 1 1 1 1 1 1 1 1 1 1 1 1 1 1\n",
      "  1 1 1 1 1 1 1 1 1 1 1 1 1 1 1 1 2 1 1 1 1 1 1 1 1 1 1 1 1 1 1 1 1 1 1 1\n",
      "  1 1 1 1 1 1 1 1 1 1 1 1 1 1 2 1 1 1 1 1 1 1 3 1 1 1 1 1 1 1 1 1 1 1 1 1\n",
      "  1 1 1 1 1 1 1 1 2 1 1 1 1 1 1 1 1 1 1 1 1 1 2 1 1 1 1 1 1 1 1 1 1 1 1 1\n",
      "  1 1 1 1 1 1 1 1 1 1 1 1 1 1 1 1 1 1 1 1 1 2 1 1 1 1 1 1 1 1 1 2 1 1 1 1\n",
      "  1 1 1 3 1 1 1 1 1 1 1 1 1 1 1 1 1 1 1 1 1 1 1 1 1 1 1 1 1 1 1 1 1 1 2 1\n",
      "  1 1 1 1 1 1 1 1 1 1 1 1 1 1 1 1 1 1 1 1 1 1 1 2 1 1 1 1 1 1 1 1 1 1 1 1\n",
      "  1 1 1 1 2 1 3 1 1 2 1 1 1 1 1 1 1 1 4 1 1 1 1 1 1 1 1 2 1 1 1 1 1 1 1 1\n",
      "  1 1 1 1 1 1 1 1 1 1 1 1 1 1 1 1 1 1 1 1 1 1 1 2 1 1 1 1 1 1 1 8 3 1 1 1\n",
      "  1 1 1 1 1 1 1 1 1 1 1 1 1 1 1 1 1 1 1 1 1 1 1 1 1 1 1 1 1 1 1 1 1 1 1 1\n",
      "  1 1 1 1 1 1 1 1 1 1 1 1 1 1 1 1 1 1 1 1 1 1 1 1 1 1 1 1 1 2 1 1 1 1 3 1\n",
      "  1 1 1 1 1 2 1 1 1 1 1 1 1 1 1 1 1 1 1 1 1 1 1 1 1 1 1 1 1 2 1 1 1 2 1 1\n",
      "  1 2 9 1 1 1 1 1 1 1 1 1 4 2 1 1 1 1 1 1 1 1 1 1 1 1 1 1 1 2 1 1 1 1 1 1\n",
      "  1 1 1 2 1 1 1 1 1 1 1 1 1 1 1 1 1 1 1 1 1 1 1 1 1 1 2 1 1 1 1 2 1 1 2 1\n",
      "  1 1 1 1 1 1 1 1 1 1 1 1 1 1 1 1 1 1 1 1 1 1 1 1 2 1 1 1 1 1 1 1 1 1 1 1\n",
      "  1 1 1 1 1 1 1 1 1 1 1 1 1 1 1 1 1 1 1 2 1 1 1 1 1 1 1 1 1 1 1 1 1 3 1 1\n",
      "  1 1 2 1 1 1 1 1 1 1 1 1 1 1 1 1 1 1 1 1 1 1 1 1 1 1 1 1 1 1 1 1 1 1 1 1\n",
      "  1 1 1 1 1 1 1 1 1 1 1 1 1 1 1 1 1 1 1 1 1 1 1 1 1 1 1 1 1 1 1 1 1 1 1 1\n",
      "  1 1 1 1 1 1 1 1 1 1 1 1 1 1 2 1 1 1 1 1 1 1 1 1 2 1 2 2 1 1 1 1 1 8 1 1\n",
      "  1 1 1 1 1 1 1 1 1 2 1 1 1 1 1 1 1 1 1 1 1 1 1 1 1 1 2 1 1 1 1 1 1 1 1 1\n",
      "  3 1 1 1 1 1 1 2 1 1 1 1 1 1 1 1 1 3 1 1 1 1 1 1 1 1 1 2 1 1 1 1 1 1 1 1\n",
      "  1 1 1 1 1 1 1 1 1 1 1 1 1 1 1 1 1 1 1 1 1 1 1 1 1 1 1 1 1 1 1 1 1 2 1 1\n",
      "  1 1 1 1 1 1 1 1 1 1 1 1 1 1 1 1 1 1 1 1 1 1 1 1 1 1 1 1 1 1 1 1 1 1 1 1\n",
      "  3 3 1 1 1 1 1 1 1 1 1 2 1 1 1 1 1]]\n"
     ]
    }
   ],
   "source": [
    "matrix = vec2.transform(corpus)\n",
    "print(matrix.shape)\n",
    "counts = matrix.toarray() \n",
    "print(counts)"
   ]
  },
  {
   "cell_type": "code",
   "execution_count": 33,
   "metadata": {},
   "outputs": [
    {
     "name": "stdout",
     "output_type": "stream",
     "text": [
      "[('of the', 9), ('in the', 8), ('the state', 8), ('on the', 4), ('have been', 4), ('without electricity', 3), ('without power', 3), ('to the', 3), ('director of', 3), ('more than', 3)]\n"
     ]
    }
   ],
   "source": [
    "bigrams_freq = [(bigram, counts[0, idx]) for bigram, idx in vec2.vocabulary_.items()]\n",
    "bigrams_freq =sorted(bigrams_freq, key = lambda freq: freq[1], reverse=True) #sort by bigram count\n",
    "top_n_bigrams= bigrams_freq[:10]\n",
    "print(top_n_bigrams)"
   ]
  },
  {
   "cell_type": "code",
   "execution_count": 34,
   "metadata": {},
   "outputs": [
    {
     "data": {
      "text/plain": [
       "<matplotlib.axes._subplots.AxesSubplot at 0x7fcd792d0910>"
      ]
     },
     "execution_count": 34,
     "metadata": {},
     "output_type": "execute_result"
    },
    {
     "data": {
      "image/png": "[encoded data removed]",
      "text/plain": [
       "<Figure size 720x720 with 1 Axes>"
      ]
     },
     "metadata": {
      "needs_background": "light"
     },
     "output_type": "display_data"
    }
   ],
   "source": [
    "import matplotlib.pyplot as plt\n",
    "import seaborn as sns\n",
    "\n",
    "two_tuples = list(zip(*top_n_bigrams)) #* is the unpacking operator\n",
    "x = list(two_tuples[0])\n",
    "y = list(two_tuples[1])\n",
    "\n",
    "#x,y=map(list,split_lists) #The map() function executes a specified function for each item in an iterable. The item is sent to the function as a parameter, \n",
    "plt.figure(figsize=(10,10))\n",
    "plt.xlabel(\"Bi-gram Frequency\")\n",
    "plt.ylabel(\"Top 20 bi-grams\")\n",
    "sns.barplot(x=y,y=x)"
   ]
  },
  {
   "cell_type": "markdown",
   "metadata": {},
   "source": [
    "## Trigram Model\n",
    "Trigrams are less frequent.  Explore using a larger corpus."
   ]
  },
  {
   "cell_type": "code",
   "execution_count": 35,
   "metadata": {},
   "outputs": [
    {
     "name": "stdout",
     "output_type": "stream",
     "text": [
      "[[0 0 0 ... 0 0 0]\n",
      " [0 0 0 ... 0 0 0]\n",
      " [0 0 0 ... 0 0 0]\n",
      " ...\n",
      " [0 0 0 ... 0 0 0]\n",
      " [0 0 0 ... 0 0 0]\n",
      " [0 0 0 ... 0 0 0]]\n"
     ]
    }
   ],
   "source": [
    "import pandas as pd\n",
    "from nltk.corpus import inaugural\n",
    "\n",
    "speeches = []\n",
    "for fileid in inaugural.fileids():\n",
    "    speeches.append((fileid, inaugural.raw(fileid)))\n",
    "\n",
    "addresses = pd.DataFrame(speeches, columns=[\"filename\",\"text\"])\n",
    "inaugural_corpus =  addresses[\"text\"]\n",
    "vectorizer3 = CountVectorizer(ngram_range=(3, 3)) \n",
    "vec3=vectorizer3.fit(inaugural_corpus)\n",
    "matrix3=vectorizer3.transform(inaugural_corpus)\n",
    "matrix3.shape\n",
    "counts = matrix3.toarray() \n",
    "print(counts)"
   ]
  },
  {
   "cell_type": "code",
   "execution_count": 36,
   "metadata": {},
   "outputs": [
    {
     "name": "stdout",
     "output_type": "stream",
     "text": [
      "[[1 1 2 ... 1 1 1]]\n"
     ]
    }
   ],
   "source": [
    "sum_trigrams = matrix3.sum(axis=0)  #counts for each trigram across all speeches\n",
    "print(sum_trigrams)"
   ]
  },
  {
   "cell_type": "code",
   "execution_count": 37,
   "metadata": {},
   "outputs": [
    {
     "name": "stdout",
     "output_type": "stream",
     "text": [
      "[('the united states', 150), ('of the united', 98), ('of the people', 96), ('of the government', 79), ('of the world', 66), ('of our country', 50), ('of the union', 49), ('it is the', 48), ('of our people', 48), ('as well as', 47)]\n"
     ]
    }
   ],
   "source": [
    "trigrams_freq = [(trigram, sum_trigrams[0, idx]) for trigram, idx in vec3.vocabulary_.items()]\n",
    "trigrams_freq =sorted(trigrams_freq, key = lambda freq: freq[1], reverse=True) #sort by trigram count\n",
    "top_10_trigrams= trigrams_freq[:10]\n",
    "print(top_10_trigrams)"
   ]
  },
  {
   "cell_type": "code",
   "execution_count": 39,
   "metadata": {},
   "outputs": [
    {
     "data": {
      "text/plain": [
       "<matplotlib.axes._subplots.AxesSubplot at 0x7fcd7a37a450>"
      ]
     },
     "execution_count": 39,
     "metadata": {},
     "output_type": "execute_result"
    },
    {
     "data": {
      "image/png": "[encoded data removed]",
      "text/plain": [
       "<Figure size 720x720 with 1 Axes>"
      ]
     },
     "metadata": {
      "needs_background": "light"
     },
     "output_type": "display_data"
    }
   ],
   "source": [
    "tuples = list(zip(*top_10_trigrams)) #unpack\n",
    "x = list(tuples[0])\n",
    "y = list(tuples[1])\n",
    "\n",
    "plt.figure(figsize=(10,10))\n",
    "plt.xlabel(\"Tri-gram Frequency\")\n",
    "plt.ylabel(\"Top 10 tri-grams mentioned in inaugural addresses\")\n",
    "sns.barplot(x=y,y=x)"
   ]
  },
  {
   "cell_type": "code",
   "execution_count": null,
   "metadata": {},
   "outputs": [],
   "source": []
  }
 ],
 "metadata": {
  "kernelspec": {
   "display_name": "Python 3",
   "language": "python",
   "name": "python3"
  },
  "language_info": {
   "codemirror_mode": {
    "name": "ipython",
    "version": 3
   },
   "file_extension": ".py",
   "mimetype": "text/x-python",
   "name": "python",
   "nbconvert_exporter": "python",
   "pygments_lexer": "ipython3",
   "version": "3.7.6"
  }
 },
 "nbformat": 4,
 "nbformat_minor": 4
}
