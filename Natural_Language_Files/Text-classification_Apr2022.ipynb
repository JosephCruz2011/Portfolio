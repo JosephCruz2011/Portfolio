{
 "cells": [
  {
   "cell_type": "markdown",
   "metadata": {},
   "source": [
    "# Text Classification\n",
    "\n",
    "## Choosing Features\n",
    "The first steps in creating a classifier are \n",
    "- Finding labeled data to train the classifier\n",
    "- Deciding what features of the input are relevant, and how to encode those features"
   ]
  },
  {
   "cell_type": "code",
   "execution_count": 1,
   "metadata": {},
   "outputs": [],
   "source": [
    "import nltk\n",
    "from nltk.corpus import names\n",
    "import random\n",
    "\n",
    "def gender_features(word):\n",
    "    return {'last_letter': word[-1]}\n",
    "\n",
    "labeled_names = ([(name, 'male') for name in names.words('male.txt')] + [(name, 'female') for name in names.words('female.txt')])\n",
    "random.shuffle(labeled_names)\n",
    "featuresets = [(gender_features(n), gender) for (n, gender) in labeled_names]\n",
    "train_set, test_set = featuresets[500:], featuresets[:500]\n",
    "classifier = nltk.NaiveBayesClassifier.train(train_set)"
   ]
  },
  {
   "cell_type": "code",
   "execution_count": 2,
   "metadata": {},
   "outputs": [
    {
     "data": {
      "text/plain": [
       "'male'"
      ]
     },
     "execution_count": 2,
     "metadata": {},
     "output_type": "execute_result"
    }
   ],
   "source": [
    "classifier.classify(gender_features('Neo'))"
   ]
  },
  {
   "cell_type": "code",
   "execution_count": 3,
   "metadata": {},
   "outputs": [
    {
     "data": {
      "text/plain": [
       "'female'"
      ]
     },
     "execution_count": 3,
     "metadata": {},
     "output_type": "execute_result"
    }
   ],
   "source": [
    "classifier.classify(gender_features('Trinity'))"
   ]
  },
  {
   "cell_type": "code",
   "execution_count": 4,
   "metadata": {},
   "outputs": [
    {
     "data": {
      "text/plain": [
       "0.726"
      ]
     },
     "execution_count": 4,
     "metadata": {},
     "output_type": "execute_result"
    }
   ],
   "source": [
    "#accuracy\n",
    "nltk.classify.accuracy(classifier, test_set)"
   ]
  },
  {
   "cell_type": "code",
   "execution_count": 5,
   "metadata": {},
   "outputs": [
    {
     "name": "stdout",
     "output_type": "stream",
     "text": [
      "Most Informative Features\n",
      "             last_letter = 'a'            female : male   =     33.1 : 1.0\n",
      "             last_letter = 'k'              male : female =     31.1 : 1.0\n",
      "             last_letter = 'v'              male : female =     17.7 : 1.0\n",
      "             last_letter = 'f'              male : female =     16.8 : 1.0\n",
      "             last_letter = 'p'              male : female =     11.3 : 1.0\n"
     ]
    }
   ],
   "source": [
    "#informative features\n",
    "classifier.show_most_informative_features(5)"
   ]
  },
  {
   "cell_type": "code",
   "execution_count": 6,
   "metadata": {},
   "outputs": [],
   "source": [
    "#apply features returns an object that acts like a list but does not store all the feature sets in memory\n",
    "from nltk.classify import apply_features\n",
    "train_set = apply_features(gender_features, labeled_names[500:])\n",
    "test_set = apply_features(gender_features, labeled_names[:500])"
   ]
  },
  {
   "cell_type": "code",
   "execution_count": 7,
   "metadata": {},
   "outputs": [
    {
     "data": {
      "text/plain": [
       "0.752"
      ]
     },
     "execution_count": 7,
     "metadata": {},
     "output_type": "execute_result"
    }
   ],
   "source": [
    "#more features\n",
    "def gender_features2(name):\n",
    "    features = {}\n",
    "    features[\"first_letter\"] = name[0].lower()\n",
    "    features[\"last_letter\"] = name[-1].lower()\n",
    "    for letter in 'abcdefghijklmnopqrstuvwxyz':\n",
    "        features[\"count({})\".format(letter)] = name.lower().count(letter)\n",
    "        features[\"has({})\".format(letter)] = (letter in name.lower())\n",
    "    return features\n",
    "\n",
    "featuresets = [(gender_features2(n), gender) for (n, gender) in labeled_names]\n",
    "train_set, test_set = featuresets[500:], featuresets[:500]\n",
    "classifier = nltk.NaiveBayesClassifier.train(train_set)\n",
    "nltk.classify.accuracy(classifier, test_set)"
   ]
  },
  {
   "cell_type": "markdown",
   "metadata": {},
   "source": [
    "### Development Set\n",
    "A very productive method for refining the feature set is error analysis. First, we select a **development set**, containing the corpus data for creating the model. This development set is then subdivided into the training set and the dev-test set.\n",
    "\n"
   ]
  },
  {
   "cell_type": "code",
   "execution_count": 8,
   "metadata": {},
   "outputs": [],
   "source": [
    "train_names = labeled_names[1500:]\n",
    "devtest_names = labeled_names[500:1500]\n",
    "test_names = labeled_names[:500]"
   ]
  },
  {
   "cell_type": "code",
   "execution_count": 9,
   "metadata": {},
   "outputs": [
    {
     "data": {
      "text/plain": [
       "0.748"
      ]
     },
     "execution_count": 9,
     "metadata": {},
     "output_type": "execute_result"
    }
   ],
   "source": [
    "#train a model using the training set and then run it on the dev-test set\n",
    "train_set = [(gender_features(n), gender) for (n, gender) in train_names]\n",
    "devtest_set = [(gender_features(n), gender) for (n, gender) in devtest_names]\n",
    "test_set = [(gender_features(n), gender) for (n, gender) in test_names]\n",
    "classifier = nltk.NaiveBayesClassifier.train(train_set)\n",
    "nltk.classify.accuracy(classifier, devtest_set)"
   ]
  },
  {
   "cell_type": "code",
   "execution_count": 10,
   "metadata": {},
   "outputs": [
    {
     "name": "stdout",
     "output_type": "stream",
     "text": [
      "correct=female   guess=male     name=Abagail                       \n",
      "correct=female   guess=male     name=Aeriell                       \n",
      "correct=female   guess=male     name=Allyson                       \n",
      "correct=female   guess=male     name=Alys                          \n",
      "correct=female   guess=male     name=Amber                         \n",
      "correct=female   guess=male     name=Ambur                         \n",
      "correct=female   guess=male     name=April                         \n",
      "correct=female   guess=male     name=Ardys                         \n",
      "correct=female   guess=male     name=Arlen                         \n",
      "correct=female   guess=male     name=Ayn                           \n",
      "correct=female   guess=male     name=Bell                          \n",
      "correct=female   guess=male     name=Cal                           \n",
      "correct=female   guess=male     name=Camel                         \n",
      "correct=female   guess=male     name=Carolin                       \n",
      "correct=female   guess=male     name=Carolynn                      \n",
      "correct=female   guess=male     name=Caron                         \n",
      "correct=female   guess=male     name=Catherin                      \n",
      "correct=female   guess=male     name=Ceil                          \n",
      "correct=female   guess=male     name=Chandal                       \n",
      "correct=female   guess=male     name=Charleen                      \n",
      "correct=female   guess=male     name=Christen                      \n",
      "correct=female   guess=male     name=Chrystel                      \n",
      "correct=female   guess=male     name=Cleo                          \n",
      "correct=female   guess=male     name=Con                           \n",
      "correct=female   guess=male     name=Cybill                        \n",
      "correct=female   guess=male     name=Danell                        \n",
      "correct=female   guess=male     name=Deeann                        \n",
      "correct=female   guess=male     name=Devon                         \n",
      "correct=female   guess=male     name=Dolores                       \n",
      "correct=female   guess=male     name=Doloritas                     \n",
      "correct=female   guess=male     name=Dyann                         \n",
      "correct=female   guess=male     name=Eleanor                       \n",
      "correct=female   guess=male     name=Ellen                         \n",
      "correct=female   guess=male     name=Em                            \n",
      "correct=female   guess=male     name=Ethelin                       \n",
      "correct=female   guess=male     name=Ethelind                      \n",
      "correct=female   guess=male     name=Flower                        \n",
      "correct=female   guess=male     name=Francis                       \n",
      "correct=female   guess=male     name=Gail                          \n",
      "correct=female   guess=male     name=Garland                       \n",
      "correct=female   guess=male     name=Garnet                        \n",
      "correct=female   guess=male     name=Gates                         \n",
      "correct=female   guess=male     name=Germain                       \n",
      "correct=female   guess=male     name=Gillan                        \n",
      "correct=female   guess=male     name=Gilligan                      \n",
      "correct=female   guess=male     name=Glen                          \n",
      "correct=female   guess=male     name=Glenn                         \n",
      "correct=female   guess=male     name=Hazel                         \n",
      "correct=female   guess=male     name=Hedwig                        \n",
      "correct=female   guess=male     name=Hildegaard                    \n",
      "correct=female   guess=male     name=Honor                         \n",
      "correct=female   guess=male     name=Imogen                        \n",
      "correct=female   guess=male     name=Ingaberg                      \n",
      "correct=female   guess=male     name=Inger                         \n",
      "correct=female   guess=male     name=Isis                          \n",
      "correct=female   guess=male     name=Isobel                        \n",
      "correct=female   guess=male     name=Izabel                        \n",
      "correct=female   guess=male     name=Jacklin                       \n",
      "correct=female   guess=male     name=Jacquelin                     \n",
      "correct=female   guess=male     name=Janifer                       \n",
      "correct=female   guess=male     name=Jaynell                       \n",
      "correct=female   guess=male     name=Jenn                          \n",
      "correct=female   guess=male     name=Jewel                         \n",
      "correct=female   guess=male     name=Jolynn                        \n",
      "correct=female   guess=male     name=Jonell                        \n",
      "correct=female   guess=male     name=Joscelin                      \n",
      "correct=female   guess=male     name=Karilynn                      \n",
      "correct=female   guess=male     name=Karyn                         \n",
      "correct=female   guess=male     name=Kat                           \n",
      "correct=female   guess=male     name=Katharyn                      \n",
      "correct=female   guess=male     name=Keren                         \n",
      "correct=female   guess=male     name=Kimberlyn                     \n",
      "correct=female   guess=male     name=Kip                           \n",
      "correct=female   guess=male     name=Kipp                          \n",
      "correct=female   guess=male     name=Kirsten                       \n",
      "correct=female   guess=male     name=Kristel                       \n",
      "correct=female   guess=male     name=Laureen                       \n",
      "correct=female   guess=male     name=Lib                           \n",
      "correct=female   guess=male     name=Linnell                       \n",
      "correct=female   guess=male     name=Lyndel                        \n",
      "correct=female   guess=male     name=Lynnet                        \n",
      "correct=female   guess=male     name=Madelin                       \n",
      "correct=female   guess=male     name=Madlen                        \n",
      "correct=female   guess=male     name=Margalo                       \n",
      "correct=female   guess=male     name=Marigold                      \n",
      "correct=female   guess=male     name=Marlyn                        \n",
      "correct=female   guess=male     name=Maryangelyn                   \n",
      "correct=female   guess=male     name=Mehetabel                     \n",
      "correct=female   guess=male     name=Meriel                        \n",
      "correct=female   guess=male     name=Merilyn                       \n",
      "correct=female   guess=male     name=Merl                          \n",
      "correct=female   guess=male     name=Moll                          \n",
      "correct=female   guess=male     name=Nell                          \n",
      "correct=female   guess=male     name=Olwen                         \n",
      "correct=female   guess=male     name=Pen                           \n",
      "correct=female   guess=male     name=Phil                          \n",
      "correct=female   guess=male     name=Phyllys                       \n",
      "correct=female   guess=male     name=Raf                           \n",
      "correct=female   guess=male     name=Raychel                       \n",
      "correct=female   guess=male     name=Rhianon                       \n",
      "correct=female   guess=male     name=Robin                         \n",
      "correct=female   guess=male     name=Robyn                         \n",
      "correct=female   guess=male     name=Ros                           \n",
      "correct=female   guess=male     name=Rosaleen                      \n",
      "correct=female   guess=male     name=Roseann                       \n",
      "correct=female   guess=male     name=Roselyn                       \n",
      "correct=female   guess=male     name=Siobhan                       \n",
      "correct=female   guess=male     name=Taryn                         \n",
      "correct=female   guess=male     name=Tim                           \n",
      "correct=female   guess=male     name=Velvet                        \n",
      "correct=female   guess=male     name=Venus                         \n",
      "correct=female   guess=male     name=Vivien                        \n",
      "correct=female   guess=male     name=Winifred                      \n",
      "correct=female   guess=male     name=Winnifred                     \n",
      "correct=male     guess=female   name=Adolph                        \n",
      "correct=male     guess=female   name=Adolphe                       \n",
      "correct=male     guess=female   name=Amory                         \n",
      "correct=male     guess=female   name=Andrey                        \n",
      "correct=male     guess=female   name=Arvie                         \n",
      "correct=male     guess=female   name=Avi                           \n",
      "correct=male     guess=female   name=Bailie                        \n",
      "correct=male     guess=female   name=Barry                         \n",
      "correct=male     guess=female   name=Berkie                        \n",
      "correct=male     guess=female   name=Bertie                        \n",
      "correct=male     guess=female   name=Bradly                        \n",
      "correct=male     guess=female   name=Broddie                       \n",
      "correct=male     guess=female   name=Butch                         \n",
      "correct=male     guess=female   name=Case                          \n",
      "correct=male     guess=female   name=Claybourne                    \n",
      "correct=male     guess=female   name=Clemente                      \n",
      "correct=male     guess=female   name=Clyde                         \n",
      "correct=male     guess=female   name=Cobbie                        \n",
      "correct=male     guess=female   name=Cole                          \n",
      "correct=male     guess=female   name=Connie                        \n",
      "correct=male     guess=female   name=Dale                          \n",
      "correct=male     guess=female   name=Demetre                       \n",
      "correct=male     guess=female   name=Denny                         \n",
      "correct=male     guess=female   name=Dewey                         \n",
      "correct=male     guess=female   name=Dimitri                       \n",
      "correct=male     guess=female   name=Duane                         \n",
      "correct=male     guess=female   name=Durante                       \n",
      "correct=male     guess=female   name=Ely                           \n",
      "correct=male     guess=female   name=Emory                         \n",
      "correct=male     guess=female   name=Esme                          \n",
      "correct=male     guess=female   name=Felix                         \n",
      "correct=male     guess=female   name=Frederich                     \n",
      "correct=male     guess=female   name=Georgia                       \n",
      "correct=male     guess=female   name=Georgie                       \n",
      "correct=male     guess=female   name=Giovanne                      \n",
      "correct=male     guess=female   name=Greggory                      \n",
      "correct=male     guess=female   name=Grove                         \n",
      "correct=male     guess=female   name=Guthrey                       \n",
      "correct=male     guess=female   name=Haleigh                       \n",
      "correct=male     guess=female   name=Hari                          \n",
      "correct=male     guess=female   name=Hasty                         \n",
      "correct=male     guess=female   name=Henrique                      \n",
      "correct=male     guess=female   name=Herbie                        \n",
      "correct=male     guess=female   name=Hervey                        \n",
      "correct=male     guess=female   name=Hilary                        \n",
      "correct=male     guess=female   name=Huntley                       \n",
      "correct=male     guess=female   name=Ike                           \n",
      "correct=male     guess=female   name=Jackie                        \n",
      "correct=male     guess=female   name=Jake                          \n",
      "correct=male     guess=female   name=Jamie                         \n",
      "correct=male     guess=female   name=Jereme                        \n",
      "correct=male     guess=female   name=Jerome                        \n",
      "correct=male     guess=female   name=Jerry                         \n",
      "correct=male     guess=female   name=Jordy                         \n",
      "correct=male     guess=female   name=Jory                          \n",
      "correct=male     guess=female   name=Joshuah                       \n",
      "correct=male     guess=female   name=Judah                         \n",
      "correct=male     guess=female   name=Jude                          \n",
      "correct=male     guess=female   name=Kane                          \n",
      "correct=male     guess=female   name=Keefe                         \n",
      "correct=male     guess=female   name=Lance                         \n",
      "correct=male     guess=female   name=Larry                         \n",
      "correct=male     guess=female   name=Lindsay                       \n",
      "correct=male     guess=female   name=Lindsey                       \n",
      "correct=male     guess=female   name=Lorrie                        \n",
      "correct=male     guess=female   name=Luigi                         \n",
      "correct=male     guess=female   name=Mace                          \n",
      "correct=male     guess=female   name=Marlowe                       \n",
      "correct=male     guess=female   name=Maurice                       \n",
      "correct=male     guess=female   name=Maurie                        \n",
      "correct=male     guess=female   name=Meade                         \n",
      "correct=male     guess=female   name=Micah                         \n",
      "correct=male     guess=female   name=Mischa                        \n",
      "correct=male     guess=female   name=Moe                           \n",
      "correct=male     guess=female   name=Moishe                        \n",
      "correct=male     guess=female   name=Monty                         \n",
      "correct=male     guess=female   name=Moore                         \n",
      "correct=male     guess=female   name=Murray                        \n",
      "correct=male     guess=female   name=Nate                          \n",
      "correct=male     guess=female   name=Neale                         \n",
      "correct=male     guess=female   name=Noah                          \n",
      "correct=male     guess=female   name=Osborne                       \n",
      "correct=male     guess=female   name=Pearce                        \n",
      "correct=male     guess=female   name=Percy                         \n",
      "correct=male     guess=female   name=Radcliffe                     \n",
      "correct=male     guess=female   name=Ralph                         \n",
      "correct=male     guess=female   name=Randy                         \n",
      "correct=male     guess=female   name=Reece                         \n",
      "correct=male     guess=female   name=Reese                         \n",
      "correct=male     guess=female   name=Rex                           \n",
      "correct=male     guess=female   name=Rich                          \n",
      "correct=male     guess=female   name=Roarke                        \n",
      "correct=male     guess=female   name=Rolfe                         \n",
      "correct=male     guess=female   name=Rory                          \n",
      "correct=male     guess=female   name=Ruddie                        \n",
      "correct=male     guess=female   name=Rutledge                      \n",
      "correct=male     guess=female   name=Sascha                        \n",
      "correct=male     guess=female   name=Sax                           \n",
      "correct=male     guess=female   name=Scotti                        \n",
      "correct=male     guess=female   name=Scottie                       \n",
      "correct=male     guess=female   name=Sidney                        \n",
      "correct=male     guess=female   name=Siffre                        \n",
      "correct=male     guess=female   name=Sly                           \n",
      "correct=male     guess=female   name=Stevie                        \n",
      "correct=male     guess=female   name=Stevy                         \n",
      "correct=male     guess=female   name=Tallie                        \n",
      "correct=male     guess=female   name=Tanny                         \n",
      "correct=male     guess=female   name=Thatch                        \n",
      "correct=male     guess=female   name=Thayne                        \n",
      "correct=male     guess=female   name=Thornie                       \n",
      "correct=male     guess=female   name=Tobe                          \n",
      "correct=male     guess=female   name=Toddy                         \n",
      "correct=male     guess=female   name=Tonnie                        \n",
      "correct=male     guess=female   name=Tony                          \n",
      "correct=male     guess=female   name=Torre                         \n",
      "correct=male     guess=female   name=Torrey                        \n",
      "correct=male     guess=female   name=Townie                        \n",
      "correct=male     guess=female   name=Tre                           \n",
      "correct=male     guess=female   name=Troy                          \n",
      "correct=male     guess=female   name=Uri                           \n",
      "correct=male     guess=female   name=Vance                         \n",
      "correct=male     guess=female   name=Vasily                        \n",
      "correct=male     guess=female   name=Verney                        \n",
      "correct=male     guess=female   name=Vinny                         \n",
      "correct=male     guess=female   name=Waite                         \n",
      "correct=male     guess=female   name=Wake                          \n",
      "correct=male     guess=female   name=Wallie                        \n",
      "correct=male     guess=female   name=Wally                         \n",
      "correct=male     guess=female   name=Walsh                         \n",
      "correct=male     guess=female   name=Ware                          \n",
      "correct=male     guess=female   name=Welbie                        \n",
      "correct=male     guess=female   name=Welsh                         \n",
      "correct=male     guess=female   name=Witty                         \n",
      "correct=male     guess=female   name=Wolfy                         \n",
      "correct=male     guess=female   name=Wye                           \n",
      "correct=male     guess=female   name=Wylie                         \n",
      "correct=male     guess=female   name=Zacharie                      \n",
      "correct=male     guess=female   name=Zebedee                       \n"
     ]
    }
   ],
   "source": [
    "#using the dev-test set, we can generate a list of the errors that the classifier makes when predicting name genders\n",
    "errors = []\n",
    "for (name, tag) in devtest_names:\n",
    "    guess = classifier.classify(gender_features(name))\n",
    "    if guess != tag:\n",
    "        errors.append( (tag, guess, name) )\n",
    "        \n",
    "for (tag, guess, name) in sorted(errors):\n",
    "    print('correct={:<8} guess={:<8s} name={:<30}'.format(tag, guess, name))"
   ]
  },
  {
   "cell_type": "code",
   "execution_count": 11,
   "metadata": {},
   "outputs": [
    {
     "data": {
      "text/plain": [
       "0.776"
      ]
     },
     "execution_count": 11,
     "metadata": {},
     "output_type": "execute_result"
    }
   ],
   "source": [
    "#note that single letter at the end is not predictive, so use last TWO letters\n",
    "def gender_features(word):\n",
    "    return {'suffix1': word[-1:], 'suffix2': word[-2:]}\n",
    "\n",
    "train_set = [(gender_features(n), gender) for (n, gender) in train_names]\n",
    "devtest_set = [(gender_features(n), gender) for (n, gender) in devtest_names]\n",
    "classifier = nltk.NaiveBayesClassifier.train(train_set)\n",
    "nltk.classify.accuracy(classifier, devtest_set)"
   ]
  },
  {
   "cell_type": "markdown",
   "metadata": {},
   "source": [
    "## Movie Review Corpus"
   ]
  },
  {
   "cell_type": "code",
   "execution_count": 12,
   "metadata": {},
   "outputs": [],
   "source": [
    "from nltk.corpus import movie_reviews\n",
    "import random\n",
    "documents = [(list(movie_reviews.words(fileid)), category) for category in movie_reviews.categories() for fileid in movie_reviews.fileids(category)]\n",
    "random.shuffle(documents) #random order"
   ]
  },
  {
   "cell_type": "code",
   "execution_count": 13,
   "metadata": {},
   "outputs": [
    {
     "data": {
      "text/plain": [
       "{'contains(,)': True,\n",
       " 'contains(the)': True,\n",
       " 'contains(.)': True,\n",
       " 'contains(a)': True,\n",
       " 'contains(and)': True,\n",
       " 'contains(of)': True,\n",
       " 'contains(to)': True,\n",
       " \"contains(')\": True,\n",
       " 'contains(is)': True,\n",
       " 'contains(in)': True,\n",
       " 'contains(s)': True,\n",
       " 'contains(\")': True,\n",
       " 'contains(it)': True,\n",
       " 'contains(that)': True,\n",
       " 'contains(-)': True,\n",
       " 'contains())': True,\n",
       " 'contains(()': True,\n",
       " 'contains(as)': True,\n",
       " 'contains(with)': True,\n",
       " 'contains(for)': True}"
      ]
     },
     "execution_count": 13,
     "metadata": {},
     "output_type": "execute_result"
    }
   ],
   "source": [
    "all_words = nltk.FreqDist(w.lower() for w in movie_reviews.words())\n",
    "word_features = list(all_words)[:2000]\n",
    "\n",
    "def document_features(document):\n",
    "    document_words = set(document)\n",
    "    features = {}\n",
    "    for word in word_features:\n",
    "        features[\"contains({})\".format(word)] = (word in document_words)\n",
    "    return features\n",
    "\n",
    "sample = document_features(movie_reviews.words(\"pos/cv957_8737.txt\"))\n",
    "dict(list(sample.items())[0:20])"
   ]
  },
  {
   "cell_type": "code",
   "execution_count": 14,
   "metadata": {},
   "outputs": [
    {
     "data": {
      "text/plain": [
       "0.75"
      ]
     },
     "execution_count": 14,
     "metadata": {},
     "output_type": "execute_result"
    }
   ],
   "source": [
    "featuresets = [(document_features(d), c) for (d,c) in documents]\n",
    "train_set, test_set = featuresets[100:], featuresets[:100]\n",
    "classifier = nltk.NaiveBayesClassifier.train(train_set)\n",
    "nltk.classify.accuracy(classifier, test_set)"
   ]
  },
  {
   "cell_type": "code",
   "execution_count": 15,
   "metadata": {},
   "outputs": [
    {
     "name": "stdout",
     "output_type": "stream",
     "text": [
      "Most Informative Features\n",
      "   contains(outstanding) = True              pos : neg    =     13.8 : 1.0\n",
      "         contains(mulan) = True              pos : neg    =      9.0 : 1.0\n",
      "        contains(seagal) = True              neg : pos    =      7.4 : 1.0\n",
      "   contains(wonderfully) = True              pos : neg    =      7.3 : 1.0\n",
      "         contains(damon) = True              pos : neg    =      5.6 : 1.0\n"
     ]
    }
   ],
   "source": [
    "classifier.show_most_informative_features(5)"
   ]
  },
  {
   "cell_type": "code",
   "execution_count": 16,
   "metadata": {},
   "outputs": [
    {
     "data": {
      "text/html": [
       "<div>\n",
       "<style scoped>\n",
       "    .dataframe tbody tr th:only-of-type {\n",
       "        vertical-align: middle;\n",
       "    }\n",
       "\n",
       "    .dataframe tbody tr th {\n",
       "        vertical-align: top;\n",
       "    }\n",
       "\n",
       "    .dataframe thead th {\n",
       "        text-align: right;\n",
       "    }\n",
       "</style>\n",
       "<table border=\"1\" class=\"dataframe\">\n",
       "  <thead>\n",
       "    <tr style=\"text-align: right;\">\n",
       "      <th></th>\n",
       "      <th>words</th>\n",
       "      <th>category</th>\n",
       "    </tr>\n",
       "  </thead>\n",
       "  <tbody>\n",
       "    <tr>\n",
       "      <th>0</th>\n",
       "      <td>[\", gordy, \", is, not, a, movie, ,, it, is, a,...</td>\n",
       "      <td>neg</td>\n",
       "    </tr>\n",
       "    <tr>\n",
       "      <th>1</th>\n",
       "      <td>[deserves, recognition, for, :, making, this, ...</td>\n",
       "      <td>neg</td>\n",
       "    </tr>\n",
       "    <tr>\n",
       "      <th>2</th>\n",
       "      <td>[note, :, some, may, consider, portions, of, t...</td>\n",
       "      <td>pos</td>\n",
       "    </tr>\n",
       "    <tr>\n",
       "      <th>3</th>\n",
       "      <td>[\", the, beach, \", is, a, structurally, confus...</td>\n",
       "      <td>neg</td>\n",
       "    </tr>\n",
       "    <tr>\n",
       "      <th>4</th>\n",
       "      <td>[mighty, joe, young, blunders, about, for, nea...</td>\n",
       "      <td>neg</td>\n",
       "    </tr>\n",
       "  </tbody>\n",
       "</table>\n",
       "</div>"
      ],
      "text/plain": [
       "                                               words category\n",
       "0  [\", gordy, \", is, not, a, movie, ,, it, is, a,...      neg\n",
       "1  [deserves, recognition, for, :, making, this, ...      neg\n",
       "2  [note, :, some, may, consider, portions, of, t...      pos\n",
       "3  [\", the, beach, \", is, a, structurally, confus...      neg\n",
       "4  [mighty, joe, young, blunders, about, for, nea...      neg"
      ]
     },
     "execution_count": 16,
     "metadata": {},
     "output_type": "execute_result"
    }
   ],
   "source": [
    "import pandas as pd\n",
    "\n",
    "movies_df = pd.DataFrame(documents, columns=[\"words\", \"category\"])\n",
    "movies_df.head()    "
   ]
  },
  {
   "cell_type": "code",
   "execution_count": 17,
   "metadata": {},
   "outputs": [
    {
     "data": {
      "text/html": [
       "<div>\n",
       "<style scoped>\n",
       "    .dataframe tbody tr th:only-of-type {\n",
       "        vertical-align: middle;\n",
       "    }\n",
       "\n",
       "    .dataframe tbody tr th {\n",
       "        vertical-align: top;\n",
       "    }\n",
       "\n",
       "    .dataframe thead th {\n",
       "        text-align: right;\n",
       "    }\n",
       "</style>\n",
       "<table border=\"1\" class=\"dataframe\">\n",
       "  <thead>\n",
       "    <tr style=\"text-align: right;\">\n",
       "      <th></th>\n",
       "      <th>words</th>\n",
       "      <th>category</th>\n",
       "    </tr>\n",
       "  </thead>\n",
       "  <tbody>\n",
       "    <tr>\n",
       "      <th>0</th>\n",
       "      <td>[gordy, is, not, a, movie, it, is, a, 90, minu...</td>\n",
       "      <td>neg</td>\n",
       "    </tr>\n",
       "    <tr>\n",
       "      <th>1</th>\n",
       "      <td>[deserves, recognition, for, making, this, rel...</td>\n",
       "      <td>neg</td>\n",
       "    </tr>\n",
       "    <tr>\n",
       "      <th>2</th>\n",
       "      <td>[note, some, may, consider, portions, of, the,...</td>\n",
       "      <td>pos</td>\n",
       "    </tr>\n",
       "    <tr>\n",
       "      <th>3</th>\n",
       "      <td>[the, beach, is, a, structurally, confusing, f...</td>\n",
       "      <td>neg</td>\n",
       "    </tr>\n",
       "    <tr>\n",
       "      <th>4</th>\n",
       "      <td>[mighty, joe, young, blunders, about, for, nea...</td>\n",
       "      <td>neg</td>\n",
       "    </tr>\n",
       "  </tbody>\n",
       "</table>\n",
       "</div>"
      ],
      "text/plain": [
       "                                               words category\n",
       "0  [gordy, is, not, a, movie, it, is, a, 90, minu...      neg\n",
       "1  [deserves, recognition, for, making, this, rel...      neg\n",
       "2  [note, some, may, consider, portions, of, the,...      pos\n",
       "3  [the, beach, is, a, structurally, confusing, f...      neg\n",
       "4  [mighty, joe, young, blunders, about, for, nea...      neg"
      ]
     },
     "execution_count": 17,
     "metadata": {},
     "output_type": "execute_result"
    }
   ],
   "source": [
    "#remove punctuation\n",
    "import string\n",
    "punc = string.punctuation\n",
    "movies_df[\"words\"] = movies_df[\"words\"].apply(lambda x: [word for word in x if word not in punc])\n",
    "movies_df.head()"
   ]
  },
  {
   "cell_type": "code",
   "execution_count": 18,
   "metadata": {},
   "outputs": [
    {
     "data": {
      "text/plain": [
       "words       0\n",
       "category    0\n",
       "dtype: int64"
      ]
     },
     "execution_count": 18,
     "metadata": {},
     "output_type": "execute_result"
    }
   ],
   "source": [
    "#check for null values\n",
    "movies_df.isnull().sum()"
   ]
  },
  {
   "cell_type": "code",
   "execution_count": 19,
   "metadata": {},
   "outputs": [
    {
     "data": {
      "text/html": [
       "<div>\n",
       "<style scoped>\n",
       "    .dataframe tbody tr th:only-of-type {\n",
       "        vertical-align: middle;\n",
       "    }\n",
       "\n",
       "    .dataframe tbody tr th {\n",
       "        vertical-align: top;\n",
       "    }\n",
       "\n",
       "    .dataframe thead th {\n",
       "        text-align: right;\n",
       "    }\n",
       "</style>\n",
       "<table border=\"1\" class=\"dataframe\">\n",
       "  <thead>\n",
       "    <tr style=\"text-align: right;\">\n",
       "      <th></th>\n",
       "      <th>words</th>\n",
       "      <th>category</th>\n",
       "      <th>length</th>\n",
       "    </tr>\n",
       "  </thead>\n",
       "  <tbody>\n",
       "    <tr>\n",
       "      <th>0</th>\n",
       "      <td>[gordy, is, not, a, movie, it, is, a, 90, minu...</td>\n",
       "      <td>neg</td>\n",
       "      <td>502</td>\n",
       "    </tr>\n",
       "    <tr>\n",
       "      <th>1</th>\n",
       "      <td>[deserves, recognition, for, making, this, rel...</td>\n",
       "      <td>neg</td>\n",
       "      <td>184</td>\n",
       "    </tr>\n",
       "    <tr>\n",
       "      <th>2</th>\n",
       "      <td>[note, some, may, consider, portions, of, the,...</td>\n",
       "      <td>pos</td>\n",
       "      <td>982</td>\n",
       "    </tr>\n",
       "    <tr>\n",
       "      <th>3</th>\n",
       "      <td>[the, beach, is, a, structurally, confusing, f...</td>\n",
       "      <td>neg</td>\n",
       "      <td>580</td>\n",
       "    </tr>\n",
       "    <tr>\n",
       "      <th>4</th>\n",
       "      <td>[mighty, joe, young, blunders, about, for, nea...</td>\n",
       "      <td>neg</td>\n",
       "      <td>739</td>\n",
       "    </tr>\n",
       "  </tbody>\n",
       "</table>\n",
       "</div>"
      ],
      "text/plain": [
       "                                               words category  length\n",
       "0  [gordy, is, not, a, movie, it, is, a, 90, minu...      neg     502\n",
       "1  [deserves, recognition, for, making, this, rel...      neg     184\n",
       "2  [note, some, may, consider, portions, of, the,...      pos     982\n",
       "3  [the, beach, is, a, structurally, confusing, f...      neg     580\n",
       "4  [mighty, joe, young, blunders, about, for, nea...      neg     739"
      ]
     },
     "execution_count": 19,
     "metadata": {},
     "output_type": "execute_result"
    }
   ],
   "source": [
    "#review length\n",
    "movies_df[\"length\"] = movies_df[\"words\"].apply(len)\n",
    "movies_df.head()"
   ]
  },
  {
   "cell_type": "code",
   "execution_count": 20,
   "metadata": {},
   "outputs": [
    {
     "data": {
      "text/plain": [
       "<seaborn.axisgrid.FacetGrid at 0x7f9eb8615e20>"
      ]
     },
     "execution_count": 20,
     "metadata": {},
     "output_type": "execute_result"
    },
    {
     "data": {
      "image/png": "[encoded data removed]",
      "text/plain": [
       "<Figure size 360x360 with 1 Axes>"
      ]
     },
     "metadata": {
      "needs_background": "light"
     },
     "output_type": "display_data"
    }
   ],
   "source": [
    "#visualize\n",
    "import matplotlib.pyplot as plt\n",
    "import seaborn as sns\n",
    "sns.displot(movies_df[\"length\"],kde=False)"
   ]
  },
  {
   "cell_type": "code",
   "execution_count": 21,
   "metadata": {},
   "outputs": [],
   "source": [
    "#remove stop words\n",
    "from nltk.corpus import stopwords\n",
    "stop_words = set(stopwords.words(\"english\"))\n",
    "movies_df[\"words\"] = movies_df[\"words\"].apply(lambda x: [word for word in x if word not in stop_words])"
   ]
  },
  {
   "cell_type": "code",
   "execution_count": 22,
   "metadata": {},
   "outputs": [
    {
     "data": {
      "text/plain": [
       "<seaborn.axisgrid.FacetGrid at 0x7f9eb898ddf0>"
      ]
     },
     "execution_count": 22,
     "metadata": {},
     "output_type": "execute_result"
    },
    {
     "data": {
      "image/png": "[encoded data removed]",
      "text/plain": [
       "<Figure size 360x360 with 1 Axes>"
      ]
     },
     "metadata": {
      "needs_background": "light"
     },
     "output_type": "display_data"
    }
   ],
   "source": [
    "#update length\n",
    "movies_df[\"length\"] = movies_df[\"words\"].apply(len)\n",
    "sns.displot(movies_df[\"length\"],kde=False)"
   ]
  },
  {
   "cell_type": "code",
   "execution_count": 23,
   "metadata": {},
   "outputs": [
    {
     "data": {
      "text/html": [
       "<div>\n",
       "<style scoped>\n",
       "    .dataframe tbody tr th:only-of-type {\n",
       "        vertical-align: middle;\n",
       "    }\n",
       "\n",
       "    .dataframe tbody tr th {\n",
       "        vertical-align: top;\n",
       "    }\n",
       "\n",
       "    .dataframe thead th {\n",
       "        text-align: right;\n",
       "    }\n",
       "</style>\n",
       "<table border=\"1\" class=\"dataframe\">\n",
       "  <thead>\n",
       "    <tr style=\"text-align: right;\">\n",
       "      <th></th>\n",
       "      <th>words</th>\n",
       "      <th>category</th>\n",
       "      <th>length</th>\n",
       "      <th>text</th>\n",
       "    </tr>\n",
       "  </thead>\n",
       "  <tbody>\n",
       "    <tr>\n",
       "      <th>0</th>\n",
       "      <td>[gordy, movie, 90, minute, long, sesame, stree...</td>\n",
       "      <td>neg</td>\n",
       "      <td>253</td>\n",
       "      <td>gordy movie 90 minute long sesame street skit ...</td>\n",
       "    </tr>\n",
       "    <tr>\n",
       "      <th>1</th>\n",
       "      <td>[deserves, recognition, making, relatively, yo...</td>\n",
       "      <td>neg</td>\n",
       "      <td>107</td>\n",
       "      <td>deserves recognition making relatively youthfu...</td>\n",
       "    </tr>\n",
       "    <tr>\n",
       "      <th>2</th>\n",
       "      <td>[note, may, consider, portions, following, tex...</td>\n",
       "      <td>pos</td>\n",
       "      <td>552</td>\n",
       "      <td>note may consider portions following text spoi...</td>\n",
       "    </tr>\n",
       "    <tr>\n",
       "      <th>3</th>\n",
       "      <td>[beach, structurally, confusing, film, describ...</td>\n",
       "      <td>neg</td>\n",
       "      <td>302</td>\n",
       "      <td>beach structurally confusing film describe mul...</td>\n",
       "    </tr>\n",
       "    <tr>\n",
       "      <th>4</th>\n",
       "      <td>[mighty, joe, young, blunders, nearly, twenty,...</td>\n",
       "      <td>neg</td>\n",
       "      <td>363</td>\n",
       "      <td>mighty joe young blunders nearly twenty minute...</td>\n",
       "    </tr>\n",
       "  </tbody>\n",
       "</table>\n",
       "</div>"
      ],
      "text/plain": [
       "                                               words category  length  \\\n",
       "0  [gordy, movie, 90, minute, long, sesame, stree...      neg     253   \n",
       "1  [deserves, recognition, making, relatively, yo...      neg     107   \n",
       "2  [note, may, consider, portions, following, tex...      pos     552   \n",
       "3  [beach, structurally, confusing, film, describ...      neg     302   \n",
       "4  [mighty, joe, young, blunders, nearly, twenty,...      neg     363   \n",
       "\n",
       "                                                text  \n",
       "0  gordy movie 90 minute long sesame street skit ...  \n",
       "1  deserves recognition making relatively youthfu...  \n",
       "2  note may consider portions following text spoi...  \n",
       "3  beach structurally confusing film describe mul...  \n",
       "4  mighty joe young blunders nearly twenty minute...  "
      ]
     },
     "execution_count": 23,
     "metadata": {},
     "output_type": "execute_result"
    }
   ],
   "source": [
    "#join the words \n",
    "movies_df[\"text\"] = [' '.join(map(str, l)) for l in movies_df[\"words\"]]\n",
    "movies_df.head()"
   ]
  },
  {
   "cell_type": "code",
   "execution_count": 24,
   "metadata": {},
   "outputs": [
    {
     "data": {
      "text/plain": [
       "<AxesSubplot:xlabel='category', ylabel='count'>"
      ]
     },
     "execution_count": 24,
     "metadata": {},
     "output_type": "execute_result"
    },
    {
     "data": {
      "image/png": "[encoded data removed]",
      "text/plain": [
       "<Figure size 432x288 with 1 Axes>"
      ]
     },
     "metadata": {
      "needs_background": "light"
     },
     "output_type": "display_data"
    }
   ],
   "source": [
    "# visualization of categories\n",
    "sns.countplot(x = movies_df[\"category\"])"
   ]
  },
  {
   "cell_type": "code",
   "execution_count": 25,
   "metadata": {},
   "outputs": [],
   "source": [
    "# extract the category column to be the target 'y' variable\n",
    "y = movies_df.category\n",
    "\n",
    "# text is the single feature used in classification\n",
    "X1 = movies_df.text"
   ]
  },
  {
   "cell_type": "markdown",
   "metadata": {},
   "source": [
    "### Vectorize"
   ]
  },
  {
   "cell_type": "code",
   "execution_count": 26,
   "metadata": {},
   "outputs": [],
   "source": [
    "from sklearn.feature_extraction.text import CountVectorizer\n",
    "count_vectorizer = CountVectorizer()\n",
    "X = count_vectorizer.fit_transform(X1)\n",
    "feature_names = count_vectorizer.get_feature_names_out()"
   ]
  },
  {
   "cell_type": "code",
   "execution_count": 27,
   "metadata": {},
   "outputs": [
    {
     "data": {
      "text/plain": [
       "39516"
      ]
     },
     "execution_count": 27,
     "metadata": {},
     "output_type": "execute_result"
    }
   ],
   "source": [
    "len(feature_names)"
   ]
  },
  {
   "cell_type": "code",
   "execution_count": 28,
   "metadata": {},
   "outputs": [
    {
     "data": {
      "text/plain": [
       "array(['rueff', 'rueland', 'ruffian', 'ruffians', 'ruffini', 'ruffle',\n",
       "       'rufus', 'rug', 'rugby', 'rugged'], dtype=object)"
      ]
     },
     "execution_count": 28,
     "metadata": {},
     "output_type": "execute_result"
    }
   ],
   "source": [
    "feature_names[30000:30010]"
   ]
  },
  {
   "cell_type": "code",
   "execution_count": 29,
   "metadata": {},
   "outputs": [
    {
     "name": "stdout",
     "output_type": "stream",
     "text": [
      "(2000, 39516)\n"
     ]
    },
    {
     "data": {
      "text/plain": [
       "array([0, 0, 0, ..., 0, 0, 0])"
      ]
     },
     "execution_count": 29,
     "metadata": {},
     "output_type": "execute_result"
    }
   ],
   "source": [
    "X = X.toarray()\n",
    "print(X.shape)\n",
    "X[0]"
   ]
  },
  {
   "cell_type": "code",
   "execution_count": 30,
   "metadata": {},
   "outputs": [
    {
     "name": "stdout",
     "output_type": "stream",
     "text": [
      "(2000,)\n"
     ]
    },
    {
     "data": {
      "text/plain": [
       "'neg'"
      ]
     },
     "execution_count": 30,
     "metadata": {},
     "output_type": "execute_result"
    }
   ],
   "source": [
    "y = movies_df.category\n",
    "print(y.shape)\n",
    "y[0]"
   ]
  },
  {
   "cell_type": "markdown",
   "metadata": {},
   "source": [
    "### Split into to testing and training set\n",
    "\n",
    "We're using sci kit learns's [test_train_split](https://scikit-learn.org/stable/modules/generated/sklearn.model_selection.train_test_split.html) function. The default size for the test set is 0.25.  This has arandom_state parameter to produce reproducible output across multiple function calls."
   ]
  },
  {
   "cell_type": "code",
   "execution_count": 31,
   "metadata": {},
   "outputs": [],
   "source": [
    "from sklearn.model_selection import train_test_split\n",
    "\n",
    "X_train, X_test, y_train, y_test = train_test_split(X, y, test_size = 0.2, random_state=0)"
   ]
  },
  {
   "cell_type": "code",
   "execution_count": 32,
   "metadata": {},
   "outputs": [
    {
     "name": "stdout",
     "output_type": "stream",
     "text": [
      "Accuracy of NB  classifier on training set: 0.98\n",
      "Accuracy of NB classifier on test set: 0.79\n"
     ]
    }
   ],
   "source": [
    "from sklearn.naive_bayes import MultinomialNB\n",
    "\n",
    "clf_nb = MultinomialNB()\n",
    "clf_nb.fit(X_train, y_train)\n",
    "\n",
    "print('Accuracy of NB  classifier on training set: {:.2f}'.format(clf_nb.score(X_train, y_train)))\n",
    "print('Accuracy of NB classifier on test set: {:.2f}'.format(clf_nb.score(X_test, y_test)))"
   ]
  },
  {
   "cell_type": "code",
   "execution_count": 33,
   "metadata": {},
   "outputs": [
    {
     "name": "stdout",
     "output_type": "stream",
     "text": [
      "Accuracy: 78.75%\n"
     ]
    }
   ],
   "source": [
    "# Predict and calculate accuracy\n",
    "from sklearn.metrics import accuracy_score, classification_report\n",
    "\n",
    "y_predict = clf_nb.predict(X_test)\n",
    "score=accuracy_score(y_test,y_predict)\n",
    "print(\"Accuracy: {}%\".format(round(score*100,2)))"
   ]
  },
  {
   "cell_type": "code",
   "execution_count": 34,
   "metadata": {},
   "outputs": [
    {
     "name": "stdout",
     "output_type": "stream",
     "text": [
      "              precision    recall  f1-score   support\n",
      "\n",
      "         neg       0.80      0.81      0.80       216\n",
      "         pos       0.77      0.77      0.77       184\n",
      "\n",
      "    accuracy                           0.79       400\n",
      "   macro avg       0.79      0.79      0.79       400\n",
      "weighted avg       0.79      0.79      0.79       400\n",
      "\n"
     ]
    }
   ],
   "source": [
    "#The support is the number of samples of the true response that lie in that class.\n",
    "print(classification_report(y_test, y_predict))"
   ]
  },
  {
   "cell_type": "markdown",
   "metadata": {},
   "source": [
    "### Confusion Matrix"
   ]
  },
  {
   "cell_type": "code",
   "execution_count": 35,
   "metadata": {},
   "outputs": [
    {
     "name": "stdout",
     "output_type": "stream",
     "text": [
      "[[174  42]\n",
      " [ 43 141]]\n"
     ]
    }
   ],
   "source": [
    "from sklearn import metrics\n",
    "\n",
    "cm = metrics.confusion_matrix(y_test, y_predict)\n",
    "print(cm)"
   ]
  },
  {
   "cell_type": "code",
   "execution_count": 36,
   "metadata": {},
   "outputs": [
    {
     "data": {
      "image/png": "[encoded data removed]",
      "text/plain": [
       "<Figure size 648x648 with 2 Axes>"
      ]
     },
     "metadata": {
      "needs_background": "light"
     },
     "output_type": "display_data"
    }
   ],
   "source": [
    "plt.figure(figsize=(9,9))\n",
    "sns.heatmap(cm, annot=True, fmt=\".3f\", linewidths=.5, square = True, cmap = 'Blues_r');\n",
    "plt.ylabel('Actual label');\n",
    "plt.xlabel('Predicted label');\n",
    "all_sample_title = 'Accuracy Score: {0}'.format(score)\n",
    "plt.title(all_sample_title, size = 15);"
   ]
  },
  {
   "cell_type": "markdown",
   "metadata": {},
   "source": [
    "### TF-IDF\n",
    "Use TF-IDF instead of bag-of-words to see if it improves the classifier."
   ]
  },
  {
   "cell_type": "code",
   "execution_count": 39,
   "metadata": {},
   "outputs": [
    {
     "data": {
      "text/plain": [
       "39516"
      ]
     },
     "execution_count": 39,
     "metadata": {},
     "output_type": "execute_result"
    }
   ],
   "source": [
    "from sklearn.feature_extraction.text import TfidfVectorizer\n",
    "transformer = TfidfVectorizer(smooth_idf=False )\n",
    "tf_idf = transformer.fit_transform(X1)\n",
    "feature_names = transformer.get_feature_names_out()\n",
    "len(feature_names)"
   ]
  },
  {
   "cell_type": "code",
   "execution_count": 40,
   "metadata": {},
   "outputs": [],
   "source": [
    "#split into test/train\n",
    "X_train, X_test, y_train, y_test = train_test_split(tf_idf, y, test_size = 0.2, random_state=0) "
   ]
  },
  {
   "cell_type": "code",
   "execution_count": 41,
   "metadata": {},
   "outputs": [
    {
     "name": "stdout",
     "output_type": "stream",
     "text": [
      "              precision    recall  f1-score   support\n",
      "\n",
      "         neg       0.87      0.73      0.79       216\n",
      "         pos       0.73      0.87      0.79       184\n",
      "\n",
      "    accuracy                           0.79       400\n",
      "   macro avg       0.80      0.80      0.79       400\n",
      "weighted avg       0.80      0.79      0.79       400\n",
      "\n"
     ]
    }
   ],
   "source": [
    "#classify\n",
    "\n",
    "clf_nb.fit(X_train, y_train)\n",
    "y_predict = clf_nb.predict(X_test)\n",
    "print(classification_report(y_test, y_predict))"
   ]
  },
  {
   "cell_type": "markdown",
   "metadata": {},
   "source": [
    "### N-Grams"
   ]
  },
  {
   "cell_type": "code",
   "execution_count": 42,
   "metadata": {},
   "outputs": [
    {
     "data": {
      "text/plain": [
       "567258"
      ]
     },
     "execution_count": 42,
     "metadata": {},
     "output_type": "execute_result"
    }
   ],
   "source": [
    "from sklearn.feature_extraction.text import TfidfTransformer\n",
    "transformer = TfidfTransformer(smooth_idf=False)\n",
    "count_vectorizer = CountVectorizer(ngram_range=(1, 2)) #unigrams and bi-grams\n",
    "ngrams = count_vectorizer.fit_transform(X1)\n",
    "\n",
    "#fit the ngrams count to the tfidf transformers\n",
    "ngrams_tfidf = transformer.fit_transform(ngrams)\n",
    "\n",
    "feature_names = count_vectorizer.get_feature_names_out()\n",
    "len(feature_names)"
   ]
  },
  {
   "cell_type": "code",
   "execution_count": 43,
   "metadata": {},
   "outputs": [],
   "source": [
    "#split into test/train\n",
    "X_train, X_test, y_train, y_test = train_test_split(ngrams_tfidf, y, test_size = 0.2, random_state=0)"
   ]
  },
  {
   "cell_type": "code",
   "execution_count": 44,
   "metadata": {},
   "outputs": [
    {
     "name": "stdout",
     "output_type": "stream",
     "text": [
      "              precision    recall  f1-score   support\n",
      "\n",
      "         neg       0.88      0.58      0.70       216\n",
      "         pos       0.65      0.91      0.76       184\n",
      "\n",
      "    accuracy                           0.73       400\n",
      "   macro avg       0.76      0.74      0.73       400\n",
      "weighted avg       0.77      0.73      0.72       400\n",
      "\n"
     ]
    }
   ],
   "source": [
    "#classify\n",
    "\n",
    "clf_nb.fit(X_train, y_train)\n",
    "y_predict = clf_nb.predict(X_test)\n",
    "print(classification_report(y_test, y_predict))"
   ]
  },
  {
   "cell_type": "markdown",
   "metadata": {},
   "source": [
    "### Other Classifiers\n",
    "\n",
    "More information on these classifiers is available from the [Sci-Kit learn documents](https://scikit-learn.org/stable/supervised_learning.html)."
   ]
  },
  {
   "cell_type": "code",
   "execution_count": 45,
   "metadata": {},
   "outputs": [
    {
     "name": "stdout",
     "output_type": "stream",
     "text": [
      "              precision    recall  f1-score   support\n",
      "\n",
      "         neg       0.68      0.66      0.67       216\n",
      "         pos       0.62      0.64      0.63       184\n",
      "\n",
      "    accuracy                           0.65       400\n",
      "   macro avg       0.65      0.65      0.65       400\n",
      "weighted avg       0.65      0.65      0.65       400\n",
      "\n"
     ]
    }
   ],
   "source": [
    "# decision trees\n",
    "from sklearn import tree\n",
    "clf_dt = tree.DecisionTreeClassifier()\n",
    "clf_dt.fit(X_train, y_train)\n",
    "y_predict = clf_dt.predict(X_test)\n",
    "print(classification_report(y_test, y_predict))"
   ]
  },
  {
   "cell_type": "code",
   "execution_count": 46,
   "metadata": {},
   "outputs": [
    {
     "name": "stdout",
     "output_type": "stream",
     "text": [
      "              precision    recall  f1-score   support\n",
      "\n",
      "         neg       0.84      0.72      0.78       216\n",
      "         pos       0.72      0.84      0.78       184\n",
      "\n",
      "    accuracy                           0.78       400\n",
      "   macro avg       0.78      0.78      0.78       400\n",
      "weighted avg       0.79      0.78      0.78       400\n",
      "\n"
     ]
    }
   ],
   "source": [
    "#SVM\n",
    "from sklearn import svm\n",
    "clf_svm = svm.SVC()\n",
    "clf_svm.fit(X_train, y_train)\n",
    "y_predict = clf_svm.predict(X_test)\n",
    "print(classification_report(y_test, y_predict))"
   ]
  },
  {
   "cell_type": "code",
   "execution_count": 47,
   "metadata": {},
   "outputs": [
    {
     "name": "stdout",
     "output_type": "stream",
     "text": [
      "              precision    recall  f1-score   support\n",
      "\n",
      "         neg       0.84      0.73      0.78       216\n",
      "         pos       0.73      0.84      0.78       184\n",
      "\n",
      "    accuracy                           0.78       400\n",
      "   macro avg       0.79      0.79      0.78       400\n",
      "weighted avg       0.79      0.78      0.78       400\n",
      "\n"
     ]
    }
   ],
   "source": [
    "#maxent\n",
    "from sklearn.linear_model import LogisticRegression\n",
    "clf_lr = LogisticRegression(random_state=0).fit(X_train, y_train)\n",
    "y_predict = clf_lr.predict(X_test)\n",
    "print(classification_report(y_test, y_predict))"
   ]
  }
 ],
 "metadata": {
  "kernelspec": {
   "display_name": "Python 3 (ipykernel)",
   "language": "python",
   "name": "python3"
  },
  "language_info": {
   "codemirror_mode": {
    "name": "ipython",
    "version": 3
   },
   "file_extension": ".py",
   "mimetype": "text/x-python",
   "name": "python",
   "nbconvert_exporter": "python",
   "pygments_lexer": "ipython3",
   "version": "3.9.6"
  }
 },
 "nbformat": 4,
 "nbformat_minor": 4
}
