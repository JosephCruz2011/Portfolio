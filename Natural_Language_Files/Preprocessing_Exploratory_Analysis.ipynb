{
 "cells": [
  {
   "cell_type": "markdown",
   "metadata": {},
   "source": [
    "# Preprocessing and Exploratory Data Analysis"
   ]
  },
  {
   "cell_type": "markdown",
   "metadata": {},
   "source": [
    "## Example 1 - NLTK Text\n",
    "Uses introductory examples from the NLTK Book.  A `Text` object is a wrapper around a sequence of simple (string) tokens, which is intended to support initial exploration of texts."
   ]
  },
  {
   "cell_type": "code",
   "execution_count": 1,
   "metadata": {},
   "outputs": [
    {
     "name": "stdout",
     "output_type": "stream",
     "text": [
      "*** Introductory Examples for the NLTK Book ***\n",
      "Loading text1, ..., text9 and sent1, ..., sent9\n",
      "Type the name of the text or sentence to view it.\n",
      "Type: 'texts()' or 'sents()' to list the materials.\n",
      "text1: Moby Dick by Herman Melville 1851\n",
      "text2: Sense and Sensibility by Jane Austen 1811\n",
      "text3: The Book of Genesis\n",
      "text4: Inaugural Address Corpus\n",
      "text5: Chat Corpus\n",
      "text6: Monty Python and the Holy Grail\n",
      "text7: Wall Street Journal\n",
      "text8: Personals Corpus\n",
      "text9: The Man Who Was Thursday by G . K . Chesterton 1908\n"
     ]
    }
   ],
   "source": [
    "from nltk.book import *\n"
   ]
  },
  {
   "cell_type": "markdown",
   "metadata": {},
   "source": [
    "**number of tokens**"
   ]
  },
  {
   "cell_type": "code",
   "execution_count": 66,
   "metadata": {},
   "outputs": [
    {
     "data": {
      "text/plain": [
       "147416"
      ]
     },
     "execution_count": 66,
     "metadata": {},
     "output_type": "execute_result"
    }
   ],
   "source": [
    "len(text4)"
   ]
  },
  {
   "cell_type": "markdown",
   "metadata": {},
   "source": [
    "**number of types**"
   ]
  },
  {
   "cell_type": "code",
   "execution_count": 67,
   "metadata": {},
   "outputs": [
    {
     "data": {
      "text/plain": [
       "9842"
      ]
     },
     "execution_count": 67,
     "metadata": {},
     "output_type": "execute_result"
    }
   ],
   "source": [
    "len(set(text4)) "
   ]
  },
  {
   "cell_type": "markdown",
   "metadata": {},
   "source": [
    "**number of types without capitalization**"
   ]
  },
  {
   "cell_type": "code",
   "execution_count": 68,
   "metadata": {},
   "outputs": [
    {
     "data": {
      "text/plain": [
       "9142"
      ]
     },
     "execution_count": 68,
     "metadata": {},
     "output_type": "execute_result"
    }
   ],
   "source": [
    "len(set(word.lower() for word in text4)) "
   ]
  },
  {
   "cell_type": "markdown",
   "metadata": {},
   "source": [
    "**remove punctuation**"
   ]
  },
  {
   "cell_type": "code",
   "execution_count": 69,
   "metadata": {},
   "outputs": [
    {
     "data": {
      "text/plain": [
       "9035"
      ]
     },
     "execution_count": 69,
     "metadata": {},
     "output_type": "execute_result"
    }
   ],
   "source": [
    "len(set(word.lower() for word in text4 if word.isalpha())) "
   ]
  },
  {
   "cell_type": "markdown",
   "metadata": {},
   "source": [
    "## Frequency Distributions\n",
    " Frequency distributions tell us the frequency of each vocabulary item in the text."
   ]
  },
  {
   "cell_type": "code",
   "execution_count": 70,
   "metadata": {},
   "outputs": [
    {
     "data": {
      "text/plain": [
       "FreqDist({'the': 9976, 'of': 7034, ',': 6935, 'and': 5213, '.': 4764, 'to': 4469, 'in': 2763, 'a': 2208, 'our': 2106, 'that': 1734, ...})"
      ]
     },
     "execution_count": 70,
     "metadata": {},
     "output_type": "execute_result"
    }
   ],
   "source": [
    "fdist1 = FreqDist(word.lower() for word in text4)\n",
    "fdist1"
   ]
  },
  {
   "cell_type": "code",
   "execution_count": 71,
   "metadata": {},
   "outputs": [
    {
     "data": {
      "text/plain": [
       "[('the', 9976),\n",
       " ('of', 7034),\n",
       " (',', 6935),\n",
       " ('and', 5213),\n",
       " ('.', 4764),\n",
       " ('to', 4469),\n",
       " ('in', 2763),\n",
       " ('a', 2208),\n",
       " ('our', 2106),\n",
       " ('that', 1734),\n",
       " ('we', 1671),\n",
       " ('be', 1472),\n",
       " ('is', 1437),\n",
       " ('it', 1377),\n",
       " ('for', 1169),\n",
       " ('by', 1072),\n",
       " ('which', 1006),\n",
       " ('have', 1002),\n",
       " ('with', 945),\n",
       " ('as', 935),\n",
       " ('not', 934),\n",
       " ('will', 891),\n",
       " ('i', 835),\n",
       " ('this', 822),\n",
       " ('all', 806),\n",
       " ('are', 793),\n",
       " ('their', 749),\n",
       " ('but', 641),\n",
       " ('has', 618),\n",
       " ('government', 596),\n",
       " ('people', 572),\n",
       " ('its', 568),\n",
       " ('from', 562),\n",
       " (';', 553),\n",
       " ('or', 546),\n",
       " ('on', 527),\n",
       " ('my', 492),\n",
       " ('been', 486),\n",
       " ('can', 466),\n",
       " ('no', 459),\n",
       " ('us', 457),\n",
       " ('they', 445),\n",
       " ('so', 386),\n",
       " ('an', 383),\n",
       " ('upon', 370),\n",
       " ('--', 363),\n",
       " ('who', 362),\n",
       " ('must', 349),\n",
       " ('at', 346),\n",
       " ('great', 337)]"
      ]
     },
     "execution_count": 71,
     "metadata": {},
     "output_type": "execute_result"
    }
   ],
   "source": [
    "fdist1.most_common(50)"
   ]
  },
  {
   "cell_type": "code",
   "execution_count": 72,
   "metadata": {},
   "outputs": [
    {
     "data": {
      "text/plain": [
       "183"
      ]
     },
     "execution_count": 72,
     "metadata": {},
     "output_type": "execute_result"
    }
   ],
   "source": [
    "fdist1[\"freedom\"]"
   ]
  },
  {
   "cell_type": "code",
   "execution_count": 73,
   "metadata": {},
   "outputs": [
    {
     "data": {
      "text/plain": [
       "572"
      ]
     },
     "execution_count": 73,
     "metadata": {},
     "output_type": "execute_result"
    }
   ],
   "source": [
    "fdist1[\"people\"]"
   ]
  },
  {
   "cell_type": "markdown",
   "metadata": {},
   "source": [
    "**Find the frequency distribution for title case words.**"
   ]
  },
  {
   "cell_type": "code",
   "execution_count": 74,
   "metadata": {},
   "outputs": [
    {
     "data": {
      "text/plain": [
       "FreqDist({'I': 834, 'The': 625, 'We': 509, 'It': 358, 'Government': 331, 'States': 327, 'In': 223, 'America': 209, 'Constitution': 196, 'United': 167, ...})"
      ]
     },
     "execution_count": 74,
     "metadata": {},
     "output_type": "execute_result"
    }
   ],
   "source": [
    "fdist2 = FreqDist(word for word in text4 if word.istitle())\n",
    "fdist2"
   ]
  },
  {
   "cell_type": "markdown",
   "metadata": {},
   "source": [
    "**Find the frequency distribution of word lengths**"
   ]
  },
  {
   "cell_type": "code",
   "execution_count": 75,
   "metadata": {},
   "outputs": [
    {
     "data": {
      "text/plain": [
       "FreqDist({3: 28769, 2: 27370, 4: 18388, 1: 16509, 5: 13066, 6: 10717, 7: 9942, 8: 7258, 9: 5646, 10: 4725, ...})"
      ]
     },
     "execution_count": 75,
     "metadata": {},
     "output_type": "execute_result"
    }
   ],
   "source": [
    "fdist = FreqDist(len(w) for w in text4) \n",
    "fdist"
   ]
  },
  {
   "cell_type": "code",
   "execution_count": 76,
   "metadata": {},
   "outputs": [
    {
     "data": {
      "text/plain": [
       "[(3, 28769),\n",
       " (2, 27370),\n",
       " (4, 18388),\n",
       " (1, 16509),\n",
       " (5, 13066),\n",
       " (6, 10717),\n",
       " (7, 9942),\n",
       " (8, 7258),\n",
       " (9, 5646),\n",
       " (10, 4725),\n",
       " (11, 2452),\n",
       " (12, 1414),\n",
       " (13, 620),\n",
       " (14, 401),\n",
       " (15, 79),\n",
       " (16, 50),\n",
       " (17, 10)]"
      ]
     },
     "execution_count": 76,
     "metadata": {},
     "output_type": "execute_result"
    }
   ],
   "source": [
    "fdist.most_common()"
   ]
  },
  {
   "cell_type": "code",
   "execution_count": 77,
   "metadata": {},
   "outputs": [
    {
     "data": {
      "text/plain": [
       "3"
      ]
     },
     "execution_count": 77,
     "metadata": {},
     "output_type": "execute_result"
    }
   ],
   "source": [
    "fdist.max()"
   ]
  },
  {
   "cell_type": "code",
   "execution_count": 78,
   "metadata": {},
   "outputs": [
    {
     "data": {
      "text/plain": [
       "['RESPONSIBILITIES',\n",
       " 'antiphilosophists',\n",
       " 'constitutionally',\n",
       " 'contradistinction',\n",
       " 'discountenancing',\n",
       " 'disqualification',\n",
       " 'enthusiastically',\n",
       " 'instrumentalities',\n",
       " 'internationality',\n",
       " 'irresponsibility',\n",
       " 'misappropriation',\n",
       " 'misrepresentation',\n",
       " 'misunderstanding',\n",
       " 'responsibilities',\n",
       " 'sentimentalizing',\n",
       " 'transcontinental',\n",
       " 'uncharitableness',\n",
       " 'unconstitutional']"
      ]
     },
     "execution_count": 78,
     "metadata": {},
     "output_type": "execute_result"
    }
   ],
   "source": [
    "V = set(text4)\n",
    "long_words = [word for word in V if len(word) > 15]\n",
    "sorted(long_words)"
   ]
  },
  {
   "cell_type": "markdown",
   "metadata": {},
   "source": [
    "## Example 2 - Text File"
   ]
  },
  {
   "cell_type": "code",
   "execution_count": 79,
   "metadata": {},
   "outputs": [
    {
     "name": "stdout",
     "output_type": "stream",
     "text": [
      "After days of living in the dark in crude conditions, millions of Texans had their power restored on Thursday, bringing some relief amid the arctic blast that brought the state's water and power infrastructure to its knees. Early in the morning nearly a half-million residents were without electricity but by midday, just under 350,000 remained without power, according PowerOutage.us, which tracks outages across the country.\n",
      "The Electric Reliability Council of Texas, which manages most of the state power grid, said Thursday morning it had \"made significant progress overnight restoring customer power, although some outages still remain throughout the state.\" However, ERCOT noted that despite bringing the lights back on, energy emergency conditions remain as the grid operator and transmission owners work to restore the remaining customers that are without power.\n",
      "\"We're to the point in the load restoration where we are allowing transmission owners to bring back any load they can related to this load shed event,\" said ERCOT Senior Director of System Operations Dan Woodfin.\"We will keep working around the clock until every single customer has their power back on,\" Woodfin said. Areas where distribution systems were damaged by ice storms may still be experiencing loss of power, according to ERCOT. Additionally, large industrial facilities that voluntarily went offline to help alleviate pressure on the overloaded power grid may also remain without power.\n",
      "In Houston, more than 99% of CenterPoint Energy customers have regained power. But the company is still urging residents to be cautious.\n",
      "\"As we continue repairing equipment damaged by severe weather, we ask that you continue conserving electricity - lower your thermostat & avoid using appliances,\" CenterPoint Energy tweeted.\n",
      "As of 5 p.m. local time, approximately 20,000 outages remained\n",
      "Some 7 million residents of Houston, Arlington, Fort Worth and Tyler have been ordered to boil their drinking water after the outages knocked treatment plants offline. Statewide, water pressure has fallen because of frozen lines, Toby Baker, executive director of the Texas Commission on Environmental Quality said.\n",
      "Speaking to NPR's Morning Edition on Thursday, the mayor of Mansfield, Texas, Michael Evans, described the crisis in the state as \"life or death.\"\n",
      "\n",
      "\"We have been caught in the middle of something here where there have been individuals who have not had electricity or power for about 3 1/2 days now [and] it's zero degrees,\" Evans said of Mansfield, a suburb in the Dallas-Fort Worth area.\n",
      "\n",
      "He said neighbors and churches have pitched in to help people whose homes have no electricity, despite concern over the ongoing COVID-19 pandemic.\n",
      "\n",
      "\"I was talking with a family yesterday, and they just knew these people, the temperature in their home was 32 degrees,\" Evans said. \"So what they did was they brought the people in, and they all had their masks and gloves on and the individuals in one side of the house while they were on the other side of the house.\"\n",
      "\n",
      "Texas Gov. Greg Abbott, speaking Wednesday in Austin, called on top executives at the state's grid operator to resign over the outages. \"Every source of power the state of Texas has access to has been compromised because of the ultra-cold temperature or because of the equipment failures,\" he said.\n",
      "\n",
      "Nationwide, more than 30 deaths have been blamed on the weather this week — some who died trying to stay warm in their homes. One family in Houston succumbed to carbon monoxide poisoning from car exhaust in their garage. In another Houston suburb, a grandmother and three of her grandchildren died in a house fire. Although the cause of the fire has yet to be determined, the Houston Chronicle reports that they had been using a fireplace to keep warm after their electricity went out.\n",
      "\n",
      "The National Weather Service had winter storm warnings in effect in Texas from San Antonio west to the U.S.-Mexico border. Starting on the other side of the state, an unbroken band of warnings also extended for hundreds of miles through northern Louisiana, central Arkansas, parts of Mississippi, Tennessee, Kentucky, North Carolina, Virginia, West Virginia, western Maryland, Pennsylvania and New Jersey.\n",
      "\n",
      "Heavy snow and ice are expected Thursday in the Appalachians, northern Maryland and southern Pennsylvania, the National Weather Service said.\n",
      "\n",
      "Meanwhile, in Oregon, where winter weather advisories still cover much of the state, more than 100,000 customers were still without electricity a week after outages began. The Associated Press reports that a Portland supermarket that had been without electricity tossed perishable food into dumpsters, leading to a clash between scavengers and police.\n",
      "\n",
      "\"These are the most dangerous conditions we've ever seen in the history of PGE,\" said Dale Goodman, director of utility operations at Portland General Electric. He declined to predict when all customers would have power restored, the AP said.\n",
      "\n",
      "Louisiana Gov. John Bel Edwards requested a presidential emergency declaration on Wednesday evening.\n",
      "\n",
      "In Shreveport, La., local officials were warning residents that it might be Saturday before water service, cut off due to the winter storms, is fully restored. In Lake Charles, in Louisiana's southwest, Mayor Nic Hunter said Wednesday that water was scarce and that hospitals there might need to transfer patients out.'\n",
      "\n",
      "Arkansas State Police said Wednesday afternoon that there had been 22 weather-related road accidents along a 30-mile stretch of I-40, which runs through Little Rock.\n",
      "\n",
      "In Lexington, Ky., residents reported that with more snow and sleet expected, many side streets had yet to be cleared from earlier this week and attention was likely to shift again to major roads.\n",
      "\n",
      "\"The roads look like they haven't even been touched,\" resident Stacy Hoskins told WKYT News. \"[If] you haven't been out clearing already then you're not going anywhere.\"\n"
     ]
    }
   ],
   "source": [
    "f = open(\"data/news.txt\", \"r\")\n",
    "news_text = f.read()\n",
    "print(news_text)"
   ]
  },
  {
   "cell_type": "markdown",
   "metadata": {},
   "source": [
    "### Sentence Segmentation"
   ]
  },
  {
   "cell_type": "code",
   "execution_count": 80,
   "metadata": {},
   "outputs": [],
   "source": [
    "import nltk\n",
    "from nltk import sent_tokenize"
   ]
  },
  {
   "cell_type": "code",
   "execution_count": 81,
   "metadata": {},
   "outputs": [
    {
     "data": {
      "text/plain": [
       "40"
      ]
     },
     "execution_count": 81,
     "metadata": {},
     "output_type": "execute_result"
    }
   ],
   "source": [
    "sentences = sent_tokenize(news_text)\n",
    "len(sentences)"
   ]
  },
  {
   "cell_type": "markdown",
   "metadata": {},
   "source": [
    "### Sample Sentence"
   ]
  },
  {
   "cell_type": "code",
   "execution_count": 82,
   "metadata": {},
   "outputs": [
    {
     "name": "stdout",
     "output_type": "stream",
     "text": [
      "\"[If] you haven't been out clearing already then you're not going anywhere.\"\n"
     ]
    }
   ],
   "source": [
    "text = sentences[39]\n",
    "print(text)"
   ]
  },
  {
   "cell_type": "markdown",
   "metadata": {},
   "source": [
    "### Remove contractions"
   ]
  },
  {
   "cell_type": "code",
   "execution_count": 83,
   "metadata": {},
   "outputs": [
    {
     "name": "stdout",
     "output_type": "stream",
     "text": [
      "Requirement already satisfied: contractions in /Users/cindy/opt/anaconda3/lib/python3.7/site-packages (0.0.43)\n",
      "Requirement already satisfied: textsearch in /Users/cindy/opt/anaconda3/lib/python3.7/site-packages (from contractions) (0.0.17)\n",
      "Requirement already satisfied: Unidecode in /Users/cindy/opt/anaconda3/lib/python3.7/site-packages (from textsearch->contractions) (1.1.2)\n",
      "Requirement already satisfied: pyahocorasick in /Users/cindy/opt/anaconda3/lib/python3.7/site-packages (from textsearch->contractions) (1.4.0)\n",
      "\u001b[33mWARNING: You are using pip version 20.1.1; however, version 21.0.1 is available.\n",
      "You should consider upgrading via the '/Users/cindy/opt/anaconda3/bin/python3 -m pip install --upgrade pip' command.\u001b[0m\n"
     ]
    }
   ],
   "source": [
    "!pip install contractions\n",
    "import contractions"
   ]
  },
  {
   "cell_type": "code",
   "execution_count": 84,
   "metadata": {},
   "outputs": [
    {
     "name": "stdout",
     "output_type": "stream",
     "text": [
      "\"[If] you have not been out clearing already then you are not going anywhere.\"\n"
     ]
    }
   ],
   "source": [
    "text_no_contract = [contractions.fix(word) for word in text.split()]\n",
    "text = \" \".join(text_no_contract)\n",
    "print(text)"
   ]
  },
  {
   "cell_type": "markdown",
   "metadata": {},
   "source": [
    "### Tokenize"
   ]
  },
  {
   "cell_type": "code",
   "execution_count": 85,
   "metadata": {},
   "outputs": [],
   "source": [
    "from nltk import word_tokenize"
   ]
  },
  {
   "cell_type": "code",
   "execution_count": 86,
   "metadata": {},
   "outputs": [
    {
     "name": "stdout",
     "output_type": "stream",
     "text": [
      "['``', '[', 'If', ']', 'you', 'have', 'not', 'been', 'out', 'clearing', 'already', 'then', 'you', 'are', 'not', 'going', 'anywhere', '.', \"''\"]\n"
     ]
    }
   ],
   "source": [
    "tokens = word_tokenize(text)\n",
    "print(tokens)"
   ]
  },
  {
   "cell_type": "markdown",
   "metadata": {},
   "source": [
    "### Noise cleaning\n",
    "Special characters and capitalization"
   ]
  },
  {
   "cell_type": "code",
   "execution_count": 87,
   "metadata": {},
   "outputs": [
    {
     "name": "stdout",
     "output_type": "stream",
     "text": [
      "['``', '[', 'if', ']', 'you', 'have', 'not', 'been', 'out', 'clearing', 'already', 'then', 'you', 'are', 'not', 'going', 'anywhere', '.', \"''\"]\n"
     ]
    }
   ],
   "source": [
    "lower = [t.lower() for t in tokens ]\n",
    "print(lower)"
   ]
  },
  {
   "cell_type": "code",
   "execution_count": 88,
   "metadata": {},
   "outputs": [],
   "source": [
    "import string"
   ]
  },
  {
   "cell_type": "code",
   "execution_count": 89,
   "metadata": {},
   "outputs": [
    {
     "name": "stdout",
     "output_type": "stream",
     "text": [
      "['``', 'if', 'you', 'have', 'not', 'been', 'out', 'clearing', 'already', 'then', 'you', 'are', 'not', 'going', 'anywhere', \"''\"]\n"
     ]
    }
   ],
   "source": [
    "punc = string.punctuation\n",
    "no_punc= [word for word in lower if word not in punc]\n",
    "print(no_punc)"
   ]
  },
  {
   "cell_type": "markdown",
   "metadata": {},
   "source": [
    "Additional punctuation"
   ]
  },
  {
   "cell_type": "code",
   "execution_count": 90,
   "metadata": {},
   "outputs": [
    {
     "name": "stdout",
     "output_type": "stream",
     "text": [
      "['if', 'you', 'have', 'not', 'been', 'out', 'clearing', 'already', 'then', 'you', 'are', 'not', 'going', 'anywhere']\n"
     ]
    }
   ],
   "source": [
    "more_punc = (\"\\'\\'\", \"``\")\n",
    "no_punc1= [word for word in no_punc if word not in more_punc]\n",
    "print(no_punc1)"
   ]
  },
  {
   "cell_type": "markdown",
   "metadata": {},
   "source": [
    "### Stemming and lemmatization"
   ]
  },
  {
   "cell_type": "markdown",
   "metadata": {},
   "source": [
    "**Porter Stemmer**"
   ]
  },
  {
   "cell_type": "code",
   "execution_count": 91,
   "metadata": {},
   "outputs": [
    {
     "name": "stdout",
     "output_type": "stream",
     "text": [
      "['if', 'you', 'have', 'not', 'been', 'out', 'clear', 'alreadi', 'then', 'you', 'are', 'not', 'go', 'anywher']\n"
     ]
    }
   ],
   "source": [
    "porter = nltk.PorterStemmer()\n",
    "stem1 = [porter.stem(t) for t in no_punc1]\n",
    "print(stem1)"
   ]
  },
  {
   "cell_type": "markdown",
   "metadata": {},
   "source": [
    "**Lancaster Stemmer**"
   ]
  },
  {
   "cell_type": "code",
   "execution_count": 92,
   "metadata": {},
   "outputs": [
    {
     "name": "stdout",
     "output_type": "stream",
     "text": [
      "['if', 'you', 'hav', 'not', 'been', 'out', 'clear', 'already', 'then', 'you', 'ar', 'not', 'going', 'anywh']\n"
     ]
    }
   ],
   "source": [
    "lancaster = nltk.LancasterStemmer()\n",
    "stem2 = [lancaster.stem(t) for t in no_punc1]\n",
    "print(stem2)"
   ]
  },
  {
   "cell_type": "markdown",
   "metadata": {},
   "source": [
    "**Lemmatizer**"
   ]
  },
  {
   "cell_type": "code",
   "execution_count": 93,
   "metadata": {},
   "outputs": [
    {
     "name": "stdout",
     "output_type": "stream",
     "text": [
      "['if', 'you', 'have', 'not', 'been', 'out', 'clearing', 'already', 'then', 'you', 'are', 'not', 'going', 'anywhere']\n"
     ]
    }
   ],
   "source": [
    "wnl = nltk.WordNetLemmatizer()\n",
    "lemmat = [wnl.lemmatize(t) for t in no_punc1]\n",
    "print(lemmat)"
   ]
  },
  {
   "cell_type": "markdown",
   "metadata": {},
   "source": [
    "## Example 3 - Fake News Corpus\n",
    "Download the data from https://www.kaggle.com/clmentbisaillon/fake-and-real-news-dataset and place in a data directory."
   ]
  },
  {
   "cell_type": "code",
   "execution_count": 94,
   "metadata": {},
   "outputs": [],
   "source": [
    "import pandas as pd"
   ]
  },
  {
   "cell_type": "markdown",
   "metadata": {},
   "source": [
    "**Read in \"fake\" examples.**"
   ]
  },
  {
   "cell_type": "code",
   "execution_count": 95,
   "metadata": {},
   "outputs": [],
   "source": [
    "news_fake = pd. read_csv('data/Fake.csv')"
   ]
  },
  {
   "cell_type": "code",
   "execution_count": 96,
   "metadata": {},
   "outputs": [
    {
     "name": "stdout",
     "output_type": "stream",
     "text": [
      "                                                   title  \\\n",
      "0       Donald Trump Sends Out Embarrassing New Year’...   \n",
      "1       Drunk Bragging Trump Staffer Started Russian ...   \n",
      "2       Sheriff David Clarke Becomes An Internet Joke...   \n",
      "3       Trump Is So Obsessed He Even Has Obama’s Name...   \n",
      "4       Pope Francis Just Called Out Donald Trump Dur...   \n",
      "...                                                  ...   \n",
      "23476  McPain: John McCain Furious That Iran Treated ...   \n",
      "23477  JUSTICE? Yahoo Settles E-mail Privacy Class-ac...   \n",
      "23478  Sunnistan: US and Allied ‘Safe Zone’ Plan to T...   \n",
      "23479  How to Blow $700 Million: Al Jazeera America F...   \n",
      "23480  10 U.S. Navy Sailors Held by Iranian Military ...   \n",
      "\n",
      "                                                    text      subject  \\\n",
      "0      Donald Trump just couldn t wish all Americans ...         News   \n",
      "1      House Intelligence Committee Chairman Devin Nu...         News   \n",
      "2      On Friday, it was revealed that former Milwauk...         News   \n",
      "3      On Christmas day, Donald Trump announced that ...         News   \n",
      "4      Pope Francis used his annual Christmas Day mes...         News   \n",
      "...                                                  ...          ...   \n",
      "23476  21st Century Wire says As 21WIRE reported earl...  Middle-east   \n",
      "23477  21st Century Wire says It s a familiar theme. ...  Middle-east   \n",
      "23478  Patrick Henningsen  21st Century WireRemember ...  Middle-east   \n",
      "23479  21st Century Wire says Al Jazeera America will...  Middle-east   \n",
      "23480  21st Century Wire says As 21WIRE predicted in ...  Middle-east   \n",
      "\n",
      "                    date  \n",
      "0      December 31, 2017  \n",
      "1      December 31, 2017  \n",
      "2      December 30, 2017  \n",
      "3      December 29, 2017  \n",
      "4      December 25, 2017  \n",
      "...                  ...  \n",
      "23476   January 16, 2016  \n",
      "23477   January 16, 2016  \n",
      "23478   January 15, 2016  \n",
      "23479   January 14, 2016  \n",
      "23480   January 12, 2016  \n",
      "\n",
      "[23481 rows x 4 columns]\n"
     ]
    }
   ],
   "source": [
    "print(news_fake)"
   ]
  },
  {
   "cell_type": "markdown",
   "metadata": {},
   "source": [
    "**Add labels**"
   ]
  },
  {
   "cell_type": "code",
   "execution_count": 97,
   "metadata": {},
   "outputs": [],
   "source": [
    "news_fake.insert(0, 'label', 'fake')"
   ]
  },
  {
   "cell_type": "code",
   "execution_count": 98,
   "metadata": {},
   "outputs": [
    {
     "data": {
      "text/html": [
       "<div>\n",
       "<style scoped>\n",
       "    .dataframe tbody tr th:only-of-type {\n",
       "        vertical-align: middle;\n",
       "    }\n",
       "\n",
       "    .dataframe tbody tr th {\n",
       "        vertical-align: top;\n",
       "    }\n",
       "\n",
       "    .dataframe thead th {\n",
       "        text-align: right;\n",
       "    }\n",
       "</style>\n",
       "<table border=\"1\" class=\"dataframe\">\n",
       "  <thead>\n",
       "    <tr style=\"text-align: right;\">\n",
       "      <th></th>\n",
       "      <th>label</th>\n",
       "      <th>title</th>\n",
       "      <th>text</th>\n",
       "      <th>subject</th>\n",
       "      <th>date</th>\n",
       "    </tr>\n",
       "  </thead>\n",
       "  <tbody>\n",
       "    <tr>\n",
       "      <th>0</th>\n",
       "      <td>fake</td>\n",
       "      <td>Donald Trump Sends Out Embarrassing New Year’...</td>\n",
       "      <td>Donald Trump just couldn t wish all Americans ...</td>\n",
       "      <td>News</td>\n",
       "      <td>December 31, 2017</td>\n",
       "    </tr>\n",
       "    <tr>\n",
       "      <th>1</th>\n",
       "      <td>fake</td>\n",
       "      <td>Drunk Bragging Trump Staffer Started Russian ...</td>\n",
       "      <td>House Intelligence Committee Chairman Devin Nu...</td>\n",
       "      <td>News</td>\n",
       "      <td>December 31, 2017</td>\n",
       "    </tr>\n",
       "    <tr>\n",
       "      <th>2</th>\n",
       "      <td>fake</td>\n",
       "      <td>Sheriff David Clarke Becomes An Internet Joke...</td>\n",
       "      <td>On Friday, it was revealed that former Milwauk...</td>\n",
       "      <td>News</td>\n",
       "      <td>December 30, 2017</td>\n",
       "    </tr>\n",
       "    <tr>\n",
       "      <th>3</th>\n",
       "      <td>fake</td>\n",
       "      <td>Trump Is So Obsessed He Even Has Obama’s Name...</td>\n",
       "      <td>On Christmas day, Donald Trump announced that ...</td>\n",
       "      <td>News</td>\n",
       "      <td>December 29, 2017</td>\n",
       "    </tr>\n",
       "    <tr>\n",
       "      <th>4</th>\n",
       "      <td>fake</td>\n",
       "      <td>Pope Francis Just Called Out Donald Trump Dur...</td>\n",
       "      <td>Pope Francis used his annual Christmas Day mes...</td>\n",
       "      <td>News</td>\n",
       "      <td>December 25, 2017</td>\n",
       "    </tr>\n",
       "  </tbody>\n",
       "</table>\n",
       "</div>"
      ],
      "text/plain": [
       "  label                                              title  \\\n",
       "0  fake   Donald Trump Sends Out Embarrassing New Year’...   \n",
       "1  fake   Drunk Bragging Trump Staffer Started Russian ...   \n",
       "2  fake   Sheriff David Clarke Becomes An Internet Joke...   \n",
       "3  fake   Trump Is So Obsessed He Even Has Obama’s Name...   \n",
       "4  fake   Pope Francis Just Called Out Donald Trump Dur...   \n",
       "\n",
       "                                                text subject  \\\n",
       "0  Donald Trump just couldn t wish all Americans ...    News   \n",
       "1  House Intelligence Committee Chairman Devin Nu...    News   \n",
       "2  On Friday, it was revealed that former Milwauk...    News   \n",
       "3  On Christmas day, Donald Trump announced that ...    News   \n",
       "4  Pope Francis used his annual Christmas Day mes...    News   \n",
       "\n",
       "                date  \n",
       "0  December 31, 2017  \n",
       "1  December 31, 2017  \n",
       "2  December 30, 2017  \n",
       "3  December 29, 2017  \n",
       "4  December 25, 2017  "
      ]
     },
     "execution_count": 98,
     "metadata": {},
     "output_type": "execute_result"
    }
   ],
   "source": [
    "news_fake.head()"
   ]
  },
  {
   "cell_type": "markdown",
   "metadata": {},
   "source": [
    "**Read in \"true\" examples.**"
   ]
  },
  {
   "cell_type": "code",
   "execution_count": 99,
   "metadata": {},
   "outputs": [],
   "source": [
    "news_true = pd.read_csv('data/True.csv')"
   ]
  },
  {
   "cell_type": "code",
   "execution_count": 100,
   "metadata": {},
   "outputs": [
    {
     "data": {
      "text/html": [
       "<div>\n",
       "<style scoped>\n",
       "    .dataframe tbody tr th:only-of-type {\n",
       "        vertical-align: middle;\n",
       "    }\n",
       "\n",
       "    .dataframe tbody tr th {\n",
       "        vertical-align: top;\n",
       "    }\n",
       "\n",
       "    .dataframe thead th {\n",
       "        text-align: right;\n",
       "    }\n",
       "</style>\n",
       "<table border=\"1\" class=\"dataframe\">\n",
       "  <thead>\n",
       "    <tr style=\"text-align: right;\">\n",
       "      <th></th>\n",
       "      <th>label</th>\n",
       "      <th>title</th>\n",
       "      <th>text</th>\n",
       "      <th>subject</th>\n",
       "      <th>date</th>\n",
       "    </tr>\n",
       "  </thead>\n",
       "  <tbody>\n",
       "    <tr>\n",
       "      <th>0</th>\n",
       "      <td>true</td>\n",
       "      <td>As U.S. budget fight looms, Republicans flip t...</td>\n",
       "      <td>WASHINGTON (Reuters) - The head of a conservat...</td>\n",
       "      <td>politicsNews</td>\n",
       "      <td>December 31, 2017</td>\n",
       "    </tr>\n",
       "    <tr>\n",
       "      <th>1</th>\n",
       "      <td>true</td>\n",
       "      <td>U.S. military to accept transgender recruits o...</td>\n",
       "      <td>WASHINGTON (Reuters) - Transgender people will...</td>\n",
       "      <td>politicsNews</td>\n",
       "      <td>December 29, 2017</td>\n",
       "    </tr>\n",
       "    <tr>\n",
       "      <th>2</th>\n",
       "      <td>true</td>\n",
       "      <td>Senior U.S. Republican senator: 'Let Mr. Muell...</td>\n",
       "      <td>WASHINGTON (Reuters) - The special counsel inv...</td>\n",
       "      <td>politicsNews</td>\n",
       "      <td>December 31, 2017</td>\n",
       "    </tr>\n",
       "    <tr>\n",
       "      <th>3</th>\n",
       "      <td>true</td>\n",
       "      <td>FBI Russia probe helped by Australian diplomat...</td>\n",
       "      <td>WASHINGTON (Reuters) - Trump campaign adviser ...</td>\n",
       "      <td>politicsNews</td>\n",
       "      <td>December 30, 2017</td>\n",
       "    </tr>\n",
       "    <tr>\n",
       "      <th>4</th>\n",
       "      <td>true</td>\n",
       "      <td>Trump wants Postal Service to charge 'much mor...</td>\n",
       "      <td>SEATTLE/WASHINGTON (Reuters) - President Donal...</td>\n",
       "      <td>politicsNews</td>\n",
       "      <td>December 29, 2017</td>\n",
       "    </tr>\n",
       "  </tbody>\n",
       "</table>\n",
       "</div>"
      ],
      "text/plain": [
       "  label                                              title  \\\n",
       "0  true  As U.S. budget fight looms, Republicans flip t...   \n",
       "1  true  U.S. military to accept transgender recruits o...   \n",
       "2  true  Senior U.S. Republican senator: 'Let Mr. Muell...   \n",
       "3  true  FBI Russia probe helped by Australian diplomat...   \n",
       "4  true  Trump wants Postal Service to charge 'much mor...   \n",
       "\n",
       "                                                text       subject  \\\n",
       "0  WASHINGTON (Reuters) - The head of a conservat...  politicsNews   \n",
       "1  WASHINGTON (Reuters) - Transgender people will...  politicsNews   \n",
       "2  WASHINGTON (Reuters) - The special counsel inv...  politicsNews   \n",
       "3  WASHINGTON (Reuters) - Trump campaign adviser ...  politicsNews   \n",
       "4  SEATTLE/WASHINGTON (Reuters) - President Donal...  politicsNews   \n",
       "\n",
       "                 date  \n",
       "0  December 31, 2017   \n",
       "1  December 29, 2017   \n",
       "2  December 31, 2017   \n",
       "3  December 30, 2017   \n",
       "4  December 29, 2017   "
      ]
     },
     "execution_count": 100,
     "metadata": {},
     "output_type": "execute_result"
    }
   ],
   "source": [
    "news_true.insert(0, 'label', 'true')\n",
    "news_true.head()"
   ]
  },
  {
   "cell_type": "markdown",
   "metadata": {},
   "source": [
    "**Combine examples into a single data frame.** Set the argument `ignore_index` as `True` while calling the `concat()` function, to automatically adjust row labels. "
   ]
  },
  {
   "cell_type": "code",
   "execution_count": 101,
   "metadata": {},
   "outputs": [
    {
     "data": {
      "text/html": [
       "<div>\n",
       "<style scoped>\n",
       "    .dataframe tbody tr th:only-of-type {\n",
       "        vertical-align: middle;\n",
       "    }\n",
       "\n",
       "    .dataframe tbody tr th {\n",
       "        vertical-align: top;\n",
       "    }\n",
       "\n",
       "    .dataframe thead th {\n",
       "        text-align: right;\n",
       "    }\n",
       "</style>\n",
       "<table border=\"1\" class=\"dataframe\">\n",
       "  <thead>\n",
       "    <tr style=\"text-align: right;\">\n",
       "      <th></th>\n",
       "      <th>label</th>\n",
       "      <th>title</th>\n",
       "      <th>text</th>\n",
       "      <th>subject</th>\n",
       "      <th>date</th>\n",
       "    </tr>\n",
       "  </thead>\n",
       "  <tbody>\n",
       "    <tr>\n",
       "      <th>0</th>\n",
       "      <td>true</td>\n",
       "      <td>As U.S. budget fight looms, Republicans flip t...</td>\n",
       "      <td>WASHINGTON (Reuters) - The head of a conservat...</td>\n",
       "      <td>politicsNews</td>\n",
       "      <td>December 31, 2017</td>\n",
       "    </tr>\n",
       "    <tr>\n",
       "      <th>1</th>\n",
       "      <td>true</td>\n",
       "      <td>U.S. military to accept transgender recruits o...</td>\n",
       "      <td>WASHINGTON (Reuters) - Transgender people will...</td>\n",
       "      <td>politicsNews</td>\n",
       "      <td>December 29, 2017</td>\n",
       "    </tr>\n",
       "    <tr>\n",
       "      <th>2</th>\n",
       "      <td>true</td>\n",
       "      <td>Senior U.S. Republican senator: 'Let Mr. Muell...</td>\n",
       "      <td>WASHINGTON (Reuters) - The special counsel inv...</td>\n",
       "      <td>politicsNews</td>\n",
       "      <td>December 31, 2017</td>\n",
       "    </tr>\n",
       "    <tr>\n",
       "      <th>3</th>\n",
       "      <td>true</td>\n",
       "      <td>FBI Russia probe helped by Australian diplomat...</td>\n",
       "      <td>WASHINGTON (Reuters) - Trump campaign adviser ...</td>\n",
       "      <td>politicsNews</td>\n",
       "      <td>December 30, 2017</td>\n",
       "    </tr>\n",
       "    <tr>\n",
       "      <th>4</th>\n",
       "      <td>true</td>\n",
       "      <td>Trump wants Postal Service to charge 'much mor...</td>\n",
       "      <td>SEATTLE/WASHINGTON (Reuters) - President Donal...</td>\n",
       "      <td>politicsNews</td>\n",
       "      <td>December 29, 2017</td>\n",
       "    </tr>\n",
       "  </tbody>\n",
       "</table>\n",
       "</div>"
      ],
      "text/plain": [
       "  label                                              title  \\\n",
       "0  true  As U.S. budget fight looms, Republicans flip t...   \n",
       "1  true  U.S. military to accept transgender recruits o...   \n",
       "2  true  Senior U.S. Republican senator: 'Let Mr. Muell...   \n",
       "3  true  FBI Russia probe helped by Australian diplomat...   \n",
       "4  true  Trump wants Postal Service to charge 'much mor...   \n",
       "\n",
       "                                                text       subject  \\\n",
       "0  WASHINGTON (Reuters) - The head of a conservat...  politicsNews   \n",
       "1  WASHINGTON (Reuters) - Transgender people will...  politicsNews   \n",
       "2  WASHINGTON (Reuters) - The special counsel inv...  politicsNews   \n",
       "3  WASHINGTON (Reuters) - Trump campaign adviser ...  politicsNews   \n",
       "4  SEATTLE/WASHINGTON (Reuters) - President Donal...  politicsNews   \n",
       "\n",
       "                 date  \n",
       "0  December 31, 2017   \n",
       "1  December 29, 2017   \n",
       "2  December 31, 2017   \n",
       "3  December 30, 2017   \n",
       "4  December 29, 2017   "
      ]
     },
     "execution_count": 101,
     "metadata": {},
     "output_type": "execute_result"
    }
   ],
   "source": [
    "news = pd.concat([news_true, news_fake], ignore_index=True)\n",
    "news.head()"
   ]
  },
  {
   "cell_type": "markdown",
   "metadata": {},
   "source": [
    "The `describe()` function provides summary statistics of the data.  It returns the count, mean, standard deviation, minimum and maximum values and the quantiles of the data."
   ]
  },
  {
   "cell_type": "code",
   "execution_count": 102,
   "metadata": {
    "scrolled": true
   },
   "outputs": [
    {
     "data": {
      "text/html": [
       "<div>\n",
       "<style scoped>\n",
       "    .dataframe tbody tr th:only-of-type {\n",
       "        vertical-align: middle;\n",
       "    }\n",
       "\n",
       "    .dataframe tbody tr th {\n",
       "        vertical-align: top;\n",
       "    }\n",
       "\n",
       "    .dataframe thead th {\n",
       "        text-align: right;\n",
       "    }\n",
       "</style>\n",
       "<table border=\"1\" class=\"dataframe\">\n",
       "  <thead>\n",
       "    <tr style=\"text-align: right;\">\n",
       "      <th></th>\n",
       "      <th>label</th>\n",
       "      <th>title</th>\n",
       "      <th>text</th>\n",
       "      <th>subject</th>\n",
       "      <th>date</th>\n",
       "    </tr>\n",
       "  </thead>\n",
       "  <tbody>\n",
       "    <tr>\n",
       "      <th>count</th>\n",
       "      <td>44898</td>\n",
       "      <td>44898</td>\n",
       "      <td>44898</td>\n",
       "      <td>44898</td>\n",
       "      <td>44898</td>\n",
       "    </tr>\n",
       "    <tr>\n",
       "      <th>unique</th>\n",
       "      <td>2</td>\n",
       "      <td>38729</td>\n",
       "      <td>38646</td>\n",
       "      <td>8</td>\n",
       "      <td>2397</td>\n",
       "    </tr>\n",
       "    <tr>\n",
       "      <th>top</th>\n",
       "      <td>fake</td>\n",
       "      <td>Factbox: Trump fills top jobs for his administ...</td>\n",
       "      <td></td>\n",
       "      <td>politicsNews</td>\n",
       "      <td>December 20, 2017</td>\n",
       "    </tr>\n",
       "    <tr>\n",
       "      <th>freq</th>\n",
       "      <td>23481</td>\n",
       "      <td>14</td>\n",
       "      <td>627</td>\n",
       "      <td>11272</td>\n",
       "      <td>182</td>\n",
       "    </tr>\n",
       "  </tbody>\n",
       "</table>\n",
       "</div>"
      ],
      "text/plain": [
       "        label                                              title   text  \\\n",
       "count   44898                                              44898  44898   \n",
       "unique      2                                              38729  38646   \n",
       "top      fake  Factbox: Trump fills top jobs for his administ...          \n",
       "freq    23481                                                 14    627   \n",
       "\n",
       "             subject                date  \n",
       "count          44898               44898  \n",
       "unique             8                2397  \n",
       "top     politicsNews  December 20, 2017   \n",
       "freq           11272                 182  "
      ]
     },
     "execution_count": 102,
     "metadata": {},
     "output_type": "execute_result"
    }
   ],
   "source": [
    "news.describe()"
   ]
  },
  {
   "cell_type": "markdown",
   "metadata": {},
   "source": [
    "Use `isnull()` to check for null values."
   ]
  },
  {
   "cell_type": "code",
   "execution_count": 103,
   "metadata": {
    "scrolled": true
   },
   "outputs": [
    {
     "data": {
      "text/html": [
       "<div>\n",
       "<style scoped>\n",
       "    .dataframe tbody tr th:only-of-type {\n",
       "        vertical-align: middle;\n",
       "    }\n",
       "\n",
       "    .dataframe tbody tr th {\n",
       "        vertical-align: top;\n",
       "    }\n",
       "\n",
       "    .dataframe thead th {\n",
       "        text-align: right;\n",
       "    }\n",
       "</style>\n",
       "<table border=\"1\" class=\"dataframe\">\n",
       "  <thead>\n",
       "    <tr style=\"text-align: right;\">\n",
       "      <th></th>\n",
       "      <th>label</th>\n",
       "      <th>title</th>\n",
       "      <th>text</th>\n",
       "      <th>subject</th>\n",
       "      <th>date</th>\n",
       "    </tr>\n",
       "  </thead>\n",
       "  <tbody>\n",
       "    <tr>\n",
       "      <th>0</th>\n",
       "      <td>False</td>\n",
       "      <td>False</td>\n",
       "      <td>False</td>\n",
       "      <td>False</td>\n",
       "      <td>False</td>\n",
       "    </tr>\n",
       "    <tr>\n",
       "      <th>1</th>\n",
       "      <td>False</td>\n",
       "      <td>False</td>\n",
       "      <td>False</td>\n",
       "      <td>False</td>\n",
       "      <td>False</td>\n",
       "    </tr>\n",
       "    <tr>\n",
       "      <th>2</th>\n",
       "      <td>False</td>\n",
       "      <td>False</td>\n",
       "      <td>False</td>\n",
       "      <td>False</td>\n",
       "      <td>False</td>\n",
       "    </tr>\n",
       "    <tr>\n",
       "      <th>3</th>\n",
       "      <td>False</td>\n",
       "      <td>False</td>\n",
       "      <td>False</td>\n",
       "      <td>False</td>\n",
       "      <td>False</td>\n",
       "    </tr>\n",
       "    <tr>\n",
       "      <th>4</th>\n",
       "      <td>False</td>\n",
       "      <td>False</td>\n",
       "      <td>False</td>\n",
       "      <td>False</td>\n",
       "      <td>False</td>\n",
       "    </tr>\n",
       "    <tr>\n",
       "      <th>...</th>\n",
       "      <td>...</td>\n",
       "      <td>...</td>\n",
       "      <td>...</td>\n",
       "      <td>...</td>\n",
       "      <td>...</td>\n",
       "    </tr>\n",
       "    <tr>\n",
       "      <th>44893</th>\n",
       "      <td>False</td>\n",
       "      <td>False</td>\n",
       "      <td>False</td>\n",
       "      <td>False</td>\n",
       "      <td>False</td>\n",
       "    </tr>\n",
       "    <tr>\n",
       "      <th>44894</th>\n",
       "      <td>False</td>\n",
       "      <td>False</td>\n",
       "      <td>False</td>\n",
       "      <td>False</td>\n",
       "      <td>False</td>\n",
       "    </tr>\n",
       "    <tr>\n",
       "      <th>44895</th>\n",
       "      <td>False</td>\n",
       "      <td>False</td>\n",
       "      <td>False</td>\n",
       "      <td>False</td>\n",
       "      <td>False</td>\n",
       "    </tr>\n",
       "    <tr>\n",
       "      <th>44896</th>\n",
       "      <td>False</td>\n",
       "      <td>False</td>\n",
       "      <td>False</td>\n",
       "      <td>False</td>\n",
       "      <td>False</td>\n",
       "    </tr>\n",
       "    <tr>\n",
       "      <th>44897</th>\n",
       "      <td>False</td>\n",
       "      <td>False</td>\n",
       "      <td>False</td>\n",
       "      <td>False</td>\n",
       "      <td>False</td>\n",
       "    </tr>\n",
       "  </tbody>\n",
       "</table>\n",
       "<p>44898 rows × 5 columns</p>\n",
       "</div>"
      ],
      "text/plain": [
       "       label  title   text  subject   date\n",
       "0      False  False  False    False  False\n",
       "1      False  False  False    False  False\n",
       "2      False  False  False    False  False\n",
       "3      False  False  False    False  False\n",
       "4      False  False  False    False  False\n",
       "...      ...    ...    ...      ...    ...\n",
       "44893  False  False  False    False  False\n",
       "44894  False  False  False    False  False\n",
       "44895  False  False  False    False  False\n",
       "44896  False  False  False    False  False\n",
       "44897  False  False  False    False  False\n",
       "\n",
       "[44898 rows x 5 columns]"
      ]
     },
     "execution_count": 103,
     "metadata": {},
     "output_type": "execute_result"
    }
   ],
   "source": [
    "pd.isnull(news)"
   ]
  },
  {
   "cell_type": "markdown",
   "metadata": {},
   "source": [
    "Examine the data distribution.  These examples are evenly distributed."
   ]
  },
  {
   "cell_type": "code",
   "execution_count": 104,
   "metadata": {},
   "outputs": [
    {
     "data": {
      "text/plain": [
       "fake    23481\n",
       "true    21417\n",
       "Name: label, dtype: int64"
      ]
     },
     "execution_count": 104,
     "metadata": {},
     "output_type": "execute_result"
    }
   ],
   "source": [
    "y = news['label']\n",
    "y.value_counts()"
   ]
  },
  {
   "cell_type": "markdown",
   "metadata": {},
   "source": [
    "### Basic Visualization"
   ]
  },
  {
   "cell_type": "code",
   "execution_count": 105,
   "metadata": {},
   "outputs": [],
   "source": [
    "import matplotlib.pyplot as plt\n",
    "import seaborn as sns"
   ]
  },
  {
   "cell_type": "markdown",
   "metadata": {},
   "source": [
    "Add a column to hold the length of each example."
   ]
  },
  {
   "cell_type": "code",
   "execution_count": 106,
   "metadata": {},
   "outputs": [],
   "source": [
    "news['length'] = news['text'].apply(len)"
   ]
  },
  {
   "cell_type": "code",
   "execution_count": 107,
   "metadata": {},
   "outputs": [
    {
     "data": {
      "text/html": [
       "<div>\n",
       "<style scoped>\n",
       "    .dataframe tbody tr th:only-of-type {\n",
       "        vertical-align: middle;\n",
       "    }\n",
       "\n",
       "    .dataframe tbody tr th {\n",
       "        vertical-align: top;\n",
       "    }\n",
       "\n",
       "    .dataframe thead th {\n",
       "        text-align: right;\n",
       "    }\n",
       "</style>\n",
       "<table border=\"1\" class=\"dataframe\">\n",
       "  <thead>\n",
       "    <tr style=\"text-align: right;\">\n",
       "      <th></th>\n",
       "      <th>label</th>\n",
       "      <th>title</th>\n",
       "      <th>text</th>\n",
       "      <th>subject</th>\n",
       "      <th>date</th>\n",
       "      <th>length</th>\n",
       "    </tr>\n",
       "  </thead>\n",
       "  <tbody>\n",
       "    <tr>\n",
       "      <th>0</th>\n",
       "      <td>true</td>\n",
       "      <td>As U.S. budget fight looms, Republicans flip t...</td>\n",
       "      <td>WASHINGTON (Reuters) - The head of a conservat...</td>\n",
       "      <td>politicsNews</td>\n",
       "      <td>December 31, 2017</td>\n",
       "      <td>4659</td>\n",
       "    </tr>\n",
       "    <tr>\n",
       "      <th>1</th>\n",
       "      <td>true</td>\n",
       "      <td>U.S. military to accept transgender recruits o...</td>\n",
       "      <td>WASHINGTON (Reuters) - Transgender people will...</td>\n",
       "      <td>politicsNews</td>\n",
       "      <td>December 29, 2017</td>\n",
       "      <td>4077</td>\n",
       "    </tr>\n",
       "    <tr>\n",
       "      <th>2</th>\n",
       "      <td>true</td>\n",
       "      <td>Senior U.S. Republican senator: 'Let Mr. Muell...</td>\n",
       "      <td>WASHINGTON (Reuters) - The special counsel inv...</td>\n",
       "      <td>politicsNews</td>\n",
       "      <td>December 31, 2017</td>\n",
       "      <td>2789</td>\n",
       "    </tr>\n",
       "    <tr>\n",
       "      <th>3</th>\n",
       "      <td>true</td>\n",
       "      <td>FBI Russia probe helped by Australian diplomat...</td>\n",
       "      <td>WASHINGTON (Reuters) - Trump campaign adviser ...</td>\n",
       "      <td>politicsNews</td>\n",
       "      <td>December 30, 2017</td>\n",
       "      <td>2461</td>\n",
       "    </tr>\n",
       "    <tr>\n",
       "      <th>4</th>\n",
       "      <td>true</td>\n",
       "      <td>Trump wants Postal Service to charge 'much mor...</td>\n",
       "      <td>SEATTLE/WASHINGTON (Reuters) - President Donal...</td>\n",
       "      <td>politicsNews</td>\n",
       "      <td>December 29, 2017</td>\n",
       "      <td>5204</td>\n",
       "    </tr>\n",
       "  </tbody>\n",
       "</table>\n",
       "</div>"
      ],
      "text/plain": [
       "  label                                              title  \\\n",
       "0  true  As U.S. budget fight looms, Republicans flip t...   \n",
       "1  true  U.S. military to accept transgender recruits o...   \n",
       "2  true  Senior U.S. Republican senator: 'Let Mr. Muell...   \n",
       "3  true  FBI Russia probe helped by Australian diplomat...   \n",
       "4  true  Trump wants Postal Service to charge 'much mor...   \n",
       "\n",
       "                                                text       subject  \\\n",
       "0  WASHINGTON (Reuters) - The head of a conservat...  politicsNews   \n",
       "1  WASHINGTON (Reuters) - Transgender people will...  politicsNews   \n",
       "2  WASHINGTON (Reuters) - The special counsel inv...  politicsNews   \n",
       "3  WASHINGTON (Reuters) - Trump campaign adviser ...  politicsNews   \n",
       "4  SEATTLE/WASHINGTON (Reuters) - President Donal...  politicsNews   \n",
       "\n",
       "                 date  length  \n",
       "0  December 31, 2017     4659  \n",
       "1  December 29, 2017     4077  \n",
       "2  December 31, 2017     2789  \n",
       "3  December 30, 2017     2461  \n",
       "4  December 29, 2017     5204  "
      ]
     },
     "execution_count": 107,
     "metadata": {},
     "output_type": "execute_result"
    }
   ],
   "source": [
    "news.head()"
   ]
  },
  {
   "cell_type": "code",
   "execution_count": 108,
   "metadata": {},
   "outputs": [
    {
     "data": {
      "text/plain": [
       "<matplotlib.axes._subplots.AxesSubplot at 0x7ff6e1a27dd0>"
      ]
     },
     "execution_count": 108,
     "metadata": {},
     "output_type": "execute_result"
    },
    {
     "data": {
      "image/png": "[encoded data removed]",
      "text/plain": [
       "<Figure size 432x288 with 1 Axes>"
      ]
     },
     "metadata": {
      "needs_background": "light"
     },
     "output_type": "display_data"
    }
   ],
   "source": [
    "sns.distplot(news['length'],kde=False)"
   ]
  },
  {
   "cell_type": "markdown",
   "metadata": {},
   "source": [
    "### Word Clouds\n",
    "\n",
    "Ref: https://amueller.github.io/word_cloud/index.html"
   ]
  },
  {
   "cell_type": "code",
   "execution_count": 109,
   "metadata": {},
   "outputs": [
    {
     "name": "stdout",
     "output_type": "stream",
     "text": [
      "Requirement already satisfied: wordcloud in /Users/cindy/opt/anaconda3/lib/python3.7/site-packages (1.8.1)\n",
      "Requirement already satisfied: numpy>=1.6.1 in /Users/cindy/opt/anaconda3/lib/python3.7/site-packages (from wordcloud) (1.18.1)\n",
      "Requirement already satisfied: pillow in /Users/cindy/opt/anaconda3/lib/python3.7/site-packages (from wordcloud) (7.0.0)\n",
      "Requirement already satisfied: matplotlib in /Users/cindy/opt/anaconda3/lib/python3.7/site-packages (from wordcloud) (3.1.3)\n",
      "Requirement already satisfied: kiwisolver>=1.0.1 in /Users/cindy/opt/anaconda3/lib/python3.7/site-packages (from matplotlib->wordcloud) (1.1.0)\n",
      "Requirement already satisfied: python-dateutil>=2.1 in /Users/cindy/opt/anaconda3/lib/python3.7/site-packages (from matplotlib->wordcloud) (2.8.1)\n",
      "Requirement already satisfied: pyparsing!=2.0.4,!=2.1.2,!=2.1.6,>=2.0.1 in /Users/cindy/opt/anaconda3/lib/python3.7/site-packages (from matplotlib->wordcloud) (2.4.6)\n",
      "Requirement already satisfied: cycler>=0.10 in /Users/cindy/opt/anaconda3/lib/python3.7/site-packages (from matplotlib->wordcloud) (0.10.0)\n",
      "Requirement already satisfied: setuptools in /Users/cindy/opt/anaconda3/lib/python3.7/site-packages (from kiwisolver>=1.0.1->matplotlib->wordcloud) (46.0.0.post20200309)\n",
      "Requirement already satisfied: six>=1.5 in /Users/cindy/opt/anaconda3/lib/python3.7/site-packages (from python-dateutil>=2.1->matplotlib->wordcloud) (1.14.0)\n",
      "\u001b[33mWARNING: You are using pip version 20.1.1; however, version 21.0.1 is available.\n",
      "You should consider upgrading via the '/Users/cindy/opt/anaconda3/bin/python3 -m pip install --upgrade pip' command.\u001b[0m\n"
     ]
    }
   ],
   "source": [
    "!pip install wordcloud"
   ]
  },
  {
   "cell_type": "code",
   "execution_count": 110,
   "metadata": {},
   "outputs": [],
   "source": [
    "from wordcloud import WordCloud, STOPWORDS, ImageColorGenerator"
   ]
  },
  {
   "cell_type": "markdown",
   "metadata": {},
   "source": [
    "Select one example to demonstrate word cloud."
   ]
  },
  {
   "cell_type": "code",
   "execution_count": 111,
   "metadata": {},
   "outputs": [
    {
     "name": "stdout",
     "output_type": "stream",
     "text": [
      "WASHINGTON (Reuters) - Transgender people will be allowed for the first time to enlist in the U.S. military starting on Monday as ordered by federal courts, the Pentagon said on Friday, after President Donald Trump’s administration decided not to appeal rulings that blocked his transgender ban. Two federal appeals courts, one in Washington and one in Virginia, last week rejected the administration’s request to put on hold orders by lower court judges requiring the military to begin accepting transgender recruits on Jan. 1. A Justice Department official said the administration will not challenge those rulings. “The Department of Defense has announced that it will be releasing an independent study of these issues in the coming weeks. So rather than litigate this interim appeal before that occurs, the administration has decided to wait for DOD’s study and will continue to defend the president’s lawful authority in District Court in the meantime,” the official said, speaking on condition of anonymity. In September, the Pentagon said it had created a panel of senior officials to study how to implement a directive by Trump to prohibit transgender individuals from serving. The Defense Department has until Feb. 21 to submit a plan to Trump. Lawyers representing currently-serving transgender service members and aspiring recruits said they had expected the administration to appeal the rulings to the conservative-majority Supreme Court, but were hoping that would not happen. Pentagon spokeswoman Heather Babb said in a statement: “As mandated by court order, the Department of Defense is prepared to begin accessing transgender applicants for military service Jan. 1. All applicants must meet all accession standards.” Jennifer Levi, a lawyer with gay, lesbian and transgender advocacy group GLAD, called the decision not to appeal “great news.” “I’m hoping it means the government has come to see that there is no way to justify a ban and that it’s not good for the military or our country,” Levi said. Both GLAD and the American Civil Liberties Union represent plaintiffs in the lawsuits filed against the administration. In a move that appealed to his hard-line conservative supporters, Trump announced in July that he would prohibit transgender people from serving in the military, reversing Democratic President Barack Obama’s policy of accepting them. Trump said on Twitter at the time that the military “cannot be burdened with the tremendous medical costs and disruption that transgender in the military would entail.” Four federal judges - in Baltimore, Washington, D.C., Seattle and Riverside, California - have issued rulings blocking Trump’s ban while legal challenges to the Republican president’s policy proceed. The judges said the ban would likely violate the right under the U.S. Constitution to equal protection under the law. The Pentagon on Dec. 8 issued guidelines to recruitment personnel in order to enlist transgender applicants by Jan. 1. The memo outlined medical requirements and specified how the applicants’ sex would be identified and even which undergarments they would wear. The Trump administration previously said in legal papers that the armed forces were not prepared to train thousands of personnel on the medical standards needed to process transgender applicants and might have to accept “some individuals who are not medically fit for service.” The Obama administration had set a deadline of July 1, 2017, to begin accepting transgender recruits. But Trump’s defense secretary, James Mattis, postponed that date to Jan. 1, 2018, which the president’s ban then put off indefinitely. Trump has taken other steps aimed at rolling back transgender rights. In October, his administration said a federal law banning gender-based workplace discrimination does not protect transgender employees, reversing another Obama-era position. In February, Trump rescinded guidance issued by the Obama administration saying that public schools should allow transgender students to use the restroom that corresponds to their gender identity. \n"
     ]
    }
   ],
   "source": [
    "text = news['text'][1]\n",
    "print(text)"
   ]
  },
  {
   "cell_type": "code",
   "execution_count": 112,
   "metadata": {},
   "outputs": [
    {
     "data": {
      "image/png": "[encoded data removed]",
      "text/plain": [
       "<Figure size 432x288 with 1 Axes>"
      ]
     },
     "metadata": {
      "needs_background": "light"
     },
     "output_type": "display_data"
    }
   ],
   "source": [
    "wordcloud = WordCloud().generate(text)\n",
    "\n",
    "#Display word cloud\n",
    "plt.imshow(wordcloud, interpolation='bilinear')\n",
    "plt.axis(\"off\")\n",
    "plt.show()"
   ]
  },
  {
   "cell_type": "markdown",
   "metadata": {},
   "source": [
    "Change some arguments for the word cloud and save to a file."
   ]
  },
  {
   "cell_type": "code",
   "execution_count": 113,
   "metadata": {},
   "outputs": [
    {
     "data": {
      "image/png": "[encoded data removed]",
      "text/plain": [
       "<Figure size 432x288 with 1 Axes>"
      ]
     },
     "metadata": {
      "needs_background": "light"
     },
     "output_type": "display_data"
    }
   ],
   "source": [
    "wordcloud = WordCloud(max_font_size=50, max_words=100, background_color=\"white\").generate(text)\n",
    "wordcloud.to_file(\"cloud.png\")\n",
    "plt.figure()\n",
    "plt.imshow(wordcloud, interpolation=\"bilinear\")\n",
    "plt.axis(\"off\")\n",
    "plt.show()"
   ]
  },
  {
   "cell_type": "markdown",
   "metadata": {},
   "source": [
    "### Remove Contractions"
   ]
  },
  {
   "cell_type": "code",
   "execution_count": 114,
   "metadata": {},
   "outputs": [
    {
     "name": "stdout",
     "output_type": "stream",
     "text": [
      "Requirement already satisfied: contractions in /Users/cindy/opt/anaconda3/lib/python3.7/site-packages (0.0.43)\n",
      "Requirement already satisfied: textsearch in /Users/cindy/opt/anaconda3/lib/python3.7/site-packages (from contractions) (0.0.17)\n",
      "Requirement already satisfied: Unidecode in /Users/cindy/opt/anaconda3/lib/python3.7/site-packages (from textsearch->contractions) (1.1.2)\n",
      "Requirement already satisfied: pyahocorasick in /Users/cindy/opt/anaconda3/lib/python3.7/site-packages (from textsearch->contractions) (1.4.0)\n",
      "\u001b[33mWARNING: You are using pip version 20.1.1; however, version 21.0.1 is available.\n",
      "You should consider upgrading via the '/Users/cindy/opt/anaconda3/bin/python3 -m pip install --upgrade pip' command.\u001b[0m\n"
     ]
    }
   ],
   "source": [
    "!pip install contractions\n",
    "import contractions"
   ]
  },
  {
   "cell_type": "code",
   "execution_count": 115,
   "metadata": {},
   "outputs": [
    {
     "data": {
      "text/html": [
       "<div>\n",
       "<style scoped>\n",
       "    .dataframe tbody tr th:only-of-type {\n",
       "        vertical-align: middle;\n",
       "    }\n",
       "\n",
       "    .dataframe tbody tr th {\n",
       "        vertical-align: top;\n",
       "    }\n",
       "\n",
       "    .dataframe thead th {\n",
       "        text-align: right;\n",
       "    }\n",
       "</style>\n",
       "<table border=\"1\" class=\"dataframe\">\n",
       "  <thead>\n",
       "    <tr style=\"text-align: right;\">\n",
       "      <th></th>\n",
       "      <th>label</th>\n",
       "      <th>title</th>\n",
       "      <th>text</th>\n",
       "      <th>subject</th>\n",
       "      <th>date</th>\n",
       "      <th>length</th>\n",
       "      <th>no_contract</th>\n",
       "    </tr>\n",
       "  </thead>\n",
       "  <tbody>\n",
       "    <tr>\n",
       "      <th>0</th>\n",
       "      <td>true</td>\n",
       "      <td>As U.S. budget fight looms, Republicans flip t...</td>\n",
       "      <td>WASHINGTON (Reuters) - The head of a conservat...</td>\n",
       "      <td>politicsNews</td>\n",
       "      <td>December 31, 2017</td>\n",
       "      <td>4659</td>\n",
       "      <td>[WASHINGTON, (Reuters), -, The, head, of, a, c...</td>\n",
       "    </tr>\n",
       "    <tr>\n",
       "      <th>1</th>\n",
       "      <td>true</td>\n",
       "      <td>U.S. military to accept transgender recruits o...</td>\n",
       "      <td>WASHINGTON (Reuters) - Transgender people will...</td>\n",
       "      <td>politicsNews</td>\n",
       "      <td>December 29, 2017</td>\n",
       "      <td>4077</td>\n",
       "      <td>[WASHINGTON, (Reuters), -, Transgender, people...</td>\n",
       "    </tr>\n",
       "    <tr>\n",
       "      <th>2</th>\n",
       "      <td>true</td>\n",
       "      <td>Senior U.S. Republican senator: 'Let Mr. Muell...</td>\n",
       "      <td>WASHINGTON (Reuters) - The special counsel inv...</td>\n",
       "      <td>politicsNews</td>\n",
       "      <td>December 31, 2017</td>\n",
       "      <td>2789</td>\n",
       "      <td>[WASHINGTON, (Reuters), -, The, special, couns...</td>\n",
       "    </tr>\n",
       "    <tr>\n",
       "      <th>3</th>\n",
       "      <td>true</td>\n",
       "      <td>FBI Russia probe helped by Australian diplomat...</td>\n",
       "      <td>WASHINGTON (Reuters) - Trump campaign adviser ...</td>\n",
       "      <td>politicsNews</td>\n",
       "      <td>December 30, 2017</td>\n",
       "      <td>2461</td>\n",
       "      <td>[WASHINGTON, (Reuters), -, Trump, campaign, ad...</td>\n",
       "    </tr>\n",
       "    <tr>\n",
       "      <th>4</th>\n",
       "      <td>true</td>\n",
       "      <td>Trump wants Postal Service to charge 'much mor...</td>\n",
       "      <td>SEATTLE/WASHINGTON (Reuters) - President Donal...</td>\n",
       "      <td>politicsNews</td>\n",
       "      <td>December 29, 2017</td>\n",
       "      <td>5204</td>\n",
       "      <td>[SEATTLE/WASHINGTON, (Reuters), -, President, ...</td>\n",
       "    </tr>\n",
       "  </tbody>\n",
       "</table>\n",
       "</div>"
      ],
      "text/plain": [
       "  label                                              title  \\\n",
       "0  true  As U.S. budget fight looms, Republicans flip t...   \n",
       "1  true  U.S. military to accept transgender recruits o...   \n",
       "2  true  Senior U.S. Republican senator: 'Let Mr. Muell...   \n",
       "3  true  FBI Russia probe helped by Australian diplomat...   \n",
       "4  true  Trump wants Postal Service to charge 'much mor...   \n",
       "\n",
       "                                                text       subject  \\\n",
       "0  WASHINGTON (Reuters) - The head of a conservat...  politicsNews   \n",
       "1  WASHINGTON (Reuters) - Transgender people will...  politicsNews   \n",
       "2  WASHINGTON (Reuters) - The special counsel inv...  politicsNews   \n",
       "3  WASHINGTON (Reuters) - Trump campaign adviser ...  politicsNews   \n",
       "4  SEATTLE/WASHINGTON (Reuters) - President Donal...  politicsNews   \n",
       "\n",
       "                 date  length  \\\n",
       "0  December 31, 2017     4659   \n",
       "1  December 29, 2017     4077   \n",
       "2  December 31, 2017     2789   \n",
       "3  December 30, 2017     2461   \n",
       "4  December 29, 2017     5204   \n",
       "\n",
       "                                         no_contract  \n",
       "0  [WASHINGTON, (Reuters), -, The, head, of, a, c...  \n",
       "1  [WASHINGTON, (Reuters), -, Transgender, people...  \n",
       "2  [WASHINGTON, (Reuters), -, The, special, couns...  \n",
       "3  [WASHINGTON, (Reuters), -, Trump, campaign, ad...  \n",
       "4  [SEATTLE/WASHINGTON, (Reuters), -, President, ...  "
      ]
     },
     "execution_count": 115,
     "metadata": {},
     "output_type": "execute_result"
    }
   ],
   "source": [
    "news['no_contract'] = news['text'].apply(lambda x: [contractions.fix(word) for word in x.split()])\n",
    "news.head()"
   ]
  },
  {
   "cell_type": "code",
   "execution_count": 116,
   "metadata": {},
   "outputs": [
    {
     "data": {
      "text/html": [
       "<div>\n",
       "<style scoped>\n",
       "    .dataframe tbody tr th:only-of-type {\n",
       "        vertical-align: middle;\n",
       "    }\n",
       "\n",
       "    .dataframe tbody tr th {\n",
       "        vertical-align: top;\n",
       "    }\n",
       "\n",
       "    .dataframe thead th {\n",
       "        text-align: right;\n",
       "    }\n",
       "</style>\n",
       "<table border=\"1\" class=\"dataframe\">\n",
       "  <thead>\n",
       "    <tr style=\"text-align: right;\">\n",
       "      <th></th>\n",
       "      <th>label</th>\n",
       "      <th>title</th>\n",
       "      <th>text</th>\n",
       "      <th>subject</th>\n",
       "      <th>date</th>\n",
       "      <th>length</th>\n",
       "      <th>no_contract</th>\n",
       "      <th>text_str</th>\n",
       "    </tr>\n",
       "  </thead>\n",
       "  <tbody>\n",
       "    <tr>\n",
       "      <th>0</th>\n",
       "      <td>true</td>\n",
       "      <td>As U.S. budget fight looms, Republicans flip t...</td>\n",
       "      <td>WASHINGTON (Reuters) - The head of a conservat...</td>\n",
       "      <td>politicsNews</td>\n",
       "      <td>December 31, 2017</td>\n",
       "      <td>4659</td>\n",
       "      <td>[WASHINGTON, (Reuters), -, The, head, of, a, c...</td>\n",
       "      <td>WASHINGTON (Reuters) - The head of a conservat...</td>\n",
       "    </tr>\n",
       "    <tr>\n",
       "      <th>1</th>\n",
       "      <td>true</td>\n",
       "      <td>U.S. military to accept transgender recruits o...</td>\n",
       "      <td>WASHINGTON (Reuters) - Transgender people will...</td>\n",
       "      <td>politicsNews</td>\n",
       "      <td>December 29, 2017</td>\n",
       "      <td>4077</td>\n",
       "      <td>[WASHINGTON, (Reuters), -, Transgender, people...</td>\n",
       "      <td>WASHINGTON (Reuters) - Transgender people will...</td>\n",
       "    </tr>\n",
       "    <tr>\n",
       "      <th>2</th>\n",
       "      <td>true</td>\n",
       "      <td>Senior U.S. Republican senator: 'Let Mr. Muell...</td>\n",
       "      <td>WASHINGTON (Reuters) - The special counsel inv...</td>\n",
       "      <td>politicsNews</td>\n",
       "      <td>December 31, 2017</td>\n",
       "      <td>2789</td>\n",
       "      <td>[WASHINGTON, (Reuters), -, The, special, couns...</td>\n",
       "      <td>WASHINGTON (Reuters) - The special counsel inv...</td>\n",
       "    </tr>\n",
       "    <tr>\n",
       "      <th>3</th>\n",
       "      <td>true</td>\n",
       "      <td>FBI Russia probe helped by Australian diplomat...</td>\n",
       "      <td>WASHINGTON (Reuters) - Trump campaign adviser ...</td>\n",
       "      <td>politicsNews</td>\n",
       "      <td>December 30, 2017</td>\n",
       "      <td>2461</td>\n",
       "      <td>[WASHINGTON, (Reuters), -, Trump, campaign, ad...</td>\n",
       "      <td>WASHINGTON (Reuters) - Trump campaign adviser ...</td>\n",
       "    </tr>\n",
       "    <tr>\n",
       "      <th>4</th>\n",
       "      <td>true</td>\n",
       "      <td>Trump wants Postal Service to charge 'much mor...</td>\n",
       "      <td>SEATTLE/WASHINGTON (Reuters) - President Donal...</td>\n",
       "      <td>politicsNews</td>\n",
       "      <td>December 29, 2017</td>\n",
       "      <td>5204</td>\n",
       "      <td>[SEATTLE/WASHINGTON, (Reuters), -, President, ...</td>\n",
       "      <td>SEATTLE/WASHINGTON (Reuters) - President Donal...</td>\n",
       "    </tr>\n",
       "  </tbody>\n",
       "</table>\n",
       "</div>"
      ],
      "text/plain": [
       "  label                                              title  \\\n",
       "0  true  As U.S. budget fight looms, Republicans flip t...   \n",
       "1  true  U.S. military to accept transgender recruits o...   \n",
       "2  true  Senior U.S. Republican senator: 'Let Mr. Muell...   \n",
       "3  true  FBI Russia probe helped by Australian diplomat...   \n",
       "4  true  Trump wants Postal Service to charge 'much mor...   \n",
       "\n",
       "                                                text       subject  \\\n",
       "0  WASHINGTON (Reuters) - The head of a conservat...  politicsNews   \n",
       "1  WASHINGTON (Reuters) - Transgender people will...  politicsNews   \n",
       "2  WASHINGTON (Reuters) - The special counsel inv...  politicsNews   \n",
       "3  WASHINGTON (Reuters) - Trump campaign adviser ...  politicsNews   \n",
       "4  SEATTLE/WASHINGTON (Reuters) - President Donal...  politicsNews   \n",
       "\n",
       "                 date  length  \\\n",
       "0  December 31, 2017     4659   \n",
       "1  December 29, 2017     4077   \n",
       "2  December 31, 2017     2789   \n",
       "3  December 30, 2017     2461   \n",
       "4  December 29, 2017     5204   \n",
       "\n",
       "                                         no_contract  \\\n",
       "0  [WASHINGTON, (Reuters), -, The, head, of, a, c...   \n",
       "1  [WASHINGTON, (Reuters), -, Transgender, people...   \n",
       "2  [WASHINGTON, (Reuters), -, The, special, couns...   \n",
       "3  [WASHINGTON, (Reuters), -, Trump, campaign, ad...   \n",
       "4  [SEATTLE/WASHINGTON, (Reuters), -, President, ...   \n",
       "\n",
       "                                            text_str  \n",
       "0  WASHINGTON (Reuters) - The head of a conservat...  \n",
       "1  WASHINGTON (Reuters) - Transgender people will...  \n",
       "2  WASHINGTON (Reuters) - The special counsel inv...  \n",
       "3  WASHINGTON (Reuters) - Trump campaign adviser ...  \n",
       "4  SEATTLE/WASHINGTON (Reuters) - President Donal...  "
      ]
     },
     "execution_count": 116,
     "metadata": {},
     "output_type": "execute_result"
    }
   ],
   "source": [
    "news['text_str'] = [' '.join(map(str, l)) for l in news['no_contract']]\n",
    "news.head()"
   ]
  },
  {
   "cell_type": "markdown",
   "metadata": {},
   "source": [
    "### Tokenize"
   ]
  },
  {
   "cell_type": "code",
   "execution_count": 117,
   "metadata": {
    "scrolled": true
   },
   "outputs": [],
   "source": [
    "from nltk.tokenize import word_tokenize"
   ]
  },
  {
   "cell_type": "code",
   "execution_count": 118,
   "metadata": {},
   "outputs": [
    {
     "data": {
      "text/html": [
       "<div>\n",
       "<style scoped>\n",
       "    .dataframe tbody tr th:only-of-type {\n",
       "        vertical-align: middle;\n",
       "    }\n",
       "\n",
       "    .dataframe tbody tr th {\n",
       "        vertical-align: top;\n",
       "    }\n",
       "\n",
       "    .dataframe thead th {\n",
       "        text-align: right;\n",
       "    }\n",
       "</style>\n",
       "<table border=\"1\" class=\"dataframe\">\n",
       "  <thead>\n",
       "    <tr style=\"text-align: right;\">\n",
       "      <th></th>\n",
       "      <th>label</th>\n",
       "      <th>title</th>\n",
       "      <th>text</th>\n",
       "      <th>subject</th>\n",
       "      <th>date</th>\n",
       "      <th>length</th>\n",
       "      <th>no_contract</th>\n",
       "      <th>text_str</th>\n",
       "      <th>tokenized</th>\n",
       "    </tr>\n",
       "  </thead>\n",
       "  <tbody>\n",
       "    <tr>\n",
       "      <th>0</th>\n",
       "      <td>true</td>\n",
       "      <td>As U.S. budget fight looms, Republicans flip t...</td>\n",
       "      <td>WASHINGTON (Reuters) - The head of a conservat...</td>\n",
       "      <td>politicsNews</td>\n",
       "      <td>December 31, 2017</td>\n",
       "      <td>4659</td>\n",
       "      <td>[WASHINGTON, (Reuters), -, The, head, of, a, c...</td>\n",
       "      <td>WASHINGTON (Reuters) - The head of a conservat...</td>\n",
       "      <td>[WASHINGTON, (, Reuters, ), -, The, head, of, ...</td>\n",
       "    </tr>\n",
       "    <tr>\n",
       "      <th>1</th>\n",
       "      <td>true</td>\n",
       "      <td>U.S. military to accept transgender recruits o...</td>\n",
       "      <td>WASHINGTON (Reuters) - Transgender people will...</td>\n",
       "      <td>politicsNews</td>\n",
       "      <td>December 29, 2017</td>\n",
       "      <td>4077</td>\n",
       "      <td>[WASHINGTON, (Reuters), -, Transgender, people...</td>\n",
       "      <td>WASHINGTON (Reuters) - Transgender people will...</td>\n",
       "      <td>[WASHINGTON, (, Reuters, ), -, Transgender, pe...</td>\n",
       "    </tr>\n",
       "    <tr>\n",
       "      <th>2</th>\n",
       "      <td>true</td>\n",
       "      <td>Senior U.S. Republican senator: 'Let Mr. Muell...</td>\n",
       "      <td>WASHINGTON (Reuters) - The special counsel inv...</td>\n",
       "      <td>politicsNews</td>\n",
       "      <td>December 31, 2017</td>\n",
       "      <td>2789</td>\n",
       "      <td>[WASHINGTON, (Reuters), -, The, special, couns...</td>\n",
       "      <td>WASHINGTON (Reuters) - The special counsel inv...</td>\n",
       "      <td>[WASHINGTON, (, Reuters, ), -, The, special, c...</td>\n",
       "    </tr>\n",
       "    <tr>\n",
       "      <th>3</th>\n",
       "      <td>true</td>\n",
       "      <td>FBI Russia probe helped by Australian diplomat...</td>\n",
       "      <td>WASHINGTON (Reuters) - Trump campaign adviser ...</td>\n",
       "      <td>politicsNews</td>\n",
       "      <td>December 30, 2017</td>\n",
       "      <td>2461</td>\n",
       "      <td>[WASHINGTON, (Reuters), -, Trump, campaign, ad...</td>\n",
       "      <td>WASHINGTON (Reuters) - Trump campaign adviser ...</td>\n",
       "      <td>[WASHINGTON, (, Reuters, ), -, Trump, campaign...</td>\n",
       "    </tr>\n",
       "    <tr>\n",
       "      <th>4</th>\n",
       "      <td>true</td>\n",
       "      <td>Trump wants Postal Service to charge 'much mor...</td>\n",
       "      <td>SEATTLE/WASHINGTON (Reuters) - President Donal...</td>\n",
       "      <td>politicsNews</td>\n",
       "      <td>December 29, 2017</td>\n",
       "      <td>5204</td>\n",
       "      <td>[SEATTLE/WASHINGTON, (Reuters), -, President, ...</td>\n",
       "      <td>SEATTLE/WASHINGTON (Reuters) - President Donal...</td>\n",
       "      <td>[SEATTLE/WASHINGTON, (, Reuters, ), -, Preside...</td>\n",
       "    </tr>\n",
       "  </tbody>\n",
       "</table>\n",
       "</div>"
      ],
      "text/plain": [
       "  label                                              title  \\\n",
       "0  true  As U.S. budget fight looms, Republicans flip t...   \n",
       "1  true  U.S. military to accept transgender recruits o...   \n",
       "2  true  Senior U.S. Republican senator: 'Let Mr. Muell...   \n",
       "3  true  FBI Russia probe helped by Australian diplomat...   \n",
       "4  true  Trump wants Postal Service to charge 'much mor...   \n",
       "\n",
       "                                                text       subject  \\\n",
       "0  WASHINGTON (Reuters) - The head of a conservat...  politicsNews   \n",
       "1  WASHINGTON (Reuters) - Transgender people will...  politicsNews   \n",
       "2  WASHINGTON (Reuters) - The special counsel inv...  politicsNews   \n",
       "3  WASHINGTON (Reuters) - Trump campaign adviser ...  politicsNews   \n",
       "4  SEATTLE/WASHINGTON (Reuters) - President Donal...  politicsNews   \n",
       "\n",
       "                 date  length  \\\n",
       "0  December 31, 2017     4659   \n",
       "1  December 29, 2017     4077   \n",
       "2  December 31, 2017     2789   \n",
       "3  December 30, 2017     2461   \n",
       "4  December 29, 2017     5204   \n",
       "\n",
       "                                         no_contract  \\\n",
       "0  [WASHINGTON, (Reuters), -, The, head, of, a, c...   \n",
       "1  [WASHINGTON, (Reuters), -, Transgender, people...   \n",
       "2  [WASHINGTON, (Reuters), -, The, special, couns...   \n",
       "3  [WASHINGTON, (Reuters), -, Trump, campaign, ad...   \n",
       "4  [SEATTLE/WASHINGTON, (Reuters), -, President, ...   \n",
       "\n",
       "                                            text_str  \\\n",
       "0  WASHINGTON (Reuters) - The head of a conservat...   \n",
       "1  WASHINGTON (Reuters) - Transgender people will...   \n",
       "2  WASHINGTON (Reuters) - The special counsel inv...   \n",
       "3  WASHINGTON (Reuters) - Trump campaign adviser ...   \n",
       "4  SEATTLE/WASHINGTON (Reuters) - President Donal...   \n",
       "\n",
       "                                           tokenized  \n",
       "0  [WASHINGTON, (, Reuters, ), -, The, head, of, ...  \n",
       "1  [WASHINGTON, (, Reuters, ), -, Transgender, pe...  \n",
       "2  [WASHINGTON, (, Reuters, ), -, The, special, c...  \n",
       "3  [WASHINGTON, (, Reuters, ), -, Trump, campaign...  \n",
       "4  [SEATTLE/WASHINGTON, (, Reuters, ), -, Preside...  "
      ]
     },
     "execution_count": 118,
     "metadata": {},
     "output_type": "execute_result"
    }
   ],
   "source": [
    "news['tokenized'] =  news['text_str'].apply(word_tokenize)\n",
    "news.head()"
   ]
  },
  {
   "cell_type": "markdown",
   "metadata": {},
   "source": [
    "### Noise Cleaning - spacing, special characters, lowercasing"
   ]
  },
  {
   "cell_type": "code",
   "execution_count": 119,
   "metadata": {
    "scrolled": true
   },
   "outputs": [
    {
     "data": {
      "text/html": [
       "<div>\n",
       "<style scoped>\n",
       "    .dataframe tbody tr th:only-of-type {\n",
       "        vertical-align: middle;\n",
       "    }\n",
       "\n",
       "    .dataframe tbody tr th {\n",
       "        vertical-align: top;\n",
       "    }\n",
       "\n",
       "    .dataframe thead th {\n",
       "        text-align: right;\n",
       "    }\n",
       "</style>\n",
       "<table border=\"1\" class=\"dataframe\">\n",
       "  <thead>\n",
       "    <tr style=\"text-align: right;\">\n",
       "      <th></th>\n",
       "      <th>label</th>\n",
       "      <th>title</th>\n",
       "      <th>text</th>\n",
       "      <th>subject</th>\n",
       "      <th>date</th>\n",
       "      <th>length</th>\n",
       "      <th>no_contract</th>\n",
       "      <th>text_str</th>\n",
       "      <th>tokenized</th>\n",
       "      <th>lower</th>\n",
       "    </tr>\n",
       "  </thead>\n",
       "  <tbody>\n",
       "    <tr>\n",
       "      <th>0</th>\n",
       "      <td>true</td>\n",
       "      <td>As U.S. budget fight looms, Republicans flip t...</td>\n",
       "      <td>WASHINGTON (Reuters) - The head of a conservat...</td>\n",
       "      <td>politicsNews</td>\n",
       "      <td>December 31, 2017</td>\n",
       "      <td>4659</td>\n",
       "      <td>[WASHINGTON, (Reuters), -, The, head, of, a, c...</td>\n",
       "      <td>WASHINGTON (Reuters) - The head of a conservat...</td>\n",
       "      <td>[WASHINGTON, (, Reuters, ), -, The, head, of, ...</td>\n",
       "      <td>[washington, (, reuters, ), -, the, head, of, ...</td>\n",
       "    </tr>\n",
       "    <tr>\n",
       "      <th>1</th>\n",
       "      <td>true</td>\n",
       "      <td>U.S. military to accept transgender recruits o...</td>\n",
       "      <td>WASHINGTON (Reuters) - Transgender people will...</td>\n",
       "      <td>politicsNews</td>\n",
       "      <td>December 29, 2017</td>\n",
       "      <td>4077</td>\n",
       "      <td>[WASHINGTON, (Reuters), -, Transgender, people...</td>\n",
       "      <td>WASHINGTON (Reuters) - Transgender people will...</td>\n",
       "      <td>[WASHINGTON, (, Reuters, ), -, Transgender, pe...</td>\n",
       "      <td>[washington, (, reuters, ), -, transgender, pe...</td>\n",
       "    </tr>\n",
       "    <tr>\n",
       "      <th>2</th>\n",
       "      <td>true</td>\n",
       "      <td>Senior U.S. Republican senator: 'Let Mr. Muell...</td>\n",
       "      <td>WASHINGTON (Reuters) - The special counsel inv...</td>\n",
       "      <td>politicsNews</td>\n",
       "      <td>December 31, 2017</td>\n",
       "      <td>2789</td>\n",
       "      <td>[WASHINGTON, (Reuters), -, The, special, couns...</td>\n",
       "      <td>WASHINGTON (Reuters) - The special counsel inv...</td>\n",
       "      <td>[WASHINGTON, (, Reuters, ), -, The, special, c...</td>\n",
       "      <td>[washington, (, reuters, ), -, the, special, c...</td>\n",
       "    </tr>\n",
       "    <tr>\n",
       "      <th>3</th>\n",
       "      <td>true</td>\n",
       "      <td>FBI Russia probe helped by Australian diplomat...</td>\n",
       "      <td>WASHINGTON (Reuters) - Trump campaign adviser ...</td>\n",
       "      <td>politicsNews</td>\n",
       "      <td>December 30, 2017</td>\n",
       "      <td>2461</td>\n",
       "      <td>[WASHINGTON, (Reuters), -, Trump, campaign, ad...</td>\n",
       "      <td>WASHINGTON (Reuters) - Trump campaign adviser ...</td>\n",
       "      <td>[WASHINGTON, (, Reuters, ), -, Trump, campaign...</td>\n",
       "      <td>[washington, (, reuters, ), -, trump, campaign...</td>\n",
       "    </tr>\n",
       "    <tr>\n",
       "      <th>4</th>\n",
       "      <td>true</td>\n",
       "      <td>Trump wants Postal Service to charge 'much mor...</td>\n",
       "      <td>SEATTLE/WASHINGTON (Reuters) - President Donal...</td>\n",
       "      <td>politicsNews</td>\n",
       "      <td>December 29, 2017</td>\n",
       "      <td>5204</td>\n",
       "      <td>[SEATTLE/WASHINGTON, (Reuters), -, President, ...</td>\n",
       "      <td>SEATTLE/WASHINGTON (Reuters) - President Donal...</td>\n",
       "      <td>[SEATTLE/WASHINGTON, (, Reuters, ), -, Preside...</td>\n",
       "      <td>[seattle/washington, (, reuters, ), -, preside...</td>\n",
       "    </tr>\n",
       "  </tbody>\n",
       "</table>\n",
       "</div>"
      ],
      "text/plain": [
       "  label                                              title  \\\n",
       "0  true  As U.S. budget fight looms, Republicans flip t...   \n",
       "1  true  U.S. military to accept transgender recruits o...   \n",
       "2  true  Senior U.S. Republican senator: 'Let Mr. Muell...   \n",
       "3  true  FBI Russia probe helped by Australian diplomat...   \n",
       "4  true  Trump wants Postal Service to charge 'much mor...   \n",
       "\n",
       "                                                text       subject  \\\n",
       "0  WASHINGTON (Reuters) - The head of a conservat...  politicsNews   \n",
       "1  WASHINGTON (Reuters) - Transgender people will...  politicsNews   \n",
       "2  WASHINGTON (Reuters) - The special counsel inv...  politicsNews   \n",
       "3  WASHINGTON (Reuters) - Trump campaign adviser ...  politicsNews   \n",
       "4  SEATTLE/WASHINGTON (Reuters) - President Donal...  politicsNews   \n",
       "\n",
       "                 date  length  \\\n",
       "0  December 31, 2017     4659   \n",
       "1  December 29, 2017     4077   \n",
       "2  December 31, 2017     2789   \n",
       "3  December 30, 2017     2461   \n",
       "4  December 29, 2017     5204   \n",
       "\n",
       "                                         no_contract  \\\n",
       "0  [WASHINGTON, (Reuters), -, The, head, of, a, c...   \n",
       "1  [WASHINGTON, (Reuters), -, Transgender, people...   \n",
       "2  [WASHINGTON, (Reuters), -, The, special, couns...   \n",
       "3  [WASHINGTON, (Reuters), -, Trump, campaign, ad...   \n",
       "4  [SEATTLE/WASHINGTON, (Reuters), -, President, ...   \n",
       "\n",
       "                                            text_str  \\\n",
       "0  WASHINGTON (Reuters) - The head of a conservat...   \n",
       "1  WASHINGTON (Reuters) - Transgender people will...   \n",
       "2  WASHINGTON (Reuters) - The special counsel inv...   \n",
       "3  WASHINGTON (Reuters) - Trump campaign adviser ...   \n",
       "4  SEATTLE/WASHINGTON (Reuters) - President Donal...   \n",
       "\n",
       "                                           tokenized  \\\n",
       "0  [WASHINGTON, (, Reuters, ), -, The, head, of, ...   \n",
       "1  [WASHINGTON, (, Reuters, ), -, Transgender, pe...   \n",
       "2  [WASHINGTON, (, Reuters, ), -, The, special, c...   \n",
       "3  [WASHINGTON, (, Reuters, ), -, Trump, campaign...   \n",
       "4  [SEATTLE/WASHINGTON, (, Reuters, ), -, Preside...   \n",
       "\n",
       "                                               lower  \n",
       "0  [washington, (, reuters, ), -, the, head, of, ...  \n",
       "1  [washington, (, reuters, ), -, transgender, pe...  \n",
       "2  [washington, (, reuters, ), -, the, special, c...  \n",
       "3  [washington, (, reuters, ), -, trump, campaign...  \n",
       "4  [seattle/washington, (, reuters, ), -, preside...  "
      ]
     },
     "execution_count": 119,
     "metadata": {},
     "output_type": "execute_result"
    }
   ],
   "source": [
    "news['lower'] = news['tokenized'].apply(lambda x: [word.lower() for word in x])\n",
    "news.head()"
   ]
  },
  {
   "cell_type": "code",
   "execution_count": 120,
   "metadata": {},
   "outputs": [
    {
     "data": {
      "text/html": [
       "<div>\n",
       "<style scoped>\n",
       "    .dataframe tbody tr th:only-of-type {\n",
       "        vertical-align: middle;\n",
       "    }\n",
       "\n",
       "    .dataframe tbody tr th {\n",
       "        vertical-align: top;\n",
       "    }\n",
       "\n",
       "    .dataframe thead th {\n",
       "        text-align: right;\n",
       "    }\n",
       "</style>\n",
       "<table border=\"1\" class=\"dataframe\">\n",
       "  <thead>\n",
       "    <tr style=\"text-align: right;\">\n",
       "      <th></th>\n",
       "      <th>label</th>\n",
       "      <th>title</th>\n",
       "      <th>text</th>\n",
       "      <th>subject</th>\n",
       "      <th>date</th>\n",
       "      <th>length</th>\n",
       "      <th>no_contract</th>\n",
       "      <th>text_str</th>\n",
       "      <th>tokenized</th>\n",
       "      <th>lower</th>\n",
       "    </tr>\n",
       "  </thead>\n",
       "  <tbody>\n",
       "    <tr>\n",
       "      <th>0</th>\n",
       "      <td>true</td>\n",
       "      <td>As U.S. budget fight looms, Republicans flip t...</td>\n",
       "      <td>WASHINGTON (Reuters) - The head of a conservat...</td>\n",
       "      <td>politicsNews</td>\n",
       "      <td>December 31, 2017</td>\n",
       "      <td>4659</td>\n",
       "      <td>[WASHINGTON, (Reuters), -, The, head, of, a, c...</td>\n",
       "      <td>WASHINGTON (Reuters) - The head of a conservat...</td>\n",
       "      <td>[WASHINGTON, (, Reuters, ), -, The, head, of, ...</td>\n",
       "      <td>[washington, (, reuters, ), -, the, head, of, ...</td>\n",
       "    </tr>\n",
       "    <tr>\n",
       "      <th>1</th>\n",
       "      <td>true</td>\n",
       "      <td>U.S. military to accept transgender recruits o...</td>\n",
       "      <td>WASHINGTON (Reuters) - Transgender people will...</td>\n",
       "      <td>politicsNews</td>\n",
       "      <td>December 29, 2017</td>\n",
       "      <td>4077</td>\n",
       "      <td>[WASHINGTON, (Reuters), -, Transgender, people...</td>\n",
       "      <td>WASHINGTON (Reuters) - Transgender people will...</td>\n",
       "      <td>[WASHINGTON, (, Reuters, ), -, Transgender, pe...</td>\n",
       "      <td>[washington, (, reuters, ), -, transgender, pe...</td>\n",
       "    </tr>\n",
       "    <tr>\n",
       "      <th>2</th>\n",
       "      <td>true</td>\n",
       "      <td>Senior U.S. Republican senator: 'Let Mr. Muell...</td>\n",
       "      <td>WASHINGTON (Reuters) - The special counsel inv...</td>\n",
       "      <td>politicsNews</td>\n",
       "      <td>December 31, 2017</td>\n",
       "      <td>2789</td>\n",
       "      <td>[WASHINGTON, (Reuters), -, The, special, couns...</td>\n",
       "      <td>WASHINGTON (Reuters) - The special counsel inv...</td>\n",
       "      <td>[WASHINGTON, (, Reuters, ), -, The, special, c...</td>\n",
       "      <td>[washington, (, reuters, ), -, the, special, c...</td>\n",
       "    </tr>\n",
       "    <tr>\n",
       "      <th>3</th>\n",
       "      <td>true</td>\n",
       "      <td>FBI Russia probe helped by Australian diplomat...</td>\n",
       "      <td>WASHINGTON (Reuters) - Trump campaign adviser ...</td>\n",
       "      <td>politicsNews</td>\n",
       "      <td>December 30, 2017</td>\n",
       "      <td>2461</td>\n",
       "      <td>[WASHINGTON, (Reuters), -, Trump, campaign, ad...</td>\n",
       "      <td>WASHINGTON (Reuters) - Trump campaign adviser ...</td>\n",
       "      <td>[WASHINGTON, (, Reuters, ), -, Trump, campaign...</td>\n",
       "      <td>[washington, (, reuters, ), -, trump, campaign...</td>\n",
       "    </tr>\n",
       "    <tr>\n",
       "      <th>4</th>\n",
       "      <td>true</td>\n",
       "      <td>Trump wants Postal Service to charge 'much mor...</td>\n",
       "      <td>SEATTLE/WASHINGTON (Reuters) - President Donal...</td>\n",
       "      <td>politicsNews</td>\n",
       "      <td>December 29, 2017</td>\n",
       "      <td>5204</td>\n",
       "      <td>[SEATTLE/WASHINGTON, (Reuters), -, President, ...</td>\n",
       "      <td>SEATTLE/WASHINGTON (Reuters) - President Donal...</td>\n",
       "      <td>[SEATTLE/WASHINGTON, (, Reuters, ), -, Preside...</td>\n",
       "      <td>[seattle/washington, (, reuters, ), -, preside...</td>\n",
       "    </tr>\n",
       "  </tbody>\n",
       "</table>\n",
       "</div>"
      ],
      "text/plain": [
       "  label                                              title  \\\n",
       "0  true  As U.S. budget fight looms, Republicans flip t...   \n",
       "1  true  U.S. military to accept transgender recruits o...   \n",
       "2  true  Senior U.S. Republican senator: 'Let Mr. Muell...   \n",
       "3  true  FBI Russia probe helped by Australian diplomat...   \n",
       "4  true  Trump wants Postal Service to charge 'much mor...   \n",
       "\n",
       "                                                text       subject  \\\n",
       "0  WASHINGTON (Reuters) - The head of a conservat...  politicsNews   \n",
       "1  WASHINGTON (Reuters) - Transgender people will...  politicsNews   \n",
       "2  WASHINGTON (Reuters) - The special counsel inv...  politicsNews   \n",
       "3  WASHINGTON (Reuters) - Trump campaign adviser ...  politicsNews   \n",
       "4  SEATTLE/WASHINGTON (Reuters) - President Donal...  politicsNews   \n",
       "\n",
       "                 date  length  \\\n",
       "0  December 31, 2017     4659   \n",
       "1  December 29, 2017     4077   \n",
       "2  December 31, 2017     2789   \n",
       "3  December 30, 2017     2461   \n",
       "4  December 29, 2017     5204   \n",
       "\n",
       "                                         no_contract  \\\n",
       "0  [WASHINGTON, (Reuters), -, The, head, of, a, c...   \n",
       "1  [WASHINGTON, (Reuters), -, Transgender, people...   \n",
       "2  [WASHINGTON, (Reuters), -, The, special, couns...   \n",
       "3  [WASHINGTON, (Reuters), -, Trump, campaign, ad...   \n",
       "4  [SEATTLE/WASHINGTON, (Reuters), -, President, ...   \n",
       "\n",
       "                                            text_str  \\\n",
       "0  WASHINGTON (Reuters) - The head of a conservat...   \n",
       "1  WASHINGTON (Reuters) - Transgender people will...   \n",
       "2  WASHINGTON (Reuters) - The special counsel inv...   \n",
       "3  WASHINGTON (Reuters) - Trump campaign adviser ...   \n",
       "4  SEATTLE/WASHINGTON (Reuters) - President Donal...   \n",
       "\n",
       "                                           tokenized  \\\n",
       "0  [WASHINGTON, (, Reuters, ), -, The, head, of, ...   \n",
       "1  [WASHINGTON, (, Reuters, ), -, Transgender, pe...   \n",
       "2  [WASHINGTON, (, Reuters, ), -, The, special, c...   \n",
       "3  [WASHINGTON, (, Reuters, ), -, Trump, campaign...   \n",
       "4  [SEATTLE/WASHINGTON, (, Reuters, ), -, Preside...   \n",
       "\n",
       "                                               lower  \n",
       "0  [washington, (, reuters, ), -, the, head, of, ...  \n",
       "1  [washington, (, reuters, ), -, transgender, pe...  \n",
       "2  [washington, (, reuters, ), -, the, special, c...  \n",
       "3  [washington, (, reuters, ), -, trump, campaign...  \n",
       "4  [seattle/washington, (, reuters, ), -, preside...  "
      ]
     },
     "execution_count": 120,
     "metadata": {},
     "output_type": "execute_result"
    }
   ],
   "source": [
    "news['lower'] = news['tokenized'].apply(lambda x: [word.lower() for word in x])\n",
    "news.head()"
   ]
  },
  {
   "cell_type": "code",
   "execution_count": 121,
   "metadata": {},
   "outputs": [
    {
     "data": {
      "text/html": [
       "<div>\n",
       "<style scoped>\n",
       "    .dataframe tbody tr th:only-of-type {\n",
       "        vertical-align: middle;\n",
       "    }\n",
       "\n",
       "    .dataframe tbody tr th {\n",
       "        vertical-align: top;\n",
       "    }\n",
       "\n",
       "    .dataframe thead th {\n",
       "        text-align: right;\n",
       "    }\n",
       "</style>\n",
       "<table border=\"1\" class=\"dataframe\">\n",
       "  <thead>\n",
       "    <tr style=\"text-align: right;\">\n",
       "      <th></th>\n",
       "      <th>label</th>\n",
       "      <th>title</th>\n",
       "      <th>text</th>\n",
       "      <th>subject</th>\n",
       "      <th>date</th>\n",
       "      <th>length</th>\n",
       "      <th>no_contract</th>\n",
       "      <th>text_str</th>\n",
       "      <th>tokenized</th>\n",
       "      <th>lower</th>\n",
       "      <th>no_punc</th>\n",
       "    </tr>\n",
       "  </thead>\n",
       "  <tbody>\n",
       "    <tr>\n",
       "      <th>0</th>\n",
       "      <td>true</td>\n",
       "      <td>As U.S. budget fight looms, Republicans flip t...</td>\n",
       "      <td>WASHINGTON (Reuters) - The head of a conservat...</td>\n",
       "      <td>politicsNews</td>\n",
       "      <td>December 31, 2017</td>\n",
       "      <td>4659</td>\n",
       "      <td>[WASHINGTON, (Reuters), -, The, head, of, a, c...</td>\n",
       "      <td>WASHINGTON (Reuters) - The head of a conservat...</td>\n",
       "      <td>[WASHINGTON, (, Reuters, ), -, The, head, of, ...</td>\n",
       "      <td>[washington, (, reuters, ), -, the, head, of, ...</td>\n",
       "      <td>[washington, reuters, the, head, of, a, conser...</td>\n",
       "    </tr>\n",
       "    <tr>\n",
       "      <th>1</th>\n",
       "      <td>true</td>\n",
       "      <td>U.S. military to accept transgender recruits o...</td>\n",
       "      <td>WASHINGTON (Reuters) - Transgender people will...</td>\n",
       "      <td>politicsNews</td>\n",
       "      <td>December 29, 2017</td>\n",
       "      <td>4077</td>\n",
       "      <td>[WASHINGTON, (Reuters), -, Transgender, people...</td>\n",
       "      <td>WASHINGTON (Reuters) - Transgender people will...</td>\n",
       "      <td>[WASHINGTON, (, Reuters, ), -, Transgender, pe...</td>\n",
       "      <td>[washington, (, reuters, ), -, transgender, pe...</td>\n",
       "      <td>[washington, reuters, transgender, people, wil...</td>\n",
       "    </tr>\n",
       "    <tr>\n",
       "      <th>2</th>\n",
       "      <td>true</td>\n",
       "      <td>Senior U.S. Republican senator: 'Let Mr. Muell...</td>\n",
       "      <td>WASHINGTON (Reuters) - The special counsel inv...</td>\n",
       "      <td>politicsNews</td>\n",
       "      <td>December 31, 2017</td>\n",
       "      <td>2789</td>\n",
       "      <td>[WASHINGTON, (Reuters), -, The, special, couns...</td>\n",
       "      <td>WASHINGTON (Reuters) - The special counsel inv...</td>\n",
       "      <td>[WASHINGTON, (, Reuters, ), -, The, special, c...</td>\n",
       "      <td>[washington, (, reuters, ), -, the, special, c...</td>\n",
       "      <td>[washington, reuters, the, special, counsel, i...</td>\n",
       "    </tr>\n",
       "    <tr>\n",
       "      <th>3</th>\n",
       "      <td>true</td>\n",
       "      <td>FBI Russia probe helped by Australian diplomat...</td>\n",
       "      <td>WASHINGTON (Reuters) - Trump campaign adviser ...</td>\n",
       "      <td>politicsNews</td>\n",
       "      <td>December 30, 2017</td>\n",
       "      <td>2461</td>\n",
       "      <td>[WASHINGTON, (Reuters), -, Trump, campaign, ad...</td>\n",
       "      <td>WASHINGTON (Reuters) - Trump campaign adviser ...</td>\n",
       "      <td>[WASHINGTON, (, Reuters, ), -, Trump, campaign...</td>\n",
       "      <td>[washington, (, reuters, ), -, trump, campaign...</td>\n",
       "      <td>[washington, reuters, trump, campaign, adviser...</td>\n",
       "    </tr>\n",
       "    <tr>\n",
       "      <th>4</th>\n",
       "      <td>true</td>\n",
       "      <td>Trump wants Postal Service to charge 'much mor...</td>\n",
       "      <td>SEATTLE/WASHINGTON (Reuters) - President Donal...</td>\n",
       "      <td>politicsNews</td>\n",
       "      <td>December 29, 2017</td>\n",
       "      <td>5204</td>\n",
       "      <td>[SEATTLE/WASHINGTON, (Reuters), -, President, ...</td>\n",
       "      <td>SEATTLE/WASHINGTON (Reuters) - President Donal...</td>\n",
       "      <td>[SEATTLE/WASHINGTON, (, Reuters, ), -, Preside...</td>\n",
       "      <td>[seattle/washington, (, reuters, ), -, preside...</td>\n",
       "      <td>[seattle/washington, reuters, president, donal...</td>\n",
       "    </tr>\n",
       "  </tbody>\n",
       "</table>\n",
       "</div>"
      ],
      "text/plain": [
       "  label                                              title  \\\n",
       "0  true  As U.S. budget fight looms, Republicans flip t...   \n",
       "1  true  U.S. military to accept transgender recruits o...   \n",
       "2  true  Senior U.S. Republican senator: 'Let Mr. Muell...   \n",
       "3  true  FBI Russia probe helped by Australian diplomat...   \n",
       "4  true  Trump wants Postal Service to charge 'much mor...   \n",
       "\n",
       "                                                text       subject  \\\n",
       "0  WASHINGTON (Reuters) - The head of a conservat...  politicsNews   \n",
       "1  WASHINGTON (Reuters) - Transgender people will...  politicsNews   \n",
       "2  WASHINGTON (Reuters) - The special counsel inv...  politicsNews   \n",
       "3  WASHINGTON (Reuters) - Trump campaign adviser ...  politicsNews   \n",
       "4  SEATTLE/WASHINGTON (Reuters) - President Donal...  politicsNews   \n",
       "\n",
       "                 date  length  \\\n",
       "0  December 31, 2017     4659   \n",
       "1  December 29, 2017     4077   \n",
       "2  December 31, 2017     2789   \n",
       "3  December 30, 2017     2461   \n",
       "4  December 29, 2017     5204   \n",
       "\n",
       "                                         no_contract  \\\n",
       "0  [WASHINGTON, (Reuters), -, The, head, of, a, c...   \n",
       "1  [WASHINGTON, (Reuters), -, Transgender, people...   \n",
       "2  [WASHINGTON, (Reuters), -, The, special, couns...   \n",
       "3  [WASHINGTON, (Reuters), -, Trump, campaign, ad...   \n",
       "4  [SEATTLE/WASHINGTON, (Reuters), -, President, ...   \n",
       "\n",
       "                                            text_str  \\\n",
       "0  WASHINGTON (Reuters) - The head of a conservat...   \n",
       "1  WASHINGTON (Reuters) - Transgender people will...   \n",
       "2  WASHINGTON (Reuters) - The special counsel inv...   \n",
       "3  WASHINGTON (Reuters) - Trump campaign adviser ...   \n",
       "4  SEATTLE/WASHINGTON (Reuters) - President Donal...   \n",
       "\n",
       "                                           tokenized  \\\n",
       "0  [WASHINGTON, (, Reuters, ), -, The, head, of, ...   \n",
       "1  [WASHINGTON, (, Reuters, ), -, Transgender, pe...   \n",
       "2  [WASHINGTON, (, Reuters, ), -, The, special, c...   \n",
       "3  [WASHINGTON, (, Reuters, ), -, Trump, campaign...   \n",
       "4  [SEATTLE/WASHINGTON, (, Reuters, ), -, Preside...   \n",
       "\n",
       "                                               lower  \\\n",
       "0  [washington, (, reuters, ), -, the, head, of, ...   \n",
       "1  [washington, (, reuters, ), -, transgender, pe...   \n",
       "2  [washington, (, reuters, ), -, the, special, c...   \n",
       "3  [washington, (, reuters, ), -, trump, campaign...   \n",
       "4  [seattle/washington, (, reuters, ), -, preside...   \n",
       "\n",
       "                                             no_punc  \n",
       "0  [washington, reuters, the, head, of, a, conser...  \n",
       "1  [washington, reuters, transgender, people, wil...  \n",
       "2  [washington, reuters, the, special, counsel, i...  \n",
       "3  [washington, reuters, trump, campaign, adviser...  \n",
       "4  [seattle/washington, reuters, president, donal...  "
      ]
     },
     "execution_count": 121,
     "metadata": {},
     "output_type": "execute_result"
    }
   ],
   "source": [
    "import string\n",
    "punc = string.punctuation\n",
    "news['no_punc'] = news['lower'].apply(lambda x: [word for word in x if word not in punc])\n",
    "news.head()"
   ]
  },
  {
   "cell_type": "markdown",
   "metadata": {},
   "source": [
    "### Remove stop words"
   ]
  },
  {
   "cell_type": "code",
   "execution_count": 122,
   "metadata": {},
   "outputs": [
    {
     "data": {
      "text/html": [
       "<div>\n",
       "<style scoped>\n",
       "    .dataframe tbody tr th:only-of-type {\n",
       "        vertical-align: middle;\n",
       "    }\n",
       "\n",
       "    .dataframe tbody tr th {\n",
       "        vertical-align: top;\n",
       "    }\n",
       "\n",
       "    .dataframe thead th {\n",
       "        text-align: right;\n",
       "    }\n",
       "</style>\n",
       "<table border=\"1\" class=\"dataframe\">\n",
       "  <thead>\n",
       "    <tr style=\"text-align: right;\">\n",
       "      <th></th>\n",
       "      <th>label</th>\n",
       "      <th>title</th>\n",
       "      <th>text</th>\n",
       "      <th>subject</th>\n",
       "      <th>date</th>\n",
       "      <th>length</th>\n",
       "      <th>no_contract</th>\n",
       "      <th>text_str</th>\n",
       "      <th>tokenized</th>\n",
       "      <th>lower</th>\n",
       "      <th>no_punc</th>\n",
       "      <th>no_stopwords</th>\n",
       "    </tr>\n",
       "  </thead>\n",
       "  <tbody>\n",
       "    <tr>\n",
       "      <th>0</th>\n",
       "      <td>true</td>\n",
       "      <td>As U.S. budget fight looms, Republicans flip t...</td>\n",
       "      <td>WASHINGTON (Reuters) - The head of a conservat...</td>\n",
       "      <td>politicsNews</td>\n",
       "      <td>December 31, 2017</td>\n",
       "      <td>4659</td>\n",
       "      <td>[WASHINGTON, (Reuters), -, The, head, of, a, c...</td>\n",
       "      <td>WASHINGTON (Reuters) - The head of a conservat...</td>\n",
       "      <td>[WASHINGTON, (, Reuters, ), -, The, head, of, ...</td>\n",
       "      <td>[washington, (, reuters, ), -, the, head, of, ...</td>\n",
       "      <td>[washington, reuters, the, head, of, a, conser...</td>\n",
       "      <td>[washington, reuters, head, conservative, repu...</td>\n",
       "    </tr>\n",
       "    <tr>\n",
       "      <th>1</th>\n",
       "      <td>true</td>\n",
       "      <td>U.S. military to accept transgender recruits o...</td>\n",
       "      <td>WASHINGTON (Reuters) - Transgender people will...</td>\n",
       "      <td>politicsNews</td>\n",
       "      <td>December 29, 2017</td>\n",
       "      <td>4077</td>\n",
       "      <td>[WASHINGTON, (Reuters), -, Transgender, people...</td>\n",
       "      <td>WASHINGTON (Reuters) - Transgender people will...</td>\n",
       "      <td>[WASHINGTON, (, Reuters, ), -, Transgender, pe...</td>\n",
       "      <td>[washington, (, reuters, ), -, transgender, pe...</td>\n",
       "      <td>[washington, reuters, transgender, people, wil...</td>\n",
       "      <td>[washington, reuters, transgender, people, all...</td>\n",
       "    </tr>\n",
       "    <tr>\n",
       "      <th>2</th>\n",
       "      <td>true</td>\n",
       "      <td>Senior U.S. Republican senator: 'Let Mr. Muell...</td>\n",
       "      <td>WASHINGTON (Reuters) - The special counsel inv...</td>\n",
       "      <td>politicsNews</td>\n",
       "      <td>December 31, 2017</td>\n",
       "      <td>2789</td>\n",
       "      <td>[WASHINGTON, (Reuters), -, The, special, couns...</td>\n",
       "      <td>WASHINGTON (Reuters) - The special counsel inv...</td>\n",
       "      <td>[WASHINGTON, (, Reuters, ), -, The, special, c...</td>\n",
       "      <td>[washington, (, reuters, ), -, the, special, c...</td>\n",
       "      <td>[washington, reuters, the, special, counsel, i...</td>\n",
       "      <td>[washington, reuters, special, counsel, invest...</td>\n",
       "    </tr>\n",
       "    <tr>\n",
       "      <th>3</th>\n",
       "      <td>true</td>\n",
       "      <td>FBI Russia probe helped by Australian diplomat...</td>\n",
       "      <td>WASHINGTON (Reuters) - Trump campaign adviser ...</td>\n",
       "      <td>politicsNews</td>\n",
       "      <td>December 30, 2017</td>\n",
       "      <td>2461</td>\n",
       "      <td>[WASHINGTON, (Reuters), -, Trump, campaign, ad...</td>\n",
       "      <td>WASHINGTON (Reuters) - Trump campaign adviser ...</td>\n",
       "      <td>[WASHINGTON, (, Reuters, ), -, Trump, campaign...</td>\n",
       "      <td>[washington, (, reuters, ), -, trump, campaign...</td>\n",
       "      <td>[washington, reuters, trump, campaign, adviser...</td>\n",
       "      <td>[washington, reuters, trump, campaign, adviser...</td>\n",
       "    </tr>\n",
       "    <tr>\n",
       "      <th>4</th>\n",
       "      <td>true</td>\n",
       "      <td>Trump wants Postal Service to charge 'much mor...</td>\n",
       "      <td>SEATTLE/WASHINGTON (Reuters) - President Donal...</td>\n",
       "      <td>politicsNews</td>\n",
       "      <td>December 29, 2017</td>\n",
       "      <td>5204</td>\n",
       "      <td>[SEATTLE/WASHINGTON, (Reuters), -, President, ...</td>\n",
       "      <td>SEATTLE/WASHINGTON (Reuters) - President Donal...</td>\n",
       "      <td>[SEATTLE/WASHINGTON, (, Reuters, ), -, Preside...</td>\n",
       "      <td>[seattle/washington, (, reuters, ), -, preside...</td>\n",
       "      <td>[seattle/washington, reuters, president, donal...</td>\n",
       "      <td>[seattle/washington, reuters, president, donal...</td>\n",
       "    </tr>\n",
       "  </tbody>\n",
       "</table>\n",
       "</div>"
      ],
      "text/plain": [
       "  label                                              title  \\\n",
       "0  true  As U.S. budget fight looms, Republicans flip t...   \n",
       "1  true  U.S. military to accept transgender recruits o...   \n",
       "2  true  Senior U.S. Republican senator: 'Let Mr. Muell...   \n",
       "3  true  FBI Russia probe helped by Australian diplomat...   \n",
       "4  true  Trump wants Postal Service to charge 'much mor...   \n",
       "\n",
       "                                                text       subject  \\\n",
       "0  WASHINGTON (Reuters) - The head of a conservat...  politicsNews   \n",
       "1  WASHINGTON (Reuters) - Transgender people will...  politicsNews   \n",
       "2  WASHINGTON (Reuters) - The special counsel inv...  politicsNews   \n",
       "3  WASHINGTON (Reuters) - Trump campaign adviser ...  politicsNews   \n",
       "4  SEATTLE/WASHINGTON (Reuters) - President Donal...  politicsNews   \n",
       "\n",
       "                 date  length  \\\n",
       "0  December 31, 2017     4659   \n",
       "1  December 29, 2017     4077   \n",
       "2  December 31, 2017     2789   \n",
       "3  December 30, 2017     2461   \n",
       "4  December 29, 2017     5204   \n",
       "\n",
       "                                         no_contract  \\\n",
       "0  [WASHINGTON, (Reuters), -, The, head, of, a, c...   \n",
       "1  [WASHINGTON, (Reuters), -, Transgender, people...   \n",
       "2  [WASHINGTON, (Reuters), -, The, special, couns...   \n",
       "3  [WASHINGTON, (Reuters), -, Trump, campaign, ad...   \n",
       "4  [SEATTLE/WASHINGTON, (Reuters), -, President, ...   \n",
       "\n",
       "                                            text_str  \\\n",
       "0  WASHINGTON (Reuters) - The head of a conservat...   \n",
       "1  WASHINGTON (Reuters) - Transgender people will...   \n",
       "2  WASHINGTON (Reuters) - The special counsel inv...   \n",
       "3  WASHINGTON (Reuters) - Trump campaign adviser ...   \n",
       "4  SEATTLE/WASHINGTON (Reuters) - President Donal...   \n",
       "\n",
       "                                           tokenized  \\\n",
       "0  [WASHINGTON, (, Reuters, ), -, The, head, of, ...   \n",
       "1  [WASHINGTON, (, Reuters, ), -, Transgender, pe...   \n",
       "2  [WASHINGTON, (, Reuters, ), -, The, special, c...   \n",
       "3  [WASHINGTON, (, Reuters, ), -, Trump, campaign...   \n",
       "4  [SEATTLE/WASHINGTON, (, Reuters, ), -, Preside...   \n",
       "\n",
       "                                               lower  \\\n",
       "0  [washington, (, reuters, ), -, the, head, of, ...   \n",
       "1  [washington, (, reuters, ), -, transgender, pe...   \n",
       "2  [washington, (, reuters, ), -, the, special, c...   \n",
       "3  [washington, (, reuters, ), -, trump, campaign...   \n",
       "4  [seattle/washington, (, reuters, ), -, preside...   \n",
       "\n",
       "                                             no_punc  \\\n",
       "0  [washington, reuters, the, head, of, a, conser...   \n",
       "1  [washington, reuters, transgender, people, wil...   \n",
       "2  [washington, reuters, the, special, counsel, i...   \n",
       "3  [washington, reuters, trump, campaign, adviser...   \n",
       "4  [seattle/washington, reuters, president, donal...   \n",
       "\n",
       "                                        no_stopwords  \n",
       "0  [washington, reuters, head, conservative, repu...  \n",
       "1  [washington, reuters, transgender, people, all...  \n",
       "2  [washington, reuters, special, counsel, invest...  \n",
       "3  [washington, reuters, trump, campaign, adviser...  \n",
       "4  [seattle/washington, reuters, president, donal...  "
      ]
     },
     "execution_count": 122,
     "metadata": {},
     "output_type": "execute_result"
    }
   ],
   "source": [
    "from nltk.corpus import stopwords\n",
    "stop_words = set(stopwords.words('english'))\n",
    "news['no_stopwords'] = news['no_punc'].apply(lambda x: [word for word in x if word not in stop_words])\n",
    "news.head()"
   ]
  },
  {
   "cell_type": "code",
   "execution_count": 123,
   "metadata": {},
   "outputs": [
    {
     "data": {
      "text/html": [
       "<div>\n",
       "<style scoped>\n",
       "    .dataframe tbody tr th:only-of-type {\n",
       "        vertical-align: middle;\n",
       "    }\n",
       "\n",
       "    .dataframe tbody tr th {\n",
       "        vertical-align: top;\n",
       "    }\n",
       "\n",
       "    .dataframe thead th {\n",
       "        text-align: right;\n",
       "    }\n",
       "</style>\n",
       "<table border=\"1\" class=\"dataframe\">\n",
       "  <thead>\n",
       "    <tr style=\"text-align: right;\">\n",
       "      <th></th>\n",
       "      <th>label</th>\n",
       "      <th>title</th>\n",
       "      <th>text</th>\n",
       "      <th>subject</th>\n",
       "      <th>date</th>\n",
       "      <th>length</th>\n",
       "      <th>no_contract</th>\n",
       "      <th>text_str</th>\n",
       "      <th>tokenized</th>\n",
       "      <th>lower</th>\n",
       "      <th>no_punc</th>\n",
       "      <th>no_stopwords</th>\n",
       "      <th>stop_length</th>\n",
       "    </tr>\n",
       "  </thead>\n",
       "  <tbody>\n",
       "    <tr>\n",
       "      <th>0</th>\n",
       "      <td>true</td>\n",
       "      <td>As U.S. budget fight looms, Republicans flip t...</td>\n",
       "      <td>WASHINGTON (Reuters) - The head of a conservat...</td>\n",
       "      <td>politicsNews</td>\n",
       "      <td>December 31, 2017</td>\n",
       "      <td>4659</td>\n",
       "      <td>[WASHINGTON, (Reuters), -, The, head, of, a, c...</td>\n",
       "      <td>WASHINGTON (Reuters) - The head of a conservat...</td>\n",
       "      <td>[WASHINGTON, (, Reuters, ), -, The, head, of, ...</td>\n",
       "      <td>[washington, (, reuters, ), -, the, head, of, ...</td>\n",
       "      <td>[washington, reuters, the, head, of, a, conser...</td>\n",
       "      <td>[washington, reuters, head, conservative, repu...</td>\n",
       "      <td>482</td>\n",
       "    </tr>\n",
       "    <tr>\n",
       "      <th>1</th>\n",
       "      <td>true</td>\n",
       "      <td>U.S. military to accept transgender recruits o...</td>\n",
       "      <td>WASHINGTON (Reuters) - Transgender people will...</td>\n",
       "      <td>politicsNews</td>\n",
       "      <td>December 29, 2017</td>\n",
       "      <td>4077</td>\n",
       "      <td>[WASHINGTON, (Reuters), -, Transgender, people...</td>\n",
       "      <td>WASHINGTON (Reuters) - Transgender people will...</td>\n",
       "      <td>[WASHINGTON, (, Reuters, ), -, Transgender, pe...</td>\n",
       "      <td>[washington, (, reuters, ), -, transgender, pe...</td>\n",
       "      <td>[washington, reuters, transgender, people, wil...</td>\n",
       "      <td>[washington, reuters, transgender, people, all...</td>\n",
       "      <td>403</td>\n",
       "    </tr>\n",
       "    <tr>\n",
       "      <th>2</th>\n",
       "      <td>true</td>\n",
       "      <td>Senior U.S. Republican senator: 'Let Mr. Muell...</td>\n",
       "      <td>WASHINGTON (Reuters) - The special counsel inv...</td>\n",
       "      <td>politicsNews</td>\n",
       "      <td>December 31, 2017</td>\n",
       "      <td>2789</td>\n",
       "      <td>[WASHINGTON, (Reuters), -, The, special, couns...</td>\n",
       "      <td>WASHINGTON (Reuters) - The special counsel inv...</td>\n",
       "      <td>[WASHINGTON, (, Reuters, ), -, The, special, c...</td>\n",
       "      <td>[washington, (, reuters, ), -, the, special, c...</td>\n",
       "      <td>[washington, reuters, the, special, counsel, i...</td>\n",
       "      <td>[washington, reuters, special, counsel, invest...</td>\n",
       "      <td>280</td>\n",
       "    </tr>\n",
       "    <tr>\n",
       "      <th>3</th>\n",
       "      <td>true</td>\n",
       "      <td>FBI Russia probe helped by Australian diplomat...</td>\n",
       "      <td>WASHINGTON (Reuters) - Trump campaign adviser ...</td>\n",
       "      <td>politicsNews</td>\n",
       "      <td>December 30, 2017</td>\n",
       "      <td>2461</td>\n",
       "      <td>[WASHINGTON, (Reuters), -, Trump, campaign, ad...</td>\n",
       "      <td>WASHINGTON (Reuters) - Trump campaign adviser ...</td>\n",
       "      <td>[WASHINGTON, (, Reuters, ), -, Trump, campaign...</td>\n",
       "      <td>[washington, (, reuters, ), -, trump, campaign...</td>\n",
       "      <td>[washington, reuters, trump, campaign, adviser...</td>\n",
       "      <td>[washington, reuters, trump, campaign, adviser...</td>\n",
       "      <td>242</td>\n",
       "    </tr>\n",
       "    <tr>\n",
       "      <th>4</th>\n",
       "      <td>true</td>\n",
       "      <td>Trump wants Postal Service to charge 'much mor...</td>\n",
       "      <td>SEATTLE/WASHINGTON (Reuters) - President Donal...</td>\n",
       "      <td>politicsNews</td>\n",
       "      <td>December 29, 2017</td>\n",
       "      <td>5204</td>\n",
       "      <td>[SEATTLE/WASHINGTON, (Reuters), -, President, ...</td>\n",
       "      <td>SEATTLE/WASHINGTON (Reuters) - President Donal...</td>\n",
       "      <td>[SEATTLE/WASHINGTON, (, Reuters, ), -, Preside...</td>\n",
       "      <td>[seattle/washington, (, reuters, ), -, preside...</td>\n",
       "      <td>[seattle/washington, reuters, president, donal...</td>\n",
       "      <td>[seattle/washington, reuters, president, donal...</td>\n",
       "      <td>528</td>\n",
       "    </tr>\n",
       "  </tbody>\n",
       "</table>\n",
       "</div>"
      ],
      "text/plain": [
       "  label                                              title  \\\n",
       "0  true  As U.S. budget fight looms, Republicans flip t...   \n",
       "1  true  U.S. military to accept transgender recruits o...   \n",
       "2  true  Senior U.S. Republican senator: 'Let Mr. Muell...   \n",
       "3  true  FBI Russia probe helped by Australian diplomat...   \n",
       "4  true  Trump wants Postal Service to charge 'much mor...   \n",
       "\n",
       "                                                text       subject  \\\n",
       "0  WASHINGTON (Reuters) - The head of a conservat...  politicsNews   \n",
       "1  WASHINGTON (Reuters) - Transgender people will...  politicsNews   \n",
       "2  WASHINGTON (Reuters) - The special counsel inv...  politicsNews   \n",
       "3  WASHINGTON (Reuters) - Trump campaign adviser ...  politicsNews   \n",
       "4  SEATTLE/WASHINGTON (Reuters) - President Donal...  politicsNews   \n",
       "\n",
       "                 date  length  \\\n",
       "0  December 31, 2017     4659   \n",
       "1  December 29, 2017     4077   \n",
       "2  December 31, 2017     2789   \n",
       "3  December 30, 2017     2461   \n",
       "4  December 29, 2017     5204   \n",
       "\n",
       "                                         no_contract  \\\n",
       "0  [WASHINGTON, (Reuters), -, The, head, of, a, c...   \n",
       "1  [WASHINGTON, (Reuters), -, Transgender, people...   \n",
       "2  [WASHINGTON, (Reuters), -, The, special, couns...   \n",
       "3  [WASHINGTON, (Reuters), -, Trump, campaign, ad...   \n",
       "4  [SEATTLE/WASHINGTON, (Reuters), -, President, ...   \n",
       "\n",
       "                                            text_str  \\\n",
       "0  WASHINGTON (Reuters) - The head of a conservat...   \n",
       "1  WASHINGTON (Reuters) - Transgender people will...   \n",
       "2  WASHINGTON (Reuters) - The special counsel inv...   \n",
       "3  WASHINGTON (Reuters) - Trump campaign adviser ...   \n",
       "4  SEATTLE/WASHINGTON (Reuters) - President Donal...   \n",
       "\n",
       "                                           tokenized  \\\n",
       "0  [WASHINGTON, (, Reuters, ), -, The, head, of, ...   \n",
       "1  [WASHINGTON, (, Reuters, ), -, Transgender, pe...   \n",
       "2  [WASHINGTON, (, Reuters, ), -, The, special, c...   \n",
       "3  [WASHINGTON, (, Reuters, ), -, Trump, campaign...   \n",
       "4  [SEATTLE/WASHINGTON, (, Reuters, ), -, Preside...   \n",
       "\n",
       "                                               lower  \\\n",
       "0  [washington, (, reuters, ), -, the, head, of, ...   \n",
       "1  [washington, (, reuters, ), -, transgender, pe...   \n",
       "2  [washington, (, reuters, ), -, the, special, c...   \n",
       "3  [washington, (, reuters, ), -, trump, campaign...   \n",
       "4  [seattle/washington, (, reuters, ), -, preside...   \n",
       "\n",
       "                                             no_punc  \\\n",
       "0  [washington, reuters, the, head, of, a, conser...   \n",
       "1  [washington, reuters, transgender, people, wil...   \n",
       "2  [washington, reuters, the, special, counsel, i...   \n",
       "3  [washington, reuters, trump, campaign, adviser...   \n",
       "4  [seattle/washington, reuters, president, donal...   \n",
       "\n",
       "                                        no_stopwords  stop_length  \n",
       "0  [washington, reuters, head, conservative, repu...          482  \n",
       "1  [washington, reuters, transgender, people, all...          403  \n",
       "2  [washington, reuters, special, counsel, invest...          280  \n",
       "3  [washington, reuters, trump, campaign, adviser...          242  \n",
       "4  [seattle/washington, reuters, president, donal...          528  "
      ]
     },
     "execution_count": 123,
     "metadata": {},
     "output_type": "execute_result"
    }
   ],
   "source": [
    "news['stop_length'] = news['no_stopwords'].apply(len)\n",
    "news.head()"
   ]
  },
  {
   "cell_type": "markdown",
   "metadata": {},
   "source": [
    "### Lemmatize"
   ]
  },
  {
   "cell_type": "code",
   "execution_count": 124,
   "metadata": {},
   "outputs": [],
   "source": [
    "from nltk.stem import WordNetLemmatizer"
   ]
  },
  {
   "cell_type": "code",
   "execution_count": 125,
   "metadata": {},
   "outputs": [
    {
     "data": {
      "text/html": [
       "<div>\n",
       "<style scoped>\n",
       "    .dataframe tbody tr th:only-of-type {\n",
       "        vertical-align: middle;\n",
       "    }\n",
       "\n",
       "    .dataframe tbody tr th {\n",
       "        vertical-align: top;\n",
       "    }\n",
       "\n",
       "    .dataframe thead th {\n",
       "        text-align: right;\n",
       "    }\n",
       "</style>\n",
       "<table border=\"1\" class=\"dataframe\">\n",
       "  <thead>\n",
       "    <tr style=\"text-align: right;\">\n",
       "      <th></th>\n",
       "      <th>label</th>\n",
       "      <th>title</th>\n",
       "      <th>text</th>\n",
       "      <th>subject</th>\n",
       "      <th>date</th>\n",
       "      <th>length</th>\n",
       "      <th>no_contract</th>\n",
       "      <th>text_str</th>\n",
       "      <th>tokenized</th>\n",
       "      <th>lower</th>\n",
       "      <th>no_punc</th>\n",
       "      <th>no_stopwords</th>\n",
       "      <th>stop_length</th>\n",
       "      <th>lemmatized</th>\n",
       "    </tr>\n",
       "  </thead>\n",
       "  <tbody>\n",
       "    <tr>\n",
       "      <th>0</th>\n",
       "      <td>true</td>\n",
       "      <td>As U.S. budget fight looms, Republicans flip t...</td>\n",
       "      <td>WASHINGTON (Reuters) - The head of a conservat...</td>\n",
       "      <td>politicsNews</td>\n",
       "      <td>December 31, 2017</td>\n",
       "      <td>4659</td>\n",
       "      <td>[WASHINGTON, (Reuters), -, The, head, of, a, c...</td>\n",
       "      <td>WASHINGTON (Reuters) - The head of a conservat...</td>\n",
       "      <td>[WASHINGTON, (, Reuters, ), -, The, head, of, ...</td>\n",
       "      <td>[washington, (, reuters, ), -, the, head, of, ...</td>\n",
       "      <td>[washington, reuters, the, head, of, a, conser...</td>\n",
       "      <td>[washington, reuters, head, conservative, repu...</td>\n",
       "      <td>482</td>\n",
       "      <td>[washington, reuters, head, conservative, repu...</td>\n",
       "    </tr>\n",
       "    <tr>\n",
       "      <th>1</th>\n",
       "      <td>true</td>\n",
       "      <td>U.S. military to accept transgender recruits o...</td>\n",
       "      <td>WASHINGTON (Reuters) - Transgender people will...</td>\n",
       "      <td>politicsNews</td>\n",
       "      <td>December 29, 2017</td>\n",
       "      <td>4077</td>\n",
       "      <td>[WASHINGTON, (Reuters), -, Transgender, people...</td>\n",
       "      <td>WASHINGTON (Reuters) - Transgender people will...</td>\n",
       "      <td>[WASHINGTON, (, Reuters, ), -, Transgender, pe...</td>\n",
       "      <td>[washington, (, reuters, ), -, transgender, pe...</td>\n",
       "      <td>[washington, reuters, transgender, people, wil...</td>\n",
       "      <td>[washington, reuters, transgender, people, all...</td>\n",
       "      <td>403</td>\n",
       "      <td>[washington, reuters, transgender, people, all...</td>\n",
       "    </tr>\n",
       "    <tr>\n",
       "      <th>2</th>\n",
       "      <td>true</td>\n",
       "      <td>Senior U.S. Republican senator: 'Let Mr. Muell...</td>\n",
       "      <td>WASHINGTON (Reuters) - The special counsel inv...</td>\n",
       "      <td>politicsNews</td>\n",
       "      <td>December 31, 2017</td>\n",
       "      <td>2789</td>\n",
       "      <td>[WASHINGTON, (Reuters), -, The, special, couns...</td>\n",
       "      <td>WASHINGTON (Reuters) - The special counsel inv...</td>\n",
       "      <td>[WASHINGTON, (, Reuters, ), -, The, special, c...</td>\n",
       "      <td>[washington, (, reuters, ), -, the, special, c...</td>\n",
       "      <td>[washington, reuters, the, special, counsel, i...</td>\n",
       "      <td>[washington, reuters, special, counsel, invest...</td>\n",
       "      <td>280</td>\n",
       "      <td>[washington, reuters, special, counsel, invest...</td>\n",
       "    </tr>\n",
       "    <tr>\n",
       "      <th>3</th>\n",
       "      <td>true</td>\n",
       "      <td>FBI Russia probe helped by Australian diplomat...</td>\n",
       "      <td>WASHINGTON (Reuters) - Trump campaign adviser ...</td>\n",
       "      <td>politicsNews</td>\n",
       "      <td>December 30, 2017</td>\n",
       "      <td>2461</td>\n",
       "      <td>[WASHINGTON, (Reuters), -, Trump, campaign, ad...</td>\n",
       "      <td>WASHINGTON (Reuters) - Trump campaign adviser ...</td>\n",
       "      <td>[WASHINGTON, (, Reuters, ), -, Trump, campaign...</td>\n",
       "      <td>[washington, (, reuters, ), -, trump, campaign...</td>\n",
       "      <td>[washington, reuters, trump, campaign, adviser...</td>\n",
       "      <td>[washington, reuters, trump, campaign, adviser...</td>\n",
       "      <td>242</td>\n",
       "      <td>[washington, reuters, trump, campaign, adviser...</td>\n",
       "    </tr>\n",
       "    <tr>\n",
       "      <th>4</th>\n",
       "      <td>true</td>\n",
       "      <td>Trump wants Postal Service to charge 'much mor...</td>\n",
       "      <td>SEATTLE/WASHINGTON (Reuters) - President Donal...</td>\n",
       "      <td>politicsNews</td>\n",
       "      <td>December 29, 2017</td>\n",
       "      <td>5204</td>\n",
       "      <td>[SEATTLE/WASHINGTON, (Reuters), -, President, ...</td>\n",
       "      <td>SEATTLE/WASHINGTON (Reuters) - President Donal...</td>\n",
       "      <td>[SEATTLE/WASHINGTON, (, Reuters, ), -, Preside...</td>\n",
       "      <td>[seattle/washington, (, reuters, ), -, preside...</td>\n",
       "      <td>[seattle/washington, reuters, president, donal...</td>\n",
       "      <td>[seattle/washington, reuters, president, donal...</td>\n",
       "      <td>528</td>\n",
       "      <td>[seattle/washington, reuters, president, donal...</td>\n",
       "    </tr>\n",
       "  </tbody>\n",
       "</table>\n",
       "</div>"
      ],
      "text/plain": [
       "  label                                              title  \\\n",
       "0  true  As U.S. budget fight looms, Republicans flip t...   \n",
       "1  true  U.S. military to accept transgender recruits o...   \n",
       "2  true  Senior U.S. Republican senator: 'Let Mr. Muell...   \n",
       "3  true  FBI Russia probe helped by Australian diplomat...   \n",
       "4  true  Trump wants Postal Service to charge 'much mor...   \n",
       "\n",
       "                                                text       subject  \\\n",
       "0  WASHINGTON (Reuters) - The head of a conservat...  politicsNews   \n",
       "1  WASHINGTON (Reuters) - Transgender people will...  politicsNews   \n",
       "2  WASHINGTON (Reuters) - The special counsel inv...  politicsNews   \n",
       "3  WASHINGTON (Reuters) - Trump campaign adviser ...  politicsNews   \n",
       "4  SEATTLE/WASHINGTON (Reuters) - President Donal...  politicsNews   \n",
       "\n",
       "                 date  length  \\\n",
       "0  December 31, 2017     4659   \n",
       "1  December 29, 2017     4077   \n",
       "2  December 31, 2017     2789   \n",
       "3  December 30, 2017     2461   \n",
       "4  December 29, 2017     5204   \n",
       "\n",
       "                                         no_contract  \\\n",
       "0  [WASHINGTON, (Reuters), -, The, head, of, a, c...   \n",
       "1  [WASHINGTON, (Reuters), -, Transgender, people...   \n",
       "2  [WASHINGTON, (Reuters), -, The, special, couns...   \n",
       "3  [WASHINGTON, (Reuters), -, Trump, campaign, ad...   \n",
       "4  [SEATTLE/WASHINGTON, (Reuters), -, President, ...   \n",
       "\n",
       "                                            text_str  \\\n",
       "0  WASHINGTON (Reuters) - The head of a conservat...   \n",
       "1  WASHINGTON (Reuters) - Transgender people will...   \n",
       "2  WASHINGTON (Reuters) - The special counsel inv...   \n",
       "3  WASHINGTON (Reuters) - Trump campaign adviser ...   \n",
       "4  SEATTLE/WASHINGTON (Reuters) - President Donal...   \n",
       "\n",
       "                                           tokenized  \\\n",
       "0  [WASHINGTON, (, Reuters, ), -, The, head, of, ...   \n",
       "1  [WASHINGTON, (, Reuters, ), -, Transgender, pe...   \n",
       "2  [WASHINGTON, (, Reuters, ), -, The, special, c...   \n",
       "3  [WASHINGTON, (, Reuters, ), -, Trump, campaign...   \n",
       "4  [SEATTLE/WASHINGTON, (, Reuters, ), -, Preside...   \n",
       "\n",
       "                                               lower  \\\n",
       "0  [washington, (, reuters, ), -, the, head, of, ...   \n",
       "1  [washington, (, reuters, ), -, transgender, pe...   \n",
       "2  [washington, (, reuters, ), -, the, special, c...   \n",
       "3  [washington, (, reuters, ), -, trump, campaign...   \n",
       "4  [seattle/washington, (, reuters, ), -, preside...   \n",
       "\n",
       "                                             no_punc  \\\n",
       "0  [washington, reuters, the, head, of, a, conser...   \n",
       "1  [washington, reuters, transgender, people, wil...   \n",
       "2  [washington, reuters, the, special, counsel, i...   \n",
       "3  [washington, reuters, trump, campaign, adviser...   \n",
       "4  [seattle/washington, reuters, president, donal...   \n",
       "\n",
       "                                        no_stopwords  stop_length  \\\n",
       "0  [washington, reuters, head, conservative, repu...          482   \n",
       "1  [washington, reuters, transgender, people, all...          403   \n",
       "2  [washington, reuters, special, counsel, invest...          280   \n",
       "3  [washington, reuters, trump, campaign, adviser...          242   \n",
       "4  [seattle/washington, reuters, president, donal...          528   \n",
       "\n",
       "                                          lemmatized  \n",
       "0  [washington, reuters, head, conservative, repu...  \n",
       "1  [washington, reuters, transgender, people, all...  \n",
       "2  [washington, reuters, special, counsel, invest...  \n",
       "3  [washington, reuters, trump, campaign, adviser...  \n",
       "4  [seattle/washington, reuters, president, donal...  "
      ]
     },
     "execution_count": 125,
     "metadata": {},
     "output_type": "execute_result"
    }
   ],
   "source": [
    "wnl = WordNetLemmatizer()\n",
    "news['lemmatized'] = news['no_stopwords'].apply(lambda x: [wnl.lemmatize(word) for word in x])\n",
    "news.head()"
   ]
  },
  {
   "cell_type": "markdown",
   "metadata": {},
   "source": [
    "### Revised word cloud"
   ]
  },
  {
   "cell_type": "code",
   "execution_count": 126,
   "metadata": {},
   "outputs": [
    {
     "data": {
      "image/png": "[encoded data removed]",
      "text/plain": [
       "<Figure size 432x288 with 1 Axes>"
      ]
     },
     "metadata": {
      "needs_background": "light"
     },
     "output_type": "display_data"
    }
   ],
   "source": [
    "news[\"lemmatized_str\"] = [' '.join(map(str, l)) for l in news['lemmatized']]\n",
    "text = ' '.join(lemmat for lemmat in news.lemmatized_str)\n",
    "\n",
    "wordcloud = WordCloud(background_color=\"white\").generate(text)\n",
    "\n",
    "# Display the generated image:\n",
    "# the matplotlib way:\n",
    "plt.imshow(wordcloud, interpolation='bilinear')\n",
    "plt.axis(\"off\")\n",
    "plt.show()"
   ]
  },
  {
   "cell_type": "markdown",
   "metadata": {},
   "source": [
    "# Example 3 - NLTK Corpus"
   ]
  },
  {
   "cell_type": "code",
   "execution_count": 127,
   "metadata": {},
   "outputs": [],
   "source": [
    "from nltk.corpus import inaugural\n",
    "\n",
    "speeches = []\n",
    "for fileid in inaugural.fileids():\n",
    "    speeches.append((fileid, inaugural.raw(fileid)))\n",
    "\n",
    "addresses = pd.DataFrame(speeches, columns=['filename','text'])"
   ]
  },
  {
   "cell_type": "code",
   "execution_count": 128,
   "metadata": {},
   "outputs": [
    {
     "data": {
      "text/html": [
       "<div>\n",
       "<style scoped>\n",
       "    .dataframe tbody tr th:only-of-type {\n",
       "        vertical-align: middle;\n",
       "    }\n",
       "\n",
       "    .dataframe tbody tr th {\n",
       "        vertical-align: top;\n",
       "    }\n",
       "\n",
       "    .dataframe thead th {\n",
       "        text-align: right;\n",
       "    }\n",
       "</style>\n",
       "<table border=\"1\" class=\"dataframe\">\n",
       "  <thead>\n",
       "    <tr style=\"text-align: right;\">\n",
       "      <th></th>\n",
       "      <th>filename</th>\n",
       "      <th>text</th>\n",
       "    </tr>\n",
       "  </thead>\n",
       "  <tbody>\n",
       "    <tr>\n",
       "      <th>0</th>\n",
       "      <td>1789-Washington.txt</td>\n",
       "      <td>Fellow-Citizens of the Senate and of the House...</td>\n",
       "    </tr>\n",
       "    <tr>\n",
       "      <th>1</th>\n",
       "      <td>1793-Washington.txt</td>\n",
       "      <td>Fellow citizens, I am again called upon by the...</td>\n",
       "    </tr>\n",
       "    <tr>\n",
       "      <th>2</th>\n",
       "      <td>1797-Adams.txt</td>\n",
       "      <td>When it was first perceived, in early times, t...</td>\n",
       "    </tr>\n",
       "    <tr>\n",
       "      <th>3</th>\n",
       "      <td>1801-Jefferson.txt</td>\n",
       "      <td>Friends and Fellow Citizens:\\n\\nCalled upon to...</td>\n",
       "    </tr>\n",
       "    <tr>\n",
       "      <th>4</th>\n",
       "      <td>1805-Jefferson.txt</td>\n",
       "      <td>Proceeding, fellow citizens, to that qualifica...</td>\n",
       "    </tr>\n",
       "  </tbody>\n",
       "</table>\n",
       "</div>"
      ],
      "text/plain": [
       "              filename                                               text\n",
       "0  1789-Washington.txt  Fellow-Citizens of the Senate and of the House...\n",
       "1  1793-Washington.txt  Fellow citizens, I am again called upon by the...\n",
       "2       1797-Adams.txt  When it was first perceived, in early times, t...\n",
       "3   1801-Jefferson.txt  Friends and Fellow Citizens:\\n\\nCalled upon to...\n",
       "4   1805-Jefferson.txt  Proceeding, fellow citizens, to that qualifica..."
      ]
     },
     "execution_count": 128,
     "metadata": {},
     "output_type": "execute_result"
    }
   ],
   "source": [
    "addresses.head()"
   ]
  },
  {
   "cell_type": "code",
   "execution_count": 129,
   "metadata": {},
   "outputs": [],
   "source": [
    "from nltk.tokenize import word_tokenize"
   ]
  },
  {
   "cell_type": "code",
   "execution_count": 130,
   "metadata": {
    "scrolled": true
   },
   "outputs": [
    {
     "data": {
      "text/html": [
       "<div>\n",
       "<style scoped>\n",
       "    .dataframe tbody tr th:only-of-type {\n",
       "        vertical-align: middle;\n",
       "    }\n",
       "\n",
       "    .dataframe tbody tr th {\n",
       "        vertical-align: top;\n",
       "    }\n",
       "\n",
       "    .dataframe thead th {\n",
       "        text-align: right;\n",
       "    }\n",
       "</style>\n",
       "<table border=\"1\" class=\"dataframe\">\n",
       "  <thead>\n",
       "    <tr style=\"text-align: right;\">\n",
       "      <th></th>\n",
       "      <th>filename</th>\n",
       "      <th>text</th>\n",
       "      <th>tokenized</th>\n",
       "    </tr>\n",
       "  </thead>\n",
       "  <tbody>\n",
       "    <tr>\n",
       "      <th>0</th>\n",
       "      <td>1789-Washington.txt</td>\n",
       "      <td>Fellow-Citizens of the Senate and of the House...</td>\n",
       "      <td>[Fellow-Citizens, of, the, Senate, and, of, th...</td>\n",
       "    </tr>\n",
       "    <tr>\n",
       "      <th>1</th>\n",
       "      <td>1793-Washington.txt</td>\n",
       "      <td>Fellow citizens, I am again called upon by the...</td>\n",
       "      <td>[Fellow, citizens, ,, I, am, again, called, up...</td>\n",
       "    </tr>\n",
       "    <tr>\n",
       "      <th>2</th>\n",
       "      <td>1797-Adams.txt</td>\n",
       "      <td>When it was first perceived, in early times, t...</td>\n",
       "      <td>[When, it, was, first, perceived, ,, in, early...</td>\n",
       "    </tr>\n",
       "    <tr>\n",
       "      <th>3</th>\n",
       "      <td>1801-Jefferson.txt</td>\n",
       "      <td>Friends and Fellow Citizens:\\n\\nCalled upon to...</td>\n",
       "      <td>[Friends, and, Fellow, Citizens, :, Called, up...</td>\n",
       "    </tr>\n",
       "    <tr>\n",
       "      <th>4</th>\n",
       "      <td>1805-Jefferson.txt</td>\n",
       "      <td>Proceeding, fellow citizens, to that qualifica...</td>\n",
       "      <td>[Proceeding, ,, fellow, citizens, ,, to, that,...</td>\n",
       "    </tr>\n",
       "  </tbody>\n",
       "</table>\n",
       "</div>"
      ],
      "text/plain": [
       "              filename                                               text  \\\n",
       "0  1789-Washington.txt  Fellow-Citizens of the Senate and of the House...   \n",
       "1  1793-Washington.txt  Fellow citizens, I am again called upon by the...   \n",
       "2       1797-Adams.txt  When it was first perceived, in early times, t...   \n",
       "3   1801-Jefferson.txt  Friends and Fellow Citizens:\\n\\nCalled upon to...   \n",
       "4   1805-Jefferson.txt  Proceeding, fellow citizens, to that qualifica...   \n",
       "\n",
       "                                           tokenized  \n",
       "0  [Fellow-Citizens, of, the, Senate, and, of, th...  \n",
       "1  [Fellow, citizens, ,, I, am, again, called, up...  \n",
       "2  [When, it, was, first, perceived, ,, in, early...  \n",
       "3  [Friends, and, Fellow, Citizens, :, Called, up...  \n",
       "4  [Proceeding, ,, fellow, citizens, ,, to, that,...  "
      ]
     },
     "execution_count": 130,
     "metadata": {},
     "output_type": "execute_result"
    }
   ],
   "source": [
    "addresses['tokenized'] = addresses['text'].apply(word_tokenize)\n",
    "addresses.head()"
   ]
  },
  {
   "cell_type": "code",
   "execution_count": 131,
   "metadata": {},
   "outputs": [
    {
     "data": {
      "text/html": [
       "<div>\n",
       "<style scoped>\n",
       "    .dataframe tbody tr th:only-of-type {\n",
       "        vertical-align: middle;\n",
       "    }\n",
       "\n",
       "    .dataframe tbody tr th {\n",
       "        vertical-align: top;\n",
       "    }\n",
       "\n",
       "    .dataframe thead th {\n",
       "        text-align: right;\n",
       "    }\n",
       "</style>\n",
       "<table border=\"1\" class=\"dataframe\">\n",
       "  <thead>\n",
       "    <tr style=\"text-align: right;\">\n",
       "      <th></th>\n",
       "      <th>filename</th>\n",
       "      <th>text</th>\n",
       "      <th>tokenized</th>\n",
       "    </tr>\n",
       "  </thead>\n",
       "  <tbody>\n",
       "    <tr>\n",
       "      <th>32</th>\n",
       "      <td>1917-Wilson.txt</td>\n",
       "      <td>My Fellow citizens: The four years which have ...</td>\n",
       "      <td>[My, Fellow, citizens, :, The, four, years, wh...</td>\n",
       "    </tr>\n",
       "    <tr>\n",
       "      <th>55</th>\n",
       "      <td>2009-Obama.txt</td>\n",
       "      <td>My fellow citizens:\\n\\nI stand here today humb...</td>\n",
       "      <td>[My, fellow, citizens, :, I, stand, here, toda...</td>\n",
       "    </tr>\n",
       "    <tr>\n",
       "      <th>31</th>\n",
       "      <td>1913-Wilson.txt</td>\n",
       "      <td>There has been a change of government. It bega...</td>\n",
       "      <td>[There, has, been, a, change, of, government, ...</td>\n",
       "    </tr>\n",
       "  </tbody>\n",
       "</table>\n",
       "</div>"
      ],
      "text/plain": [
       "           filename                                               text  \\\n",
       "32  1917-Wilson.txt  My Fellow citizens: The four years which have ...   \n",
       "55   2009-Obama.txt  My fellow citizens:\\n\\nI stand here today humb...   \n",
       "31  1913-Wilson.txt  There has been a change of government. It bega...   \n",
       "\n",
       "                                            tokenized  \n",
       "32  [My, Fellow, citizens, :, The, four, years, wh...  \n",
       "55  [My, fellow, citizens, :, I, stand, here, toda...  \n",
       "31  [There, has, been, a, change, of, government, ...  "
      ]
     },
     "execution_count": 131,
     "metadata": {},
     "output_type": "execute_result"
    }
   ],
   "source": [
    "addresses.sample(frac=0.05)"
   ]
  }
 ],
 "metadata": {
  "kernelspec": {
   "display_name": "Python 3",
   "language": "python",
   "name": "python3"
  },
  "language_info": {
   "codemirror_mode": {
    "name": "ipython",
    "version": 3
   },
   "file_extension": ".py",
   "mimetype": "text/x-python",
   "name": "python",
   "nbconvert_exporter": "python",
   "pygments_lexer": "ipython3",
   "version": "3.7.6"
  }
 },
 "nbformat": 4,
 "nbformat_minor": 4
}
