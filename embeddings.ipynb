{
 "cells": [
  {
   "cell_type": "markdown",
   "metadata": {},
   "source": [
    "# Embeddings \n",
    "Word embeddings are a type of word representation that allows words with similar meaning to have a similar representation. Words or phrases from the vocabulary are mapped to vectors of real numbers. A key point is that embeddings keep context which we lose with bag-of-words vectorization.  **Visualize** using https://projector.tensorflow.org.\n"
   ]
  },
  {
   "cell_type": "markdown",
   "metadata": {},
   "source": [
    "## Gensim\n",
    "We will use the Gensim library to work with embeddings.  "
   ]
  },
  {
   "cell_type": "code",
   "execution_count": 1,
   "metadata": {},
   "outputs": [],
   "source": [
    "#import libraries for examples\n",
    "#!pip install gensim\n",
    "\n",
    "import gensim\n",
    "import gensim.downloader as api\n",
    "\n",
    "import pprint"
   ]
  },
  {
   "cell_type": "markdown",
   "metadata": {},
   "source": [
    "## Google Word2Vec\n",
    "Word2Vec is based on the idea that we can learn about a word based on the words around it. Word2Vec finds relation (semantic or syntactic) between the words.  Word2Vec uses a shallow neural network.  You need to pass a large amount of text into the  Word2Vec model in order to figure out relation within words or generate meaningful results\n",
    "![](images/NN2Vec-fully-connected-neural-network.png)\n",
    "\n",
    "Source: http://mlwiki.org/index.php/Vector_Space_Models"
   ]
  },
  {
   "cell_type": "markdown",
   "metadata": {},
   "source": [
    "### Word2Vec algorithms\n",
    "\n",
    "There are 2 types of Algorithms : Continuous Bag of Words (CBOW) and Skip-gram.  \n",
    "\n",
    "\n",
    "**CBOW** uses neighboring words as input to predict the target. \n",
    "\n",
    "![](images/cbow.png)\n",
    "\n",
    "Source: https://medium.com/analytics-vidhya/word2vector-using-gensim-e055d35f1cb4"
   ]
  },
  {
   "cell_type": "markdown",
   "metadata": {},
   "source": [
    "**Skip-gram** is the inverse of CBOW, where a target word is provided as input in order to predict the neighboring words.\n",
    "\n",
    "![](images/skip-gram.png)\n",
    "\n",
    "Source: https://medium.com/analytics-vidhya/word2vector-using-gensim-e055d35f1cb4\n"
   ]
  },
  {
   "cell_type": "markdown",
   "metadata": {},
   "source": [
    "### NLTK Word2Vec Model\n",
    "\n",
    "This is a smaller pre-trained model\n",
    "- NLTK includes a pre-trained model which is part of a model that is trained on 100 billion words from the Google News Dataset.\n",
    "- The full model is from https://code.google.com/p/word2vec/ (about 3 GB).\n",
    "- To download the model  `nltk.download('word2vec_sample')`\n"
   ]
  },
  {
   "cell_type": "code",
   "execution_count": 2,
   "metadata": {},
   "outputs": [
    {
     "name": "stdout",
     "output_type": "stream",
     "text": [
      "43981\n",
      "[('vehicle', 0.7821094989776611), ('cars', 0.7423830032348633), ('truck', 0.6735790371894836), ('Car', 0.6677608489990234), ('Jeep', 0.6511332392692566), ('sedan', 0.6336701512336731), ('van', 0.6115671992301941), ('Mercedes', 0.6063581705093384), ('vehicles', 0.5998871326446533), ('automobile', 0.5838367938995361)]\n",
      "[('universities', 0.7003918290138245), ('faculty', 0.6780907511711121), ('undergraduate', 0.6587096452713013)]\n"
     ]
    }
   ],
   "source": [
    "import nltk\n",
    "from nltk.data import find\n",
    "\n",
    "word2vec_sample = str(find(\"models/word2vec_sample/pruned.word2vec.txt\"))\n",
    "\n",
    "model = gensim.models.KeyedVectors.load_word2vec_format(word2vec_sample, binary=False)\n",
    "print(len(model))\n",
    "print(model.most_similar(\"car\"))\n",
    "print(model.most_similar(positive=[\"university\"], topn = 3))"
   ]
  },
  {
   "cell_type": "markdown",
   "metadata": {},
   "source": [
    "### Gensim Models"
   ]
  },
  {
   "cell_type": "code",
   "execution_count": 3,
   "metadata": {},
   "outputs": [
    {
     "name": "stdout",
     "output_type": "stream",
     "text": [
      "['fasttext-wiki-news-subwords-300',\n",
      " 'conceptnet-numberbatch-17-06-300',\n",
      " 'word2vec-ruscorpora-300',\n",
      " 'word2vec-google-news-300',\n",
      " 'glove-wiki-gigaword-50',\n",
      " 'glove-wiki-gigaword-100',\n",
      " 'glove-wiki-gigaword-200',\n",
      " 'glove-wiki-gigaword-300',\n",
      " 'glove-twitter-25',\n",
      " 'glove-twitter-50',\n",
      " 'glove-twitter-100',\n",
      " 'glove-twitter-200',\n",
      " '__testing_word2vec-matrix-synopsis']\n"
     ]
    }
   ],
   "source": [
    "info = api.info()\n",
    "pprint.pprint(list(info['models'].keys()))"
   ]
  },
  {
   "cell_type": "markdown",
   "metadata": {},
   "source": [
    "### Exploring word2vec pre-trained news vector\n"
   ]
  },
  {
   "cell_type": "markdown",
   "metadata": {},
   "source": [
    "#### Load the desired model\n",
    "\n",
    "Note: If you are receiving out of memory issues on your local machine, try closing other applications to free more memory on your device. You may want to try restarting your machine so that you can free up extra memory. Then immediately run the jupyter notebook and see if you can load the word vectors properly. "
   ]
  },
  {
   "cell_type": "code",
   "execution_count": 4,
   "metadata": {},
   "outputs": [],
   "source": [
    "w2v_model = api.load(\"word2vec-google-news-300\")  # download the model and return as object ready for use"
   ]
  },
  {
   "cell_type": "code",
   "execution_count": 5,
   "metadata": {},
   "outputs": [
    {
     "name": "stdout",
     "output_type": "stream",
     "text": [
      "There are 3,000,000 unique words in the vocab\n"
     ]
    }
   ],
   "source": [
    "# Length of vocabulary \n",
    "length = len(w2v_model)\n",
    "print(f\"There are {length:,} unique words in the vocab\")"
   ]
  },
  {
   "cell_type": "code",
   "execution_count": 6,
   "metadata": {},
   "outputs": [
    {
     "name": "stdout",
     "output_type": "stream",
     "text": [
      "['Paul', 'store', 'gets', 'filed', 'huge', 'moving', 'seems', 'met', '####s', 'thousands', 'CEO', 'solutions', 'score', 'content', 'treatment', 'offered', 'built', 'hits', 'present', 'Chicago']\n"
     ]
    }
   ],
   "source": [
    "# Few sample words (20) from the vocab\n",
    "print(w2v_model.index_to_key[1000:1020])"
   ]
  },
  {
   "cell_type": "code",
   "execution_count": 7,
   "metadata": {},
   "outputs": [
    {
     "name": "stdout",
     "output_type": "stream",
     "text": [
      "['New_York']\n",
      "['United_States']\n",
      "['per_cent']\n",
      "['Associated_Press']\n",
      "['Los_Angeles']\n",
      "['health_care']\n",
      "['looking_statements']\n",
      "['White_House']\n",
      "['High_School']\n",
      "['e_mail']\n",
      "['vice_president']\n",
      "['World_Cup']\n",
      "['Web_site']\n",
      "['chief_executive']\n",
      "['New_Zealand']\n"
     ]
    }
   ],
   "source": [
    "# checking some of the multi-words withing first 2K embeddings\n",
    "# '\\w+(?:_\\w+)+' regex looks for tokens with underscore(_) in them\n",
    "import re\n",
    "\n",
    "count=0\n",
    "while count<2000:\n",
    "    a = re.findall(r\"\\w+(?:_\\w+)+\",w2v_model.index_to_key[count])\n",
    "    if not a:\n",
    "        pass\n",
    "    else:\n",
    "        print(a)\n",
    "    count+=1"
   ]
  },
  {
   "cell_type": "code",
   "execution_count": 8,
   "metadata": {},
   "outputs": [
    {
     "name": "stdout",
     "output_type": "stream",
     "text": [
      "[('queen', 0.7118193507194519)]\n",
      "[('France', 0.7884092926979065)]\n"
     ]
    }
   ],
   "source": [
    "#canonical examples\n",
    "print(w2v_model.most_similar(positive=[\"woman\",\"king\"], negative=[\"man\"], topn = 1))\n",
    "print(w2v_model.most_similar(positive=[\"Paris\",\"Germany\"], negative=[\"Berlin\"], topn = 1))"
   ]
  },
  {
   "cell_type": "code",
   "execution_count": 9,
   "metadata": {},
   "outputs": [
    {
     "name": "stdout",
     "output_type": "stream",
     "text": [
      "[ 0.13085938  0.00842285  0.03344727 -0.05883789  0.04003906 -0.14257812\n",
      "  0.04931641 -0.16894531  0.20898438  0.11962891  0.18066406 -0.25\n",
      " -0.10400391 -0.10742188 -0.01879883  0.05200195 -0.00216675  0.06445312\n",
      "  0.14453125 -0.04541016  0.16113281 -0.01611328 -0.03088379  0.08447266\n",
      "  0.16210938  0.04467773 -0.15527344  0.25390625  0.33984375  0.00756836\n",
      " -0.25585938 -0.01733398 -0.03295898  0.16308594 -0.12597656 -0.09912109\n",
      "  0.16503906  0.06884766 -0.18945312  0.02832031 -0.0534668  -0.03063965\n",
      "  0.11083984  0.24121094 -0.234375    0.12353516 -0.00294495  0.1484375\n",
      "  0.33203125  0.05249023 -0.20019531  0.37695312  0.12255859  0.11425781\n",
      " -0.17675781  0.10009766  0.0030365   0.26757812  0.20117188  0.03710938\n",
      "  0.11083984 -0.09814453 -0.3125      0.03515625  0.02832031  0.26171875\n",
      " -0.08642578 -0.02258301 -0.05834961 -0.00787354  0.11767578 -0.04296875\n",
      " -0.17285156  0.04394531 -0.23046875  0.1640625  -0.11474609 -0.06030273\n",
      "  0.01196289 -0.24707031  0.32617188 -0.04492188 -0.11425781  0.22851562\n",
      " -0.01647949 -0.15039062 -0.13183594  0.12597656 -0.17480469  0.02209473\n",
      " -0.1015625   0.00817871  0.10791016 -0.24609375 -0.109375   -0.09375\n",
      " -0.01623535 -0.20214844  0.23144531 -0.05444336 -0.05541992 -0.20898438\n",
      "  0.26757812  0.27929688  0.17089844 -0.17578125 -0.02770996 -0.20410156\n",
      "  0.02392578  0.03125    -0.25390625 -0.125      -0.05493164 -0.17382812\n",
      "  0.28515625 -0.23242188  0.0234375  -0.20117188 -0.13476562  0.26367188\n",
      "  0.00769043  0.20507812 -0.01708984 -0.12988281  0.04711914  0.22070312\n",
      "  0.02099609 -0.29101562 -0.02893066  0.17285156  0.04272461 -0.19824219\n",
      " -0.04003906 -0.16992188  0.10058594 -0.09326172  0.15820312 -0.16503906\n",
      " -0.06054688  0.19433594 -0.07080078 -0.06884766 -0.09619141 -0.07226562\n",
      "  0.04882812  0.07324219  0.11035156  0.04858398 -0.17675781 -0.33789062\n",
      "  0.22558594  0.16308594  0.05102539 -0.08251953  0.07958984  0.08740234\n",
      " -0.16894531 -0.02160645 -0.19238281  0.03857422 -0.05102539  0.21972656\n",
      "  0.08007812 -0.21191406 -0.07519531 -0.15039062  0.3046875  -0.17089844\n",
      "  0.12353516 -0.234375   -0.10742188 -0.06787109  0.01904297 -0.14160156\n",
      " -0.22753906 -0.16308594  0.14453125 -0.15136719 -0.296875    0.22363281\n",
      " -0.10205078 -0.0456543  -0.21679688 -0.09033203  0.09375    -0.15332031\n",
      " -0.01550293  0.3046875  -0.23730469  0.08935547  0.03710938  0.02941895\n",
      " -0.28515625  0.15820312 -0.00306702  0.06054688  0.00497437 -0.15234375\n",
      " -0.00836182  0.02197266 -0.12109375 -0.13867188 -0.2734375  -0.06835938\n",
      "  0.08251953 -0.26367188 -0.16992188  0.14746094  0.08496094  0.02075195\n",
      "  0.13671875 -0.04931641 -0.0100708  -0.00369263 -0.10839844  0.14746094\n",
      " -0.15527344  0.16113281  0.05615234 -0.05004883 -0.1640625  -0.26953125\n",
      "  0.4140625   0.06079102 -0.046875   -0.02514648  0.10595703  0.1328125\n",
      " -0.16699219 -0.04907227  0.04663086  0.05151367 -0.07958984 -0.16503906\n",
      " -0.29882812  0.06054688 -0.15332031 -0.00598145  0.06640625 -0.04516602\n",
      "  0.24316406 -0.07080078 -0.36914062 -0.23144531 -0.11914062 -0.08300781\n",
      "  0.14746094 -0.05761719  0.23535156 -0.12304688  0.14648438  0.13671875\n",
      "  0.15429688  0.02111816 -0.09570312  0.05859375  0.03979492 -0.08105469\n",
      "  0.0559082  -0.16601562  0.27148438 -0.20117188 -0.00915527  0.07324219\n",
      "  0.10449219  0.34570312 -0.26367188  0.02099609 -0.40039062 -0.03417969\n",
      " -0.15917969 -0.08789062  0.08203125  0.23339844  0.0213623  -0.11328125\n",
      "  0.05249023 -0.10449219 -0.02380371 -0.08349609 -0.04003906  0.01916504\n",
      " -0.01226807 -0.18261719 -0.06787109 -0.08496094 -0.03039551 -0.05395508\n",
      "  0.04248047  0.12792969 -0.27539062  0.28515625 -0.04736328  0.06494141\n",
      " -0.11230469 -0.02575684 -0.04125977  0.22851562 -0.14941406 -0.15039062]\n"
     ]
    }
   ],
   "source": [
    "#Obtain vectors for terms from the model\n",
    "vec_car = w2v_model[\"car\"]\n",
    "print(vec_car)"
   ]
  },
  {
   "cell_type": "code",
   "execution_count": 10,
   "metadata": {},
   "outputs": [
    {
     "name": "stdout",
     "output_type": "stream",
     "text": [
      "car and minivan     \tsimilarity score is\t0.691\n",
      "car and bicycle     \tsimilarity score is\t0.536\n",
      "car and airplane     \tsimilarity score is\t0.424\n",
      "car and drone     \tsimilarity score is\t0.142\n",
      "car and cereal     \tsimilarity score is\t0.139\n",
      "car and communism     \tsimilarity score is\t0.058\n"
     ]
    }
   ],
   "source": [
    "# Simmilarity\n",
    "pairs = [\n",
    "    (\"car\", \"minivan\"),   \n",
    "    (\"car\", \"bicycle\"),  \n",
    "    (\"car\", \"airplane\"),  \n",
    "    (\"car\", \"drone\"), \n",
    "    (\"car\", \"cereal\"), \n",
    "    (\"car\", \"communism\")]\n",
    "\n",
    "for w1, w2 in pairs:\n",
    "    similarity = w2v_model.similarity(w1, w2)\n",
    "    print(f\"{w1} and {w2}     \\tsimilarity score is\\t{similarity:.3f}\")"
   ]
  },
  {
   "cell_type": "code",
   "execution_count": 11,
   "metadata": {},
   "outputs": [
    {
     "name": "stdout",
     "output_type": "stream",
     "text": [
      "[('SUV', 0.8532191514968872),\n",
      " ('vehicle', 0.8175783753395081),\n",
      " ('pickup_truck', 0.7763689160346985),\n",
      " ('Jeep', 0.7567334175109863),\n",
      " ('Ford_Explorer', 0.7565719485282898),\n",
      " ('sedan', 0.7446292042732239),\n",
      " ('station_wagon', 0.7440938949584961),\n",
      " ('Honda_Civic', 0.7440058588981628),\n",
      " ('Nissan_Altima', 0.7391074895858765),\n",
      " ('Ford_Taurus', 0.7306575775146484)]\n"
     ]
    }
   ],
   "source": [
    "#other words similar to car and minivan\n",
    "pprint.pprint(w2v_model.most_similar(positive=[\"car\", \"minivan\"], topn=10))"
   ]
  },
  {
   "cell_type": "code",
   "execution_count": 12,
   "metadata": {},
   "outputs": [
    {
     "name": "stdout",
     "output_type": "stream",
     "text": [
      "car\n"
     ]
    }
   ],
   "source": [
    "#doesn't match\n",
    "print(w2v_model.doesnt_match([\"fire\", \"water\", \"land\", \"sea\", \"air\", \"car\"]))"
   ]
  },
  {
   "cell_type": "code",
   "execution_count": 13,
   "metadata": {},
   "outputs": [
    {
     "name": "stdout",
     "output_type": "stream",
     "text": [
      "0.52\n"
     ]
    }
   ],
   "source": [
    "# similarity score between sequence of words \n",
    "sim = w2v_model.n_similarity([\"pizza\", \"store\"], [\"italian\", \"restaurant\"])\n",
    "print(\"{:.2f}\".format(sim))"
   ]
  },
  {
   "cell_type": "markdown",
   "metadata": {},
   "source": [
    "### Visualize the Model using T-SNE (T-distributed Stochastic Neighbor Embedding)"
   ]
  },
  {
   "cell_type": "code",
   "execution_count": 14,
   "metadata": {},
   "outputs": [
    {
     "data": {
      "image/png": "[encoded data removed]",
      "text/plain": [
       "<Figure size 432x288 with 1 Axes>"
      ]
     },
     "metadata": {
      "needs_background": "light"
     },
     "output_type": "display_data"
    }
   ],
   "source": [
    "import numpy as np\n",
    "\n",
    "labels = []\n",
    "count = 0\n",
    "max_count = 50\n",
    "X = np.zeros(shape=(max_count,len(w2v_model[\"university\"]))) \n",
    "\n",
    "for term in w2v_model.index_to_key:\n",
    "    X[count] = w2v_model[term]\n",
    "    labels.append(term)\n",
    "    count+= 1\n",
    "    if count >= max_count: break\n",
    "\n",
    "from sklearn.decomposition import PCA\n",
    "pca = PCA(n_components=50)\n",
    "X_50 = pca.fit_transform(X)\n",
    "\n",
    "from sklearn.manifold import TSNE\n",
    "model_tsne = TSNE(n_components=2, learning_rate='auto', init=\"random\", random_state=0)\n",
    "Y = model_tsne.fit_transform(X_50)\n",
    "\n",
    "# Show the scatter plot\n",
    "import matplotlib.pyplot as plt\n",
    "plt.scatter(Y[:,0], Y[:,1], 20)\n",
    "\n",
    "# Add labels\n",
    "for label, x, y in zip(labels, Y[:, 0], Y[:, 1]):\n",
    "    plt.annotate(label, xy = (x,y), xytext = (0, 0), textcoords = 'offset points', size = 10)\n",
    "\n",
    "plt.show()"
   ]
  },
  {
   "cell_type": "markdown",
   "metadata": {},
   "source": [
    "### Creating your own embedding using a corpus"
   ]
  },
  {
   "cell_type": "code",
   "execution_count": 15,
   "metadata": {},
   "outputs": [
    {
     "data": {
      "text/html": [
       "<div>\n",
       "<style scoped>\n",
       "    .dataframe tbody tr th:only-of-type {\n",
       "        vertical-align: middle;\n",
       "    }\n",
       "\n",
       "    .dataframe tbody tr th {\n",
       "        vertical-align: top;\n",
       "    }\n",
       "\n",
       "    .dataframe thead th {\n",
       "        text-align: right;\n",
       "    }\n",
       "</style>\n",
       "<table border=\"1\" class=\"dataframe\">\n",
       "  <thead>\n",
       "    <tr style=\"text-align: right;\">\n",
       "      <th></th>\n",
       "      <th>filename</th>\n",
       "      <th>text</th>\n",
       "    </tr>\n",
       "  </thead>\n",
       "  <tbody>\n",
       "    <tr>\n",
       "      <th>31</th>\n",
       "      <td>1913-Wilson.txt</td>\n",
       "      <td>There has been a change of government. It bega...</td>\n",
       "    </tr>\n",
       "    <tr>\n",
       "      <th>42</th>\n",
       "      <td>1957-Eisenhower.txt</td>\n",
       "      <td>The Price of Peace\\nMr. Chairman, Mr. Vice Pre...</td>\n",
       "    </tr>\n",
       "    <tr>\n",
       "      <th>34</th>\n",
       "      <td>1925-Coolidge.txt</td>\n",
       "      <td>My countrymen,\\n\\nno one can contemplate curre...</td>\n",
       "    </tr>\n",
       "    <tr>\n",
       "      <th>51</th>\n",
       "      <td>1993-Clinton.txt</td>\n",
       "      <td>My fellow citizens, today we celebrate the mys...</td>\n",
       "    </tr>\n",
       "    <tr>\n",
       "      <th>55</th>\n",
       "      <td>2009-Obama.txt</td>\n",
       "      <td>My fellow citizens:\\n\\nI stand here today humb...</td>\n",
       "    </tr>\n",
       "    <tr>\n",
       "      <th>19</th>\n",
       "      <td>1865-Lincoln.txt</td>\n",
       "      <td>Fellow-Countrymen:\\n\\nAt this second appearing...</td>\n",
       "    </tr>\n",
       "    <tr>\n",
       "      <th>43</th>\n",
       "      <td>1961-Kennedy.txt</td>\n",
       "      <td>Vice President Johnson, Mr. Speaker, Mr. Chief...</td>\n",
       "    </tr>\n",
       "    <tr>\n",
       "      <th>26</th>\n",
       "      <td>1893-Cleveland.txt</td>\n",
       "      <td>My Fellow citizens, in obedience of the mandat...</td>\n",
       "    </tr>\n",
       "    <tr>\n",
       "      <th>23</th>\n",
       "      <td>1881-Garfield.txt</td>\n",
       "      <td>Fellow-Citizens:\\n\\nWe stand to-day upon an em...</td>\n",
       "    </tr>\n",
       "    <tr>\n",
       "      <th>28</th>\n",
       "      <td>1901-McKinley.txt</td>\n",
       "      <td>My fellow-citizens, when we assembled here on ...</td>\n",
       "    </tr>\n",
       "  </tbody>\n",
       "</table>\n",
       "</div>"
      ],
      "text/plain": [
       "               filename                                               text\n",
       "31      1913-Wilson.txt  There has been a change of government. It bega...\n",
       "42  1957-Eisenhower.txt  The Price of Peace\\nMr. Chairman, Mr. Vice Pre...\n",
       "34    1925-Coolidge.txt  My countrymen,\\n\\nno one can contemplate curre...\n",
       "51     1993-Clinton.txt  My fellow citizens, today we celebrate the mys...\n",
       "55       2009-Obama.txt  My fellow citizens:\\n\\nI stand here today humb...\n",
       "19     1865-Lincoln.txt  Fellow-Countrymen:\\n\\nAt this second appearing...\n",
       "43     1961-Kennedy.txt  Vice President Johnson, Mr. Speaker, Mr. Chief...\n",
       "26   1893-Cleveland.txt  My Fellow citizens, in obedience of the mandat...\n",
       "23    1881-Garfield.txt  Fellow-Citizens:\\n\\nWe stand to-day upon an em...\n",
       "28    1901-McKinley.txt  My fellow-citizens, when we assembled here on ..."
      ]
     },
     "execution_count": 15,
     "metadata": {},
     "output_type": "execute_result"
    }
   ],
   "source": [
    "import pandas as pd\n",
    "from nltk.corpus import inaugural\n",
    "\n",
    "\n",
    "speeches = []\n",
    "for fileid in inaugural.fileids():\n",
    "    speeches.append((fileid, inaugural.raw(fileid)))\n",
    "\n",
    "speeches_df = pd.DataFrame(speeches, columns=[\"filename\",\"text\"])\n",
    "speeches_df.sample(10, random_state = 5)"
   ]
  },
  {
   "cell_type": "code",
   "execution_count": 16,
   "metadata": {},
   "outputs": [
    {
     "data": {
      "text/html": [
       "<div>\n",
       "<style scoped>\n",
       "    .dataframe tbody tr th:only-of-type {\n",
       "        vertical-align: middle;\n",
       "    }\n",
       "\n",
       "    .dataframe tbody tr th {\n",
       "        vertical-align: top;\n",
       "    }\n",
       "\n",
       "    .dataframe thead th {\n",
       "        text-align: right;\n",
       "    }\n",
       "</style>\n",
       "<table border=\"1\" class=\"dataframe\">\n",
       "  <thead>\n",
       "    <tr style=\"text-align: right;\">\n",
       "      <th></th>\n",
       "      <th>filename</th>\n",
       "      <th>text</th>\n",
       "      <th>tokenized_text</th>\n",
       "    </tr>\n",
       "  </thead>\n",
       "  <tbody>\n",
       "    <tr>\n",
       "      <th>31</th>\n",
       "      <td>1913-Wilson.txt</td>\n",
       "      <td>there has been a change of government it began...</td>\n",
       "      <td>[there, has, been, a, change, of, government, ...</td>\n",
       "    </tr>\n",
       "    <tr>\n",
       "      <th>42</th>\n",
       "      <td>1957-Eisenhower.txt</td>\n",
       "      <td>the price of peace mr chairman mr vice preside...</td>\n",
       "      <td>[the, price, of, peace, mr, chairman, mr, vice...</td>\n",
       "    </tr>\n",
       "    <tr>\n",
       "      <th>34</th>\n",
       "      <td>1925-Coolidge.txt</td>\n",
       "      <td>my countrymen no one can contemplate current c...</td>\n",
       "      <td>[my, countrymen, no, one, can, contemplate, cu...</td>\n",
       "    </tr>\n",
       "    <tr>\n",
       "      <th>51</th>\n",
       "      <td>1993-Clinton.txt</td>\n",
       "      <td>my fellow citizens today we celebrate the myst...</td>\n",
       "      <td>[my, fellow, citizens, today, we, celebrate, t...</td>\n",
       "    </tr>\n",
       "    <tr>\n",
       "      <th>55</th>\n",
       "      <td>2009-Obama.txt</td>\n",
       "      <td>my fellow citizens i stand here today humbled ...</td>\n",
       "      <td>[my, fellow, citizens, i, stand, here, today, ...</td>\n",
       "    </tr>\n",
       "    <tr>\n",
       "      <th>19</th>\n",
       "      <td>1865-Lincoln.txt</td>\n",
       "      <td>fellow countrymen at this second appearing to ...</td>\n",
       "      <td>[fellow, countrymen, at, this, second, appeari...</td>\n",
       "    </tr>\n",
       "    <tr>\n",
       "      <th>43</th>\n",
       "      <td>1961-Kennedy.txt</td>\n",
       "      <td>vice president johnson mr speaker mr chief jus...</td>\n",
       "      <td>[vice, president, johnson, mr, speaker, mr, ch...</td>\n",
       "    </tr>\n",
       "    <tr>\n",
       "      <th>26</th>\n",
       "      <td>1893-Cleveland.txt</td>\n",
       "      <td>my fellow citizens in obedience of the mandate...</td>\n",
       "      <td>[my, fellow, citizens, in, obedience, of, the,...</td>\n",
       "    </tr>\n",
       "    <tr>\n",
       "      <th>23</th>\n",
       "      <td>1881-Garfield.txt</td>\n",
       "      <td>fellow citizens we stand to day upon an eminen...</td>\n",
       "      <td>[fellow, citizens, we, stand, to, day, upon, a...</td>\n",
       "    </tr>\n",
       "    <tr>\n",
       "      <th>28</th>\n",
       "      <td>1901-McKinley.txt</td>\n",
       "      <td>my fellow citizens when we assembled here on t...</td>\n",
       "      <td>[my, fellow, citizens, when, we, assembled, he...</td>\n",
       "    </tr>\n",
       "  </tbody>\n",
       "</table>\n",
       "</div>"
      ],
      "text/plain": [
       "               filename                                               text  \\\n",
       "31      1913-Wilson.txt  there has been a change of government it began...   \n",
       "42  1957-Eisenhower.txt  the price of peace mr chairman mr vice preside...   \n",
       "34    1925-Coolidge.txt  my countrymen no one can contemplate current c...   \n",
       "51     1993-Clinton.txt  my fellow citizens today we celebrate the myst...   \n",
       "55       2009-Obama.txt  my fellow citizens i stand here today humbled ...   \n",
       "19     1865-Lincoln.txt  fellow countrymen at this second appearing to ...   \n",
       "43     1961-Kennedy.txt  vice president johnson mr speaker mr chief jus...   \n",
       "26   1893-Cleveland.txt  my fellow citizens in obedience of the mandate...   \n",
       "23    1881-Garfield.txt  fellow citizens we stand to day upon an eminen...   \n",
       "28    1901-McKinley.txt  my fellow citizens when we assembled here on t...   \n",
       "\n",
       "                                       tokenized_text  \n",
       "31  [there, has, been, a, change, of, government, ...  \n",
       "42  [the, price, of, peace, mr, chairman, mr, vice...  \n",
       "34  [my, countrymen, no, one, can, contemplate, cu...  \n",
       "51  [my, fellow, citizens, today, we, celebrate, t...  \n",
       "55  [my, fellow, citizens, i, stand, here, today, ...  \n",
       "19  [fellow, countrymen, at, this, second, appeari...  \n",
       "43  [vice, president, johnson, mr, speaker, mr, ch...  \n",
       "26  [my, fellow, citizens, in, obedience, of, the,...  \n",
       "23  [fellow, citizens, we, stand, to, day, upon, a...  \n",
       "28  [my, fellow, citizens, when, we, assembled, he...  "
      ]
     },
     "execution_count": 16,
     "metadata": {},
     "output_type": "execute_result"
    }
   ],
   "source": [
    "#pre-processing\n",
    "\n",
    "from nltk.tokenize import word_tokenize\n",
    "import contractions\n",
    "\n",
    "# expand contractions\n",
    "speeches_df[\"text\"] = speeches_df[\"text\"].apply(lambda x: [contractions.fix(word) for word in x.split()])\n",
    "#joining back the list of items into one string\n",
    "speeches_df[\"text\"] = [\" \".join(map(str, l)) for l in speeches_df[\"text\"]]\n",
    "\n",
    "#cleaning\n",
    "import regex as re\n",
    "speeches_df[\"text\"] = speeches_df[\"text\"].str.lower()\n",
    "speeches_df[\"text\"] = speeches_df[\"text\"].str.replace(\"-\", \" \")\n",
    "speeches_df[\"text\"] = speeches_df[\"text\"].apply(lambda x: re.sub(r\"[^\\w\\d\\s\\']+\", \"\", x))\n",
    "\n",
    "#tokenize\n",
    "speeches_df['tokenized_text'] = speeches_df['text'].apply(word_tokenize)\n",
    "speeches_df.sample(10, random_state = 5)"
   ]
  },
  {
   "cell_type": "code",
   "execution_count": 17,
   "metadata": {},
   "outputs": [
    {
     "data": {
      "text/plain": [
       "1525"
      ]
     },
     "execution_count": 17,
     "metadata": {},
     "output_type": "execute_result"
    }
   ],
   "source": [
    "model = gensim.models.Word2Vec(speeches_df[\"tokenized_text\"], # list of lists of tokens \n",
    "                              sg = 0, #either default CBOW(0) or skip gram(1)  \n",
    "                              min_count=10, #word occurs at least 10 times\n",
    "                              workers=4, # number of CPU Threads to use at once for faster training\n",
    "                              vector_size=50, #number of Neurons to incorporate in hidden layer or size of Word Embeddings. By default its set to 100.\n",
    "                              window=5, # window Size or Number of words to consider around target. If size = 1 then 1 word from both sides will be considered. By default 5 is fixed Window Size.\n",
    "                              epochs = 10 ) #epoch : Number of Iterations / Epochs.\n",
    "len(model.wv)"
   ]
  },
  {
   "cell_type": "code",
   "execution_count": 18,
   "metadata": {},
   "outputs": [],
   "source": [
    "#uncomment to view vocabulary\n",
    "#model.wv.key_to_index"
   ]
  },
  {
   "cell_type": "code",
   "execution_count": 19,
   "metadata": {},
   "outputs": [
    {
     "data": {
      "text/plain": [
       "array([-0.38109052,  0.15353797, -0.16669784, -0.4001044 ,  0.92298275,\n",
       "       -0.20303088, -0.01133722,  0.37126383, -0.11193936, -0.4270302 ,\n",
       "        0.04508149, -1.0979168 ,  0.6390792 ,  0.8683005 ,  0.19704263,\n",
       "       -0.09678717,  0.6985041 ,  0.6307319 , -0.08761152, -0.13924012,\n",
       "       -0.23932305,  0.18957566,  0.16661516, -0.06946179,  0.3950278 ,\n",
       "       -0.3074295 , -0.58250654, -0.5628133 , -0.27423066, -0.21373609,\n",
       "        0.42617935, -0.7407715 ,  0.49923286, -0.6483552 , -0.8230391 ,\n",
       "        0.32174787,  0.78899884,  0.09785467,  0.50987756, -0.4913256 ,\n",
       "        0.36366016, -0.6418055 ,  0.02594528, -0.36465716, -0.07393324,\n",
       "        0.84307635, -0.6148424 ,  0.20518555, -0.36862394,  0.72874   ],\n",
       "      dtype=float32)"
      ]
     },
     "execution_count": 19,
     "metadata": {},
     "output_type": "execute_result"
    }
   ],
   "source": [
    "model.wv[\"country\"] #50 weights"
   ]
  },
  {
   "cell_type": "code",
   "execution_count": 20,
   "metadata": {},
   "outputs": [
    {
     "data": {
      "text/plain": [
       "[('vice', 0.9471983909606934),\n",
       " ('mr', 0.9363847374916077),\n",
       " ('chief', 0.9087536334991455),\n",
       " ('office', 0.8901432752609253),\n",
       " ('first', 0.8637455701828003),\n",
       " ('distinguished', 0.8496867418289185),\n",
       " ('senator', 0.8446415662765503),\n",
       " ('duties', 0.8404539227485657),\n",
       " ('execute', 0.831307053565979),\n",
       " ('discharge', 0.8266645669937134)]"
      ]
     },
     "execution_count": 20,
     "metadata": {},
     "output_type": "execute_result"
    }
   ],
   "source": [
    "model.wv.most_similar(\"president\")"
   ]
  },
  {
   "cell_type": "code",
   "execution_count": 21,
   "metadata": {},
   "outputs": [
    {
     "data": {
      "text/plain": [
       "[('governments', 0.9615310430526733),\n",
       " ('foreign', 0.9613943696022034),\n",
       " ('powers', 0.9532686471939087),\n",
       " ('general', 0.9459452033042908),\n",
       " ('business', 0.9445802569389343),\n",
       " ('rights', 0.9430827498435974),\n",
       " ('interests', 0.9421287775039673),\n",
       " ('between', 0.9391429424285889),\n",
       " ('property', 0.9366445541381836),\n",
       " ('within', 0.9361602663993835)]"
      ]
     },
     "execution_count": 21,
     "metadata": {},
     "output_type": "execute_result"
    }
   ],
   "source": [
    "model.wv.most_similar(\"state\")"
   ]
  },
  {
   "cell_type": "code",
   "execution_count": 22,
   "metadata": {},
   "outputs": [
    {
     "data": {
      "text/plain": [
       "True"
      ]
     },
     "execution_count": 22,
     "metadata": {},
     "output_type": "execute_result"
    }
   ],
   "source": [
    "# compute the cosine similarity between 2 words\n",
    "model.wv.similarity(\"state\", \"government\") > 0.3"
   ]
  },
  {
   "cell_type": "code",
   "execution_count": 23,
   "metadata": {},
   "outputs": [
    {
     "name": "stdout",
     "output_type": "stream",
     "text": [
      "{'election': ['elected', 'witness', 'earnest', 'address', 'immediate'],\n",
      " 'government': ['law', 'power', 'union', 'general', 'federal'],\n",
      " 'justice': ['property', 'protection', 'business', 'purposes', 'governments'],\n",
      " 'president': ['vice', 'mr', 'chief', 'office', 'first'],\n",
      " 'state': ['governments', 'foreign', 'powers', 'general', 'business']}\n"
     ]
    }
   ],
   "source": [
    "similar_words = {search_term: [item[0] for item in model.wv.most_similar([search_term], topn=5)]\n",
    "                  for search_term in [\"state\", \"president\",\"government\",\"election\",\"justice\"]}\n",
    "pprint.pprint(similar_words)"
   ]
  },
  {
   "cell_type": "markdown",
   "metadata": {},
   "source": [
    "### Visualize"
   ]
  },
  {
   "cell_type": "code",
   "execution_count": 24,
   "metadata": {},
   "outputs": [
    {
     "data": {
      "image/png": "[encoded data removed]",
      "text/plain": [
       "<Figure size 432x288 with 1 Axes>"
      ]
     },
     "metadata": {
      "needs_background": "light"
     },
     "output_type": "display_data"
    }
   ],
   "source": [
    "labels = []\n",
    "count = 0\n",
    "max_count = 50\n",
    "X = np.zeros(shape=(max_count,len(model.wv[\"state\"])))\n",
    "\n",
    "for term in model.wv.index_to_key:\n",
    "    X[count] = model.wv[term]\n",
    "    labels.append(term)\n",
    "    count+= 1\n",
    "    if count >= max_count: break\n",
    "\n",
    "pca = PCA(n_components=50)\n",
    "X_50 = pca.fit_transform(X)\n",
    "\n",
    "model_tsne = TSNE(n_components=2, learning_rate='auto', init=\"random\", random_state=0)\n",
    "Y = model_tsne.fit_transform(X_50)\n",
    "\n",
    "plt.scatter(Y[:,0], Y[:,1], 10)\n",
    "\n",
    "for label, x, y in zip(labels, Y[:, 0], Y[:, 1]):\n",
    "    plt.annotate(label, xy = (x,y), xytext = (0, 0), textcoords = 'offset points', size = 8)\n",
    "\n",
    "plt.show()"
   ]
  },
  {
   "cell_type": "markdown",
   "metadata": {},
   "source": [
    "### Save"
   ]
  },
  {
   "cell_type": "code",
   "execution_count": 25,
   "metadata": {},
   "outputs": [],
   "source": [
    "model.save(\"speeches.embedding\")"
   ]
  },
  {
   "cell_type": "markdown",
   "metadata": {},
   "source": [
    "### Reload and use"
   ]
  },
  {
   "cell_type": "code",
   "execution_count": 26,
   "metadata": {},
   "outputs": [
    {
     "name": "stdout",
     "output_type": "stream",
     "text": [
      "50\n",
      "[('necessity', 0.977342426776886), ('equally', 0.9766798615455627), ('effort', 0.9758232831954956), ('guaranty', 0.9758111238479614), ('private', 0.9740320444107056), ('peaceful', 0.9730589389801025), ('acknowledged', 0.9725711941719055), ('promote', 0.9725164175033569), ('equality', 0.9721078276634216), ('concerns', 0.9712231755256653)]\n",
      "False\n"
     ]
    }
   ],
   "source": [
    "new_model = gensim.models.Word2Vec.load(\"speeches.embedding\")\n",
    "\n",
    "print(len(new_model.wv[\"honest\"]))\n",
    "\n",
    "print(new_model.wv.most_similar(\"honest\", topn=10))\n",
    "\n",
    "# to compute the cosine similarity between 2 words\n",
    "print(new_model.wv.similarity(\"president\", \"honest\") > 0.7)"
   ]
  },
  {
   "cell_type": "markdown",
   "metadata": {},
   "source": [
    "## Stanford GloVE (Global Vectors)\n",
    "As it's name states, GloVE is about global context.  \n",
    "\n",
    "The basic methodology of the GloVe model is to first create a huge word-context co-occurence matrix consisting of (word, context) pairs such that each element in this matrix represents how often a word occurs with the context (which can be a sequence of words). GloVe starts with global aggregated co-occurrence statistics across all words in the corpus while Word2Vec starts with local individual examples of word co-occurrence pairs.\n"
   ]
  },
  {
   "cell_type": "markdown",
   "metadata": {},
   "source": [
    "![](images/glove.png)\n",
    "\n",
    "source: https://www.kdnuggets.com/2018/04/implementing-deep-learning-methods-feature-engineering-text-data-glove.html"
   ]
  },
  {
   "cell_type": "markdown",
   "metadata": {},
   "source": [
    "### Using Gensim GloVE Twitter model"
   ]
  },
  {
   "cell_type": "code",
   "execution_count": 27,
   "metadata": {},
   "outputs": [
    {
     "data": {
      "text/plain": [
       "[('truck', 0.7657955288887024),\n",
       " ('cars', 0.7584866881370544),\n",
       " ('driving', 0.7157721519470215),\n",
       " ('drive', 0.6923045516014099),\n",
       " ('front', 0.6751189231872559),\n",
       " ('vehicle', 0.6674408912658691),\n",
       " ('bus', 0.6626533269882202),\n",
       " ('bike', 0.655992329120636),\n",
       " ('cause', 0.6432175636291504),\n",
       " ('house', 0.6365078687667847)]"
      ]
     },
     "execution_count": 27,
     "metadata": {},
     "output_type": "execute_result"
    }
   ],
   "source": [
    "glove_model = api.load(\"glove-twitter-200\")  # download the model and return as object ready for use\n",
    "glove_model.most_similar(\"car\")"
   ]
  },
  {
   "cell_type": "code",
   "execution_count": 28,
   "metadata": {},
   "outputs": [
    {
     "data": {
      "text/plain": [
       "[('uynnyulrtyulr', 0.40962669253349304),\n",
       " ('الليال', 0.39943578839302063),\n",
       " ('jgtseuyt', 0.39722755551338196),\n",
       " ('わからない曲があります', 0.39374586939811707),\n",
       " ('歳なのに雑誌を真剣に', 0.3903217315673828),\n",
       " ('友達に言われたんだけどakb', 0.3895500898361206),\n",
       " ('出現中の魔女', 0.3863939940929413),\n",
       " ('離乳食をモグモグ', 0.3848898708820343),\n",
       " ('동디더', 0.3827054798603058),\n",
       " ('会員無料の情報サイト', 0.37759968638420105)]"
      ]
     },
     "execution_count": 28,
     "metadata": {},
     "output_type": "execute_result"
    }
   ],
   "source": [
    "glove_model.most_similar(negative=\"car\")"
   ]
  },
  {
   "cell_type": "code",
   "execution_count": 29,
   "metadata": {},
   "outputs": [],
   "source": [
    "def analogy(x1, x2, y1):\n",
    "    result = glove_model.most_similar(positive=[y1, x2], negative=[x1])\n",
    "    return result[0][0]"
   ]
  },
  {
   "cell_type": "code",
   "execution_count": 30,
   "metadata": {},
   "outputs": [
    {
     "data": {
      "text/plain": [
       "'brazilian'"
      ]
     },
     "execution_count": 30,
     "metadata": {},
     "output_type": "execute_result"
    }
   ],
   "source": [
    "analogy(\"japan\", \"japanese\", \"brazil\")"
   ]
  },
  {
   "cell_type": "code",
   "execution_count": 31,
   "metadata": {},
   "outputs": [
    {
     "data": {
      "text/plain": [
       "'wine'"
      ]
     },
     "execution_count": 31,
     "metadata": {},
     "output_type": "execute_result"
    }
   ],
   "source": [
    "analogy(\"germany\", \"beer\", \"france\")"
   ]
  },
  {
   "cell_type": "code",
   "execution_count": 32,
   "metadata": {},
   "outputs": [
    {
     "data": {
      "text/plain": [
       "'donald'"
      ]
     },
     "execution_count": 32,
     "metadata": {},
     "output_type": "execute_result"
    }
   ],
   "source": [
    "analogy(\"obama\", \"barack\", \"trump\")"
   ]
  },
  {
   "cell_type": "code",
   "execution_count": 33,
   "metadata": {},
   "outputs": [
    {
     "name": "stdout",
     "output_type": "stream",
     "text": [
      "         0             1\n",
      "0   canada       poutine\n",
      "1    italy       bologna\n",
      "2  ireland  cheeseburger\n",
      "3    india        hotdog\n"
     ]
    }
   ],
   "source": [
    "countries = [ \"canada\", \"italy\", \"ireland\", \"india\"]\n",
    "foods = [analogy('us', 'hamburger', country) for country in countries]\n",
    "country_food = zip(countries,foods)\n",
    "print((pd.DataFrame(country_food)))"
   ]
  },
  {
   "cell_type": "code",
   "execution_count": 34,
   "metadata": {},
   "outputs": [
    {
     "data": {
      "image/png": "[encoded data removed]",
      "text/plain": [
       "<Figure size 700x500 with 1 Axes>"
      ]
     },
     "metadata": {
      "needs_background": "light"
     },
     "output_type": "display_data"
    }
   ],
   "source": [
    "def plot_data(orig_data, labels):\n",
    "    pca = PCA(n_components=2)\n",
    "    data = pca.fit_transform(orig_data)\n",
    "    plt.figure(figsize=(7, 5), dpi=100)\n",
    "    plt.plot(data[:,0], data[:,1], '.')\n",
    "    for i in range(len(data)):\n",
    "        plt.annotate(labels[i], xy = data[i])\n",
    "    for i in range(len(data)//2):\n",
    "        plt.annotate(\"\",\n",
    "                xy=data[i],\n",
    "                xytext=data[i+len(data)//2],\n",
    "                arrowprops=dict(arrowstyle=\"->\",\n",
    "                                connectionstyle=\"arc3\")\n",
    "        )\n",
    "       \n",
    "labels = countries + foods\n",
    "data = [glove_model[w] for w in labels]\n",
    "plot_data(data, labels)"
   ]
  },
  {
   "cell_type": "code",
   "execution_count": null,
   "metadata": {},
   "outputs": [],
   "source": []
  }
 ],
 "metadata": {
  "kernelspec": {
   "display_name": "myenv",
   "language": "python",
   "name": "myenv"
  },
  "language_info": {
   "codemirror_mode": {
    "name": "ipython",
    "version": 3
   },
   "file_extension": ".py",
   "mimetype": "text/x-python",
   "name": "python",
   "nbconvert_exporter": "python",
   "pygments_lexer": "ipython3",
   "version": "3.8.8"
  }
 },
 "nbformat": 4,
 "nbformat_minor": 4
}
